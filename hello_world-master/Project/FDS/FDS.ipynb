{
 "cells": [
  {
   "cell_type": "markdown",
   "metadata": {},
   "source": [
    "## 온라인 거래 데이터를 활용한 이상거래 탐지"
   ]
  },
  {
   "cell_type": "markdown",
   "metadata": {},
   "source": [
    "> 비지도학습- 랜덤포레스트와 DNN을 통해 이상거래 탐지 모형 구축"
   ]
  },
  {
   "cell_type": "code",
   "execution_count": 1,
   "metadata": {},
   "outputs": [],
   "source": [
    "import os\n",
    "import numpy as np\n",
    "import pandas as pd\n",
    "from sklearn import preprocessing\n",
    "import xgboost as xgb\n",
    "import gc\n",
    "import matplotlib.pyplot as plt\n",
    "import seaborn as sns\n",
    "%matplotlib inline"
   ]
  },
  {
   "cell_type": "markdown",
   "metadata": {},
   "source": [
    "#### 데이터의 경우  identity와 transaction인 두 파일로 나눠짐\n",
    "    모든 거래 데이터가 해당 ID를 가지고 있는 것은 아님=>TransactionID로 join\n",
    "    \n",
    "> train_transaction, train_identity, test_transaction, test_identity\n",
    "\n",
    "* Transaction의 변수 \n",
    "    * ProductCD\n",
    "    * emaildomain\n",
    "    * card1-card6\n",
    "    * addr1, addr2\n",
    "    * P_emaildomain\n",
    "    * M1 - M9\n",
    "\n",
    "\n",
    "* Identity의 변수\n",
    "    * DeviceType\n",
    "    * Deviceinfo\n",
    "    * id_12 - id_38\n",
    "\n",
    "* 각 변수들은 범주형"
   ]
  },
  {
   "cell_type": "markdown",
   "metadata": {},
   "source": [
    "* 두 파일을 합쳐 train, test 데이터로 사용하고자 함"
   ]
  },
  {
   "cell_type": "code",
   "execution_count": 5,
   "metadata": {},
   "outputs": [],
   "source": [
    "os.chdir('C:\\\\Users\\\\Woodayoung\\\\Desktop\\\\Datastudy\\\\asiae\\\\data1')\n",
    "train_transaction = pd.read_csv('train_transaction.csv', \n",
    "                                  index_col = 'TransactionID' )\n",
    "train_identity = pd.read_csv('train_identity.csv', index_col = 'TransactionID')\n",
    "\n",
    "test_transaction = pd.read_csv('test_transaction.csv', index_col = \"TransactionID\")\n",
    "test_identity = pd.read_csv('test_identity.csv', index_col = \"TransactionID\")"
   ]
  },
  {
   "cell_type": "code",
   "execution_count": 6,
   "metadata": {},
   "outputs": [],
   "source": [
    "# left join\n",
    "train = train_transaction.merge(train_identity, how = 'left', left_index =True,\n",
    "                                    right_index = True)\n",
    "test = test_transaction.merge(test_identity, how = 'left', left_index =True,\n",
    "                                 right_index=True)"
   ]
  },
  {
   "cell_type": "code",
   "execution_count": 7,
   "metadata": {},
   "outputs": [
    {
     "name": "stdout",
     "output_type": "stream",
     "text": [
      "(590540, 433)\n",
      "(506691, 432)\n"
     ]
    }
   ],
   "source": [
    "print(train.shape)\n",
    "print(test.shape)"
   ]
  },
  {
   "cell_type": "markdown",
   "metadata": {},
   "source": [
    "### 데이터 탐색"
   ]
  },
  {
   "cell_type": "code",
   "execution_count": 8,
   "metadata": {},
   "outputs": [
    {
     "data": {
      "text/html": [
       "<div>\n",
       "<style scoped>\n",
       "    .dataframe tbody tr th:only-of-type {\n",
       "        vertical-align: middle;\n",
       "    }\n",
       "\n",
       "    .dataframe tbody tr th {\n",
       "        vertical-align: top;\n",
       "    }\n",
       "\n",
       "    .dataframe thead th {\n",
       "        text-align: right;\n",
       "    }\n",
       "</style>\n",
       "<table border=\"1\" class=\"dataframe\">\n",
       "  <thead>\n",
       "    <tr style=\"text-align: right;\">\n",
       "      <th></th>\n",
       "      <th>isFraud</th>\n",
       "      <th>TransactionDT</th>\n",
       "      <th>TransactionAmt</th>\n",
       "      <th>ProductCD</th>\n",
       "      <th>card1</th>\n",
       "      <th>card2</th>\n",
       "      <th>card3</th>\n",
       "      <th>card4</th>\n",
       "      <th>card5</th>\n",
       "      <th>card6</th>\n",
       "      <th>...</th>\n",
       "      <th>id_31</th>\n",
       "      <th>id_32</th>\n",
       "      <th>id_33</th>\n",
       "      <th>id_34</th>\n",
       "      <th>id_35</th>\n",
       "      <th>id_36</th>\n",
       "      <th>id_37</th>\n",
       "      <th>id_38</th>\n",
       "      <th>DeviceType</th>\n",
       "      <th>DeviceInfo</th>\n",
       "    </tr>\n",
       "    <tr>\n",
       "      <th>TransactionID</th>\n",
       "      <th></th>\n",
       "      <th></th>\n",
       "      <th></th>\n",
       "      <th></th>\n",
       "      <th></th>\n",
       "      <th></th>\n",
       "      <th></th>\n",
       "      <th></th>\n",
       "      <th></th>\n",
       "      <th></th>\n",
       "      <th></th>\n",
       "      <th></th>\n",
       "      <th></th>\n",
       "      <th></th>\n",
       "      <th></th>\n",
       "      <th></th>\n",
       "      <th></th>\n",
       "      <th></th>\n",
       "      <th></th>\n",
       "      <th></th>\n",
       "      <th></th>\n",
       "    </tr>\n",
       "  </thead>\n",
       "  <tbody>\n",
       "    <tr>\n",
       "      <th>2987000</th>\n",
       "      <td>0</td>\n",
       "      <td>86400</td>\n",
       "      <td>68.5</td>\n",
       "      <td>W</td>\n",
       "      <td>13926</td>\n",
       "      <td>NaN</td>\n",
       "      <td>150.0</td>\n",
       "      <td>discover</td>\n",
       "      <td>142.0</td>\n",
       "      <td>credit</td>\n",
       "      <td>...</td>\n",
       "      <td>NaN</td>\n",
       "      <td>NaN</td>\n",
       "      <td>NaN</td>\n",
       "      <td>NaN</td>\n",
       "      <td>NaN</td>\n",
       "      <td>NaN</td>\n",
       "      <td>NaN</td>\n",
       "      <td>NaN</td>\n",
       "      <td>NaN</td>\n",
       "      <td>NaN</td>\n",
       "    </tr>\n",
       "    <tr>\n",
       "      <th>2987001</th>\n",
       "      <td>0</td>\n",
       "      <td>86401</td>\n",
       "      <td>29.0</td>\n",
       "      <td>W</td>\n",
       "      <td>2755</td>\n",
       "      <td>404.0</td>\n",
       "      <td>150.0</td>\n",
       "      <td>mastercard</td>\n",
       "      <td>102.0</td>\n",
       "      <td>credit</td>\n",
       "      <td>...</td>\n",
       "      <td>NaN</td>\n",
       "      <td>NaN</td>\n",
       "      <td>NaN</td>\n",
       "      <td>NaN</td>\n",
       "      <td>NaN</td>\n",
       "      <td>NaN</td>\n",
       "      <td>NaN</td>\n",
       "      <td>NaN</td>\n",
       "      <td>NaN</td>\n",
       "      <td>NaN</td>\n",
       "    </tr>\n",
       "    <tr>\n",
       "      <th>2987002</th>\n",
       "      <td>0</td>\n",
       "      <td>86469</td>\n",
       "      <td>59.0</td>\n",
       "      <td>W</td>\n",
       "      <td>4663</td>\n",
       "      <td>490.0</td>\n",
       "      <td>150.0</td>\n",
       "      <td>visa</td>\n",
       "      <td>166.0</td>\n",
       "      <td>debit</td>\n",
       "      <td>...</td>\n",
       "      <td>NaN</td>\n",
       "      <td>NaN</td>\n",
       "      <td>NaN</td>\n",
       "      <td>NaN</td>\n",
       "      <td>NaN</td>\n",
       "      <td>NaN</td>\n",
       "      <td>NaN</td>\n",
       "      <td>NaN</td>\n",
       "      <td>NaN</td>\n",
       "      <td>NaN</td>\n",
       "    </tr>\n",
       "  </tbody>\n",
       "</table>\n",
       "<p>3 rows × 433 columns</p>\n",
       "</div>"
      ],
      "text/plain": [
       "               isFraud  TransactionDT  TransactionAmt ProductCD  card1  card2  \\\n",
       "TransactionID                                                                   \n",
       "2987000              0          86400            68.5         W  13926    NaN   \n",
       "2987001              0          86401            29.0         W   2755  404.0   \n",
       "2987002              0          86469            59.0         W   4663  490.0   \n",
       "\n",
       "               card3       card4  card5   card6  ...  id_31  id_32  id_33  \\\n",
       "TransactionID                                    ...                        \n",
       "2987000        150.0    discover  142.0  credit  ...    NaN    NaN    NaN   \n",
       "2987001        150.0  mastercard  102.0  credit  ...    NaN    NaN    NaN   \n",
       "2987002        150.0        visa  166.0   debit  ...    NaN    NaN    NaN   \n",
       "\n",
       "               id_34 id_35 id_36  id_37  id_38  DeviceType  DeviceInfo  \n",
       "TransactionID                                                           \n",
       "2987000          NaN   NaN   NaN    NaN    NaN         NaN         NaN  \n",
       "2987001          NaN   NaN   NaN    NaN    NaN         NaN         NaN  \n",
       "2987002          NaN   NaN   NaN    NaN    NaN         NaN         NaN  \n",
       "\n",
       "[3 rows x 433 columns]"
      ]
     },
     "execution_count": 8,
     "metadata": {},
     "output_type": "execute_result"
    }
   ],
   "source": [
    "train.head(3)"
   ]
  },
  {
   "cell_type": "code",
   "execution_count": 10,
   "metadata": {},
   "outputs": [
    {
     "data": {
      "text/plain": [
       "isFraud                0\n",
       "TransactionDT          0\n",
       "TransactionAmt         0\n",
       "ProductCD              0\n",
       "card1                  0\n",
       "card2               8933\n",
       "card3               1565\n",
       "card4               1577\n",
       "card5               4259\n",
       "card6               1571\n",
       "addr1              65706\n",
       "addr2              65706\n",
       "dist1             352271\n",
       "dist2             552913\n",
       "P_emaildomain      94456\n",
       "R_emaildomain     453249\n",
       "C1                     0\n",
       "C2                     0\n",
       "C3                     0\n",
       "C4                     0\n",
       "C5                     0\n",
       "C6                     0\n",
       "C7                     0\n",
       "C8                     0\n",
       "C9                     0\n",
       "C10                    0\n",
       "C11                    0\n",
       "C12                    0\n",
       "C13                    0\n",
       "C14                    0\n",
       "                   ...  \n",
       "id_11             449562\n",
       "id_12             446307\n",
       "id_13             463220\n",
       "id_14             510496\n",
       "id_15             449555\n",
       "id_16             461200\n",
       "id_17             451171\n",
       "id_18             545427\n",
       "id_19             451222\n",
       "id_20             451279\n",
       "id_21             585381\n",
       "id_22             585371\n",
       "id_23             585371\n",
       "id_24             585793\n",
       "id_25             585408\n",
       "id_26             585377\n",
       "id_27             585371\n",
       "id_28             449562\n",
       "id_29             449562\n",
       "id_30             512975\n",
       "id_31             450258\n",
       "id_32             512954\n",
       "id_33             517251\n",
       "id_34             512735\n",
       "id_35             449555\n",
       "id_36             449555\n",
       "id_37             449555\n",
       "id_38             449555\n",
       "DeviceType        449730\n",
       "DeviceInfo        471874\n",
       "Length: 433, dtype: int64"
      ]
     },
     "execution_count": 10,
     "metadata": {},
     "output_type": "execute_result"
    }
   ],
   "source": [
    "train.isnull().sum(axis=0)"
   ]
  },
  {
   "cell_type": "markdown",
   "metadata": {},
   "source": [
    "#### ◎ 결측치 변수 제거"
   ]
  },
  {
   "cell_type": "markdown",
   "metadata": {},
   "source": [
    "* NaN값이 많은 열들이 존재, 결측치가 97%를 초과할 경우 제거하기로 함"
   ]
  },
  {
   "cell_type": "code",
   "execution_count": 13,
   "metadata": {},
   "outputs": [],
   "source": [
    "na_columns = [x for x in train.columns \n",
    "                if (train[x].isnull().sum(axis=0) / train.shape[0]) > 0.97 ]\n",
    "na_columns_test = [x for x in test.columns \n",
    "                  if (test[x].isnull().sum(axis=0) / test.shape[0]) > 0.07 ]\n",
    "# NaN 비율이 97% 이상인 열이면 제거 (임의의 비율)"
   ]
  },
  {
   "cell_type": "code",
   "execution_count": 14,
   "metadata": {},
   "outputs": [
    {
     "data": {
      "text/plain": [
       "255"
      ]
     },
     "execution_count": 14,
     "metadata": {},
     "output_type": "execute_result"
    }
   ],
   "source": [
    "columns_drop = list(set(na_columns + na_columns_test))\n",
    "len(columns_drop) # 255개의 열을 제거"
   ]
  },
  {
   "cell_type": "code",
   "execution_count": 15,
   "metadata": {},
   "outputs": [],
   "source": [
    "y_train = train['isFraud']\n",
    "X_train = train.drop(columns=['isFraud'])\n",
    "X_test = test.copy()"
   ]
  },
  {
   "cell_type": "code",
   "execution_count": 18,
   "metadata": {},
   "outputs": [],
   "source": [
    "X_train = X_train.drop(columns_drop, axis = 1)\n",
    "X_test = X_test.drop(columns_drop, axis = 1)"
   ]
  },
  {
   "cell_type": "code",
   "execution_count": 16,
   "metadata": {},
   "outputs": [],
   "source": [
    "#del train_transaction, train_identity, test_transaction, test_identity\n",
    "# 한번만 run"
   ]
  },
  {
   "cell_type": "markdown",
   "metadata": {},
   "source": [
    "### 데이터 시각화"
   ]
  },
  {
   "cell_type": "markdown",
   "metadata": {},
   "source": [
    "* 사기/비사기 데이터에 대한 시각화를 통해 의미있는 변수를 찾고자 함\n",
    "\n",
    "\n",
    "    * 어떤 변수가 유의미한 패턴을 보이는지 확인 후, 유의하지 않은 변수는 제거\n",
    "    * 사기/비사기를 나눠 확률분포를 본 후 차이가 있는지 확인\n",
    "    * 비슷한 변수들의 경우 변수들 간 높은 상관성이 있는지 확인 후 feature로 사용"
   ]
  },
  {
   "cell_type": "code",
   "execution_count": 27,
   "metadata": {},
   "outputs": [
    {
     "data": {
      "image/png": "[encoded data removed]",
      "text/plain": [
       "<Figure size 432x288 with 1 Axes>"
      ]
     },
     "metadata": {
      "needs_background": "light"
     },
     "output_type": "display_data"
    }
   ],
   "source": [
    "# 사기/ 비사기 도수 분포표\n",
    "sns.countplot('isFraud', data = train)\n",
    "plt.show()"
   ]
  },
  {
   "cell_type": "code",
   "execution_count": 28,
   "metadata": {},
   "outputs": [
    {
     "data": {
      "text/plain": [
       "0    0.96501\n",
       "1    0.03499\n",
       "Name: isFraud, dtype: float64"
      ]
     },
     "execution_count": 28,
     "metadata": {},
     "output_type": "execute_result"
    }
   ],
   "source": [
    "y_train.value_counts(normalize=True) # evnet rate : about 3.5%"
   ]
  },
  {
   "cell_type": "code",
   "execution_count": null,
   "metadata": {},
   "outputs": [],
   "source": [
    "## 시각화 하는 코드를 추가하고 결과 보여주면 좋을듯 - train데이터 이용하면 될듯"
   ]
  },
  {
   "cell_type": "code",
   "execution_count": null,
   "metadata": {},
   "outputs": [],
   "source": [
    "## 통계 검정도 하면 더 좋긴함 - y 범주형, X 범주형 변수면 Chisqure 검정\n",
    "## y 범주 , X 수치형이면 t-test검정 : 강사님의 titanic_02 통계검정부분 참고\n",
    "## 유의수준 0.05 혹은 0.01로 두고 p-value가 그 값보다 작게나오면 유의한 변수"
   ]
  },
  {
   "cell_type": "code",
   "execution_count": 19,
   "metadata": {},
   "outputs": [],
   "source": [
    "v_drop = [x for x in X_train.columns if x[0] == \"V\"]\n",
    "c_drop = ['C1', 'C2','C5','C6','C9','C11', 'C14']\n",
    "\n",
    "drop_cols = list(set(v_drop + c_drop))\n",
    "\n",
    "X_train = X_train.drop(drop_cols, axis = 1)\n",
    "X_test = X_test.drop(drop_cols, axis = 1)"
   ]
  },
  {
   "cell_type": "markdown",
   "metadata": {},
   "source": [
    "* TransactionDT 변수는 주어진 참조 날짜 시간이며, 실제 time-stamp가 아님\n",
    "    따라서 위의 변수를 제거하고자 함"
   ]
  },
  {
   "cell_type": "code",
   "execution_count": 22,
   "metadata": {},
   "outputs": [],
   "source": [
    "X_train = X_train.drop('TransactionDT', axis=1)\n",
    "X_test = X_test.drop('TransactionDT', axis=1)"
   ]
  },
  {
   "cell_type": "code",
   "execution_count": 23,
   "metadata": {},
   "outputs": [
    {
     "name": "stdout",
     "output_type": "stream",
     "text": [
      "(590540, 18)\n",
      "(506691, 18)\n"
     ]
    }
   ],
   "source": [
    "print(X_train.shape)\n",
    "print(X_test.shape)"
   ]
  },
  {
   "cell_type": "markdown",
   "metadata": {},
   "source": [
    "#### 인코딩 : Label Encoding"
   ]
  },
  {
   "cell_type": "code",
   "execution_count": 25,
   "metadata": {},
   "outputs": [],
   "source": [
    "# Label Encoding\n",
    "for f in X_train.columns:\n",
    "    if X_train[f].dtype=='object' or X_test[f].dtype=='object': \n",
    "        lbl = preprocessing.LabelEncoder()\n",
    "        lbl.fit(list(X_train[f].values) + list(X_test[f].values))\n",
    "        X_train[f] = lbl.transform(list(X_train[f].values))\n",
    "        X_test[f] = lbl.transform(list(X_test[f].values)) \n",
    "        \n",
    "X_train = X_train.fillna(-999)\n",
    "X_test = X_test.fillna(-999)"
   ]
  },
  {
   "cell_type": "markdown",
   "metadata": {},
   "source": [
    "#### ◎ 로그변환 및 정규화"
   ]
  },
  {
   "cell_type": "code",
   "execution_count": 26,
   "metadata": {},
   "outputs": [
    {
     "data": {
      "text/html": [
       "<div>\n",
       "<style scoped>\n",
       "    .dataframe tbody tr th:only-of-type {\n",
       "        vertical-align: middle;\n",
       "    }\n",
       "\n",
       "    .dataframe tbody tr th {\n",
       "        vertical-align: top;\n",
       "    }\n",
       "\n",
       "    .dataframe thead th {\n",
       "        text-align: right;\n",
       "    }\n",
       "</style>\n",
       "<table border=\"1\" class=\"dataframe\">\n",
       "  <thead>\n",
       "    <tr style=\"text-align: right;\">\n",
       "      <th></th>\n",
       "      <th>TransactionAmt</th>\n",
       "      <th>ProductCD</th>\n",
       "      <th>card1</th>\n",
       "      <th>card2</th>\n",
       "      <th>card3</th>\n",
       "      <th>card4</th>\n",
       "      <th>card5</th>\n",
       "      <th>card6</th>\n",
       "      <th>C3</th>\n",
       "      <th>C4</th>\n",
       "      <th>C7</th>\n",
       "      <th>C8</th>\n",
       "      <th>C10</th>\n",
       "      <th>C12</th>\n",
       "      <th>C13</th>\n",
       "      <th>D1</th>\n",
       "      <th>D10</th>\n",
       "      <th>D15</th>\n",
       "    </tr>\n",
       "  </thead>\n",
       "  <tbody>\n",
       "    <tr>\n",
       "      <th>count</th>\n",
       "      <td>590540.000000</td>\n",
       "      <td>590540.000000</td>\n",
       "      <td>590540.000000</td>\n",
       "      <td>590540.000000</td>\n",
       "      <td>590540.000000</td>\n",
       "      <td>590540.000000</td>\n",
       "      <td>590540.000000</td>\n",
       "      <td>590540.000000</td>\n",
       "      <td>590540.000000</td>\n",
       "      <td>590540.000000</td>\n",
       "      <td>590540.000000</td>\n",
       "      <td>590540.000000</td>\n",
       "      <td>590540.000000</td>\n",
       "      <td>590540.000000</td>\n",
       "      <td>590540.000000</td>\n",
       "      <td>590540.000000</td>\n",
       "      <td>590540.000000</td>\n",
       "      <td>590540.000000</td>\n",
       "    </tr>\n",
       "    <tr>\n",
       "      <th>mean</th>\n",
       "      <td>135.027176</td>\n",
       "      <td>3.220757</td>\n",
       "      <td>9898.734658</td>\n",
       "      <td>341.959466</td>\n",
       "      <td>150.141474</td>\n",
       "      <td>3.266305</td>\n",
       "      <td>190.636858</td>\n",
       "      <td>1.753033</td>\n",
       "      <td>0.005644</td>\n",
       "      <td>4.092185</td>\n",
       "      <td>2.848478</td>\n",
       "      <td>5.144574</td>\n",
       "      <td>5.240343</td>\n",
       "      <td>4.076227</td>\n",
       "      <td>32.539918</td>\n",
       "      <td>91.998095</td>\n",
       "      <td>-20.582750</td>\n",
       "      <td>-11.714590</td>\n",
       "    </tr>\n",
       "    <tr>\n",
       "      <th>std</th>\n",
       "      <td>239.162522</td>\n",
       "      <td>1.423926</td>\n",
       "      <td>4901.170153</td>\n",
       "      <td>228.343048</td>\n",
       "      <td>60.307775</td>\n",
       "      <td>1.035866</td>\n",
       "      <td>109.406317</td>\n",
       "      <td>0.449543</td>\n",
       "      <td>0.150536</td>\n",
       "      <td>68.848459</td>\n",
       "      <td>61.727304</td>\n",
       "      <td>95.378574</td>\n",
       "      <td>95.581443</td>\n",
       "      <td>86.666218</td>\n",
       "      <td>129.364844</td>\n",
       "      <td>165.428711</td>\n",
       "      <td>412.916821</td>\n",
       "      <td>456.207102</td>\n",
       "    </tr>\n",
       "    <tr>\n",
       "      <th>min</th>\n",
       "      <td>0.251000</td>\n",
       "      <td>0.000000</td>\n",
       "      <td>1000.000000</td>\n",
       "      <td>-999.000000</td>\n",
       "      <td>-999.000000</td>\n",
       "      <td>0.000000</td>\n",
       "      <td>-999.000000</td>\n",
       "      <td>0.000000</td>\n",
       "      <td>0.000000</td>\n",
       "      <td>0.000000</td>\n",
       "      <td>0.000000</td>\n",
       "      <td>0.000000</td>\n",
       "      <td>0.000000</td>\n",
       "      <td>0.000000</td>\n",
       "      <td>0.000000</td>\n",
       "      <td>-999.000000</td>\n",
       "      <td>-999.000000</td>\n",
       "      <td>-999.000000</td>\n",
       "    </tr>\n",
       "    <tr>\n",
       "      <th>25%</th>\n",
       "      <td>43.321000</td>\n",
       "      <td>3.000000</td>\n",
       "      <td>6019.000000</td>\n",
       "      <td>204.000000</td>\n",
       "      <td>150.000000</td>\n",
       "      <td>2.000000</td>\n",
       "      <td>166.000000</td>\n",
       "      <td>1.000000</td>\n",
       "      <td>0.000000</td>\n",
       "      <td>0.000000</td>\n",
       "      <td>0.000000</td>\n",
       "      <td>0.000000</td>\n",
       "      <td>0.000000</td>\n",
       "      <td>0.000000</td>\n",
       "      <td>1.000000</td>\n",
       "      <td>0.000000</td>\n",
       "      <td>0.000000</td>\n",
       "      <td>0.000000</td>\n",
       "    </tr>\n",
       "    <tr>\n",
       "      <th>50%</th>\n",
       "      <td>68.769000</td>\n",
       "      <td>4.000000</td>\n",
       "      <td>9678.000000</td>\n",
       "      <td>360.000000</td>\n",
       "      <td>150.000000</td>\n",
       "      <td>4.000000</td>\n",
       "      <td>226.000000</td>\n",
       "      <td>2.000000</td>\n",
       "      <td>0.000000</td>\n",
       "      <td>0.000000</td>\n",
       "      <td>0.000000</td>\n",
       "      <td>0.000000</td>\n",
       "      <td>0.000000</td>\n",
       "      <td>0.000000</td>\n",
       "      <td>3.000000</td>\n",
       "      <td>3.000000</td>\n",
       "      <td>0.000000</td>\n",
       "      <td>13.000000</td>\n",
       "    </tr>\n",
       "    <tr>\n",
       "      <th>75%</th>\n",
       "      <td>125.000000</td>\n",
       "      <td>4.000000</td>\n",
       "      <td>14184.000000</td>\n",
       "      <td>512.000000</td>\n",
       "      <td>150.000000</td>\n",
       "      <td>4.000000</td>\n",
       "      <td>226.000000</td>\n",
       "      <td>2.000000</td>\n",
       "      <td>0.000000</td>\n",
       "      <td>0.000000</td>\n",
       "      <td>0.000000</td>\n",
       "      <td>0.000000</td>\n",
       "      <td>0.000000</td>\n",
       "      <td>0.000000</td>\n",
       "      <td>12.000000</td>\n",
       "      <td>121.000000</td>\n",
       "      <td>150.000000</td>\n",
       "      <td>251.000000</td>\n",
       "    </tr>\n",
       "    <tr>\n",
       "      <th>max</th>\n",
       "      <td>31937.391000</td>\n",
       "      <td>4.000000</td>\n",
       "      <td>18396.000000</td>\n",
       "      <td>600.000000</td>\n",
       "      <td>231.000000</td>\n",
       "      <td>4.000000</td>\n",
       "      <td>237.000000</td>\n",
       "      <td>4.000000</td>\n",
       "      <td>26.000000</td>\n",
       "      <td>2253.000000</td>\n",
       "      <td>2255.000000</td>\n",
       "      <td>3331.000000</td>\n",
       "      <td>3257.000000</td>\n",
       "      <td>3188.000000</td>\n",
       "      <td>2918.000000</td>\n",
       "      <td>640.000000</td>\n",
       "      <td>876.000000</td>\n",
       "      <td>879.000000</td>\n",
       "    </tr>\n",
       "  </tbody>\n",
       "</table>\n",
       "</div>"
      ],
      "text/plain": [
       "       TransactionAmt      ProductCD          card1          card2  \\\n",
       "count   590540.000000  590540.000000  590540.000000  590540.000000   \n",
       "mean       135.027176       3.220757    9898.734658     341.959466   \n",
       "std        239.162522       1.423926    4901.170153     228.343048   \n",
       "min          0.251000       0.000000    1000.000000    -999.000000   \n",
       "25%         43.321000       3.000000    6019.000000     204.000000   \n",
       "50%         68.769000       4.000000    9678.000000     360.000000   \n",
       "75%        125.000000       4.000000   14184.000000     512.000000   \n",
       "max      31937.391000       4.000000   18396.000000     600.000000   \n",
       "\n",
       "               card3          card4          card5          card6  \\\n",
       "count  590540.000000  590540.000000  590540.000000  590540.000000   \n",
       "mean      150.141474       3.266305     190.636858       1.753033   \n",
       "std        60.307775       1.035866     109.406317       0.449543   \n",
       "min      -999.000000       0.000000    -999.000000       0.000000   \n",
       "25%       150.000000       2.000000     166.000000       1.000000   \n",
       "50%       150.000000       4.000000     226.000000       2.000000   \n",
       "75%       150.000000       4.000000     226.000000       2.000000   \n",
       "max       231.000000       4.000000     237.000000       4.000000   \n",
       "\n",
       "                  C3             C4             C7             C8  \\\n",
       "count  590540.000000  590540.000000  590540.000000  590540.000000   \n",
       "mean        0.005644       4.092185       2.848478       5.144574   \n",
       "std         0.150536      68.848459      61.727304      95.378574   \n",
       "min         0.000000       0.000000       0.000000       0.000000   \n",
       "25%         0.000000       0.000000       0.000000       0.000000   \n",
       "50%         0.000000       0.000000       0.000000       0.000000   \n",
       "75%         0.000000       0.000000       0.000000       0.000000   \n",
       "max        26.000000    2253.000000    2255.000000    3331.000000   \n",
       "\n",
       "                 C10            C12            C13             D1  \\\n",
       "count  590540.000000  590540.000000  590540.000000  590540.000000   \n",
       "mean        5.240343       4.076227      32.539918      91.998095   \n",
       "std        95.581443      86.666218     129.364844     165.428711   \n",
       "min         0.000000       0.000000       0.000000    -999.000000   \n",
       "25%         0.000000       0.000000       1.000000       0.000000   \n",
       "50%         0.000000       0.000000       3.000000       3.000000   \n",
       "75%         0.000000       0.000000      12.000000     121.000000   \n",
       "max      3257.000000    3188.000000    2918.000000     640.000000   \n",
       "\n",
       "                 D10            D15  \n",
       "count  590540.000000  590540.000000  \n",
       "mean      -20.582750     -11.714590  \n",
       "std       412.916821     456.207102  \n",
       "min      -999.000000    -999.000000  \n",
       "25%         0.000000       0.000000  \n",
       "50%         0.000000      13.000000  \n",
       "75%       150.000000     251.000000  \n",
       "max       876.000000     879.000000  "
      ]
     },
     "execution_count": 26,
     "metadata": {},
     "output_type": "execute_result"
    }
   ],
   "source": [
    "X_train.describe() #TransactionAmt, card1, card2 - log변환"
   ]
  },
  {
   "cell_type": "code",
   "execution_count": 29,
   "metadata": {},
   "outputs": [],
   "source": [
    "X_train['TransactionAmt'] = np.log(X_train['TransactionAmt'])\n",
    "X_test['TransactionAmt'] = np.log(X_test['TransactionAmt'])"
   ]
  },
  {
   "cell_type": "code",
   "execution_count": 79,
   "metadata": {},
   "outputs": [],
   "source": [
    "X_train = X_traina"
   ]
  },
  {
   "cell_type": "code",
   "execution_count": 80,
   "metadata": {},
   "outputs": [],
   "source": [
    "X_test = X_testa"
   ]
  },
  {
   "cell_type": "code",
   "execution_count": 47,
   "metadata": {},
   "outputs": [
    {
     "name": "stderr",
     "output_type": "stream",
     "text": [
      "c:\\users\\woodayoung\\anaconda3\\envs\\study\\lib\\site-packages\\ipykernel_launcher.py:3: RuntimeWarning: invalid value encountered in log\n",
      "  This is separate from the ipykernel package so we can avoid doing imports until\n",
      "c:\\users\\woodayoung\\anaconda3\\envs\\study\\lib\\site-packages\\ipykernel_launcher.py:4: RuntimeWarning: invalid value encountered in log\n",
      "  after removing the cwd from sys.path.\n",
      "c:\\users\\woodayoung\\anaconda3\\envs\\study\\lib\\site-packages\\ipykernel_launcher.py:8: SettingWithCopyWarning: \n",
      "A value is trying to be set on a copy of a slice from a DataFrame\n",
      "\n",
      "See the caveats in the documentation: http://pandas.pydata.org/pandas-docs/stable/indexing.html#indexing-view-versus-copy\n",
      "  \n",
      "c:\\users\\woodayoung\\anaconda3\\envs\\study\\lib\\site-packages\\ipykernel_launcher.py:11: SettingWithCopyWarning: \n",
      "A value is trying to be set on a copy of a slice from a DataFrame\n",
      "\n",
      "See the caveats in the documentation: http://pandas.pydata.org/pandas-docs/stable/indexing.html#indexing-view-versus-copy\n",
      "  # This is added back by InteractiveShellApp.init_path()\n"
     ]
    }
   ],
   "source": [
    "for c in ['card1', 'card2'] :\n",
    "\n",
    "    X_train[c] = np.log(X_train[c]) \n",
    "    X_test[c] = np.log(X_test[c])\n",
    "\n",
    "# card2의 경우 log(-999)값이 nan 처리됨\n",
    "i=X_train.card2.isnull()\n",
    "X_train.card2[i] = X_train.card2.mean()  #nan값을 평균값으로 대체\n",
    "\n",
    "j=X_test.card2.isnull()\n",
    "X_test.card2[j] = X_test.card2.mean()\n"
   ]
  },
  {
   "cell_type": "code",
   "execution_count": 48,
   "metadata": {},
   "outputs": [
    {
     "data": {
      "text/plain": [
       "TransactionAmt    0\n",
       "ProductCD         0\n",
       "card1             0\n",
       "card2             0\n",
       "card3             0\n",
       "card4             0\n",
       "card5             0\n",
       "card6             0\n",
       "C3                0\n",
       "C4                0\n",
       "C7                0\n",
       "C8                0\n",
       "C10               0\n",
       "C12               0\n",
       "C13               0\n",
       "D1                0\n",
       "D10               0\n",
       "D15               0\n",
       "dtype: int64"
      ]
     },
     "execution_count": 48,
     "metadata": {},
     "output_type": "execute_result"
    }
   ],
   "source": [
    "X_train.isnull().sum(axis=0)"
   ]
  },
  {
   "cell_type": "code",
   "execution_count": 49,
   "metadata": {},
   "outputs": [
    {
     "data": {
      "text/plain": [
       "TransactionAmt    0\n",
       "ProductCD         0\n",
       "card1             0\n",
       "card2             0\n",
       "card3             0\n",
       "card4             0\n",
       "card5             0\n",
       "card6             0\n",
       "C3                0\n",
       "C4                0\n",
       "C7                0\n",
       "C8                0\n",
       "C10               0\n",
       "C12               0\n",
       "C13               0\n",
       "D1                0\n",
       "D10               0\n",
       "D15               0\n",
       "dtype: int64"
      ]
     },
     "execution_count": 49,
     "metadata": {},
     "output_type": "execute_result"
    }
   ],
   "source": [
    "X_test.isnull().sum(axis=0)"
   ]
  },
  {
   "cell_type": "markdown",
   "metadata": {},
   "source": [
    "* card3, card5, C4, C7, C8, C10, C12, C13, D1, D10, D15 변수 정규화"
   ]
  },
  {
   "cell_type": "code",
   "execution_count": 52,
   "metadata": {},
   "outputs": [],
   "source": [
    "from sklearn.preprocessing import MinMaxScaler"
   ]
  },
  {
   "cell_type": "code",
   "execution_count": 85,
   "metadata": {},
   "outputs": [],
   "source": [
    "colname = list(X_train.columns)\n",
    "a= [0, 0, 0, 0, 1, 2, 2]\n",
    "\n",
    "for i in a :\n",
    "    colname.pop(i)"
   ]
  },
  {
   "cell_type": "code",
   "execution_count": 87,
   "metadata": {},
   "outputs": [
    {
     "data": {
      "text/html": [
       "<div>\n",
       "<style scoped>\n",
       "    .dataframe tbody tr th:only-of-type {\n",
       "        vertical-align: middle;\n",
       "    }\n",
       "\n",
       "    .dataframe tbody tr th {\n",
       "        vertical-align: top;\n",
       "    }\n",
       "\n",
       "    .dataframe thead th {\n",
       "        text-align: right;\n",
       "    }\n",
       "</style>\n",
       "<table border=\"1\" class=\"dataframe\">\n",
       "  <thead>\n",
       "    <tr style=\"text-align: right;\">\n",
       "      <th></th>\n",
       "      <th>TransactionAmt</th>\n",
       "      <th>ProductCD</th>\n",
       "      <th>card1</th>\n",
       "      <th>card2</th>\n",
       "      <th>card3</th>\n",
       "      <th>card4</th>\n",
       "      <th>card5</th>\n",
       "      <th>card6</th>\n",
       "      <th>C3</th>\n",
       "      <th>C4</th>\n",
       "      <th>C7</th>\n",
       "      <th>C8</th>\n",
       "      <th>C10</th>\n",
       "      <th>C12</th>\n",
       "      <th>C13</th>\n",
       "      <th>D1</th>\n",
       "      <th>D10</th>\n",
       "      <th>D15</th>\n",
       "    </tr>\n",
       "    <tr>\n",
       "      <th>TransactionID</th>\n",
       "      <th></th>\n",
       "      <th></th>\n",
       "      <th></th>\n",
       "      <th></th>\n",
       "      <th></th>\n",
       "      <th></th>\n",
       "      <th></th>\n",
       "      <th></th>\n",
       "      <th></th>\n",
       "      <th></th>\n",
       "      <th></th>\n",
       "      <th></th>\n",
       "      <th></th>\n",
       "      <th></th>\n",
       "      <th></th>\n",
       "      <th></th>\n",
       "      <th></th>\n",
       "      <th></th>\n",
       "    </tr>\n",
       "  </thead>\n",
       "  <tbody>\n",
       "    <tr>\n",
       "      <th>3663549</th>\n",
       "      <td>3.464172</td>\n",
       "      <td>4</td>\n",
       "      <td>9.250426</td>\n",
       "      <td>4.709530</td>\n",
       "      <td>0.933387</td>\n",
       "      <td>4</td>\n",
       "      <td>0.9911</td>\n",
       "      <td>2</td>\n",
       "      <td>0.0</td>\n",
       "      <td>0.384231</td>\n",
       "      <td>0.381298</td>\n",
       "      <td>0.498503</td>\n",
       "      <td>0.531383</td>\n",
       "      <td>0.309310</td>\n",
       "      <td>0.434986</td>\n",
       "      <td>0.864634</td>\n",
       "      <td>0.677990</td>\n",
       "      <td>0.673684</td>\n",
       "    </tr>\n",
       "    <tr>\n",
       "      <th>3663550</th>\n",
       "      <td>3.891820</td>\n",
       "      <td>4</td>\n",
       "      <td>8.359837</td>\n",
       "      <td>4.709530</td>\n",
       "      <td>0.933387</td>\n",
       "      <td>4</td>\n",
       "      <td>0.9911</td>\n",
       "      <td>2</td>\n",
       "      <td>0.0</td>\n",
       "      <td>0.384231</td>\n",
       "      <td>0.381298</td>\n",
       "      <td>0.498503</td>\n",
       "      <td>0.531383</td>\n",
       "      <td>0.309310</td>\n",
       "      <td>0.394768</td>\n",
       "      <td>0.700000</td>\n",
       "      <td>0.588517</td>\n",
       "      <td>0.781340</td>\n",
       "    </tr>\n",
       "    <tr>\n",
       "      <th>3663551</th>\n",
       "      <td>5.141664</td>\n",
       "      <td>4</td>\n",
       "      <td>8.406485</td>\n",
       "      <td>6.352629</td>\n",
       "      <td>0.933387</td>\n",
       "      <td>4</td>\n",
       "      <td>0.9911</td>\n",
       "      <td>2</td>\n",
       "      <td>0.0</td>\n",
       "      <td>0.384231</td>\n",
       "      <td>0.381298</td>\n",
       "      <td>0.498503</td>\n",
       "      <td>0.531383</td>\n",
       "      <td>0.309001</td>\n",
       "      <td>0.398672</td>\n",
       "      <td>0.692683</td>\n",
       "      <td>0.543062</td>\n",
       "      <td>0.524402</td>\n",
       "    </tr>\n",
       "  </tbody>\n",
       "</table>\n",
       "</div>"
      ],
      "text/plain": [
       "               TransactionAmt  ProductCD     card1     card2     card3  card4  \\\n",
       "TransactionID                                                                   \n",
       "3663549              3.464172          4  9.250426  4.709530  0.933387      4   \n",
       "3663550              3.891820          4  8.359837  4.709530  0.933387      4   \n",
       "3663551              5.141664          4  8.406485  6.352629  0.933387      4   \n",
       "\n",
       "                card5  card6   C3        C4        C7        C8       C10  \\\n",
       "TransactionID                                                               \n",
       "3663549        0.9911      2  0.0  0.384231  0.381298  0.498503  0.531383   \n",
       "3663550        0.9911      2  0.0  0.384231  0.381298  0.498503  0.531383   \n",
       "3663551        0.9911      2  0.0  0.384231  0.381298  0.498503  0.531383   \n",
       "\n",
       "                    C12       C13        D1       D10       D15  \n",
       "TransactionID                                                    \n",
       "3663549        0.309310  0.434986  0.864634  0.677990  0.673684  \n",
       "3663550        0.309310  0.394768  0.700000  0.588517  0.781340  \n",
       "3663551        0.309001  0.398672  0.692683  0.543062  0.524402  "
      ]
     },
     "execution_count": 87,
     "metadata": {},
     "output_type": "execute_result"
    }
   ],
   "source": [
    "MMscaler = MinMaxScaler()\n",
    "\n",
    "for c in colname :\n",
    "    X_train[c] = MMscaler.fit_transform(X_train[[c]])\n",
    "    X_test[c] = MMscaler.fit_transform(X_test[[c]])\n",
    "\n",
    "X_test.head(3)"
   ]
  },
  {
   "cell_type": "markdown",
   "metadata": {},
   "source": [
    "#### 데이터 불러오기 시간을 줄이기 위해 메모리 줄인 데이터 저장\n",
    "* 다음 부터는 이 데이터를 불러와서 실행"
   ]
  },
  {
   "cell_type": "code",
   "execution_count": 88,
   "metadata": {},
   "outputs": [],
   "source": [
    "X_test.to_csv(\"X_test1.csv\", header = True, index = True)\n",
    "X_train.to_csv(\"X_train1.csv\", header = True, index = True)\n",
    "#y_train.to_csv(\"y_train.csv\", header = True, index = True)"
   ]
  },
  {
   "cell_type": "markdown",
   "metadata": {},
   "source": [
    "## 학습"
   ]
  },
  {
   "cell_type": "code",
   "execution_count": 2,
   "metadata": {},
   "outputs": [],
   "source": [
    "os.chdir(r\"C:\\Users\\Woodayoung\\Desktop\\Datastudy\\asiae\\data1\")"
   ]
  },
  {
   "cell_type": "code",
   "execution_count": 3,
   "metadata": {},
   "outputs": [],
   "source": [
    "X_train = pd.read_csv('X_train1.csv', index_col = 'TransactionID')\n",
    "X_test = pd.read_csv('X_test1.csv', index_col = 'TransactionID')\n",
    "y_train = pd.read_csv('y_train.csv', index_col = 'TransactionID')"
   ]
  },
  {
   "cell_type": "markdown",
   "metadata": {},
   "source": [
    "### 랜덤포레스트"
   ]
  },
  {
   "cell_type": "code",
   "execution_count": 4,
   "metadata": {},
   "outputs": [],
   "source": [
    "from sklearn import metrics, preprocessing\n",
    "from sklearn.model_selection import train_test_split\n",
    "from sklearn.ensemble import RandomForestClassifier\n",
    "import matplotlib.pyplot as plt\n",
    "import tensorflow as tf\n",
    "%matplotlib inline"
   ]
  },
  {
   "cell_type": "code",
   "execution_count": 90,
   "metadata": {},
   "outputs": [],
   "source": [
    "X_train1, X_val, Y_train, Y_val = train_test_split(X_train, y_train, \n",
    "                                                    test_size=0.15, \n",
    "                                                    random_state=42)"
   ]
  },
  {
   "cell_type": "code",
   "execution_count": 92,
   "metadata": {},
   "outputs": [
    {
     "name": "stdout",
     "output_type": "stream",
     "text": [
      "(501959, 18)\n",
      "(501959,)\n"
     ]
    }
   ],
   "source": [
    "print(X_train1.shape)\n",
    "print(Y_train.shape)"
   ]
  },
  {
   "cell_type": "code",
   "execution_count": 93,
   "metadata": {},
   "outputs": [
    {
     "name": "stdout",
     "output_type": "stream",
     "text": [
      "SKLEARN Random Forest Accuracy = 0.981\n"
     ]
    }
   ],
   "source": [
    "rf = RandomForestClassifier(n_estimators=100)\n",
    "rf.fit(X_train1, Y_train)\n",
    "y_pred = rf.predict(X_val)\n",
    "acc = np.mean(Y_val == y_pred )\n",
    "print(\"SKLEARN Random Forest Accuracy = {:3.3f}\".format(acc))"
   ]
  },
  {
   "cell_type": "markdown",
   "metadata": {},
   "source": [
    "#### test 데이터로 예측한 값 저장하기"
   ]
  },
  {
   "cell_type": "code",
   "execution_count": 94,
   "metadata": {},
   "outputs": [],
   "source": [
    "sub = pd.read_csv('sample_submission.csv', index_col = 'TransactionID' )"
   ]
  },
  {
   "cell_type": "code",
   "execution_count": 96,
   "metadata": {},
   "outputs": [],
   "source": [
    "sub['isFraud_pred'] = rf.predict(X_test)\n",
    "sub.to_csv(\"randomforest.csv\", header = True, index = True)"
   ]
  },
  {
   "cell_type": "code",
   "execution_count": 97,
   "metadata": {},
   "outputs": [
    {
     "data": {
      "text/plain": [
       "0    502098\n",
       "1      4593\n",
       "Name: isFraud_pred, dtype: int64"
      ]
     },
     "execution_count": 97,
     "metadata": {},
     "output_type": "execute_result"
    }
   ],
   "source": [
    "sub.isFraud_pred.value_counts()"
   ]
  },
  {
   "cell_type": "markdown",
   "metadata": {},
   "source": [
    "### 딥러닝"
   ]
  },
  {
   "cell_type": "code",
   "execution_count": 127,
   "metadata": {},
   "outputs": [
    {
     "data": {
      "text/plain": [
       "[]"
      ]
     },
     "execution_count": 127,
     "metadata": {},
     "output_type": "execute_result"
    }
   ],
   "source": [
    "tf.reset_default_graph() # 그래프 초기화 - 노드들이 지워짐\n",
    "tf.get_default_graph().get_operations() # 초기그래프의 노드들 확인"
   ]
  },
  {
   "cell_type": "code",
   "execution_count": 128,
   "metadata": {},
   "outputs": [],
   "source": [
    "X= np.array(X_train)\n",
    "y = np.array(y_train)\n",
    "headerX = X_train.columns"
   ]
  },
  {
   "cell_type": "code",
   "execution_count": 129,
   "metadata": {},
   "outputs": [
    {
     "name": "stdout",
     "output_type": "stream",
     "text": [
      "(590540, 18)\n",
      "(590540, 1)\n"
     ]
    }
   ],
   "source": [
    "print(X.shape)\n",
    "print(y.shape)"
   ]
  },
  {
   "cell_type": "code",
   "execution_count": 130,
   "metadata": {},
   "outputs": [],
   "source": [
    "X_train2, X_val2, y_train2, y_val2 = train_test_split(X, y, test_size=0.3, random_state=123)\n",
    "n_train_size = y_train2.shape[0]"
   ]
  },
  {
   "cell_type": "markdown",
   "metadata": {},
   "source": [
    "#### 모델 구성 및 학습"
   ]
  },
  {
   "cell_type": "code",
   "execution_count": 131,
   "metadata": {},
   "outputs": [],
   "source": [
    "model = tf.keras.Sequential() #layer를 차례로 쌓는 모델구조"
   ]
  },
  {
   "cell_type": "code",
   "execution_count": 132,
   "metadata": {},
   "outputs": [],
   "source": [
    "m, n = X_train2.shape"
   ]
  },
  {
   "cell_type": "code",
   "execution_count": 133,
   "metadata": {},
   "outputs": [],
   "source": [
    "#n_input = m*n # 입력층 개수\n",
    "n_hidden1 = 300 # hidden layer 개수\n",
    "n_hidden2 = 100 # hidden layer2 개수\n",
    "n_outputs = 1 # 출력층 개수s"
   ]
  },
  {
   "cell_type": "code",
   "execution_count": 134,
   "metadata": {},
   "outputs": [],
   "source": [
    "## layer 구성 \n",
    "layer0 = tf.keras.layers.Flatten()\n",
    "layer1 = tf.keras.layers.Dense(n_hidden1,\n",
    "                               activation=tf.keras.activations.relu)\n",
    "layer2 = tf.keras.layers.Dense(n_hidden2,\n",
    "                               activation=tf.keras.activations.relu)\n",
    "#activation function으로 relu사용\n",
    "\n",
    "layer3 = tf.keras.layers.Dense(n_outputs,\n",
    "                               activation=tf.keras.activations.sigmoid)\n"
   ]
  },
  {
   "cell_type": "code",
   "execution_count": 135,
   "metadata": {},
   "outputs": [],
   "source": [
    "# 모델에 하나씩 쌓는다 . - 쌓으면 자동 연결됨(high level)\n",
    "model.add(layer0)\n",
    "model.add(layer1)\n",
    "model.add(layer2)\n",
    "model.add(layer3)"
   ]
  },
  {
   "cell_type": "code",
   "execution_count": 136,
   "metadata": {},
   "outputs": [],
   "source": [
    "# 모델 자체에 들어가야하는 함수, 평가 척도등을 입력 - 학습할 준비\n",
    "model.compile(optimizer=tf.train.AdamOptimizer(), #'SGD'\n",
    "              loss='binary_crossentropy',\n",
    "              metrics=['accuracy'])"
   ]
  },
  {
   "cell_type": "code",
   "execution_count": 137,
   "metadata": {},
   "outputs": [
    {
     "name": "stdout",
     "output_type": "stream",
     "text": [
      "Epoch 1/50\n",
      "413378/413378 [==============================] - 3s 8us/sample - loss: 0.1402 - acc: 0.9651\n",
      "Epoch 2/50\n",
      "413378/413378 [==============================] - 3s 8us/sample - loss: 0.1366 - acc: 0.9651\n",
      "Epoch 3/50\n",
      "413378/413378 [==============================] - 3s 8us/sample - loss: 0.1352 - acc: 0.9651\n",
      "Epoch 4/50\n",
      "413378/413378 [==============================] - 3s 8us/sample - loss: 0.1333 - acc: 0.9654\n",
      "Epoch 5/50\n",
      "413378/413378 [==============================] - 3s 8us/sample - loss: 0.1320 - acc: 0.9659\n",
      "Epoch 6/50\n",
      "413378/413378 [==============================] - 4s 9us/sample - loss: 0.1305 - acc: 0.9662\n",
      "Epoch 7/50\n",
      "413378/413378 [==============================] - 4s 9us/sample - loss: 0.1296 - acc: 0.9663\n",
      "Epoch 8/50\n",
      "413378/413378 [==============================] - 4s 9us/sample - loss: 0.1293 - acc: 0.9665\n",
      "Epoch 9/50\n",
      "413378/413378 [==============================] - 4s 11us/sample - loss: 0.1280 - acc: 0.9667\n",
      "Epoch 10/50\n",
      "413378/413378 [==============================] - 4s 9us/sample - loss: 0.1273 - acc: 0.9669\n",
      "Epoch 11/50\n",
      "413378/413378 [==============================] - 4s 9us/sample - loss: 0.1274 - acc: 0.9671\n",
      "Epoch 12/50\n",
      "413378/413378 [==============================] - 4s 9us/sample - loss: 0.1263 - acc: 0.9673\n",
      "Epoch 13/50\n",
      "413378/413378 [==============================] - 4s 9us/sample - loss: 0.1262 - acc: 0.9674\n",
      "Epoch 14/50\n",
      "413378/413378 [==============================] - 4s 9us/sample - loss: 0.1257 - acc: 0.9675\n",
      "Epoch 15/50\n",
      "413378/413378 [==============================] - 4s 10us/sample - loss: 0.1254 - acc: 0.9676\n",
      "Epoch 16/50\n",
      "413378/413378 [==============================] - 4s 11us/sample - loss: 0.1251 - acc: 0.9677\n",
      "Epoch 17/50\n",
      "413378/413378 [==============================] - 4s 11us/sample - loss: 0.1247 - acc: 0.9677\n",
      "Epoch 18/50\n",
      "413378/413378 [==============================] - 4s 10us/sample - loss: 0.1243 - acc: 0.9679\n",
      "Epoch 19/50\n",
      "413378/413378 [==============================] - 5s 11us/sample - loss: 0.1241 - acc: 0.9678\n",
      "Epoch 20/50\n",
      "413378/413378 [==============================] - 4s 11us/sample - loss: 0.1240 - acc: 0.9680\n",
      "Epoch 21/50\n",
      "413378/413378 [==============================] - 5s 11us/sample - loss: 0.1237 - acc: 0.9680\n",
      "Epoch 22/50\n",
      "413378/413378 [==============================] - 5s 12us/sample - loss: 0.1235 - acc: 0.9681\n",
      "Epoch 23/50\n",
      "413378/413378 [==============================] - 5s 12us/sample - loss: 0.1230 - acc: 0.9682\n",
      "Epoch 24/50\n",
      "413378/413378 [==============================] - 5s 12us/sample - loss: 0.1232 - acc: 0.9681\n",
      "Epoch 25/50\n",
      "413378/413378 [==============================] - 5s 13us/sample - loss: 0.1228 - acc: 0.9682\n",
      "Epoch 26/50\n",
      "413378/413378 [==============================] - 5s 13us/sample - loss: 0.1227 - acc: 0.9683\n",
      "Epoch 27/50\n",
      "413378/413378 [==============================] - 5s 12us/sample - loss: 0.1226 - acc: 0.9683\n",
      "Epoch 28/50\n",
      "413378/413378 [==============================] - 6s 14us/sample - loss: 0.1225 - acc: 0.9683\n",
      "Epoch 29/50\n",
      "413378/413378 [==============================] - 5s 13us/sample - loss: 0.1220 - acc: 0.9684\n",
      "Epoch 30/50\n",
      "413378/413378 [==============================] - 5s 11us/sample - loss: 0.1222 - acc: 0.9685\n",
      "Epoch 31/50\n",
      "413378/413378 [==============================] - 4s 10us/sample - loss: 0.1220 - acc: 0.9684\n",
      "Epoch 32/50\n",
      "413378/413378 [==============================] - 4s 10us/sample - loss: 0.1220 - acc: 0.9684\n",
      "Epoch 33/50\n",
      "413378/413378 [==============================] - 4s 10us/sample - loss: 0.1216 - acc: 0.9686\n",
      "Epoch 34/50\n",
      "413378/413378 [==============================] - 4s 9us/sample - loss: 0.1212 - acc: 0.9685\n",
      "Epoch 35/50\n",
      "413378/413378 [==============================] - 4s 10us/sample - loss: 0.1212 - acc: 0.9685\n",
      "Epoch 36/50\n",
      "413378/413378 [==============================] - 6s 15us/sample - loss: 0.1210 - acc: 0.9685\n",
      "Epoch 37/50\n",
      "413378/413378 [==============================] - 6s 15us/sample - loss: 0.1210 - acc: 0.9687\n",
      "Epoch 38/50\n",
      "413378/413378 [==============================] - 6s 15us/sample - loss: 0.1209 - acc: 0.9687\n",
      "Epoch 39/50\n",
      "413378/413378 [==============================] - 6s 14us/sample - loss: 0.1208 - acc: 0.9686\n",
      "Epoch 40/50\n",
      "413378/413378 [==============================] - 6s 15us/sample - loss: 0.1205 - acc: 0.9688\n",
      "Epoch 41/50\n",
      "413378/413378 [==============================] - 6s 15us/sample - loss: 0.1207 - acc: 0.9686\n",
      "Epoch 42/50\n",
      "413378/413378 [==============================] - 6s 15us/sample - loss: 0.1205 - acc: 0.9688\n",
      "Epoch 43/50\n",
      "413378/413378 [==============================] - 6s 16us/sample - loss: 0.1201 - acc: 0.9688\n",
      "Epoch 44/50\n",
      "413378/413378 [==============================] - 7s 16us/sample - loss: 0.1201 - acc: 0.9688\n",
      "Epoch 45/50\n",
      "413378/413378 [==============================] - 7s 17us/sample - loss: 0.1196 - acc: 0.9689\n",
      "Epoch 46/50\n",
      "413378/413378 [==============================] - 7s 18us/sample - loss: 0.1200 - acc: 0.9689\n",
      "Epoch 47/50\n",
      "413378/413378 [==============================] - 8s 19us/sample - loss: 0.1198 - acc: 0.9690\n",
      "Epoch 48/50\n",
      "413378/413378 [==============================] - 8s 20us/sample - loss: 0.1198 - acc: 0.96890s - loss: 0.1\n",
      "Epoch 49/50\n",
      "413378/413378 [==============================] - 9s 23us/sample - loss: 0.1195 - acc: 0.96900s - loss: 0.1193 - acc\n",
      "Epoch 50/50\n",
      "413378/413378 [==============================] - 9s 23us/sample - loss: 0.1194 - acc: 0.9690\n"
     ]
    },
    {
     "data": {
      "text/plain": [
       "<tensorflow.python.keras.callbacks.History at 0x1c5b15998d0>"
      ]
     },
     "execution_count": 137,
     "metadata": {},
     "output_type": "execute_result"
    }
   ],
   "source": [
    "#학습을 시작 - weight를 업데이트\n",
    "model.fit(X_train2, y_train2, epochs=50, batch_size=503)"
   ]
  },
  {
   "cell_type": "markdown",
   "metadata": {},
   "source": [
    "#### 테스트"
   ]
  },
  {
   "cell_type": "code",
   "execution_count": 138,
   "metadata": {},
   "outputs": [
    {
     "name": "stdout",
     "output_type": "stream",
     "text": [
      "177162/177162 [==============================] - 4s 21us/sample - loss: 0.1262 - acc: 0.9678\n"
     ]
    },
    {
     "data": {
      "text/plain": [
       "(0.12619655082217332, 0.9677809)"
      ]
     },
     "execution_count": 138,
     "metadata": {},
     "output_type": "execute_result"
    }
   ],
   "source": [
    "# 평가하기 - 학습한 X에 대해 y정답률!(얼마나 정확도가 높은지)\n",
    "test_loss, test_acc = model.evaluate(X_val2, y_val2)\n",
    "test_loss, test_acc"
   ]
  },
  {
   "cell_type": "markdown",
   "metadata": {},
   "source": [
    "#### 예측"
   ]
  },
  {
   "cell_type": "code",
   "execution_count": 139,
   "metadata": {},
   "outputs": [],
   "source": [
    "sub2 = pd.read_csv('sample_submission.csv', index_col = 'TransactionID' )"
   ]
  },
  {
   "cell_type": "code",
   "execution_count": 141,
   "metadata": {},
   "outputs": [],
   "source": [
    "sub2['isFraud'] = model.predict(X_test)\n",
    "sub2.to_csv(\"DNN1.csv\", header = True, index = True)"
   ]
  },
  {
   "cell_type": "code",
   "execution_count": 142,
   "metadata": {},
   "outputs": [],
   "source": [
    "sub2 = pd.read_csv('DNN1.csv', index_col = 'TransactionID' )"
   ]
  },
  {
   "cell_type": "code",
   "execution_count": 143,
   "metadata": {},
   "outputs": [
    {
     "data": {
      "text/plain": [
       "0    432809\n",
       "1     73882\n",
       "Name: isFraud_pred, dtype: int64"
      ]
     },
     "execution_count": 143,
     "metadata": {},
     "output_type": "execute_result"
    }
   ],
   "source": [
    "sub2['isFraud_pred'].value_counts()"
   ]
  }
 ],
 "metadata": {
  "kernelspec": {
   "display_name": "Python 3",
   "language": "python",
   "name": "python3"
  },
  "language_info": {
   "codemirror_mode": {
    "name": "ipython",
    "version": 3
   },
   "file_extension": ".py",
   "mimetype": "text/x-python",
   "name": "python",
   "nbconvert_exporter": "python",
   "pygments_lexer": "ipython3",
   "version": "3.6.5"
  }
 },
 "nbformat": 4,
 "nbformat_minor": 4
}
