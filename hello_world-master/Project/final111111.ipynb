{
 "cells": [
  {
   "cell_type": "code",
   "execution_count": 1,
   "metadata": {},
   "outputs": [
    {
     "name": "stdout",
     "output_type": "stream",
     "text": [
      "['.RData', '.Rhistory', 'example_zigbang.csv', 'example_zigbang_2.csv', 'ex_zigbang.R', 'ex_zigbang_2.R', 'ex_zigbang_3.R', 'ex_zigbang_4.R']\n"
     ]
    }
   ],
   "source": [
    "\n",
    "import numpy as np # linear algebra\n",
    "import pandas as pd # data processing, CSV file I/O (e.g. pd.read_csv)\n",
    "\n",
    "input1 = r\"C:\\Users\\sonak\\Desktop\\뜸부기\"\n",
    "import os\n",
    "print(os.listdir(input1))\n",
    "\n",
    "from sklearn.datasets import make_regression\n",
    "import gc\n",
    "import numpy as np\n",
    "import pandas as pd \n",
    "from sklearn.model_selection import train_test_split, GridSearchCV,cross_val_score\n",
    "from sklearn.metrics import mean_squared_error, r2_score, roc_auc_score\n",
    "import matplotlib.pyplot as plt\n",
    "from sklearn.preprocessing import scale \n",
    "from sklearn import model_selection\n",
    "from sklearn.tree import DecisionTreeRegressor, DecisionTreeClassifier\n",
    "from sklearn.neighbors import KNeighborsRegressor\n",
    "from sklearn.ensemble import BaggingRegressor\n",
    "from sklearn import datasets, linear_model\n",
    "import statsmodels.api as sm\n",
    "\n",
    "from warnings import filterwarnings\n",
    "filterwarnings('ignore')"
   ]
  },
  {
   "cell_type": "code",
   "execution_count": 2,
   "metadata": {},
   "outputs": [],
   "source": [
    "os.chdir(r\"C:\\Users\\sonak\\Desktop\\뜸부기\")\n",
    "df = pd.read_csv('example_zigbang.csv', header='infer',encoding='latin1')"
   ]
  },
  {
   "cell_type": "code",
   "execution_count": 151,
   "metadata": {},
   "outputs": [
    {
     "data": {
      "text/plain": [
       "6"
      ]
     },
     "execution_count": 151,
     "metadata": {},
     "output_type": "execute_result"
    }
   ],
   "source": []
  },
  {
   "cell_type": "code",
   "execution_count": 3,
   "metadata": {},
   "outputs": [
    {
     "data": {
      "text/plain": [
       "(1601458, 25)"
      ]
     },
     "execution_count": 3,
     "metadata": {},
     "output_type": "execute_result"
    }
   ],
   "source": [
    "df.shape"
   ]
  },
  {
   "cell_type": "code",
   "execution_count": 4,
   "metadata": {},
   "outputs": [
    {
     "name": "stdout",
     "output_type": "stream",
     "text": [
      "key                                       0\n",
      "apartment_id                              0\n",
      "city                                      0\n",
      "transaction_year_month                    0\n",
      "transaction_date                          0\n",
      "year_of_completion                        0\n",
      "exclusive_use_area                        0\n",
      "floor                                     0\n",
      "latitude                                  0\n",
      "longitude                                 0\n",
      "address_by_law                            0\n",
      "total_parking_capacity_in_site        91813\n",
      "total_household_count_in_sites            0\n",
      "apartment_building_count_in_sites         0\n",
      "tallest_building_in_sites                 9\n",
      "lowest_building_in_sites                  9\n",
      "heat_type                              2017\n",
      "heat_fuel                              9667\n",
      "room_id                                   0\n",
      "supply_area                               0\n",
      "total_household_count_of_area_type        0\n",
      "room_count                              691\n",
      "bathroom_count                          691\n",
      "front_door_structure                  13892\n",
      "transaction_real_price                    0\n",
      "dtype: int64\n"
     ]
    }
   ],
   "source": [
    "#결측치 확인\n",
    "nas = df.isnull()\n",
    "print(nas.sum(axis=0))"
   ]
  },
  {
   "cell_type": "code",
   "execution_count": 5,
   "metadata": {},
   "outputs": [],
   "source": [
    "df1 = df\n",
    "df1.loc[(df1['total_parking_capacity_in_site'].isnull())] = df1['total_parking_capacity_in_site'].mean()"
   ]
  },
  {
   "cell_type": "code",
   "execution_count": 6,
   "metadata": {},
   "outputs": [],
   "source": [
    "#선형회귀 모델 생성\n",
    "\n",
    "model1 = linear_model.LinearRegression()\n",
    "y = np.array(df1['total_parking_capacity_in_site'])\n",
    "x =  np.array(df1[\"total_household_count_in_sites\"])\n",
    "# 형태를 맞춰줌\n",
    "x=x.reshape(-1,1)\n",
    "y=y.reshape(-1,1)"
   ]
  },
  {
   "cell_type": "code",
   "execution_count": 7,
   "metadata": {},
   "outputs": [],
   "source": [
    "suma = model1.fit(x,y)\n",
    "res = suma.predict(x)\n",
    "res = res.reshape(-1,1)"
   ]
  },
  {
   "cell_type": "code",
   "execution_count": 8,
   "metadata": {},
   "outputs": [
    {
     "data": {
      "text/plain": [
       "1601458"
      ]
     },
     "execution_count": 8,
     "metadata": {},
     "output_type": "execute_result"
    }
   ],
   "source": [
    "len(res)"
   ]
  },
  {
   "cell_type": "code",
   "execution_count": 9,
   "metadata": {},
   "outputs": [],
   "source": [
    "df = pd.read_csv('example_zigbang.csv', header='infer',encoding='latin1')"
   ]
  },
  {
   "cell_type": "code",
   "execution_count": 10,
   "metadata": {},
   "outputs": [],
   "source": [
    "b = df[df['total_parking_capacity_in_site'].isnull()==True]"
   ]
  },
  {
   "cell_type": "code",
   "execution_count": 11,
   "metadata": {},
   "outputs": [
    {
     "data": {
      "text/plain": [
       "(1601458, 1)"
      ]
     },
     "execution_count": 11,
     "metadata": {},
     "output_type": "execute_result"
    }
   ],
   "source": [
    "x.shape"
   ]
  },
  {
   "cell_type": "code",
   "execution_count": 12,
   "metadata": {},
   "outputs": [],
   "source": [
    "#결측치의 위치들\n",
    "b = b.index "
   ]
  },
  {
   "cell_type": "code",
   "execution_count": 13,
   "metadata": {},
   "outputs": [
    {
     "data": {
      "text/plain": [
       "91813"
      ]
     },
     "execution_count": 13,
     "metadata": {},
     "output_type": "execute_result"
    }
   ],
   "source": [
    "len(b)"
   ]
  },
  {
   "cell_type": "code",
   "execution_count": 14,
   "metadata": {},
   "outputs": [],
   "source": [
    "# x의 형태를 변환해서 저장\n",
    "final = x.reshape(-1)"
   ]
  },
  {
   "cell_type": "code",
   "execution_count": 16,
   "metadata": {},
   "outputs": [
    {
     "data": {
      "text/plain": [
       "(1601458, 1)"
      ]
     },
     "execution_count": 16,
     "metadata": {},
     "output_type": "execute_result"
    }
   ],
   "source": [
    "x.shape"
   ]
  },
  {
   "cell_type": "code",
   "execution_count": 17,
   "metadata": {},
   "outputs": [],
   "source": [
    "# 원래 있던 'total_parking_capacity_in_site'를 제거하고 결측치에 예상값을 넣은 것을 대입해줌\n",
    "df1 = df1.drop(['total_parking_capacity_in_site'],axis=1)"
   ]
  },
  {
   "cell_type": "code",
   "execution_count": 18,
   "metadata": {},
   "outputs": [
    {
     "name": "stdout",
     "output_type": "stream",
     "text": [
      "total_parking_capacity_in_site    0\n",
      "dtype: int64\n"
     ]
    }
   ],
   "source": [
    "nas = df2.isnull()\n",
    "print(nas.sum(axis = 0))\n",
    "#df2는 결측치가 없는걸 확인함"
   ]
  },
  {
   "cell_type": "code",
   "execution_count": 19,
   "metadata": {},
   "outputs": [],
   "source": [
    "# 그래프를 다시 합쳐준다\n",
    "df2 = pd.DataFrame(data=final, columns=['total_parking_capacity_in_site'])\n",
    "df1 = pd.merge(df1, df2, left_index=True, right_index=True)"
   ]
  },
  {
   "cell_type": "code",
   "execution_count": 20,
   "metadata": {},
   "outputs": [
    {
     "data": {
      "text/plain": [
       "(1601458, 25)"
      ]
     },
     "execution_count": 20,
     "metadata": {},
     "output_type": "execute_result"
    }
   ],
   "source": [
    "df1.shape"
   ]
  },
  {
   "cell_type": "code",
   "execution_count": 21,
   "metadata": {},
   "outputs": [
    {
     "name": "stdout",
     "output_type": "stream",
     "text": [
      "key                                       0\n",
      "apartment_id                              0\n",
      "city                                      0\n",
      "transaction_year_month                    0\n",
      "transaction_date                          0\n",
      "year_of_completion                        0\n",
      "exclusive_use_area                        0\n",
      "floor                                     0\n",
      "latitude                                  0\n",
      "longitude                                 0\n",
      "address_by_law                            0\n",
      "total_household_count_in_sites            0\n",
      "apartment_building_count_in_sites         0\n",
      "tallest_building_in_sites                 9\n",
      "lowest_building_in_sites                  9\n",
      "heat_type                              2009\n",
      "heat_fuel                              9659\n",
      "room_id                                   0\n",
      "supply_area                               0\n",
      "total_household_count_of_area_type        0\n",
      "room_count                              682\n",
      "bathroom_count                          682\n",
      "front_door_structure                  13825\n",
      "transaction_real_price                    0\n",
      "total_parking_capacity_in_site            0\n",
      "dtype: int64\n"
     ]
    }
   ],
   "source": [
    "nas = df1.isnull()\n",
    "print(nas.sum(axis=0))"
   ]
  },
  {
   "cell_type": "code",
   "execution_count": 22,
   "metadata": {},
   "outputs": [],
   "source": [
    "dffinal = df1\n",
    "# dffinal이게 최종 데이터니 건드리지 말자"
   ]
  },
  {
   "cell_type": "code",
   "execution_count": 23,
   "metadata": {},
   "outputs": [
    {
     "data": {
      "text/plain": [
       "(1601458, 25)"
      ]
     },
     "execution_count": 23,
     "metadata": {},
     "output_type": "execute_result"
    }
   ],
   "source": [
    "df1.shape"
   ]
  },
  {
   "cell_type": "code",
   "execution_count": 24,
   "metadata": {},
   "outputs": [],
   "source": [
    "#df1의 결측치는 평균값으로 대체해준다.\n",
    "df1.loc[(df1['room_count'].isnull())] = df1['room_count'].mean()"
   ]
  },
  {
   "cell_type": "code",
   "execution_count": 25,
   "metadata": {},
   "outputs": [],
   "source": [
    "#선형회귀 모델 생성\n",
    "# 전용면적과 공급면적을 x 값으로 가구수를 예측한다. \n",
    "model1 = linear_model.LinearRegression()\n",
    "x = np.array(df1[['exclusive_use_area','supply_area']])\n",
    "y =  np.array(df1[\"room_count\"])\n",
    "# 형태를 맞춰줌\n",
    "x=x.reshape(-1,2)\n",
    "y=y.reshape(-1,1)"
   ]
  },
  {
   "cell_type": "code",
   "execution_count": 26,
   "metadata": {},
   "outputs": [],
   "source": [
    "suma = model1.fit(x,y)\n",
    "res = suma.predict(x)\n",
    "res = res.reshape(-1,1)"
   ]
  },
  {
   "cell_type": "code",
   "execution_count": 31,
   "metadata": {},
   "outputs": [],
   "source": [
    "#ols 적용시\n",
    "#model1 = linear_model.LinearRegression()\n",
    "#x = df[['exclusive_use_area','supply_area']]\n",
    "#y = df['room_count']\n",
    "#x = sm.add_constant(x)\n",
    "# ols모델 적용\n",
    "#model = sm.OLS(y, x).fit() ## sm.OLS(output, input)\n",
    "#predictions = model.predict(x)"
   ]
  },
  {
   "cell_type": "code",
   "execution_count": 28,
   "metadata": {},
   "outputs": [],
   "source": [
    "b = df[df['room_count'].isnull()==True]"
   ]
  },
  {
   "cell_type": "code",
   "execution_count": 29,
   "metadata": {},
   "outputs": [],
   "source": [
    "b = b.index"
   ]
  },
  {
   "cell_type": "code",
   "execution_count": 30,
   "metadata": {},
   "outputs": [],
   "source": [
    "# 평균으로 채웠던 결측치를 선형회귀 모델을 통한 예측값으로 대체했다. \n",
    "y[b] = res[b]"
   ]
  },
  {
   "cell_type": "code",
   "execution_count": 31,
   "metadata": {},
   "outputs": [],
   "source": [
    "df3 = pd.DataFrame(data=y, columns=['room_count'])\n",
    "#df1 = pd.merge(df1, df2, left_index=True, right_index=True)"
   ]
  },
  {
   "cell_type": "code",
   "execution_count": 32,
   "metadata": {},
   "outputs": [
    {
     "data": {
      "text/plain": [
       "(1601458, 1)"
      ]
     },
     "execution_count": 32,
     "metadata": {},
     "output_type": "execute_result"
    }
   ],
   "source": [
    "df3.shape"
   ]
  },
  {
   "cell_type": "code",
   "execution_count": 33,
   "metadata": {},
   "outputs": [
    {
     "name": "stdout",
     "output_type": "stream",
     "text": [
      "room_count    0\n",
      "dtype: int64\n"
     ]
    }
   ],
   "source": [
    "#df3는 결측치가 없는것을 확인\n",
    "nas = df3.isnull()\n",
    "print(nas.sum(axis=0))"
   ]
  },
  {
   "cell_type": "code",
   "execution_count": 34,
   "metadata": {},
   "outputs": [],
   "source": [
    "df1 = df1.drop(['room_count'],axis=1)"
   ]
  },
  {
   "cell_type": "code",
   "execution_count": 35,
   "metadata": {},
   "outputs": [],
   "source": [
    "df1 = pd.merge(df1, df3, left_index=True, right_index=True)"
   ]
  },
  {
   "cell_type": "code",
   "execution_count": 36,
   "metadata": {},
   "outputs": [
    {
     "data": {
      "text/plain": [
       "Index(['key', 'apartment_id', 'city', 'transaction_year_month',\n",
       "       'transaction_date', 'year_of_completion', 'exclusive_use_area', 'floor',\n",
       "       'latitude', 'longitude', 'address_by_law',\n",
       "       'total_household_count_in_sites', 'apartment_building_count_in_sites',\n",
       "       'tallest_building_in_sites', 'lowest_building_in_sites', 'heat_type',\n",
       "       'heat_fuel', 'room_id', 'supply_area',\n",
       "       'total_household_count_of_area_type', 'bathroom_count',\n",
       "       'front_door_structure', 'transaction_real_price',\n",
       "       'total_parking_capacity_in_site', 'room_count'],\n",
       "      dtype='object')"
      ]
     },
     "execution_count": 36,
     "metadata": {},
     "output_type": "execute_result"
    }
   ],
   "source": [
    "df1.columns"
   ]
  },
  {
   "cell_type": "code",
   "execution_count": 37,
   "metadata": {},
   "outputs": [
    {
     "name": "stdout",
     "output_type": "stream",
     "text": [
      "key                                       0\n",
      "apartment_id                              0\n",
      "city                                      0\n",
      "transaction_year_month                    0\n",
      "transaction_date                          0\n",
      "year_of_completion                        0\n",
      "exclusive_use_area                        0\n",
      "floor                                     0\n",
      "latitude                                  0\n",
      "longitude                                 0\n",
      "address_by_law                            0\n",
      "total_household_count_in_sites            0\n",
      "apartment_building_count_in_sites         0\n",
      "tallest_building_in_sites                 9\n",
      "lowest_building_in_sites                  9\n",
      "heat_type                              2003\n",
      "heat_fuel                              9653\n",
      "room_id                                   0\n",
      "supply_area                               0\n",
      "total_household_count_of_area_type        0\n",
      "bathroom_count                            0\n",
      "front_door_structure                  13353\n",
      "transaction_real_price                    0\n",
      "total_parking_capacity_in_site            0\n",
      "room_count                                0\n",
      "dtype: int64\n"
     ]
    }
   ],
   "source": [
    "nas = df1.isnull()\n",
    "print(nas.sum(axis=0))"
   ]
  },
  {
   "cell_type": "code",
   "execution_count": 38,
   "metadata": {},
   "outputs": [],
   "source": [
    "dffinal = df1"
   ]
  },
  {
   "cell_type": "code",
   "execution_count": 39,
   "metadata": {},
   "outputs": [],
   "source": [
    "# bathroom count의 결측치를 평균으로 일단 채워줌\n",
    "df1.loc[(df1['bathroom_count'].isnull())] = df1['bathroom_count'].mean()"
   ]
  },
  {
   "cell_type": "code",
   "execution_count": 40,
   "metadata": {},
   "outputs": [],
   "source": [
    "#선형회귀 모델 생성\n",
    "# 전용면적, 공용면적, 방 갯수로 화장실의 갯수 예측\n",
    "model1 = linear_model.LinearRegression()\n",
    "x = np.array(df1[['exclusive_use_area','supply_area','room_count']])\n",
    "y =  np.array(df1['bathroom_count'])\n",
    "# 형태를 맞춰줌\n",
    "x=x.reshape(-1,3)\n",
    "y=y.reshape(-1,1)\n"
   ]
  },
  {
   "cell_type": "code",
   "execution_count": 41,
   "metadata": {},
   "outputs": [],
   "source": [
    "suma = model1.fit(x,y)\n",
    "res = suma.predict(x)\n",
    "res = res.reshape(-1,1)"
   ]
  },
  {
   "cell_type": "code",
   "execution_count": 42,
   "metadata": {},
   "outputs": [],
   "source": [
    "# 결측치를 채워주지 않은 df를 사용해 결측치의 위치를 확인\n",
    "b = df[df['bathroom_count'].isnull()==True]"
   ]
  },
  {
   "cell_type": "code",
   "execution_count": 43,
   "metadata": {},
   "outputs": [],
   "source": [
    "b = b.index"
   ]
  },
  {
   "cell_type": "code",
   "execution_count": 44,
   "metadata": {},
   "outputs": [],
   "source": [
    "y[b] = res[b]"
   ]
  },
  {
   "cell_type": "code",
   "execution_count": 45,
   "metadata": {},
   "outputs": [],
   "source": [
    "df3 = pd.DataFrame(data=y, columns=['bathroom_count'])"
   ]
  },
  {
   "cell_type": "code",
   "execution_count": 46,
   "metadata": {},
   "outputs": [
    {
     "name": "stdout",
     "output_type": "stream",
     "text": [
      "bathroom_count    0\n",
      "dtype: int64\n"
     ]
    }
   ],
   "source": [
    "nas = df3.isnull()\n",
    "print(nas.sum(axis=0))"
   ]
  },
  {
   "cell_type": "code",
   "execution_count": 47,
   "metadata": {},
   "outputs": [],
   "source": [
    "df1 = df1.drop(['bathroom_count'],axis=1)"
   ]
  },
  {
   "cell_type": "code",
   "execution_count": 48,
   "metadata": {},
   "outputs": [],
   "source": [
    "df1 = pd.merge(df1, df3, left_index=True, right_index=True)"
   ]
  },
  {
   "cell_type": "code",
   "execution_count": 49,
   "metadata": {},
   "outputs": [],
   "source": [
    "dffinal = df1 #저장저장"
   ]
  },
  {
   "cell_type": "code",
   "execution_count": 50,
   "metadata": {},
   "outputs": [],
   "source": [
    "# 결측치를 평균으로 줬다.\n",
    "df1.loc[(df1['tallest_building_in_sites'].isnull())] = df1['tallest_building_in_sites'].mean()"
   ]
  },
  {
   "cell_type": "code",
   "execution_count": 51,
   "metadata": {},
   "outputs": [],
   "source": [
    "# key 변수 제거(그냥 필요없어서 지움)\n",
    "df1 = df1.drop(['key'],axis=1)"
   ]
  },
  {
   "cell_type": "code",
   "execution_count": 52,
   "metadata": {},
   "outputs": [],
   "source": [
    "# city가 1인 서울만 사용한다. \n",
    "df1 = df1[df1['city'] == 1]"
   ]
  },
  {
   "cell_type": "code",
   "execution_count": 53,
   "metadata": {},
   "outputs": [
    {
     "data": {
      "text/plain": [
       "(957474, 24)"
      ]
     },
     "execution_count": 53,
     "metadata": {},
     "output_type": "execute_result"
    }
   ],
   "source": [
    "df1.shape"
   ]
  },
  {
   "cell_type": "code",
   "execution_count": 54,
   "metadata": {},
   "outputs": [],
   "source": [
    "#2016년 이후 자료만 사용\n",
    "df1 = df1[df1['transaction_year_month']>201600]"
   ]
  },
  {
   "cell_type": "code",
   "execution_count": 56,
   "metadata": {},
   "outputs": [],
   "source": [
    "df1.shape\n",
    "dffinal = df1"
   ]
  },
  {
   "cell_type": "code",
   "execution_count": 57,
   "metadata": {},
   "outputs": [],
   "source": [
    "# dfyear를 앞에 4개를 연도로 뒤에 2개를 달로 사용한다. \n",
    "dfyear = []\n",
    "for i in df1['transaction_year_month']:\n",
    "    i = str(i)[:4]\n",
    "    dfyear.append(int(i))\n",
    "dfmonth = []\n",
    "for i in df1['transaction_year_month']:\n",
    "    i = str(i)[4:6]\n",
    "    dfmonth.append(int(i))"
   ]
  },
  {
   "cell_type": "code",
   "execution_count": 58,
   "metadata": {},
   "outputs": [],
   "source": [
    "df3 = pd.DataFrame(data=dfmonth, columns=['transaction_month'])"
   ]
  },
  {
   "cell_type": "code",
   "execution_count": 59,
   "metadata": {},
   "outputs": [],
   "source": [
    "df4 = pd.DataFrame(data=dfyear, columns=['transaction_year'])"
   ]
  },
  {
   "cell_type": "code",
   "execution_count": 60,
   "metadata": {},
   "outputs": [],
   "source": [
    "df3 = pd.merge(df3, df4, left_index=True, right_index=True)"
   ]
  },
  {
   "cell_type": "code",
   "execution_count": 61,
   "metadata": {},
   "outputs": [],
   "source": [
    "# index가 같아야 merge가 가능해서 index를 맞춰줬다. \n",
    "df3.index = df1.index"
   ]
  },
  {
   "cell_type": "code",
   "execution_count": 62,
   "metadata": {},
   "outputs": [
    {
     "data": {
      "text/plain": [
       "288897"
      ]
     },
     "execution_count": 62,
     "metadata": {},
     "output_type": "execute_result"
    }
   ],
   "source": [
    "len(df3)"
   ]
  },
  {
   "cell_type": "code",
   "execution_count": 63,
   "metadata": {},
   "outputs": [],
   "source": [
    "df4 = pd.merge(df1,df3,left_index=True, right_index=True )"
   ]
  },
  {
   "cell_type": "code",
   "execution_count": 64,
   "metadata": {},
   "outputs": [
    {
     "data": {
      "text/plain": [
       "(288897, 26)"
      ]
     },
     "execution_count": 64,
     "metadata": {},
     "output_type": "execute_result"
    }
   ],
   "source": [
    "df4.shape"
   ]
  },
  {
   "cell_type": "code",
   "execution_count": 65,
   "metadata": {},
   "outputs": [],
   "source": [
    "dffinal1 = df4 #저장저장"
   ]
  },
  {
   "cell_type": "code",
   "execution_count": 66,
   "metadata": {},
   "outputs": [],
   "source": [
    "# month 구간 재구성 해줌(1,2,3,4분기로 재구성)\n",
    "df4['transaction_month'] = pd.qcut(df4['transaction_month'], 4, labels=[1, 2, 3, 4])"
   ]
  },
  {
   "cell_type": "code",
   "execution_count": 67,
   "metadata": {},
   "outputs": [],
   "source": [
    "# old 값 바로 생성 pandas는 편리하다\n",
    "df4['old'] = df4['transaction_year'] - df4['year_of_completion']"
   ]
  },
  {
   "cell_type": "code",
   "execution_count": 69,
   "metadata": {},
   "outputs": [],
   "source": [
    "# transaction_date 구간 재구성 해줌\n",
    "#df4['transaction_date'] = pd.qcut(df4['transaction_date'],3,labels=[5,15,25])"
   ]
  },
  {
   "cell_type": "code",
   "execution_count": 70,
   "metadata": {},
   "outputs": [],
   "source": [
    "#y는 transaction_real_price의 log변환값\n",
    "df4['y'] = np.log(df4['transaction_real_price'])"
   ]
  },
  {
   "cell_type": "code",
   "execution_count": 71,
   "metadata": {},
   "outputs": [],
   "source": [
    "# area_ration 은 남는 사용면적을 제공 면적으로 나눈 값\n",
    "df4['area_ration'] = df4['exclusive_use_area']/df4['supply_area']"
   ]
  },
  {
   "cell_type": "code",
   "execution_count": 72,
   "metadata": {},
   "outputs": [],
   "source": [
    "# 총 주차면적을 총 집의 갯수로 나눠준 것을 parking_household로 사용\n",
    "df4['parking_household'] = df4['total_parking_capacity_in_site']/df4['total_household_count_in_sites']"
   ]
  },
  {
   "cell_type": "code",
   "execution_count": 73,
   "metadata": {},
   "outputs": [
    {
     "data": {
      "image/png": "[encoded data removed]",
      "text/plain": [
       "<Figure size 432x288 with 1 Axes>"
      ]
     },
     "metadata": {},
     "output_type": "display_data"
    }
   ],
   "source": [
    "#실 거래가 그래프\n",
    "hist = df4['transaction_real_price'].hist(bins=40)"
   ]
  },
  {
   "cell_type": "code",
   "execution_count": 74,
   "metadata": {},
   "outputs": [
    {
     "data": {
      "image/png": "[encoded data removed]",
      "text/plain": [
       "<Figure size 432x288 with 1 Axes>"
      ]
     },
     "metadata": {},
     "output_type": "display_data"
    }
   ],
   "source": [
    "# breaks in r = bins in python\n",
    "# y 는 transaction_real_price의 log 변환값\n",
    "hist = df4['y'].hist(bins = 50)"
   ]
  },
  {
   "cell_type": "code",
   "execution_count": 75,
   "metadata": {},
   "outputs": [],
   "source": [
    "# 많이 있는 아파트의 빈도수를 확인\n",
    "tab = df4[df4.apartment_id>2000]"
   ]
  },
  {
   "cell_type": "code",
   "execution_count": 76,
   "metadata": {},
   "outputs": [],
   "source": [
    "tab = tab.apartment_id"
   ]
  },
  {
   "cell_type": "code",
   "execution_count": 77,
   "metadata": {},
   "outputs": [
    {
     "data": {
      "text/plain": [
       "<bound method IndexOpsMixin.value_counts of 1182599    15492.0\n",
       "1182600    15492.0\n",
       "1182601     9174.0\n",
       "1182602     9174.0\n",
       "1182603     5584.0\n",
       "1182604     2814.0\n",
       "1182605     2814.0\n",
       "1182606     5059.0\n",
       "1182607     2816.0\n",
       "1182608     5059.0\n",
       "1182609    17011.0\n",
       "1182610     6234.0\n",
       "1182611     6234.0\n",
       "1182612     5064.0\n",
       "1182613     2815.0\n",
       "1182614     2815.0\n",
       "1182615     2770.0\n",
       "1182616     2770.0\n",
       "1182617     2770.0\n",
       "1182619    19752.0\n",
       "1182620     5394.0\n",
       "1182621     5394.0\n",
       "1182622    14250.0\n",
       "1182623    14250.0\n",
       "1182624    15803.0\n",
       "1182625    19732.0\n",
       "1182626    11887.0\n",
       "1182627     5940.0\n",
       "1182628     2812.0\n",
       "1182629     2812.0\n",
       "            ...   \n",
       "1601369     9048.0\n",
       "1601370     2761.0\n",
       "1601372     2875.0\n",
       "1601390     6492.0\n",
       "1601391    12321.0\n",
       "1601392    11149.0\n",
       "1601393    18281.0\n",
       "1601394    18281.0\n",
       "1601396     8702.0\n",
       "1601397     8702.0\n",
       "1601398     8702.0\n",
       "1601399     6492.0\n",
       "1601400    17955.0\n",
       "1601405    18112.0\n",
       "1601406    18112.0\n",
       "1601407     2925.0\n",
       "1601408     2925.0\n",
       "1601409    22069.0\n",
       "1601410    22069.0\n",
       "1601414    36561.0\n",
       "1601415    36561.0\n",
       "1601429     6492.0\n",
       "1601430    19656.0\n",
       "1601431     2823.0\n",
       "1601432     2823.0\n",
       "1601433    12439.0\n",
       "1601444     6492.0\n",
       "1601454    16686.0\n",
       "1601456     3686.0\n",
       "1601457     2937.0\n",
       "Name: apartment_id, Length: 213000, dtype: float64>"
      ]
     },
     "execution_count": 77,
     "metadata": {},
     "output_type": "execute_result"
    }
   ],
   "source": [
    "tab.value_counts"
   ]
  },
  {
   "cell_type": "code",
   "execution_count": 78,
   "metadata": {},
   "outputs": [],
   "source": [
    "dffinal2 = df4  # 저장저장"
   ]
  },
  {
   "cell_type": "code",
   "execution_count": 79,
   "metadata": {},
   "outputs": [
    {
     "data": {
      "image/png": "[encoded data removed]",
      "text/plain": [
       "<Figure size 432x288 with 1 Axes>"
      ]
     },
     "metadata": {},
     "output_type": "display_data"
    }
   ],
   "source": [
    "# 각 연도별로 지어진 아파트의 갯수\n",
    "a = df4['transaction_year']\n",
    "b = a.value_counts()\n",
    "ax = b.plot.bar()"
   ]
  },
  {
   "cell_type": "code",
   "execution_count": 80,
   "metadata": {},
   "outputs": [
    {
     "data": {
      "image/png": "[encoded data removed]",
      "text/plain": [
       "<Figure size 432x288 with 1 Axes>"
      ]
     },
     "metadata": {},
     "output_type": "display_data"
    }
   ],
   "source": [
    "# 분기별 아파트 수\n",
    "a = df4['transaction_month']\n",
    "b = a.value_counts()\n",
    "ax = b.plot.bar()"
   ]
  },
  {
   "cell_type": "code",
   "execution_count": 81,
   "metadata": {},
   "outputs": [
    {
     "data": {
      "image/png": "[encoded data removed]",
      "text/plain": [
       "<Figure size 432x288 with 1 Axes>"
      ]
     },
     "metadata": {},
     "output_type": "display_data"
    }
   ],
   "source": [
    "# 날짜별 아파트 수 5 = 1~10/ 15 = 10~20 / 25 = 20~30 \n",
    "a = df4['transaction_date']\n",
    "b = a.value_counts()\n",
    "ax = b.plot.bar()"
   ]
  },
  {
   "cell_type": "code",
   "execution_count": 82,
   "metadata": {},
   "outputs": [
    {
     "data": {
      "text/html": [
       "<div>\n",
       "<style scoped>\n",
       "    .dataframe tbody tr th:only-of-type {\n",
       "        vertical-align: middle;\n",
       "    }\n",
       "\n",
       "    .dataframe tbody tr th {\n",
       "        vertical-align: top;\n",
       "    }\n",
       "\n",
       "    .dataframe thead tr th {\n",
       "        text-align: left;\n",
       "    }\n",
       "\n",
       "    .dataframe thead tr:last-of-type th {\n",
       "        text-align: right;\n",
       "    }\n",
       "</style>\n",
       "<table border=\"1\" class=\"dataframe\">\n",
       "  <thead>\n",
       "    <tr>\n",
       "      <th></th>\n",
       "      <th>transaction_real_price</th>\n",
       "    </tr>\n",
       "    <tr>\n",
       "      <th></th>\n",
       "      <th>mean</th>\n",
       "    </tr>\n",
       "    <tr>\n",
       "      <th>transaction_year</th>\n",
       "      <th></th>\n",
       "    </tr>\n",
       "  </thead>\n",
       "  <tbody>\n",
       "    <tr>\n",
       "      <th>2016</th>\n",
       "      <td>5.721261e+08</td>\n",
       "    </tr>\n",
       "    <tr>\n",
       "      <th>2017</th>\n",
       "      <td>6.615666e+08</td>\n",
       "    </tr>\n",
       "    <tr>\n",
       "      <th>2018</th>\n",
       "      <td>7.005770e+08</td>\n",
       "    </tr>\n",
       "  </tbody>\n",
       "</table>\n",
       "</div>"
      ],
      "text/plain": [
       "                 transaction_real_price\n",
       "                                   mean\n",
       "transaction_year                       \n",
       "2016                       5.721261e+08\n",
       "2017                       6.615666e+08\n",
       "2018                       7.005770e+08"
      ]
     },
     "execution_count": 82,
     "metadata": {},
     "output_type": "execute_result"
    }
   ],
   "source": [
    "#agg를 사용해서 transaction_year별 transaction_real_price의 평균값을 구해줬다.\n",
    "df4.groupby('transaction_year').agg({\"transaction_real_price\":['mean']})"
   ]
  },
  {
   "cell_type": "code",
   "execution_count": 83,
   "metadata": {},
   "outputs": [
    {
     "data": {
      "text/html": [
       "<div>\n",
       "<style scoped>\n",
       "    .dataframe tbody tr th:only-of-type {\n",
       "        vertical-align: middle;\n",
       "    }\n",
       "\n",
       "    .dataframe tbody tr th {\n",
       "        vertical-align: top;\n",
       "    }\n",
       "\n",
       "    .dataframe thead tr th {\n",
       "        text-align: left;\n",
       "    }\n",
       "\n",
       "    .dataframe thead tr:last-of-type th {\n",
       "        text-align: right;\n",
       "    }\n",
       "</style>\n",
       "<table border=\"1\" class=\"dataframe\">\n",
       "  <thead>\n",
       "    <tr>\n",
       "      <th></th>\n",
       "      <th>transaction_real_price</th>\n",
       "    </tr>\n",
       "    <tr>\n",
       "      <th></th>\n",
       "      <th>mean</th>\n",
       "    </tr>\n",
       "    <tr>\n",
       "      <th>transaction_month</th>\n",
       "      <th></th>\n",
       "    </tr>\n",
       "  </thead>\n",
       "  <tbody>\n",
       "    <tr>\n",
       "      <th>1</th>\n",
       "      <td>6.115393e+08</td>\n",
       "    </tr>\n",
       "    <tr>\n",
       "      <th>2</th>\n",
       "      <td>6.226641e+08</td>\n",
       "    </tr>\n",
       "    <tr>\n",
       "      <th>3</th>\n",
       "      <td>6.575266e+08</td>\n",
       "    </tr>\n",
       "    <tr>\n",
       "      <th>4</th>\n",
       "      <td>6.630041e+08</td>\n",
       "    </tr>\n",
       "  </tbody>\n",
       "</table>\n",
       "</div>"
      ],
      "text/plain": [
       "                  transaction_real_price\n",
       "                                    mean\n",
       "transaction_month                       \n",
       "1                           6.115393e+08\n",
       "2                           6.226641e+08\n",
       "3                           6.575266e+08\n",
       "4                           6.630041e+08"
      ]
     },
     "execution_count": 83,
     "metadata": {},
     "output_type": "execute_result"
    }
   ],
   "source": [
    "df4.groupby('transaction_month').agg({\"transaction_real_price\":['mean']})"
   ]
  },
  {
   "cell_type": "code",
   "execution_count": 84,
   "metadata": {},
   "outputs": [
    {
     "data": {
      "text/html": [
       "<div>\n",
       "<style scoped>\n",
       "    .dataframe tbody tr th:only-of-type {\n",
       "        vertical-align: middle;\n",
       "    }\n",
       "\n",
       "    .dataframe tbody tr th {\n",
       "        vertical-align: top;\n",
       "    }\n",
       "\n",
       "    .dataframe thead tr th {\n",
       "        text-align: left;\n",
       "    }\n",
       "\n",
       "    .dataframe thead tr:last-of-type th {\n",
       "        text-align: right;\n",
       "    }\n",
       "</style>\n",
       "<table border=\"1\" class=\"dataframe\">\n",
       "  <thead>\n",
       "    <tr>\n",
       "      <th></th>\n",
       "      <th>transaction_real_price</th>\n",
       "    </tr>\n",
       "    <tr>\n",
       "      <th></th>\n",
       "      <th>mean</th>\n",
       "    </tr>\n",
       "    <tr>\n",
       "      <th>transaction_date</th>\n",
       "      <th></th>\n",
       "    </tr>\n",
       "  </thead>\n",
       "  <tbody>\n",
       "    <tr>\n",
       "      <th>11~20</th>\n",
       "      <td>6.360052e+08</td>\n",
       "    </tr>\n",
       "    <tr>\n",
       "      <th>1~10</th>\n",
       "      <td>6.322061e+08</td>\n",
       "    </tr>\n",
       "    <tr>\n",
       "      <th>21~28</th>\n",
       "      <td>6.247247e+08</td>\n",
       "    </tr>\n",
       "    <tr>\n",
       "      <th>21~29</th>\n",
       "      <td>4.910536e+08</td>\n",
       "    </tr>\n",
       "    <tr>\n",
       "      <th>21~30</th>\n",
       "      <td>6.319098e+08</td>\n",
       "    </tr>\n",
       "    <tr>\n",
       "      <th>21~31</th>\n",
       "      <td>6.517875e+08</td>\n",
       "    </tr>\n",
       "  </tbody>\n",
       "</table>\n",
       "</div>"
      ],
      "text/plain": [
       "                 transaction_real_price\n",
       "                                   mean\n",
       "transaction_date                       \n",
       "11~20                      6.360052e+08\n",
       "1~10                       6.322061e+08\n",
       "21~28                      6.247247e+08\n",
       "21~29                      4.910536e+08\n",
       "21~30                      6.319098e+08\n",
       "21~31                      6.517875e+08"
      ]
     },
     "execution_count": 84,
     "metadata": {},
     "output_type": "execute_result"
    }
   ],
   "source": [
    "df4.groupby('transaction_date').agg({\"transaction_real_price\":['mean']})"
   ]
  },
  {
   "cell_type": "code",
   "execution_count": 85,
   "metadata": {},
   "outputs": [
    {
     "data": {
      "text/html": [
       "<div>\n",
       "<style scoped>\n",
       "    .dataframe tbody tr th:only-of-type {\n",
       "        vertical-align: middle;\n",
       "    }\n",
       "\n",
       "    .dataframe tbody tr th {\n",
       "        vertical-align: top;\n",
       "    }\n",
       "\n",
       "    .dataframe thead tr th {\n",
       "        text-align: left;\n",
       "    }\n",
       "\n",
       "    .dataframe thead tr:last-of-type th {\n",
       "        text-align: right;\n",
       "    }\n",
       "</style>\n",
       "<table border=\"1\" class=\"dataframe\">\n",
       "  <thead>\n",
       "    <tr>\n",
       "      <th></th>\n",
       "      <th>transaction_real_price</th>\n",
       "    </tr>\n",
       "    <tr>\n",
       "      <th></th>\n",
       "      <th>mean</th>\n",
       "    </tr>\n",
       "    <tr>\n",
       "      <th>old</th>\n",
       "      <th></th>\n",
       "    </tr>\n",
       "  </thead>\n",
       "  <tbody>\n",
       "    <tr>\n",
       "      <th>0.0</th>\n",
       "      <td>7.214632e+08</td>\n",
       "    </tr>\n",
       "    <tr>\n",
       "      <th>1.0</th>\n",
       "      <td>9.069106e+08</td>\n",
       "    </tr>\n",
       "    <tr>\n",
       "      <th>2.0</th>\n",
       "      <td>8.741768e+08</td>\n",
       "    </tr>\n",
       "    <tr>\n",
       "      <th>3.0</th>\n",
       "      <td>8.117573e+08</td>\n",
       "    </tr>\n",
       "    <tr>\n",
       "      <th>4.0</th>\n",
       "      <td>7.597985e+08</td>\n",
       "    </tr>\n",
       "    <tr>\n",
       "      <th>5.0</th>\n",
       "      <td>8.399634e+08</td>\n",
       "    </tr>\n",
       "    <tr>\n",
       "      <th>6.0</th>\n",
       "      <td>7.613457e+08</td>\n",
       "    </tr>\n",
       "    <tr>\n",
       "      <th>7.0</th>\n",
       "      <td>7.799506e+08</td>\n",
       "    </tr>\n",
       "    <tr>\n",
       "      <th>8.0</th>\n",
       "      <td>8.310472e+08</td>\n",
       "    </tr>\n",
       "    <tr>\n",
       "      <th>9.0</th>\n",
       "      <td>8.679179e+08</td>\n",
       "    </tr>\n",
       "    <tr>\n",
       "      <th>10.0</th>\n",
       "      <td>8.437097e+08</td>\n",
       "    </tr>\n",
       "    <tr>\n",
       "      <th>11.0</th>\n",
       "      <td>7.079495e+08</td>\n",
       "    </tr>\n",
       "    <tr>\n",
       "      <th>12.0</th>\n",
       "      <td>6.135506e+08</td>\n",
       "    </tr>\n",
       "    <tr>\n",
       "      <th>13.0</th>\n",
       "      <td>5.851154e+08</td>\n",
       "    </tr>\n",
       "    <tr>\n",
       "      <th>14.0</th>\n",
       "      <td>5.783490e+08</td>\n",
       "    </tr>\n",
       "    <tr>\n",
       "      <th>15.0</th>\n",
       "      <td>5.749690e+08</td>\n",
       "    </tr>\n",
       "    <tr>\n",
       "      <th>16.0</th>\n",
       "      <td>5.261738e+08</td>\n",
       "    </tr>\n",
       "    <tr>\n",
       "      <th>17.0</th>\n",
       "      <td>4.937173e+08</td>\n",
       "    </tr>\n",
       "    <tr>\n",
       "      <th>18.0</th>\n",
       "      <td>4.847719e+08</td>\n",
       "    </tr>\n",
       "    <tr>\n",
       "      <th>19.0</th>\n",
       "      <td>4.772459e+08</td>\n",
       "    </tr>\n",
       "    <tr>\n",
       "      <th>20.0</th>\n",
       "      <td>4.578733e+08</td>\n",
       "    </tr>\n",
       "    <tr>\n",
       "      <th>21.0</th>\n",
       "      <td>4.552360e+08</td>\n",
       "    </tr>\n",
       "    <tr>\n",
       "      <th>22.0</th>\n",
       "      <td>4.442268e+08</td>\n",
       "    </tr>\n",
       "    <tr>\n",
       "      <th>23.0</th>\n",
       "      <td>4.891324e+08</td>\n",
       "    </tr>\n",
       "    <tr>\n",
       "      <th>24.0</th>\n",
       "      <td>4.953318e+08</td>\n",
       "    </tr>\n",
       "    <tr>\n",
       "      <th>25.0</th>\n",
       "      <td>4.942536e+08</td>\n",
       "    </tr>\n",
       "    <tr>\n",
       "      <th>26.0</th>\n",
       "      <td>4.242890e+08</td>\n",
       "    </tr>\n",
       "    <tr>\n",
       "      <th>27.0</th>\n",
       "      <td>3.769544e+08</td>\n",
       "    </tr>\n",
       "    <tr>\n",
       "      <th>28.0</th>\n",
       "      <td>4.225588e+08</td>\n",
       "    </tr>\n",
       "    <tr>\n",
       "      <th>29.0</th>\n",
       "      <td>4.933437e+08</td>\n",
       "    </tr>\n",
       "    <tr>\n",
       "      <th>30.0</th>\n",
       "      <td>5.677068e+08</td>\n",
       "    </tr>\n",
       "    <tr>\n",
       "      <th>31.0</th>\n",
       "      <td>6.819475e+08</td>\n",
       "    </tr>\n",
       "    <tr>\n",
       "      <th>32.0</th>\n",
       "      <td>7.460715e+08</td>\n",
       "    </tr>\n",
       "    <tr>\n",
       "      <th>33.0</th>\n",
       "      <td>7.223660e+08</td>\n",
       "    </tr>\n",
       "    <tr>\n",
       "      <th>34.0</th>\n",
       "      <td>8.556972e+08</td>\n",
       "    </tr>\n",
       "    <tr>\n",
       "      <th>35.0</th>\n",
       "      <td>9.962155e+08</td>\n",
       "    </tr>\n",
       "    <tr>\n",
       "      <th>36.0</th>\n",
       "      <td>1.005249e+09</td>\n",
       "    </tr>\n",
       "    <tr>\n",
       "      <th>37.0</th>\n",
       "      <td>1.123014e+09</td>\n",
       "    </tr>\n",
       "    <tr>\n",
       "      <th>38.0</th>\n",
       "      <td>1.307380e+09</td>\n",
       "    </tr>\n",
       "    <tr>\n",
       "      <th>39.0</th>\n",
       "      <td>1.393502e+09</td>\n",
       "    </tr>\n",
       "    <tr>\n",
       "      <th>40.0</th>\n",
       "      <td>1.463908e+09</td>\n",
       "    </tr>\n",
       "    <tr>\n",
       "      <th>41.0</th>\n",
       "      <td>1.133025e+09</td>\n",
       "    </tr>\n",
       "    <tr>\n",
       "      <th>42.0</th>\n",
       "      <td>1.086849e+09</td>\n",
       "    </tr>\n",
       "    <tr>\n",
       "      <th>43.0</th>\n",
       "      <td>1.103156e+09</td>\n",
       "    </tr>\n",
       "    <tr>\n",
       "      <th>44.0</th>\n",
       "      <td>1.921308e+09</td>\n",
       "    </tr>\n",
       "    <tr>\n",
       "      <th>45.0</th>\n",
       "      <td>1.227244e+09</td>\n",
       "    </tr>\n",
       "    <tr>\n",
       "      <th>46.0</th>\n",
       "      <td>7.731224e+08</td>\n",
       "    </tr>\n",
       "    <tr>\n",
       "      <th>47.0</th>\n",
       "      <td>6.028535e+08</td>\n",
       "    </tr>\n",
       "    <tr>\n",
       "      <th>48.0</th>\n",
       "      <td>6.875000e+08</td>\n",
       "    </tr>\n",
       "  </tbody>\n",
       "</table>\n",
       "</div>"
      ],
      "text/plain": [
       "     transaction_real_price\n",
       "                       mean\n",
       "old                        \n",
       "0.0            7.214632e+08\n",
       "1.0            9.069106e+08\n",
       "2.0            8.741768e+08\n",
       "3.0            8.117573e+08\n",
       "4.0            7.597985e+08\n",
       "5.0            8.399634e+08\n",
       "6.0            7.613457e+08\n",
       "7.0            7.799506e+08\n",
       "8.0            8.310472e+08\n",
       "9.0            8.679179e+08\n",
       "10.0           8.437097e+08\n",
       "11.0           7.079495e+08\n",
       "12.0           6.135506e+08\n",
       "13.0           5.851154e+08\n",
       "14.0           5.783490e+08\n",
       "15.0           5.749690e+08\n",
       "16.0           5.261738e+08\n",
       "17.0           4.937173e+08\n",
       "18.0           4.847719e+08\n",
       "19.0           4.772459e+08\n",
       "20.0           4.578733e+08\n",
       "21.0           4.552360e+08\n",
       "22.0           4.442268e+08\n",
       "23.0           4.891324e+08\n",
       "24.0           4.953318e+08\n",
       "25.0           4.942536e+08\n",
       "26.0           4.242890e+08\n",
       "27.0           3.769544e+08\n",
       "28.0           4.225588e+08\n",
       "29.0           4.933437e+08\n",
       "30.0           5.677068e+08\n",
       "31.0           6.819475e+08\n",
       "32.0           7.460715e+08\n",
       "33.0           7.223660e+08\n",
       "34.0           8.556972e+08\n",
       "35.0           9.962155e+08\n",
       "36.0           1.005249e+09\n",
       "37.0           1.123014e+09\n",
       "38.0           1.307380e+09\n",
       "39.0           1.393502e+09\n",
       "40.0           1.463908e+09\n",
       "41.0           1.133025e+09\n",
       "42.0           1.086849e+09\n",
       "43.0           1.103156e+09\n",
       "44.0           1.921308e+09\n",
       "45.0           1.227244e+09\n",
       "46.0           7.731224e+08\n",
       "47.0           6.028535e+08\n",
       "48.0           6.875000e+08"
      ]
     },
     "execution_count": 85,
     "metadata": {},
     "output_type": "execute_result"
    }
   ],
   "source": [
    "df4.groupby('old').agg({\"transaction_real_price\":['mean']})"
   ]
  },
  {
   "cell_type": "code",
   "execution_count": 162,
   "metadata": {},
   "outputs": [],
   "source": [
    "#30만개로 그래프를 그려주기는 너무 많음으로 random한 값 1000개를 뽑아서 그래프를 그려주겠다.\n",
    "b = df4.sample(n=1000,random_state = 123)\n",
    "b = b.index"
   ]
  },
  {
   "cell_type": "code",
   "execution_count": 88,
   "metadata": {},
   "outputs": [
    {
     "data": {
      "image/png": "[encoded data removed]",
      "text/plain": [
       "<Figure size 432x288 with 1 Axes>"
      ]
     },
     "metadata": {},
     "output_type": "display_data"
    }
   ],
   "source": [
    "col = df4['y']\n",
    "by = df4['transaction_year']\n",
    "col1 = col[b]\n",
    "col1 = np.array(col1)\n",
    "by1 = by[b]\n",
    "by1 = np.array(by1)\n",
    "df3 = pd.DataFrame(data=by1, columns=['y'])\n",
    "df4 = pd.DataFrame(data=col1, columns=['transaction_year'])\n",
    "df3 = pd.merge(df3, df4, left_index=True, right_index=True)\n",
    "df3.shape\n",
    "# y는 거래가의 로그 변환값\n",
    "boxplot = df3.boxplot(column=['transaction_year'],by = ['y'])"
   ]
  },
  {
   "cell_type": "code",
   "execution_count": 89,
   "metadata": {},
   "outputs": [
    {
     "data": {
      "image/png": "[encoded data removed]",
      "text/plain": [
       "<Figure size 432x288 with 1 Axes>"
      ]
     },
     "metadata": {},
     "output_type": "display_data"
    }
   ],
   "source": [
    "df4 = dffinal2\n",
    "col = df4['y']\n",
    "by = df4['transaction_month']\n",
    "col1 = col[b]\n",
    "col1 = np.array(col1)\n",
    "by1 = by[b]\n",
    "by1 = np.array(by1)\n",
    "df3 = pd.DataFrame(data=by1, columns=['y'])\n",
    "df4 = pd.DataFrame(data=col1, columns=['transaction_month'])\n",
    "df3 = pd.merge(df3, df4, left_index=True, right_index=True)\n",
    "df3.shape\n",
    "# y는 거래가의 로그 변환값\n",
    "boxplot = df3.boxplot(column=['transaction_month'],by = ['y'])"
   ]
  },
  {
   "cell_type": "code",
   "execution_count": 100,
   "metadata": {},
   "outputs": [
    {
     "data": {
      "image/png": "[encoded data removed]",
      "text/plain": [
       "<Figure size 432x288 with 1 Axes>"
      ]
     },
     "metadata": {},
     "output_type": "display_data"
    }
   ],
   "source": [
    "df4 = dffinal2\n",
    "col = df4['y']\n",
    "by = df4['transaction_date']\n",
    "col1 = col[b]\n",
    "col1 = np.array(col1)\n",
    "by1 = by[b]\n",
    "by1 = np.array(by1)\n",
    "df3 = pd.DataFrame(data=by1, columns=['y'])\n",
    "df4 = pd.DataFrame(data=col1, columns=['transaction_date'])\n",
    "df3 = pd.merge(df3, df4, left_index=True, right_index=True)\n",
    "df3.shape\n",
    "# y는 거래가의 로그 변환값\n",
    "boxplot = df3.boxplot(column=['transaction_date'],by = ['y'])"
   ]
  },
  {
   "cell_type": "code",
   "execution_count": 101,
   "metadata": {},
   "outputs": [
    {
     "data": {
      "image/png": "[encoded data removed]",
      "text/plain": [
       "<Figure size 432x288 with 1 Axes>"
      ]
     },
     "metadata": {},
     "output_type": "display_data"
    }
   ],
   "source": [
    "df4 = dffinal2\n",
    "col = df4['y']\n",
    "by = df4['old']\n",
    "col1 = col[b]\n",
    "col1 = np.array(col1)\n",
    "by1 = by[b]\n",
    "by1 = np.array(by1)\n",
    "df3 = pd.DataFrame(data=by1, columns=['y'])\n",
    "df4 = pd.DataFrame(data=col1, columns=['old'])\n",
    "df3 = pd.merge(df3, df4, left_index=True, right_index=True)\n",
    "df3.shape\n",
    "# y는 거래가의 로그 변환값\n",
    "boxplot = df3.boxplot(column=['old'],by = ['y'])"
   ]
  },
  {
   "cell_type": "code",
   "execution_count": 102,
   "metadata": {},
   "outputs": [
    {
     "data": {
      "image/png": "[encoded data removed]",
      "text/plain": [
       "<Figure size 432x288 with 1 Axes>"
      ]
     },
     "metadata": {},
     "output_type": "display_data"
    }
   ],
   "source": [
    "df4 = dffinal2\n",
    "col = df4['transaction_real_price']\n",
    "by = df4['old']\n",
    "col1 = col[b]\n",
    "col1 = np.array(col1)\n",
    "by1 = by[b]\n",
    "by1 = np.array(by1)\n",
    "df3 = pd.DataFrame(data=by1, columns=['old'])\n",
    "df4 = pd.DataFrame(data=col1, columns=['transaction_real_price'])\n",
    "df3 = pd.merge(df3, df4, left_index=True, right_index=True)\n",
    "df3.shape\n",
    "# y는 거래가의 로그 변환값\n",
    "boxplot = df3.boxplot(column=['transaction_real_price'],by = ['old'])"
   ]
  },
  {
   "cell_type": "code",
   "execution_count": 90,
   "metadata": {},
   "outputs": [],
   "source": [
    "df4 = dffinal2"
   ]
  },
  {
   "cell_type": "code",
   "execution_count": 91,
   "metadata": {},
   "outputs": [],
   "source": [
    "#건축년도에 따라 a,b,c로 레이블을 붙여줬다. \n",
    "df4['old'] = pd.qcut(df4['old'], 3, labels=['a','b','c'])"
   ]
  },
  {
   "cell_type": "code",
   "execution_count": 119,
   "metadata": {},
   "outputs": [
    {
     "data": {
      "image/png": "[encoded data removed]",
      "text/plain": [
       "<Figure size 432x288 with 1 Axes>"
      ]
     },
     "metadata": {},
     "output_type": "display_data"
    }
   ],
   "source": [
    "#건축 년도별 실거래가의 평균 비교\n",
    "res1 = df4.groupby('old').agg({\"transaction_real_price\":['mean']})\n",
    "ax = res1.plot.bar()"
   ]
  },
  {
   "cell_type": "code",
   "execution_count": 92,
   "metadata": {},
   "outputs": [
    {
     "name": "stdout",
     "output_type": "stream",
     "text": [
      "                    year_of_completion\n",
      "year_of_completion                 1.0\n"
     ]
    }
   ],
   "source": [
    "#old와 year_of_completion의 상관계수 확인 \n",
    "y = df4['old']\n",
    "df3 = pd.DataFrame(data=y, columns=['old'])\n",
    "y = df4['year_of_completion']\n",
    "df5 = pd.DataFrame(data=y, columns=['year_of_completion'])\n",
    "df3 = pd.merge(df3,df5,left_index = True, right_index = True)\n",
    "corr1 = df3.corr(method = 'pearson')\n",
    "print(corr1)"
   ]
  },
  {
   "cell_type": "code",
   "execution_count": 149,
   "metadata": {},
   "outputs": [
    {
     "data": {
      "text/plain": [
       "<matplotlib.axes._subplots.AxesSubplot at 0x200101ab518>"
      ]
     },
     "execution_count": 149,
     "metadata": {},
     "output_type": "execute_result"
    },
    {
     "data": {
      "image/png": "[encoded data removed]",
      "text/plain": [
       "<Figure size 432x288 with 1 Axes>"
      ]
     },
     "metadata": {},
     "output_type": "display_data"
    }
   ],
   "source": [
    "# 전용면적에 따른 실거래가 확인\n",
    "df4 = dffinal3\n",
    "col = df4['exclusive_use_area']\n",
    "by = df4['transaction_real_price']\n",
    "col1 = col[b]\n",
    "col1 = np.array(col1)\n",
    "by1 = by[b]\n",
    "by1 = np.array(by1)\n",
    "df3 = pd.DataFrame(data=by1, columns=['exclusive_use_area'])\n",
    "df4 = pd.DataFrame(data=col1, columns=['transaction_real_price'])\n",
    "df3 = pd.merge(df3, df4, left_index=True, right_index=True)\n",
    "df3.shape\n",
    "# y는 거래가의 로그 변환값\n",
    "df3.plot.scatter(x=['transaction_real_price'],y = ['exclusive_use_area'])"
   ]
  },
  {
   "cell_type": "code",
   "execution_count": 150,
   "metadata": {},
   "outputs": [
    {
     "data": {
      "text/plain": [
       "<matplotlib.axes._subplots.AxesSubplot at 0x20010127438>"
      ]
     },
     "execution_count": 150,
     "metadata": {},
     "output_type": "execute_result"
    },
    {
     "data": {
      "image/png": "[encoded data removed]",
      "text/plain": [
       "<Figure size 432x288 with 1 Axes>"
      ]
     },
     "metadata": {},
     "output_type": "display_data"
    }
   ],
   "source": [
    "# 전용면적에 따른 실거래가 확인(실거래가를 log로 변환했을 때)\n",
    "df4 = dffinal3\n",
    "col = df4['y']\n",
    "by = df4['transaction_real_price']\n",
    "col1 = col[b]\n",
    "col1 = np.array(col1)\n",
    "by1 = by[b]\n",
    "by1 = np.array(by1)\n",
    "df3 = pd.DataFrame(data=by1, columns=['y'])\n",
    "df4 = pd.DataFrame(data=col1, columns=['transaction_real_price'])\n",
    "df3 = pd.merge(df3, df4, left_index=True, right_index=True)\n",
    "df3.shape\n",
    "# y는 거래가의 로그 변환값\n",
    "df3.plot.scatter(x=['transaction_real_price'],y = ['y'])"
   ]
  },
  {
   "cell_type": "code",
   "execution_count": 152,
   "metadata": {},
   "outputs": [
    {
     "data": {
      "text/plain": [
       "<matplotlib.axes._subplots.AxesSubplot at 0x200102ffef0>"
      ]
     },
     "execution_count": 152,
     "metadata": {},
     "output_type": "execute_result"
    },
    {
     "data": {
      "image/png": "[encoded data removed]",
      "text/plain": [
       "<Figure size 432x288 with 1 Axes>"
      ]
     },
     "metadata": {},
     "output_type": "display_data"
    }
   ],
   "source": [
    "# 전용면적에 따른 실거래가 확인(실거래가를 log로 변환했을 때)\n",
    "df4 = dffinal3\n",
    "col = df4['y']\n",
    "by = df4['area_ration']\n",
    "col1 = col[b]\n",
    "col1 = np.array(col1)\n",
    "by1 = by[b]\n",
    "by1 = np.array(by1)\n",
    "df3 = pd.DataFrame(data=by1, columns=['y'])\n",
    "df4 = pd.DataFrame(data=col1, columns=['area_ration'])\n",
    "df3 = pd.merge(df3, df4, left_index=True, right_index=True)\n",
    "df3.shape\n",
    "# y는 거래가의 로그 변환값\n",
    "df3.plot.scatter(x=['area_ration'],y = ['y'])"
   ]
  },
  {
   "cell_type": "code",
   "execution_count": 94,
   "metadata": {},
   "outputs": [
    {
     "data": {
      "text/html": [
       "<div>\n",
       "<style scoped>\n",
       "    .dataframe tbody tr th:only-of-type {\n",
       "        vertical-align: middle;\n",
       "    }\n",
       "\n",
       "    .dataframe tbody tr th {\n",
       "        vertical-align: top;\n",
       "    }\n",
       "\n",
       "    .dataframe thead tr th {\n",
       "        text-align: left;\n",
       "    }\n",
       "\n",
       "    .dataframe thead tr:last-of-type th {\n",
       "        text-align: right;\n",
       "    }\n",
       "</style>\n",
       "<table border=\"1\" class=\"dataframe\">\n",
       "  <thead>\n",
       "    <tr>\n",
       "      <th></th>\n",
       "      <th>transaction_real_price</th>\n",
       "    </tr>\n",
       "    <tr>\n",
       "      <th></th>\n",
       "      <th>mean</th>\n",
       "    </tr>\n",
       "    <tr>\n",
       "      <th>room_count</th>\n",
       "      <th></th>\n",
       "    </tr>\n",
       "  </thead>\n",
       "  <tbody>\n",
       "    <tr>\n",
       "      <th>0.0</th>\n",
       "      <td>6.631693e+08</td>\n",
       "    </tr>\n",
       "    <tr>\n",
       "      <th>1.0</th>\n",
       "      <td>3.185929e+08</td>\n",
       "    </tr>\n",
       "    <tr>\n",
       "      <th>2.0</th>\n",
       "      <td>3.950637e+08</td>\n",
       "    </tr>\n",
       "    <tr>\n",
       "      <th>3.0</th>\n",
       "      <td>6.155427e+08</td>\n",
       "    </tr>\n",
       "    <tr>\n",
       "      <th>4.0</th>\n",
       "      <td>9.057106e+08</td>\n",
       "    </tr>\n",
       "    <tr>\n",
       "      <th>5.0</th>\n",
       "      <td>1.813422e+09</td>\n",
       "    </tr>\n",
       "    <tr>\n",
       "      <th>6.0</th>\n",
       "      <td>2.780512e+09</td>\n",
       "    </tr>\n",
       "    <tr>\n",
       "      <th>7.0</th>\n",
       "      <td>4.107050e+09</td>\n",
       "    </tr>\n",
       "  </tbody>\n",
       "</table>\n",
       "</div>"
      ],
      "text/plain": [
       "           transaction_real_price\n",
       "                             mean\n",
       "room_count                       \n",
       "0.0                  6.631693e+08\n",
       "1.0                  3.185929e+08\n",
       "2.0                  3.950637e+08\n",
       "3.0                  6.155427e+08\n",
       "4.0                  9.057106e+08\n",
       "5.0                  1.813422e+09\n",
       "6.0                  2.780512e+09\n",
       "7.0                  4.107050e+09"
      ]
     },
     "execution_count": 94,
     "metadata": {},
     "output_type": "execute_result"
    }
   ],
   "source": [
    "# room_count별 실거래가 평균\n",
    "df4.groupby('room_count').agg({\"transaction_real_price\":['mean']})\n"
   ]
  },
  {
   "cell_type": "code",
   "execution_count": 100,
   "metadata": {},
   "outputs": [
    {
     "data": {
      "text/plain": [
       "<matplotlib.axes._subplots.AxesSubplot at 0x2008966ffd0>"
      ]
     },
     "execution_count": 100,
     "metadata": {},
     "output_type": "execute_result"
    },
    {
     "data": {
      "image/png": "[encoded data removed]",
      "text/plain": [
       "<Figure size 432x288 with 1 Axes>"
      ]
     },
     "metadata": {},
     "output_type": "display_data"
    }
   ],
   "source": [
    "# 전용면적에 따른 실거래가 확인(실거래가를 log로 변환했을 때)\n",
    "df4 = dffinal2\n",
    "col = df4['room_count']\n",
    "by = df4['y']\n",
    "col1 = col[b]\n",
    "col1 = np.array(col1)\n",
    "by1 = by[b]\n",
    "by1 = np.array(by1)\n",
    "df3 = pd.DataFrame(data=by1, columns=['room_count'])\n",
    "df4 = pd.DataFrame(data=col1, columns=['y'])\n",
    "df3 = pd.merge(df3, df4, left_index=True, right_index=True)\n",
    "df3.shape\n",
    "# y는 거래가의 로그 변환값\n",
    "df3.plot.scatter(x=['y'],y = ['room_count'])"
   ]
  },
  {
   "cell_type": "code",
   "execution_count": 181,
   "metadata": {},
   "outputs": [],
   "source": [
    "df4 = dffinal1"
   ]
  },
  {
   "cell_type": "code",
   "execution_count": 183,
   "metadata": {},
   "outputs": [
    {
     "data": {
      "text/plain": [
       "array([2.0, 1.0, 3.0, 'a', 4.0, 5.0], dtype=object)"
      ]
     },
     "execution_count": 183,
     "metadata": {},
     "output_type": "execute_result"
    }
   ],
   "source": [
    "df4.bathroom_count.unique()"
   ]
  },
  {
   "cell_type": "code",
   "execution_count": 190,
   "metadata": {},
   "outputs": [],
   "source": [
    "\n",
    "#30만개로 그래프를 그려주기는 너무 많음으로 random한 값 1000개를 뽑아서 그래프를 그려주겠다.\n",
    "df4 = dffinal1\n",
    "b = df4.sample(n=1000,random_state = 123)\n",
    "b = b.index"
   ]
  },
  {
   "cell_type": "code",
   "execution_count": 188,
   "metadata": {},
   "outputs": [
    {
     "name": "stdout",
     "output_type": "stream",
     "text": [
      "Int64Index([131, 203,  50, 585, 138, 632, 328, 461, 924, 479,\n",
      "            ...\n",
      "            106, 595,  17, 742,  98, 988, 322, 382, 365, 510],\n",
      "           dtype='int64', length=1000)\n"
     ]
    }
   ],
   "source": [
    "#print(b)"
   ]
  },
  {
   "cell_type": "code",
   "execution_count": 191,
   "metadata": {},
   "outputs": [
    {
     "data": {
      "image/png": "[encoded data removed]",
      "text/plain": [
       "<Figure size 432x288 with 1 Axes>"
      ]
     },
     "metadata": {},
     "output_type": "display_data"
    }
   ],
   "source": [
    "# 전용면적에 따른 실거래가 확인(실거래가를 log로 변환했을 때)\n",
    "df4 = dffinal1\n",
    "col = df4['bathroom_count']\n",
    "by = df4['y']\n",
    "col1 = col[b]\n",
    "col1 = np.array(col1)\n",
    "by1 = by[b]\n",
    "by1 = np.array(by1)\n",
    "df3 = pd.DataFrame(data=by1, columns=['y'])\n",
    "df4 = pd.DataFrame(data=col1, columns=['bathroom_count'])\n",
    "df3 = pd.merge(df3, df4, left_index=True, right_index=True)\n",
    "df3.shape\n",
    "# y는 거래가의 로그 변환값\n",
    "df3.columns\n",
    "boxplot = df3.boxplot(column=['y'],by = ['bathroom_count'])"
   ]
  },
  {
   "cell_type": "code",
   "execution_count": 192,
   "metadata": {},
   "outputs": [
    {
     "data": {
      "image/png": "[encoded data removed]",
      "text/plain": [
       "<Figure size 432x288 with 1 Axes>"
      ]
     },
     "metadata": {},
     "output_type": "display_data"
    }
   ],
   "source": [
    "boxplot = df3.boxplot(column=['y'],by = ['bathroom_count'])"
   ]
  },
  {
   "cell_type": "code",
   "execution_count": 193,
   "metadata": {},
   "outputs": [
    {
     "data": {
      "text/plain": [
       "array([1.0, 2.0, 'a', 3.0], dtype=object)"
      ]
     },
     "execution_count": 193,
     "metadata": {},
     "output_type": "execute_result"
    }
   ],
   "source": [
    "df3['bathroom_count'].unique()"
   ]
  },
  {
   "cell_type": "code",
   "execution_count": 194,
   "metadata": {},
   "outputs": [
    {
     "data": {
      "text/plain": [
       "Index(['y', 'parking_household'], dtype='object')"
      ]
     },
     "execution_count": 194,
     "metadata": {},
     "output_type": "execute_result"
    }
   ],
   "source": [
    "# 전용면적에 따른 실거래가 확인(실거래가를 log로 변환했을 때)\n",
    "df4 = dffinal2\n",
    "col = df4['parking_household']\n",
    "by = df4['y']\n",
    "col1 = col[b]\n",
    "col1 = np.array(col1)\n",
    "by1 = by[b]\n",
    "by1 = np.array(by1)\n",
    "df3 = pd.DataFrame(data=by1, columns=['y'])\n",
    "df4 = pd.DataFrame(data=col1, columns=['parking_household'])\n",
    "df3 = pd.merge(df3, df4, left_index=True, right_index=True)\n",
    "df3.shape\n",
    "# y는 거래가의 로그 변환값\n",
    "df3.columns"
   ]
  },
  {
   "cell_type": "code",
   "execution_count": 195,
   "metadata": {},
   "outputs": [
    {
     "data": {
      "image/png": "[encoded data removed]",
      "text/plain": [
       "<Figure size 432x288 with 1 Axes>"
      ]
     },
     "metadata": {},
     "output_type": "display_data"
    }
   ],
   "source": [
    "boxplot = df3.boxplot(column=['y'],by = ['parking_household'])"
   ]
  },
  {
   "cell_type": "code",
   "execution_count": 196,
   "metadata": {},
   "outputs": [
    {
     "data": {
      "text/plain": [
       "<matplotlib.axes._subplots.AxesSubplot at 0x200b0f5fc88>"
      ]
     },
     "execution_count": 196,
     "metadata": {},
     "output_type": "execute_result"
    },
    {
     "data": {
      "image/png": "[encoded data removed]",
      "text/plain": [
       "<Figure size 432x288 with 1 Axes>"
      ]
     },
     "metadata": {},
     "output_type": "display_data"
    }
   ],
   "source": [
    "df3.plot.scatter(x=['y'],y = ['parking_household'])"
   ]
  },
  {
   "cell_type": "code",
   "execution_count": 302,
   "metadata": {},
   "outputs": [],
   "source": [
    "df4 = dffinal2"
   ]
  },
  {
   "cell_type": "code",
   "execution_count": 304,
   "metadata": {},
   "outputs": [],
   "source": [
    "df4 = df4[df4['floor'] != 'a']"
   ]
  },
  {
   "cell_type": "code",
   "execution_count": 305,
   "metadata": {},
   "outputs": [],
   "source": [
    "df4['floor']=df4['floor'].astype(str).astype(float).abs()"
   ]
  },
  {
   "cell_type": "code",
   "execution_count": null,
   "metadata": {},
   "outputs": [],
   "source": []
  },
  {
   "cell_type": "code",
   "execution_count": 306,
   "metadata": {},
   "outputs": [
    {
     "data": {
      "text/plain": [
       "(288089, 30)"
      ]
     },
     "execution_count": 306,
     "metadata": {},
     "output_type": "execute_result"
    }
   ],
   "source": [
    "df4.shape"
   ]
  },
  {
   "cell_type": "code",
   "execution_count": 217,
   "metadata": {},
   "outputs": [
    {
     "data": {
      "text/plain": [
       "Index(['apartment_id', 'city', 'transaction_year_month', 'transaction_date',\n",
       "       'year_of_completion', 'exclusive_use_area', 'floor', 'latitude',\n",
       "       'longitude', 'address_by_law', 'total_household_count_in_sites',\n",
       "       'apartment_building_count_in_sites', 'tallest_building_in_sites',\n",
       "       'lowest_building_in_sites', 'heat_type', 'heat_fuel', 'room_id',\n",
       "       'supply_area', 'total_household_count_of_area_type',\n",
       "       'front_door_structure', 'transaction_real_price',\n",
       "       'total_parking_capacity_in_site', 'room_count', 'bathroom_count',\n",
       "       'transaction_month', 'transaction_year', 'old', 'y', 'area_ration',\n",
       "       'parking_household'],\n",
       "      dtype='object')"
      ]
     },
     "execution_count": 217,
     "metadata": {},
     "output_type": "execute_result"
    }
   ],
   "source": [
    "df4.columns"
   ]
  },
  {
   "cell_type": "code",
   "execution_count": 227,
   "metadata": {},
   "outputs": [],
   "source": [
    "xs_1 = ['transaction_year','transaction_month','exclusive_use_area']\n",
    "xs_2 = ['total_parking_capacity_in_site','parking_household']\n",
    "xs_3 = ['room_count','bathroom_count']\n",
    "xs_4 = ['lowest_building_in_sites','supply_area']\n",
    "xs_5 = ['old','floor']\n",
    "xs_6 = ['address_by_law','heat_fuel','heat_type','front_door_structure']\n"
   ]
  },
  {
   "cell_type": "code",
   "execution_count": 252,
   "metadata": {},
   "outputs": [],
   "source": [
    "xs_1 = ['address_by_law','heat_fuel','heat_type','front_door_structure','old','floor','lowest_building_in_sites','supply_area','room_count','bathroom_count','total_parking_capacity_in_site','parking_household','transaction_year','transaction_month','exclusive_use_area']\n",
    "xs_2 = ['total_parking_capacity_in_site','parking_household']\n",
    "xs_3 = ['room_count','bathroom_count']\n",
    "xs_4 = ['lowest_building_in_sites','supply_area']\n",
    "xs_5 = ['old','floor']\n",
    "xs_6 = ['address_by_law','heat_fuel','heat_type','front_door_structure']\n"
   ]
  },
  {
   "cell_type": "code",
   "execution_count": 251,
   "metadata": {},
   "outputs": [
    {
     "name": "stdout",
     "output_type": "stream",
     "text": [
      "['transaction_year', 'transaction_month', 'exclusive_use_area', ['total_parking_capacity_in_site', 'parking_household'], ['room_count', 'bathroom_count'], ['lowest_building_in_sites', 'supply_area'], ['old', 'floor'], ['address_by_law', 'heat_fuel', 'heat_type', 'front_door_structure'], 'total_parking_capacity_in_site', 'parking_household', 'room_count', 'bathroom_count', 'lowest_building_in_sites', 'supply_area', 'old', 'floor', 'address_by_law', 'heat_fuel', 'heat_type', 'front_door_structure']\n"
     ]
    }
   ],
   "source": [
    "print(xs_7)"
   ]
  },
  {
   "cell_type": "code",
   "execution_count": 230,
   "metadata": {},
   "outputs": [
    {
     "data": {
      "text/plain": [
       "15"
      ]
     },
     "execution_count": 230,
     "metadata": {},
     "output_type": "execute_result"
    }
   ],
   "source": [
    "len(x_features)"
   ]
  },
  {
   "cell_type": "code",
   "execution_count": 235,
   "metadata": {},
   "outputs": [],
   "source": [
    "xs_sum = \",\".join(x_features)"
   ]
  },
  {
   "cell_type": "code",
   "execution_count": 301,
   "metadata": {},
   "outputs": [
    {
     "data": {
      "text/plain": [
       "(0, 31)"
      ]
     },
     "execution_count": 301,
     "metadata": {},
     "output_type": "execute_result"
    }
   ],
   "source": []
  },
  {
   "cell_type": "code",
   "execution_count": 307,
   "metadata": {},
   "outputs": [],
   "source": [
    "#선형회귀 모델 생성\n",
    "# 전용면적, 공용면적, 방 갯수로 화장실의 갯수 예측\n",
    "model1 = linear_model.LinearRegression()\n",
    "x = np.array(df4[['floor','lowest_building_in_sites','supply_area','room_count','bathroom_count','total_parking_capacity_in_site','parking_household','transaction_year','transaction_month','exclusive_use_area']])\n",
    "y = np.array(df4['y'])\n",
    "# 형태를 맞춰줌\n",
    "x=x.reshape(-1,10)\n",
    "y=y.reshape(-1,1)"
   ]
  },
  {
   "cell_type": "code",
   "execution_count": 260,
   "metadata": {},
   "outputs": [],
   "source": [
    "#선형회귀 모델 생성\n",
    "# 전용면적, 공용면적, 방 갯수로 화장실의 갯수 예측\n",
    "#model1 = linear_model.LinearRegression()\n",
    "#x = df4[['address_by_law','heat_fuel','heat_type','front_door_structure','old','floor','lowest_building_in_sites','supply_area','room_count','bathroom_count','total_parking_capacity_in_site','parking_household','transaction_year','transaction_month','exclusive_use_area']]\n",
    "#y = df4['y']\n",
    "# 형태를 맞춰줌"
   ]
  },
  {
   "cell_type": "code",
   "execution_count": 308,
   "metadata": {},
   "outputs": [],
   "source": [
    "suma = model1.fit(x,y)\n",
    "y_hat = suma.predict(x)\n",
    "y_hat = y_hat.reshape(-1,1)\n"
   ]
  },
  {
   "cell_type": "code",
   "execution_count": 309,
   "metadata": {},
   "outputs": [],
   "source": [
    "y_hat = np.exp(y_hat)"
   ]
  },
  {
   "cell_type": "code",
   "execution_count": 310,
   "metadata": {},
   "outputs": [],
   "source": [
    "y_hat = pd.DataFrame(data=y_hat, columns=['transaction_real_price_hat'])"
   ]
  },
  {
   "cell_type": "code",
   "execution_count": 311,
   "metadata": {},
   "outputs": [],
   "source": [
    "df5 = df4"
   ]
  },
  {
   "cell_type": "code",
   "execution_count": 312,
   "metadata": {},
   "outputs": [],
   "source": [
    "y_hat.index = df4.index"
   ]
  },
  {
   "cell_type": "code",
   "execution_count": 313,
   "metadata": {},
   "outputs": [],
   "source": [
    "df4 = pd.merge(df4,y_hat,left_index= True, right_index = True)"
   ]
  },
  {
   "cell_type": "code",
   "execution_count": 315,
   "metadata": {},
   "outputs": [],
   "source": [
    "df4.true_resid = df4.transaction_real_price - df4.transaction_real_price_hat"
   ]
  },
  {
   "cell_type": "code",
   "execution_count": 317,
   "metadata": {},
   "outputs": [],
   "source": [
    "rmse = ((df4.transaction_real_price - df4.transaction_real_price_hat) ** 2).mean() ** .5"
   ]
  },
  {
   "cell_type": "code",
   "execution_count": 319,
   "metadata": {},
   "outputs": [
    {
     "name": "stdout",
     "output_type": "stream",
     "text": [
      "3.068\n"
     ]
    }
   ],
   "source": [
    "print(round(rmse/10**8,3))"
   ]
  },
  {
   "cell_type": "code",
   "execution_count": 321,
   "metadata": {},
   "outputs": [],
   "source": [
    "dfhat = pd.DataFrame(data=df4.transaction_real_price_hat, columns=['transaction_real_price_hat'])"
   ]
  },
  {
   "cell_type": "code",
   "execution_count": 322,
   "metadata": {},
   "outputs": [],
   "source": [
    "dfreal = pd.DataFrame(data=df4.transaction_real_price, columns=['transaction_real_price'])"
   ]
  },
  {
   "cell_type": "code",
   "execution_count": 323,
   "metadata": {},
   "outputs": [],
   "source": [
    "df6 = pd.merge(dfhat,dfreal,left_index = True,right_index = True)"
   ]
  },
  {
   "cell_type": "code",
   "execution_count": 324,
   "metadata": {},
   "outputs": [
    {
     "data": {
      "text/plain": [
       "(288089, 2)"
      ]
     },
     "execution_count": 324,
     "metadata": {},
     "output_type": "execute_result"
    }
   ],
   "source": [
    "df6.shape"
   ]
  },
  {
   "cell_type": "code",
   "execution_count": 332,
   "metadata": {},
   "outputs": [
    {
     "data": {
      "text/html": [
       "<div>\n",
       "<style scoped>\n",
       "    .dataframe tbody tr th:only-of-type {\n",
       "        vertical-align: middle;\n",
       "    }\n",
       "\n",
       "    .dataframe tbody tr th {\n",
       "        vertical-align: top;\n",
       "    }\n",
       "\n",
       "    .dataframe thead th {\n",
       "        text-align: right;\n",
       "    }\n",
       "</style>\n",
       "<table border=\"1\" class=\"dataframe\">\n",
       "  <thead>\n",
       "    <tr style=\"text-align: right;\">\n",
       "      <th></th>\n",
       "    </tr>\n",
       "  </thead>\n",
       "  <tbody>\n",
       "  </tbody>\n",
       "</table>\n",
       "</div>"
      ],
      "text/plain": [
       "Empty DataFrame\n",
       "Columns: []\n",
       "Index: []"
      ]
     },
     "execution_count": 332,
     "metadata": {},
     "output_type": "execute_result"
    }
   ],
   "source": [
    "dfreal.corr(method = 'pearson')"
   ]
  },
  {
   "cell_type": "code",
   "execution_count": 329,
   "metadata": {},
   "outputs": [
    {
     "name": "stdout",
     "output_type": "stream",
     "text": [
      "        transaction_real_price\n",
      "1182599               8.45e+08\n",
      "1182600                  8e+08\n",
      "1182601                  3e+08\n",
      "1182602               2.61e+08\n",
      "1182603               4.35e+08\n",
      "1182604               5.48e+08\n",
      "1182605               6.45e+08\n",
      "1182606               3.03e+08\n",
      "1182607               3.45e+08\n",
      "1182608               3.08e+08\n",
      "1182609               5.98e+08\n",
      "1182610                6.4e+08\n",
      "1182611                6.4e+08\n",
      "1182612               2.88e+08\n",
      "1182613              5.679e+08\n",
      "1182614              5.699e+08\n",
      "1182615                6.7e+08\n",
      "1182616                  6e+08\n",
      "1182617               4.17e+08\n",
      "1182619               5.68e+08\n",
      "1182620               5.63e+08\n",
      "1182621               5.69e+08\n",
      "1182622               6.15e+08\n",
      "1182623               6.15e+08\n",
      "1182624                6.8e+08\n",
      "1182625                8.6e+08\n",
      "1182626               1.29e+09\n",
      "1182627               1.54e+09\n",
      "1182628                5.8e+08\n",
      "1182629                5.8e+08\n",
      "...                        ...\n",
      "1601389                  8e+08\n",
      "1601390                  5e+08\n",
      "1601391               3.35e+08\n",
      "1601392               4.95e+08\n",
      "1601393                5.8e+08\n",
      "1601394                5.8e+08\n",
      "1601396              1.365e+09\n",
      "1601397              1.365e+09\n",
      "1601398              1.365e+09\n",
      "1601399                3.8e+08\n",
      "1601400               8.36e+08\n",
      "1601401               3.62e+08\n",
      "1601405               1.15e+09\n",
      "1601406               1.15e+09\n",
      "1601407                4.7e+08\n",
      "1601408               4.59e+08\n",
      "1601409                5.1e+08\n",
      "1601410                5.1e+08\n",
      "1601411                2.8e+08\n",
      "1601414                  7e+08\n",
      "1601415                  7e+08\n",
      "1601429               4.75e+08\n",
      "1601430                  6e+08\n",
      "1601431               4.47e+08\n",
      "1601432                3.8e+08\n",
      "1601433                4.5e+08\n",
      "1601444               3.05e+08\n",
      "1601454               7.71e+08\n",
      "1601456               4.85e+08\n",
      "1601457                4.3e+08\n",
      "\n",
      "[288089 rows x 1 columns]\n"
     ]
    }
   ],
   "source": [
    "print(dfreal)"
   ]
  },
  {
   "cell_type": "code",
   "execution_count": 330,
   "metadata": {},
   "outputs": [
    {
     "name": "stdout",
     "output_type": "stream",
     "text": [
      "         transaction_real_price_hat\n",
      "1182599                4.939340e+08\n",
      "1182600                5.075300e+08\n",
      "1182601                2.488636e+08\n",
      "1182602                2.473986e+08\n",
      "1182603                2.869988e+08\n",
      "1182604                4.586842e+08\n",
      "1182605                4.851469e+08\n",
      "1182606                3.028009e+08\n",
      "1182607                4.341334e+08\n",
      "1182608                3.045940e+08\n",
      "1182609                6.235743e+08\n",
      "1182610                7.637172e+08\n",
      "1182611                7.637172e+08\n",
      "1182612                3.625727e+08\n",
      "1182613                4.988130e+08\n",
      "1182614                5.002877e+08\n",
      "1182615                7.310688e+08\n",
      "1182616                7.014701e+08\n",
      "1182617                3.569681e+08\n",
      "1182619                3.687111e+08\n",
      "1182620                5.571544e+08\n",
      "1182621                5.704692e+08\n",
      "1182622                5.659269e+08\n",
      "1182623                5.580680e+08\n",
      "1182624                6.541559e+08\n",
      "1182625                5.232973e+08\n",
      "1182626                1.161145e+09\n",
      "1182627                1.274141e+09\n",
      "1182628                3.329416e+08\n",
      "1182629                3.333351e+08\n",
      "...                             ...\n",
      "1601389                5.318830e+08\n",
      "1601390                1.133586e+09\n",
      "1601391                4.617043e+08\n",
      "1601392                6.053198e+08\n",
      "1601393                5.663941e+08\n",
      "1601394                5.663702e+08\n",
      "1601396                5.741268e+08\n",
      "1601397                5.741268e+08\n",
      "1601398                5.980001e+08\n",
      "1601399                8.031985e+08\n",
      "1601400                5.938995e+08\n",
      "1601401                4.750344e+08\n",
      "1601405                7.114753e+08\n",
      "1601406                7.129926e+08\n",
      "1601407                4.772400e+08\n",
      "1601408                4.647273e+08\n",
      "1601409                6.392714e+08\n",
      "1601410                6.392714e+08\n",
      "1601411                5.137570e+08\n",
      "1601414                6.737827e+08\n",
      "1601415                6.737827e+08\n",
      "1601429                1.140299e+09\n",
      "1601430                6.171395e+08\n",
      "1601431                4.713485e+08\n",
      "1601432                4.319188e+08\n",
      "1601433                6.019263e+08\n",
      "1601444                5.838065e+08\n",
      "1601454                5.105459e+08\n",
      "1601456                4.426150e+08\n",
      "1601457                6.368192e+08\n",
      "\n",
      "[288089 rows x 1 columns]\n"
     ]
    }
   ],
   "source": [
    "print(dfhat)"
   ]
  },
  {
   "cell_type": "code",
   "execution_count": null,
   "metadata": {},
   "outputs": [],
   "source": []
  }
 ],
 "metadata": {
  "kernelspec": {
   "display_name": "Python 3",
   "language": "python",
   "name": "python3"
  },
  "language_info": {
   "codemirror_mode": {
    "name": "ipython",
    "version": 3
   },
   "file_extension": ".py",
   "mimetype": "text/x-python",
   "name": "python",
   "nbconvert_exporter": "python",
   "pygments_lexer": "ipython3",
   "version": "3.6.5"
  }
 },
 "nbformat": 4,
 "nbformat_minor": 2
}
