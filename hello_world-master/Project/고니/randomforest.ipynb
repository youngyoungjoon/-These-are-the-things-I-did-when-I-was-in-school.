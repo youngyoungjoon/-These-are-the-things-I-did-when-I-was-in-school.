{
 "cells": [
  {
   "cell_type": "code",
   "execution_count": 36,
   "metadata": {},
   "outputs": [
    {
     "name": "stdout",
     "output_type": "stream",
     "text": [
      "['.ipynb_checkpoints', 'example_zigbang.csv', 'example_zigbang_2.csv', 'Untitled.ipynb', '고니']\n"
     ]
    }
   ],
   "source": [
    "# This Python 3 environment comes with many helpful analytics libraries installed\n",
    "# It is defined by the kaggle/python docker image: https://github.com/kaggle/docker-python\n",
    "# For example, here's several helpful packages to load in \n",
    "\n",
    "import numpy as np # linear algebra\n",
    "import pandas as pd # data processing, CSV file I/O (e.g. pd.read_csv)\n",
    "\n",
    "# Input data files are available in the \"../input/\" directory.\n",
    "# For example, running this (by clicking run or pressing Shift+Enter) will list the files in the input directory\n",
    "\n",
    "input1 = r\"C:\\Users\\USER\\20190722_아시아 경제 update\\notebook\\CopyProject\"\n",
    "import os\n",
    "print(os.listdir(input1))\n",
    "\n",
    "# Any results you write to the current directory are saved as output"
   ]
  },
  {
   "cell_type": "code",
   "execution_count": 37,
   "metadata": {},
   "outputs": [
    {
     "name": "stdout",
     "output_type": "stream",
     "text": [
      "['.ipynb_checkpoints', 'example_zigbang.csv', 'example_zigbang_2.csv', 'Untitled.ipynb', '고니']\n"
     ]
    }
   ],
   "source": [
    "# This Python 3 environment comes with many helpful analytics libraries installed\n",
    "# It is defined by the kaggle/python docker image: https://github.com/kaggle/docker-python\n",
    "# For example, here's several helpful packages to load in \n",
    "\n",
    "import numpy as np # linear algebra\n",
    "import pandas as pd # data processing, CSV file I/O (e.g. pd.read_csv)\n",
    "\n",
    "# Input data files are available in the \"../input/\" directory.\n",
    "# For example, running this (by clicking run or pressing Shift+Enter) will list the files in the input directory\n",
    "\n",
    "input1 =r\"C:\\Users\\USER\\20190722_아시아 경제 update\\notebook\\CopyProject\"\n",
    "import os\n",
    "print(os.listdir(input1))\n",
    "\n",
    "# Any results you write to the current directory are saved as output\n",
    "from sklearn.datasets import make_regression\n"
   ]
  },
  {
   "cell_type": "code",
   "execution_count": 38,
   "metadata": {},
   "outputs": [
    {
     "name": "stdout",
     "output_type": "stream",
     "text": [
      "['.ipynb_checkpoints', 'example_zigbang.csv', 'example_zigbang_2.csv', 'Untitled.ipynb', '고니']\n"
     ]
    }
   ],
   "source": [
    "# This Python 3 environment comes with many helpful analytics libraries installed\n",
    "# It is defined by the kaggle/python docker image: https://github.com/kaggle/docker-python\n",
    "# For example, here's several helpful packages to load in \n",
    "\n",
    "import numpy as np # linear algebra\n",
    "import pandas as pd # data processing, CSV file I/O (e.g. pd.read_csv)\n",
    "\n",
    "# Input data files are available in the \"../input/\" directory.\n",
    "# For example, running this (by clicking run or pressing Shift+Enter) will list the files in the input directory\n",
    "\n",
    "input1 = r\"C:\\Users\\USER\\20190722_아시아 경제 update\\notebook\\CopyProject\"\n",
    "import os\n",
    "print(os.listdir(input1))\n",
    "\n",
    "# Any results you write to the current directory are saved as output\n",
    "from sklearn.datasets import make_regression\n",
    "\n",
    "import numpy as np\n",
    "import pandas as pd \n",
    "from sklearn.model_selection import train_test_split, GridSearchCV,cross_val_score\n",
    "from sklearn.metrics import mean_squared_error, r2_score, roc_auc_score\n",
    "import matplotlib.pyplot as plt\n",
    "from sklearn.preprocessing import scale \n",
    "from sklearn import model_selection\n",
    "from sklearn.tree import DecisionTreeRegressor, DecisionTreeClassifier\n",
    "from sklearn.neighbors import KNeighborsRegressor\n",
    "from sklearn.ensemble import BaggingRegressor\n",
    "from sklearn import datasets, linear_model\n",
    "\n",
    "from warnings import filterwarnings\n",
    "filterwarnings('ignore')"
   ]
  },
  {
   "cell_type": "code",
   "execution_count": 39,
   "metadata": {},
   "outputs": [],
   "source": [
    "os.chdir(r\"C:\\Users\\USER\\20190722_아시아 경제 update\\notebook\\CopyProject\")\n",
    "df = pd.read_csv('example_zigbang.csv', header='infer',encoding='latin1')"
   ]
  },
  {
   "cell_type": "code",
   "execution_count": 40,
   "metadata": {},
   "outputs": [
    {
     "data": {
      "text/plain": [
       "(1601458, 25)"
      ]
     },
     "execution_count": 40,
     "metadata": {},
     "output_type": "execute_result"
    }
   ],
   "source": [
    "df.shape"
   ]
  },
  {
   "cell_type": "code",
   "execution_count": 41,
   "metadata": {},
   "outputs": [
    {
     "name": "stdout",
     "output_type": "stream",
     "text": [
      "key                                       0\n",
      "apartment_id                              0\n",
      "city                                      0\n",
      "transaction_year_month                    0\n",
      "transaction_date                          0\n",
      "year_of_completion                        0\n",
      "exclusive_use_area                        0\n",
      "floor                                     0\n",
      "latitude                                  0\n",
      "longitude                                 0\n",
      "address_by_law                            0\n",
      "total_parking_capacity_in_site        91813\n",
      "total_household_count_in_sites            0\n",
      "apartment_building_count_in_sites         0\n",
      "tallest_building_in_sites                 9\n",
      "lowest_building_in_sites                  9\n",
      "heat_type                              2017\n",
      "heat_fuel                              9667\n",
      "room_id                                   0\n",
      "supply_area                               0\n",
      "total_household_count_of_area_type        0\n",
      "room_count                              691\n",
      "bathroom_count                          691\n",
      "front_door_structure                  13892\n",
      "transaction_real_price                    0\n",
      "dtype: int64\n"
     ]
    }
   ],
   "source": [
    "nas = df.isnull()\n",
    "print(nas.sum(axis=0))"
   ]
  },
  {
   "cell_type": "code",
   "execution_count": 42,
   "metadata": {},
   "outputs": [
    {
     "data": {
      "text/plain": [
       "Index(['key', 'apartment_id', 'city', 'transaction_year_month',\n",
       "       'transaction_date', 'year_of_completion', 'exclusive_use_area', 'floor',\n",
       "       'latitude', 'longitude', 'address_by_law',\n",
       "       'total_parking_capacity_in_site', 'total_household_count_in_sites',\n",
       "       'apartment_building_count_in_sites', 'tallest_building_in_sites',\n",
       "       'lowest_building_in_sites', 'heat_type', 'heat_fuel', 'room_id',\n",
       "       'supply_area', 'total_household_count_of_area_type', 'room_count',\n",
       "       'bathroom_count', 'front_door_structure', 'transaction_real_price'],\n",
       "      dtype='object')"
      ]
     },
     "execution_count": 42,
     "metadata": {},
     "output_type": "execute_result"
    }
   ],
   "source": [
    "df.columns"
   ]
  },
  {
   "cell_type": "code",
   "execution_count": 43,
   "metadata": {},
   "outputs": [],
   "source": [
    "import gc"
   ]
  },
  {
   "cell_type": "code",
   "execution_count": 44,
   "metadata": {},
   "outputs": [
    {
     "data": {
      "text/plain": [
       "0"
      ]
     },
     "execution_count": 44,
     "metadata": {},
     "output_type": "execute_result"
    }
   ],
   "source": [
    "train_up1 = df[df['transaction_year_month']>201806]\n",
    "train_up1['transaction_real_price'] = train_up1['transaction_real_price'] + 10000000\n",
    "\n",
    "train_up2 = df[df['transaction_year_month']>201806]\n",
    "train_up2['transaction_real_price'] = train_up2['transaction_real_price'] + 5000000\n",
    "\n",
    "df = pd.concat([df,train_up1])\n",
    "df = pd.concat([df,train_up2])\n",
    "df = df.reset_index(drop=True)\n",
    "del train_up1,train_up2\n",
    "gc.collect()"
   ]
  },
  {
   "cell_type": "code",
   "execution_count": 45,
   "metadata": {},
   "outputs": [
    {
     "data": {
      "text/plain": [
       "(1665760, 25)"
      ]
     },
     "execution_count": 45,
     "metadata": {},
     "output_type": "execute_result"
    }
   ],
   "source": [
    "df.shape"
   ]
  },
  {
   "cell_type": "code",
   "execution_count": 46,
   "metadata": {},
   "outputs": [],
   "source": [
    "df.loc[(df['total_parking_capacity_in_site'].isnull()), ['total_parking_capacity_in_site']] = 0"
   ]
  },
  {
   "cell_type": "code",
   "execution_count": 47,
   "metadata": {},
   "outputs": [],
   "source": [
    "from sklearn import datasets, linear_model\n",
    "model1 = linear_model.LinearRegression()\n",
    "x = np.array(df['total_parking_capacity_in_site'])\n",
    "y =  np.array(df[\"total_household_count_in_sites\"])\n",
    "\n",
    "x=x.reshape(-1,1)\n",
    "y=y.reshape(-1,1)"
   ]
  },
  {
   "cell_type": "code",
   "execution_count": 48,
   "metadata": {},
   "outputs": [],
   "source": [
    "suma = model1.fit(x,y)"
   ]
  },
  {
   "cell_type": "code",
   "execution_count": null,
   "metadata": {},
   "outputs": [],
   "source": []
  },
  {
   "cell_type": "code",
   "execution_count": 49,
   "metadata": {},
   "outputs": [
    {
     "data": {
      "text/html": [
       "<div>\n",
       "<style scoped>\n",
       "    .dataframe tbody tr th:only-of-type {\n",
       "        vertical-align: middle;\n",
       "    }\n",
       "\n",
       "    .dataframe tbody tr th {\n",
       "        vertical-align: top;\n",
       "    }\n",
       "\n",
       "    .dataframe thead th {\n",
       "        text-align: right;\n",
       "    }\n",
       "</style>\n",
       "<table border=\"1\" class=\"dataframe\">\n",
       "  <thead>\n",
       "    <tr style=\"text-align: right;\">\n",
       "      <th></th>\n",
       "      <th>key</th>\n",
       "      <th>apartment_id</th>\n",
       "      <th>city</th>\n",
       "      <th>transaction_year_month</th>\n",
       "      <th>transaction_date</th>\n",
       "      <th>year_of_completion</th>\n",
       "      <th>exclusive_use_area</th>\n",
       "      <th>floor</th>\n",
       "      <th>latitude</th>\n",
       "      <th>longitude</th>\n",
       "      <th>...</th>\n",
       "      <th>lowest_building_in_sites</th>\n",
       "      <th>heat_type</th>\n",
       "      <th>heat_fuel</th>\n",
       "      <th>room_id</th>\n",
       "      <th>supply_area</th>\n",
       "      <th>total_household_count_of_area_type</th>\n",
       "      <th>room_count</th>\n",
       "      <th>bathroom_count</th>\n",
       "      <th>front_door_structure</th>\n",
       "      <th>transaction_real_price</th>\n",
       "    </tr>\n",
       "  </thead>\n",
       "  <tbody>\n",
       "    <tr>\n",
       "      <th>20</th>\n",
       "      <td>20</td>\n",
       "      <td>9867</td>\n",
       "      <td>1</td>\n",
       "      <td>200601</td>\n",
       "      <td>11~20</td>\n",
       "      <td>2005</td>\n",
       "      <td>114.48</td>\n",
       "      <td>13</td>\n",
       "      <td>37.559200</td>\n",
       "      <td>127.019503</td>\n",
       "      <td>...</td>\n",
       "      <td>6.0</td>\n",
       "      <td>individual</td>\n",
       "      <td>gas</td>\n",
       "      <td>11865</td>\n",
       "      <td>138.15</td>\n",
       "      <td>36</td>\n",
       "      <td>4.0</td>\n",
       "      <td>2.0</td>\n",
       "      <td>stairway</td>\n",
       "      <td>600000000</td>\n",
       "    </tr>\n",
       "    <tr>\n",
       "      <th>21</th>\n",
       "      <td>21</td>\n",
       "      <td>2817</td>\n",
       "      <td>1</td>\n",
       "      <td>200601</td>\n",
       "      <td>11~20</td>\n",
       "      <td>2002</td>\n",
       "      <td>59.94</td>\n",
       "      <td>16</td>\n",
       "      <td>37.549828</td>\n",
       "      <td>127.009284</td>\n",
       "      <td>...</td>\n",
       "      <td>11.0</td>\n",
       "      <td>individual</td>\n",
       "      <td>gas</td>\n",
       "      <td>5842</td>\n",
       "      <td>85.90</td>\n",
       "      <td>864</td>\n",
       "      <td>3.0</td>\n",
       "      <td>1.0</td>\n",
       "      <td>corridor</td>\n",
       "      <td>289000000</td>\n",
       "    </tr>\n",
       "    <tr>\n",
       "      <th>22</th>\n",
       "      <td>22</td>\n",
       "      <td>4059</td>\n",
       "      <td>1</td>\n",
       "      <td>200601</td>\n",
       "      <td>11~20</td>\n",
       "      <td>2001</td>\n",
       "      <td>84.93</td>\n",
       "      <td>11</td>\n",
       "      <td>37.558116</td>\n",
       "      <td>126.965304</td>\n",
       "      <td>...</td>\n",
       "      <td>14.0</td>\n",
       "      <td>individual</td>\n",
       "      <td>gas</td>\n",
       "      <td>7222</td>\n",
       "      <td>109.94</td>\n",
       "      <td>152</td>\n",
       "      <td>3.0</td>\n",
       "      <td>2.0</td>\n",
       "      <td>stairway</td>\n",
       "      <td>420000000</td>\n",
       "    </tr>\n",
       "    <tr>\n",
       "      <th>23</th>\n",
       "      <td>23</td>\n",
       "      <td>1470</td>\n",
       "      <td>1</td>\n",
       "      <td>200601</td>\n",
       "      <td>11~20</td>\n",
       "      <td>1997</td>\n",
       "      <td>84.99</td>\n",
       "      <td>2</td>\n",
       "      <td>37.537397</td>\n",
       "      <td>127.097622</td>\n",
       "      <td>...</td>\n",
       "      <td>24.0</td>\n",
       "      <td>central</td>\n",
       "      <td>gas</td>\n",
       "      <td>146919</td>\n",
       "      <td>104.38</td>\n",
       "      <td>542</td>\n",
       "      <td>3.0</td>\n",
       "      <td>2.0</td>\n",
       "      <td>stairway</td>\n",
       "      <td>396000000</td>\n",
       "    </tr>\n",
       "    <tr>\n",
       "      <th>24</th>\n",
       "      <td>24</td>\n",
       "      <td>1470</td>\n",
       "      <td>1</td>\n",
       "      <td>200601</td>\n",
       "      <td>11~20</td>\n",
       "      <td>1997</td>\n",
       "      <td>59.82</td>\n",
       "      <td>22</td>\n",
       "      <td>37.537397</td>\n",
       "      <td>127.097622</td>\n",
       "      <td>...</td>\n",
       "      <td>24.0</td>\n",
       "      <td>central</td>\n",
       "      <td>gas</td>\n",
       "      <td>3965</td>\n",
       "      <td>82.65</td>\n",
       "      <td>300</td>\n",
       "      <td>2.0</td>\n",
       "      <td>1.0</td>\n",
       "      <td>corridor</td>\n",
       "      <td>287000000</td>\n",
       "    </tr>\n",
       "    <tr>\n",
       "      <th>25</th>\n",
       "      <td>25</td>\n",
       "      <td>1470</td>\n",
       "      <td>1</td>\n",
       "      <td>200601</td>\n",
       "      <td>11~20</td>\n",
       "      <td>1997</td>\n",
       "      <td>59.82</td>\n",
       "      <td>22</td>\n",
       "      <td>37.537397</td>\n",
       "      <td>127.097622</td>\n",
       "      <td>...</td>\n",
       "      <td>24.0</td>\n",
       "      <td>central</td>\n",
       "      <td>gas</td>\n",
       "      <td>3966</td>\n",
       "      <td>85.95</td>\n",
       "      <td>354</td>\n",
       "      <td>3.0</td>\n",
       "      <td>1.0</td>\n",
       "      <td>corridor</td>\n",
       "      <td>287000000</td>\n",
       "    </tr>\n",
       "    <tr>\n",
       "      <th>26</th>\n",
       "      <td>26</td>\n",
       "      <td>1470</td>\n",
       "      <td>1</td>\n",
       "      <td>200601</td>\n",
       "      <td>11~20</td>\n",
       "      <td>1997</td>\n",
       "      <td>59.82</td>\n",
       "      <td>2</td>\n",
       "      <td>37.537397</td>\n",
       "      <td>127.097622</td>\n",
       "      <td>...</td>\n",
       "      <td>24.0</td>\n",
       "      <td>central</td>\n",
       "      <td>gas</td>\n",
       "      <td>3965</td>\n",
       "      <td>82.65</td>\n",
       "      <td>300</td>\n",
       "      <td>2.0</td>\n",
       "      <td>1.0</td>\n",
       "      <td>corridor</td>\n",
       "      <td>242500000</td>\n",
       "    </tr>\n",
       "    <tr>\n",
       "      <th>27</th>\n",
       "      <td>27</td>\n",
       "      <td>1470</td>\n",
       "      <td>1</td>\n",
       "      <td>200601</td>\n",
       "      <td>11~20</td>\n",
       "      <td>1997</td>\n",
       "      <td>59.82</td>\n",
       "      <td>2</td>\n",
       "      <td>37.537397</td>\n",
       "      <td>127.097622</td>\n",
       "      <td>...</td>\n",
       "      <td>24.0</td>\n",
       "      <td>central</td>\n",
       "      <td>gas</td>\n",
       "      <td>3966</td>\n",
       "      <td>85.95</td>\n",
       "      <td>354</td>\n",
       "      <td>3.0</td>\n",
       "      <td>1.0</td>\n",
       "      <td>corridor</td>\n",
       "      <td>242500000</td>\n",
       "    </tr>\n",
       "    <tr>\n",
       "      <th>28</th>\n",
       "      <td>28</td>\n",
       "      <td>1470</td>\n",
       "      <td>1</td>\n",
       "      <td>200601</td>\n",
       "      <td>11~20</td>\n",
       "      <td>1997</td>\n",
       "      <td>84.99</td>\n",
       "      <td>6</td>\n",
       "      <td>37.537397</td>\n",
       "      <td>127.097622</td>\n",
       "      <td>...</td>\n",
       "      <td>24.0</td>\n",
       "      <td>central</td>\n",
       "      <td>gas</td>\n",
       "      <td>146919</td>\n",
       "      <td>104.38</td>\n",
       "      <td>542</td>\n",
       "      <td>3.0</td>\n",
       "      <td>2.0</td>\n",
       "      <td>stairway</td>\n",
       "      <td>429000000</td>\n",
       "    </tr>\n",
       "    <tr>\n",
       "      <th>29</th>\n",
       "      <td>29</td>\n",
       "      <td>1470</td>\n",
       "      <td>1</td>\n",
       "      <td>200601</td>\n",
       "      <td>11~20</td>\n",
       "      <td>1997</td>\n",
       "      <td>59.82</td>\n",
       "      <td>20</td>\n",
       "      <td>37.537397</td>\n",
       "      <td>127.097622</td>\n",
       "      <td>...</td>\n",
       "      <td>24.0</td>\n",
       "      <td>central</td>\n",
       "      <td>gas</td>\n",
       "      <td>3965</td>\n",
       "      <td>82.65</td>\n",
       "      <td>300</td>\n",
       "      <td>2.0</td>\n",
       "      <td>1.0</td>\n",
       "      <td>corridor</td>\n",
       "      <td>280000000</td>\n",
       "    </tr>\n",
       "  </tbody>\n",
       "</table>\n",
       "<p>10 rows × 25 columns</p>\n",
       "</div>"
      ],
      "text/plain": [
       "    key  apartment_id  city  transaction_year_month transaction_date  \\\n",
       "20   20          9867     1                  200601            11~20   \n",
       "21   21          2817     1                  200601            11~20   \n",
       "22   22          4059     1                  200601            11~20   \n",
       "23   23          1470     1                  200601            11~20   \n",
       "24   24          1470     1                  200601            11~20   \n",
       "25   25          1470     1                  200601            11~20   \n",
       "26   26          1470     1                  200601            11~20   \n",
       "27   27          1470     1                  200601            11~20   \n",
       "28   28          1470     1                  200601            11~20   \n",
       "29   29          1470     1                  200601            11~20   \n",
       "\n",
       "    year_of_completion  exclusive_use_area  floor   latitude   longitude  ...  \\\n",
       "20                2005              114.48     13  37.559200  127.019503  ...   \n",
       "21                2002               59.94     16  37.549828  127.009284  ...   \n",
       "22                2001               84.93     11  37.558116  126.965304  ...   \n",
       "23                1997               84.99      2  37.537397  127.097622  ...   \n",
       "24                1997               59.82     22  37.537397  127.097622  ...   \n",
       "25                1997               59.82     22  37.537397  127.097622  ...   \n",
       "26                1997               59.82      2  37.537397  127.097622  ...   \n",
       "27                1997               59.82      2  37.537397  127.097622  ...   \n",
       "28                1997               84.99      6  37.537397  127.097622  ...   \n",
       "29                1997               59.82     20  37.537397  127.097622  ...   \n",
       "\n",
       "    lowest_building_in_sites   heat_type  heat_fuel  room_id  supply_area  \\\n",
       "20                       6.0  individual        gas    11865       138.15   \n",
       "21                      11.0  individual        gas     5842        85.90   \n",
       "22                      14.0  individual        gas     7222       109.94   \n",
       "23                      24.0     central        gas   146919       104.38   \n",
       "24                      24.0     central        gas     3965        82.65   \n",
       "25                      24.0     central        gas     3966        85.95   \n",
       "26                      24.0     central        gas     3965        82.65   \n",
       "27                      24.0     central        gas     3966        85.95   \n",
       "28                      24.0     central        gas   146919       104.38   \n",
       "29                      24.0     central        gas     3965        82.65   \n",
       "\n",
       "    total_household_count_of_area_type room_count bathroom_count  \\\n",
       "20                                  36        4.0            2.0   \n",
       "21                                 864        3.0            1.0   \n",
       "22                                 152        3.0            2.0   \n",
       "23                                 542        3.0            2.0   \n",
       "24                                 300        2.0            1.0   \n",
       "25                                 354        3.0            1.0   \n",
       "26                                 300        2.0            1.0   \n",
       "27                                 354        3.0            1.0   \n",
       "28                                 542        3.0            2.0   \n",
       "29                                 300        2.0            1.0   \n",
       "\n",
       "    front_door_structure  transaction_real_price  \n",
       "20              stairway               600000000  \n",
       "21              corridor               289000000  \n",
       "22              stairway               420000000  \n",
       "23              stairway               396000000  \n",
       "24              corridor               287000000  \n",
       "25              corridor               287000000  \n",
       "26              corridor               242500000  \n",
       "27              corridor               242500000  \n",
       "28              stairway               429000000  \n",
       "29              corridor               280000000  \n",
       "\n",
       "[10 rows x 25 columns]"
      ]
     },
     "execution_count": 49,
     "metadata": {},
     "output_type": "execute_result"
    }
   ],
   "source": [
    "df[20:30]"
   ]
  },
  {
   "cell_type": "code",
   "execution_count": 50,
   "metadata": {},
   "outputs": [],
   "source": [
    "y = suma.predict(x)"
   ]
  },
  {
   "cell_type": "code",
   "execution_count": 51,
   "metadata": {},
   "outputs": [
    {
     "data": {
      "text/plain": [
       "1665760"
      ]
     },
     "execution_count": 51,
     "metadata": {},
     "output_type": "execute_result"
    }
   ],
   "source": [
    "len(y)"
   ]
  },
  {
   "cell_type": "code",
   "execution_count": 52,
   "metadata": {},
   "outputs": [
    {
     "data": {
      "text/plain": [
       "array([[ 431.69370424],\n",
       "       [ 931.71097358],\n",
       "       [ 931.71097358],\n",
       "       [ 931.71097358],\n",
       "       [1244.98295694],\n",
       "       [1244.98295694],\n",
       "       [ 762.55763483],\n",
       "       [1736.20425266],\n",
       "       [3250.46494113]])"
      ]
     },
     "execution_count": 52,
     "metadata": {},
     "output_type": "execute_result"
    }
   ],
   "source": [
    "y[1:10]"
   ]
  },
  {
   "cell_type": "code",
   "execution_count": 53,
   "metadata": {},
   "outputs": [],
   "source": [
    "df = pd.read_csv('example_zigbang.csv', header='infer',encoding='latin1')"
   ]
  },
  {
   "cell_type": "code",
   "execution_count": 54,
   "metadata": {},
   "outputs": [],
   "source": [
    "b = df[df['total_parking_capacity_in_site'].isnull() == True]"
   ]
  },
  {
   "cell_type": "code",
   "execution_count": 55,
   "metadata": {},
   "outputs": [],
   "source": [
    "b = b.index"
   ]
  },
  {
   "cell_type": "code",
   "execution_count": 56,
   "metadata": {},
   "outputs": [
    {
     "data": {
      "text/plain": [
       "91813"
      ]
     },
     "execution_count": 56,
     "metadata": {},
     "output_type": "execute_result"
    }
   ],
   "source": [
    "len(b)"
   ]
  },
  {
   "cell_type": "code",
   "execution_count": 57,
   "metadata": {},
   "outputs": [
    {
     "name": "stdout",
     "output_type": "stream",
     "text": [
      "Int64Index([     54,      59,      67,      73,     121,     122,     256,\n",
      "                263,     324,     332,\n",
      "            ...\n",
      "            1601269, 1601286, 1601319, 1601333, 1601343, 1601344, 1601359,\n",
      "            1601366, 1601371, 1601442],\n",
      "           dtype='int64', length=91813)\n"
     ]
    }
   ],
   "source": [
    "print(b)"
   ]
  },
  {
   "cell_type": "code",
   "execution_count": 58,
   "metadata": {},
   "outputs": [],
   "source": [
    "for i in b:\n",
    "    df['total_parking_capacity_in_site'][i] = y[i]"
   ]
  },
  {
   "cell_type": "code",
   "execution_count": null,
   "metadata": {},
   "outputs": [],
   "source": []
  }
 ],
 "metadata": {
  "kernelspec": {
   "display_name": "Python 3",
   "language": "python",
   "name": "python3"
  },
  "language_info": {
   "codemirror_mode": {
    "name": "ipython",
    "version": 3
   },
   "file_extension": ".py",
   "mimetype": "text/x-python",
   "name": "python",
   "nbconvert_exporter": "python",
   "pygments_lexer": "ipython3",
   "version": "3.6.5"
  }
 },
 "nbformat": 4,
 "nbformat_minor": 4
}
