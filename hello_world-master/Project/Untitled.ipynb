{
 "cells": [
  {
   "cell_type": "code",
   "execution_count": null,
   "metadata": {},
   "outputs": [],
   "source": [
    "import pandas as pd #Analysis \n",
    "import matplotlib.pyplot as plt #Visulization\n",
    "import seaborn as sns #Visulization\n",
    "import numpy as np #Analysis \n",
    "import os\n",
    "from scipy.stats import norm #Analysis \n",
    "from sklearn.preprocessing import StandardScaler #Analysis \n",
    "from scipy import stats #Analysis \n",
    "import warnings \n",
    "warnings.filterwarnings('ignore')\n",
    "%matplotlib inline\n",
    "\n",
    "from sklearn.model_selection import KFold\n",
    "from sklearn.metrics import mean_absolute_error\n",
    "import gc\n",
    "import lightgbm as lgb\n",
    "\n",
    "from sklearn.metrics import mean_squared_error\n",
    "from sklearn.linear_model import BayesianRidge\n"
   ]
  },
  {
   "cell_type": "code",
   "execution_count": null,
   "metadata": {},
   "outputs": [],
   "source": [
    "os.chdir(r\"C:\\Users\\USER\\20190722_아시아 경제 update\\notebook\\CopyProject\")\n",
    "\n",
    "df = pd.read_csv('example_zigbang.csv')\n",
    "\n",
    "\n",
    "\n",
    "df.head(5)"
   ]
  },
  {
   "cell_type": "code",
   "execution_count": null,
   "metadata": {},
   "outputs": [],
   "source": [
    "df.shape"
   ]
  },
  {
   "cell_type": "code",
   "execution_count": null,
   "metadata": {},
   "outputs": [],
   "source": [
    "N = len(df)\n",
    "ratio = 0.7\n",
    "np.random.seed(0)\n",
    "idx_train = np.random.choice(np.arange(N), np.int(ratio * N), replace=False)\n",
    "idx_test = list(set(np.arange(N)).difference(idx_train))\n",
    "\n",
    "# loc은 컬럼명처럼 명을 기준으로 행과 열을 추출 iloc은 index를 기준으로 행과 열 추출\n",
    "\n",
    "\n",
    "df_train = df.iloc[idx_train]\n",
    "df_test = df.iloc[idx_test]"
   ]
  },
  {
   "cell_type": "code",
   "execution_count": null,
   "metadata": {},
   "outputs": [],
   "source": [
    "df_train.head(5)"
   ]
  },
  {
   "cell_type": "code",
   "execution_count": null,
   "metadata": {},
   "outputs": [],
   "source": [
    "df_train.shape"
   ]
  },
  {
   "cell_type": "code",
   "execution_count": null,
   "metadata": {},
   "outputs": [],
   "source": [
    "df_test.shape"
   ]
  },
  {
   "cell_type": "code",
   "execution_count": null,
   "metadata": {},
   "outputs": [],
   "source": [
    "train = df_train\n",
    "test = df_test"
   ]
  },
  {
   "cell_type": "code",
   "execution_count": null,
   "metadata": {},
   "outputs": [],
   "source": [
    "test.loc[test['key']==1503614,'city'] = 0"
   ]
  },
  {
   "cell_type": "code",
   "execution_count": null,
   "metadata": {},
   "outputs": [],
   "source": [
    "from sklearn.preprocessing import OneHotEncoder\n",
    "from sklearn.metrics import mean_squared_error\n",
    "\n",
    "train_len = train.shape[0]\n",
    "df_all = pd.concat([train,test])\n",
    "\n",
    "index = []\n",
    "for i in range(0,df_all.shape[0]):\n",
    "    index.append(i)\n",
    "df_all['index'] = index\n",
    "\n",
    "train = df_all[:train_len].reset_index(drop=True)\n",
    "df_test = df_all[train_len:].reset_index(drop=True)\n",
    "\n",
    "df_train_busan = train[train['city']==0]\n",
    "df_test_busan = df_test[df_test['city']==0]\n",
    "df_train_seoul = train[train['city']==1]\n",
    "df_test_seoul = df_test[df_test['city']==1]"
   ]
  },
  {
   "cell_type": "code",
   "execution_count": null,
   "metadata": {},
   "outputs": [],
   "source": [
    "busan_val_idx = df_train_busan.groupby(['apartment_id']).tail(1).index #tail 각 그룹의 마지막 n 행을 반환합니다.\n",
    "busan_valid = df_train_busan.loc[busan_val_idx,:]\n",
    "busan_valid = busan_valid[['key','transaction_real_price']]\n",
    "\n",
    "seoul_val_idx = df_train_seoul.groupby(['apartment_id']).tail(1).index\n",
    "seoul_valid = df_train_seoul.loc[seoul_val_idx,:]\n",
    "seoul_valid = seoul_valid[['key','transaction_real_price']]"
   ]
  },
  {
   "cell_type": "code",
   "execution_count": null,
   "metadata": {},
   "outputs": [],
   "source": [
    "print(busan_valid.shape[0],seoul_valid.shape[0])"
   ]
  },
  {
   "cell_type": "code",
   "execution_count": null,
   "metadata": {},
   "outputs": [],
   "source": [
    "del df_train_busan,df_train_seoul,df_test_busan,df_test_seoul\n",
    "del df_test,train,df_all\n",
    "gc.collect()"
   ]
  },
  {
   "cell_type": "code",
   "execution_count": null,
   "metadata": {},
   "outputs": [],
   "source": [
    "df = pd.read_csv('example_zigbang.csv')\n",
    "test_idx = test['key']\n",
    "\n",
    "N = len(df)\n",
    "ratio = 0.7\n",
    "np.random.seed(0)\n",
    "idx_train = np.random.choice(np.arange(N), np.int(ratio * N), replace=False)\n",
    "idx_test = list(set(np.arange(N)).difference(idx_train))\n",
    "\n",
    "df_train = df.iloc[idx_train]\n",
    "df_test = df.iloc[idx_test]\n",
    "\n",
    "train = df_train\n",
    "test = df_test\n",
    "\n",
    "\n",
    "train_up1 = train[train['transaction_year_month']>201806]\n",
    "train_up1['transaction_real_price'] = train_up1['transaction_real_price'] + 10000000\n",
    "\n",
    "train_up2 = train[train['transaction_year_month']>201806]\n",
    "train_up2['transaction_real_price'] = train_up2['transaction_real_price'] + 5000000\n",
    "\n",
    "train = pd.concat([train,train_up1])\n",
    "train = pd.concat([train,train_up2])\n",
    "train = train.reset_index(drop=True)\n",
    "del train_up1,train_up2\n",
    "gc.collect()\n",
    "\n",
    "from sklearn.preprocessing import OneHotEncoder\n",
    "from sklearn.metrics import mean_squared_error\n",
    "\n",
    "train_len = train.shape[0]\n",
    "df_all = pd.concat([train,test])\n",
    "\n",
    "index = []\n",
    "for i in range(0,df_all.shape[0]):\n",
    "    index.append(i)\n",
    "df_all['index'] = index"
   ]
  },
  {
   "cell_type": "code",
   "execution_count": null,
   "metadata": {},
   "outputs": [],
   "source": [
    "df_test.shape"
   ]
  },
  {
   "cell_type": "code",
   "execution_count": null,
   "metadata": {},
   "outputs": [],
   "source": [
    "### 0인 값 대체\n",
    "#loc은 컬럼명처럼 명을 기준으로 행과 열을 추출\n",
    "df_all.loc[(df_all['apartment_id']==2805) & (df_all['supply_area'] > 90),'room_count'] = 3\n",
    "df_all.loc[(df_all['apartment_id']==2805) & (df_all['supply_area'] > 90),'bathroom_count'] = 2\n",
    "\n",
    "df_all.loc[(df_all['apartment_id']==895) & (df_all['supply_area'] > 137),'room_count'] = 4\n",
    "df_all.loc[(df_all['apartment_id']==895) & (df_all['supply_area'] > 137),'bathroom_count'] = 2\n",
    "\n",
    "df_all.loc[(df_all['apartment_id']==903) & (df_all['supply_area'] > 135),'room_count'] = 4\n",
    "df_all.loc[(df_all['apartment_id']==903) & (df_all['supply_area'] > 135),'bathroom_count'] = 2\n",
    "\n",
    "df_all.loc[(df_all['apartment_id']==1622) & (df_all['supply_area'] == 127.07),'room_count'] = 4\n",
    "df_all.loc[(df_all['apartment_id']==1622) & (df_all['supply_area'] == 127.07),'bathroom_count'] = 2\n",
    "\n",
    "df_all.loc[(df_all['apartment_id']==14029) & (df_all['supply_area'] > 100),'room_count'] = 3\n",
    "df_all.loc[(df_all['apartment_id']==14029) & (df_all['supply_area'] > 100),'bathroom_count'] = 1\n",
    "\n",
    "df_all.loc[(df_all['apartment_id']==14029) & (df_all['supply_area'] < 100),'room_count'] = 2\n",
    "df_all.loc[(df_all['apartment_id']==14029) & (df_all['supply_area'] < 100),'bathroom_count'] = 1\n",
    "\n",
    "df_all.loc[(df_all['apartment_id']==12067) & (df_all['supply_area'] >= 95),'room_count'] = 3\n",
    "df_all.loc[(df_all['apartment_id']==12067) & (df_all['supply_area'] >= 95),'bathroom_count'] = 2\n",
    "\n",
    "df_all.loc[(df_all['apartment_id']==12067) & (df_all['supply_area'] == 92),'room_count'] = 3\n",
    "df_all.loc[(df_all['apartment_id']==12067) & (df_all['supply_area'] == 92),'bathroom_count'] = 1\n",
    "\n",
    "df_all.loc[(df_all['apartment_id']==12067) & (df_all['supply_area'] < 90),'room_count'] = 2\n",
    "df_all.loc[(df_all['apartment_id']==12067) & (df_all['supply_area'] < 90),'bathroom_count'] = 1\n",
    "\n",
    "df_all.loc[(df_all['apartment_id']==360) & (df_all['supply_area'] == 189.99),'room_count'] = 5\n",
    "df_all.loc[(df_all['apartment_id']==360) & (df_all['supply_area'] == 189.99),'bathroom_count'] = 2\n",
    "\n",
    "df_all.loc[(df_all['apartment_id']==360) & (df_all['supply_area'] == 154.46),'room_count'] = 4\n",
    "df_all.loc[(df_all['apartment_id']==360) & (df_all['supply_area'] == 154.46),'bathroom_count'] = 2\n",
    "\n",
    "df_all.loc[(df_all['apartment_id']==568) & (df_all['supply_area']//10 == 11.0),'room_count'] = 3\n",
    "df_all.loc[(df_all['apartment_id']==568) & (df_all['supply_area']//10 == 11.0),'bathroom_count'] = 1\n",
    "\n",
    "df_all.loc[(df_all['apartment_id']==1543) & (df_all['supply_area'] > 150 ),'room_count'] = 4\n",
    "df_all.loc[(df_all['apartment_id']==1543) & (df_all['supply_area'] > 150),'bathroom_count'] = 2\n",
    "\n",
    "df_all.loc[(df_all['apartment_id']==618) & (df_all['supply_area'] == 92.94),'room_count'] = 3\n",
    "df_all.loc[(df_all['apartment_id']==618) & (df_all['supply_area'] == 92.94),'bathroom_count'] = 1\n",
    "\n",
    "df_all.loc[(df_all['apartment_id']==618) & (df_all['supply_area'] == 110.57),'room_count'] = 3\n",
    "df_all.loc[(df_all['apartment_id']==618) & (df_all['supply_area'] == 110.57),'bathroom_count'] = 1\n",
    "\n",
    "df_all.loc[(df_all['apartment_id']==4368) & (df_all['supply_area'] > 90),'room_count'] = 3\n",
    "df_all.loc[(df_all['apartment_id']==4368) & (df_all['supply_area'] > 90),'bathroom_count'] = 1\n",
    "\n",
    "df_all.loc[(df_all['apartment_id']==4368) & (df_all['supply_area'] < 90),'room_count'] = 2\n",
    "df_all.loc[(df_all['apartment_id']==4368) & (df_all['supply_area'] < 90),'bathroom_count'] = 1\n",
    "\n",
    "df_all.loc[(df_all['apartment_id']==3701) & (df_all['supply_area'] == 148.55),'room_count'] = 4\n",
    "df_all.loc[(df_all['apartment_id']==3701) & (df_all['supply_area'] == 148.55),'bathroom_count'] = 2\n",
    "\n",
    "df_all.loc[(df_all['apartment_id']==346) & (df_all['supply_area'] > 100),'room_count'] = 3\n",
    "df_all.loc[(df_all['apartment_id']==346) & (df_all['supply_area'] > 100),'bathroom_count'] = 2\n",
    "\n",
    "df_all.loc[(df_all['apartment_id']==1524) & (df_all['supply_area'] == 104.39),'room_count'] = 3\n",
    "df_all.loc[(df_all['apartment_id']==1524) & (df_all['supply_area'] == 104.39),'bathroom_count'] = 2\n",
    "\n",
    "df_all.loc[(df_all['apartment_id']==1524) & (df_all['supply_area'] == 175.60),'room_count'] = 5\n",
    "df_all.loc[(df_all['apartment_id']==1524) & (df_all['supply_area'] == 175.60),'bathroom_count'] = 2\n",
    "\n",
    "df_all.loc[(df_all['apartment_id']==431) & (df_all['supply_area']//10 == 9.0),'room_count'] = 3\n",
    "df_all.loc[(df_all['apartment_id']==431) & (df_all['supply_area']//10 == 9.0),'bathroom_count'] = 1\n",
    "\n",
    "df_all.loc[(df_all['apartment_id']==431) & (df_all['supply_area']//10 == 10.0),'room_count'] = 3\n",
    "df_all.loc[(df_all['apartment_id']==431) & (df_all['supply_area']//10 == 10.0),'bathroom_count'] = 2\n",
    "\n",
    "df_all.loc[(df_all['apartment_id']==431) & (df_all['supply_area']//10 == 13.0),'room_count'] = 4\n",
    "df_all.loc[(df_all['apartment_id']==431) & (df_all['supply_area']//10 == 13.0),'bathroom_count'] = 2\n",
    "\n",
    "df_all.loc[(df_all['apartment_id']==431) & (df_all['supply_area']//10 == 14.0),'room_count'] = 4\n",
    "df_all.loc[(df_all['apartment_id']==431) & (df_all['supply_area']//10 == 14.0),'bathroom_count'] = 2\n",
    "\n",
    "df_all.loc[(df_all['apartment_id']==1112) & (df_all['supply_area']//10 == 7.0),'room_count'] = 3\n",
    "df_all.loc[(df_all['apartment_id']==1112) & (df_all['supply_area']//10 == 7.0),'bathroom_count'] = 1\n",
    "\n",
    "df_all.loc[(df_all['apartment_id']==65) & (df_all['supply_area']//10 == 11.0),'room_count'] = 3\n",
    "df_all.loc[(df_all['apartment_id']==65) & (df_all['supply_area']//10 == 11.0),'bathroom_count'] = 1\n",
    "\n",
    "df_all.loc[(df_all['apartment_id']==541) & (df_all['supply_area']//10 == 8.0),'room_count'] = 2\n",
    "df_all.loc[(df_all['apartment_id']==541) & (df_all['supply_area']//10 == 8.0),'bathroom_count'] = 1\n",
    "\n",
    "df_all.loc[(df_all['apartment_id']==184) & (df_all['supply_area'] == 66.12),'room_count'] = 2\n",
    "df_all.loc[(df_all['apartment_id']==184) & (df_all['supply_area'] == 66.12),'bathroom_count'] = 1\n",
    "\n",
    "df_all.loc[(df_all['apartment_id']==2601) & (df_all['supply_area'] == 104.97),'room_count'] = 3\n",
    "df_all.loc[(df_all['apartment_id']==2601) & (df_all['supply_area'] == 104.97),'bathroom_count'] = 2\n",
    "\n",
    "df_all.loc[(df_all['apartment_id']==6161) & (df_all['supply_area'] == 99.91),'room_count'] = 3\n",
    "df_all.loc[(df_all['apartment_id']==6161) & (df_all['supply_area'] == 99.91),'bathroom_count'] = 2\n",
    "\n",
    "df_all.loc[(df_all['apartment_id']==3685) & (df_all['supply_area'] == 115.70),'room_count'] = 3\n",
    "df_all.loc[(df_all['apartment_id']==3685) & (df_all['supply_area'] == 115.70),'bathroom_count'] = 2\n",
    "\n",
    "df_all.loc[(df_all['apartment_id']==21288) & (df_all['supply_area'] == 116.03),'room_count'] = 3\n",
    "df_all.loc[(df_all['apartment_id']==21288) & (df_all['supply_area'] == 116.03),'bathroom_count'] = 1\n",
    "\n",
    "df_all.loc[(df_all['apartment_id']==10636) & (df_all['supply_area'] == 112.40),'room_count'] = 3\n",
    "df_all.loc[(df_all['apartment_id']==10636) & (df_all['supply_area'] == 112.40),'bathroom_count'] = 2\n",
    "\n",
    "df_all.loc[(df_all['apartment_id']==1162) & (df_all['supply_area'] == 154.71),'room_count'] = 4\n",
    "df_all.loc[(df_all['apartment_id']==1162) & (df_all['supply_area'] == 154.71),'bathroom_count'] = 2\n",
    "\n",
    "df_all.loc[(df_all['apartment_id']==10989) & (df_all['supply_area'] == 110.51),'room_count'] = 3\n",
    "df_all.loc[(df_all['apartment_id']==10989) & (df_all['supply_area'] == 110.51),'bathroom_count'] = 2\n",
    "\n",
    "df_all.loc[(df_all['apartment_id']==11096) & (df_all['supply_area'] == 97.09),'room_count'] = 4\n",
    "df_all.loc[(df_all['apartment_id']==11096) & (df_all['supply_area'] == 97.09),'bathroom_count'] = 1\n",
    "\n",
    "df_all.loc[(df_all['apartment_id']==184) & (df_all['supply_area'] == 69.42),'room_count'] = 2\n",
    "df_all.loc[(df_all['apartment_id']==184) & (df_all['supply_area'] == 69.42),'bathroom_count'] = 1\n",
    "\n",
    "df_all.loc[(df_all['apartment_id']==534) & (df_all['supply_area'] //10 == 11.0),'room_count'] = 3\n",
    "df_all.loc[(df_all['apartment_id']==534) & (df_all['supply_area'] //10 == 11.0),'bathroom_count'] = 1\n",
    "\n",
    "df_all.loc[(df_all['apartment_id']==17384) & (df_all['supply_area'] //10 == 11.0),'room_count'] = 3\n",
    "df_all.loc[(df_all['apartment_id']==17384) & (df_all['supply_area'] //10 == 11.0),'bathroom_count'] = 2\n",
    "\n",
    "df_all.loc[(df_all['apartment_id']==431) & (df_all['supply_area'] //10 == 10.0),'room_count'] = 3\n",
    "df_all.loc[(df_all['apartment_id']==431) & (df_all['supply_area'] //10 == 10.0),'bathroom_count'] = 2\n",
    "\n",
    "df_all.loc[(df_all['apartment_id']==4058) & (df_all['supply_area'] //10 == 9.0),'room_count'] = 3\n",
    "df_all.loc[(df_all['apartment_id']==4058) & (df_all['supply_area'] //10 == 9.0),'bathroom_count'] = 2\n",
    "\n",
    "#df_all.loc[(df_all['apartment_id']==1388) & (df_all['room_count']==0)]\n",
    "df_all.loc[(df_all['apartment_id']==1388) & (df_all['supply_area'] //10 == 14.0),'room_count'] = 4\n",
    "df_all.loc[(df_all['apartment_id']==1388) & (df_all['supply_area'] //10 == 14.0),'bathroom_count'] = 2\n",
    "\n",
    "df_all.loc[(df_all['apartment_id']==7136) & (df_all['supply_area'] //10 == 7.0),'room_count'] = 3\n",
    "df_all.loc[(df_all['apartment_id']==7136) & (df_all['supply_area'] //10 == 7.0),'bathroom_count'] = 1\n",
    "\n",
    "#df_all.loc[(df_all['apartment_id']==18737)]\n",
    "df_all.loc[(df_all['apartment_id']==18737) & (df_all['supply_area'] //10 == 17.0),'room_count'] = 3\n",
    "df_all.loc[(df_all['apartment_id']==18737) & (df_all['supply_area'] //10 == 17.0),'bathroom_count'] = 2\n",
    "\n",
    "df_all.loc[(df_all['apartment_id']==18741) & (df_all['supply_area'] >= 160),'room_count'] = 4\n",
    "df_all.loc[(df_all['apartment_id']==18741) & (df_all['supply_area'] >= 160),'bathroom_count'] = 2\n",
    "\n",
    "#df_all.loc[(df_all['apartment_id']==18732)]\n",
    "\n",
    "df_all.loc[(df_all['apartment_id']==18732) & (df_all['supply_area'] //10 == 11.0),'room_count'] = 3\n",
    "df_all.loc[(df_all['apartment_id']==18732) & (df_all['supply_area'] //10 == 11.0),'bathroom_count'] = 2\n",
    "\n",
    "df_all.loc[(df_all['apartment_id']==18732) & (df_all['supply_area'] //10 == 18.0),'room_count'] = 4\n",
    "df_all.loc[(df_all['apartment_id']==18732) & (df_all['supply_area'] //10 == 18.0),'bathroom_count'] = 2\n",
    "\n",
    "df_all.loc[(df_all['apartment_id']==360) & (df_all['supply_area'] //10 == 16.0),'room_count'] = 4\n",
    "df_all.loc[(df_all['apartment_id']==360) & (df_all['supply_area'] //10 == 16.0),'bathroom_count'] = 2\n",
    "\n",
    "df_all.loc[(df_all['apartment_id']==8460) & (df_all['supply_area'] //10 == 8.0),'room_count'] = 3\n",
    "df_all.loc[(df_all['apartment_id']==8460) & (df_all['supply_area'] //10 == 8.0),'bathroom_count'] = 2\n",
    "\n",
    "df_all.loc[(df_all['apartment_id']==6175) & (df_all['supply_area'] > 290),'room_count'] = 5\n",
    "df_all.loc[(df_all['apartment_id']==6175) & (df_all['supply_area'] > 290),'bathroom_count'] = 3\n",
    "\n",
    "df_all.loc[(df_all['apartment_id']==6232)]\n",
    "df_all.loc[(df_all['apartment_id']==6232) & (df_all['supply_area'] //10 == 19.0),'room_count'] = 3\n",
    "df_all.loc[(df_all['apartment_id']==6232) & (df_all['supply_area'] //10 == 19.0),'bathroom_count'] = 2\n",
    "\n",
    "df_all.loc[(df_all['apartment_id']==15502) & (df_all['supply_area'] //10 == 10.0),'room_count'] = 3\n",
    "df_all.loc[(df_all['apartment_id']==15502) & (df_all['supply_area'] //10 == 10.0),'bathroom_count'] = 2\n",
    "\n",
    "df_all.loc[(df_all['apartment_id']==568) & (df_all['supply_area'] //10 == 19.0),'room_count'] = 5\n",
    "df_all.loc[(df_all['apartment_id']==568) & (df_all['supply_area'] //10 == 19.0),'bathroom_count'] = 2\n",
    "\n",
    "df_all.loc[(df_all['apartment_id']==16837) & (df_all['supply_area'] //10 == 9.0),'room_count'] = 3\n",
    "df_all.loc[(df_all['apartment_id']==16837) & (df_all['supply_area'] //10 == 9.0),'bathroom_count'] = 2\n",
    "\n",
    "df_all.loc[(df_all['apartment_id']==37468) & (df_all['supply_area']  <= 200),'room_count'] = 3\n",
    "df_all.loc[(df_all['apartment_id']==37468) & (df_all['supply_area']  <= 200),'bathroom_count'] = 2"
   ]
  },
  {
   "cell_type": "code",
   "execution_count": null,
   "metadata": {},
   "outputs": [],
   "source": [
    "### 방과 화장실 결측치\n",
    "df_all.loc[df_all['apartment_id'] == 9005, ['room_count']] = 1\n",
    "df_all.loc[df_all['apartment_id'] == 9005, ['bathroom_count']] = 1\n",
    "\n",
    "df_all.loc[df_all['apartment_id'] == 1179, ['room_count']] = 4\n",
    "df_all.loc[df_all['apartment_id'] == 1179, ['bathroom_count']] = 2\n",
    "\n",
    "df_all.loc[df_all['apartment_id'] == 10627, ['room_count']] = 3\n",
    "df_all.loc[df_all['apartment_id'] == 10627, ['bathroom_count']] = 1\n",
    "\n",
    "df_all.loc[(df_all['apartment_id'] == 10627) & (df_all['supply_area'] == 56.61), ['room_count']] = 2\n",
    "df_all.loc[(df_all['apartment_id'] == 10627) & (df_all['supply_area'] == 56.61), ['bathroom_count']] = 1\n",
    "\n",
    "df_all.loc[(df_all['apartment_id'] == 7992) , ['room_count']] = 3\n",
    "df_all.loc[\n",
    "(df_all['apartment_id'] == 7992) & (df_all['supply_area'] <= 81), ['bathroom_count']] = 1\n",
    "df_all.loc[(df_all['apartment_id'] == 7992) & (df_all['supply_area'] > 81), ['bathroom_count']] = 2\n",
    "\n",
    "df_all.loc[(df_all['apartment_id'] == 7118) & (df_all['supply_area'] == 75.55), ['room_count']] = 3\n",
    "df_all.loc[(df_all['apartment_id'] == 7118) & (df_all['supply_area'] == 75.55), ['bathroom_count']] = 1\n",
    "\n",
    "df_all.loc[(df_all['apartment_id'] == 7118) & (df_all['supply_area']//10 == 5.0), ['room_count']] = 2\n",
    "df_all.loc[(df_all['apartment_id'] == 7118) & (df_all['supply_area']//10 == 5.0), ['bathroom_count']] = 1\n",
    "\n",
    "df_all.loc[(df_all['apartment_id'] == 4047) & (df_all['supply_area']//10 == 11.0), ['room_count']] = 3\n",
    "df_all.loc[(df_all['apartment_id'] == 4047) & (df_all['supply_area']//10 == 11.0), ['bathroom_count']] =2\n",
    "\n",
    "df_all.loc[(df_all['apartment_id'] == 37175) & (df_all['supply_area'] < 80), ['room_count']] = 2\n",
    "df_all.loc[(df_all['apartment_id'] == 37175) & (df_all['supply_area'] < 80), ['bathroom_count']] = 1\n",
    "\n",
    "df_all.loc[(df_all['apartment_id'] == 37175) & (df_all['supply_area'] > 80), ['room_count']] = 3\n",
    "df_all.loc[(df_all['apartment_id'] == 37175) & (df_all['supply_area'] > 80), ['bathroom_count']] = 2"
   ]
  },
  {
   "cell_type": "code",
   "execution_count": null,
   "metadata": {},
   "outputs": [],
   "source": [
    "### 주차장 결측치\n",
    "df_all.loc[(df_all['total_parking_capacity_in_site'].isnull()), ['total_parking_capacity_in_site']] = 0"
   ]
  },
  {
   "cell_type": "code",
   "execution_count": null,
   "metadata": {},
   "outputs": [],
   "source": [
    "### 히트 결측치\n",
    "df_all.loc[(df_all['heat_type'].isnull()), ['heat_type']] = 'None'\n",
    "df_all.loc[(df_all['heat_fuel'].isnull()), ['heat_fuel']] = 'None'"
   ]
  },
  {
   "cell_type": "code",
   "execution_count": null,
   "metadata": {},
   "outputs": [],
   "source": [
    "### 현관구조 결측치\n",
    "df_all.loc[(df_all['heat_fuel'].isnull()), ['front_door_structure']] = 'None'"
   ]
  },
  {
   "cell_type": "code",
   "execution_count": null,
   "metadata": {},
   "outputs": [],
   "source": [
    "### 용적률(容積率)은 건축 용어로 전체 대지면적에 대한 건물 연면적의 비율을 뜻하며 백분율로 표시한다. \n",
    "### 용적률이 높을수록 건축할 수 있는 연면적이 많아져 건축밀도가 높아지므로, 적정 주거환경을 보장하기 위하여 용적률의 상한선을 지정한다.\n",
    "df_all['effective_ratio'] = (df_all['exclusive_use_area'] / df_all['supply_area']) * 100"
   ]
  },
  {
   "cell_type": "code",
   "execution_count": null,
   "metadata": {},
   "outputs": [],
   "source": [
    "### 시간을 좀 더 세부적으로 나타냄. \n",
    "df_all['transaction_date1'] = df_all.transaction_date.apply(lambda x: x[-2:])\n",
    "#convert int to date\n",
    "df_all['transaction_year_month1'] = df_all['transaction_year_month'].astype(str)\n",
    "#join month and date \n",
    "df_all['transaction_year_month_date'] = df_all[['transaction_year_month1', 'transaction_date1']].apply(lambda x: ''.join(x), axis=1)\n",
    "#convert  month and date to datetime \n",
    "df_all['transaction_year_month_date'] = pd.to_datetime(df_all['transaction_year_month_date'] )\n",
    "#reindext datetime\n",
    "del df_all['transaction_date1']; del df_all['transaction_year_month1']"
   ]
  },
  {
   "cell_type": "code",
   "execution_count": null,
   "metadata": {},
   "outputs": [],
   "source": [
    "### 계산의 편의성을 위해 날짜를 만들어 둠.\n",
    "df_all['year'] = df_all['transaction_year_month_date'].dt.year\n",
    "df_all['month'] = df_all['transaction_year_month_date'].dt.month\n",
    "df_all['month'] = df_all['month'].apply(lambda x : x-1 if x%2 == 0 else x)\n",
    "df_all['mean_year_month'] = df_all['year']*100 + df_all['month']\n",
    "del df_all['year']\n",
    "del df_all['month']"
   ]
  },
  {
   "cell_type": "code",
   "execution_count": null,
   "metadata": {},
   "outputs": [],
   "source": [
    "### 동일한 아파트의 가장 최근의 거래와 현재 거래의 차이를 계산\n",
    "df_all['last_month'] = df_all.groupby(['apartment_id'])['transaction_year_month'].shift(1)\n",
    "df_all['diff_month'] = df_all['transaction_year_month'] - df_all['last_month']\n",
    "del df_all['last_month']\n",
    "\n",
    "### 방의 총 갯수 ( 화장실 + 방 )\n",
    "df_all['total_room'] = df_all['room_count'] + df_all['bathroom_count']\n",
    "\n",
    "### Last_price_1과 3은 동일한 아파트의 면적대비 거래액을 의미. 추가로 현재 면적을 곱해줘야 함. \n",
    "df_all['last_price_1'] = df_all['transaction_real_price']/df_all['exclusive_use_area']\n",
    "df_all['last_price_1'] = df_all.groupby(['apartment_id'])['last_price_1'].shift(1)\n",
    "\n",
    "df_all['last_price_3'] = df_all['transaction_real_price']/df_all['supply_area']\n",
    "df_all['last_price_3'] = df_all.groupby(['apartment_id'])['last_price_3'].shift(1)\n",
    "\n",
    "df_all['last_area'] = df_all.groupby(['apartment_id'])['exclusive_use_area'].shift(1)\n",
    "df_all['last_transaction_year_month'] = df_all.groupby(['apartment_id'])['transaction_year_month'].shift(1)\n",
    "#df_all['transaction_real_price'] = np.log1p(df_all['transaction_real_price'])\n",
    "\n",
    "df_all['last_price_1'] = df_all['last_price_1'] * df_all['exclusive_use_area'] #현재 면적을 곱해줘서 비교를 가능하게 만듬.\n",
    "df_all['last_price_3'] = df_all['last_price_3'] * df_all['supply_area'] #현재 면적을 곱해줘서 비교를 가능하게 만듬.\n",
    "del df_all['last_area'],df_all['last_transaction_year_month']\n",
    "\n",
    "### log를 씌어줘서 정규성을 띄게 만듬. \n",
    "df_all['last_price_1'] = np.log1p(df_all['last_price_1'])\n",
    "df_all['last_price_3'] = np.log1p(df_all['last_price_3'])\n",
    "df_all['transaction_real_price'] = np.log1p(df_all['transaction_real_price'])\n",
    "\n",
    "### 빌딩의 간격계산\n",
    "df_all['difference_building_height'] = df_all['tallest_building_in_sites'] - df_all['lowest_building_in_sites']\n",
    "### 세대당 주차수 계산\n",
    "df_all['capacity_per_household'] = df_all['total_parking_capacity_in_site']/df_all['total_household_count_in_sites']\n",
    "\n",
    "### 아파트당 세대 수 계산\n",
    "df_all['household_per_building'] = df_all['total_household_count_in_sites']/df_all['apartment_building_count_in_sites']\n",
    "\n",
    "### 아파트당 타입의 비율 계산\n",
    "df_all['areahousehold_per_household'] = df_all['total_household_count_of_area_type']/df_all['total_household_count_in_sites']\n",
    "\n",
    "df_all['year'] = df_all['transaction_year_month']//100\n",
    "\n",
    "### 거래된 기간과 완성된 년도의 차이 계산\n",
    "df_all['transaction_diff_completion'] = df_all['transaction_year_month'] - df_all['year_of_completion']\n",
    "\n",
    "### 몇번째 층인지 비율 계산\n",
    "df_all['floor_ratio'] = df_all['floor']/df_all['tallest_building_in_sites']\n",
    "\n",
    "### 재개발 예정인지 가중치 줌. \n",
    "### 35를 상한선으로 잡은것은 이 이상이 되면 재개발 될 거라는 심리가 떨어져서 임.\n",
    "df_all['weight'] = 0\n",
    "df_all.loc[((df_all['year']-df_all['year_of_completion']) >= 25) & ((df_all['year']-df_all['year_of_completion']) < 35) &\n",
    "           (df_all['effective_ratio'] >= 80) & (df_all['tallest_building_in_sites'] <=5),'weight'] = 1"
   ]
  },
  {
   "cell_type": "code",
   "execution_count": null,
   "metadata": {},
   "outputs": [],
   "source": [
    "df_train.columns\n",
    "df_test.columns"
   ]
  },
  {
   "cell_type": "code",
   "execution_count": null,
   "metadata": {},
   "outputs": [],
   "source": [
    "df.['trnasaction_real_price'].mean()"
   ]
  },
  {
   "cell_type": "code",
   "execution_count": null,
   "metadata": {},
   "outputs": [],
   "source": [
    "\n",
    "\n",
    "apartment = df_train.apartment_building_count_in_sites\n"
   ]
  },
  {
   "cell_type": "code",
   "execution_count": null,
   "metadata": {},
   "outputs": [],
   "source": [
    "df_all = df_all.reset_index(drop=True)"
   ]
  },
  {
   "cell_type": "code",
   "execution_count": null,
   "metadata": {},
   "outputs": [],
   "source": [
    "### 구청\n",
    "public = df_train.total_parking_capacity_in_site\n"
   ]
  },
  {
   "cell_type": "code",
   "execution_count": null,
   "metadata": {},
   "outputs": [],
   "source": [
    "df_all.transaction_real_price"
   ]
  },
  {
   "cell_type": "code",
   "execution_count": null,
   "metadata": {},
   "outputs": [],
   "source": [
    "from sklearn.decomposition import PCA, KernelPCA\n",
    "from sklearn.preprocessing import MinMaxScaler\n",
    "from sklearn.decomposition import PCA, FastICA,NMF,LatentDirichletAllocation,IncrementalPCA,MiniBatchSparsePCA\n",
    "from sklearn.decomposition import TruncatedSVD,FactorAnalysis,KernelPCA\n",
    "\n",
    "train_df = df_all.loc[df_all['transaction_real_price'] > 19]\n",
    "test_df = df_all.loc[df_all['transaction_real_price'] <= 19 ]\n",
    "\n",
    "train_len = train_df.shape[0]\n",
    "\n",
    "### 날짜와 object, 공공데이터는 제거. \n",
    "train_columns = [c for c in train_df.columns if c not in ['key','transaction_real_price','transaction_year_month_date','transaction_date','heat_type','heat_fuel',\n",
    "                                                          'front_door_structure']]\n",
    "\n",
    "train_columns\n"
   ]
  },
  {
   "cell_type": "code",
   "execution_count": null,
   "metadata": {},
   "outputs": [],
   "source": [
    "# PCA\n",
    "n_comp = 1"
   ]
  },
  {
   "cell_type": "code",
   "execution_count": null,
   "metadata": {},
   "outputs": [],
   "source": [
    "# ICA\n",
    "ica = FastICA(n_components=n_comp, random_state=2019)\n",
    "ica2_results_train = ica.fit_transform(train_df[train_columns].fillna(-1))\n",
    "ica2_results_test = ica.transform(test_df[train_columns].fillna(-1))"
   ]
  },
  {
   "cell_type": "code",
   "execution_count": null,
   "metadata": {},
   "outputs": [],
   "source": [
    "for i in range(1, n_comp+1):\n",
    "    train_df['ica_' + str(i)] = ica2_results_train[:,i-1]\n",
    "    test_df['ica_' + str(i)] = ica2_results_test[:, i-1]\n",
    "    train_columns.append('ica_' + str(i))\n",
    "\n",
    "df_all = pd.concat([train_df,test_df])\n",
    "df_all = df_all.sort_values('index').reset_index(drop=True)"
   ]
  },
  {
   "cell_type": "code",
   "execution_count": null,
   "metadata": {},
   "outputs": [],
   "source": [
    "### 날짜 형식변경\n",
    "df_all['transaction_date1'] = df_all.transaction_date.apply(lambda x: x[-2:])\n",
    "#convert int to date\n",
    "df_all['transaction_year_month1'] = df_all['transaction_year_month'].astype(str)\n",
    "#astype는 dtype를 바꿔줌\n",
    "\n",
    "#join month and date \n",
    "df_all['transaction_year_month_date'] = df_all[['transaction_year_month1', 'transaction_date1']].apply(lambda x: ''.join(x), axis=1)\n",
    "df_all['transaction_year_month_date'] = df_all['transaction_year_month_date'].astype(int)\n",
    "\n",
    "del df_all['transaction_date1']; del df_all['transaction_year_month1']\n",
    "del df_all['transaction_year_month']; del df_all['transaction_date'] ; del df_all['year']"
   ]
  },
  {
   "cell_type": "code",
   "execution_count": null,
   "metadata": {},
   "outputs": [],
   "source": [
    "train.columns"
   ]
  },
  {
   "cell_type": "code",
   "execution_count": null,
   "metadata": {},
   "outputs": [],
   "source": [
    "### One-hot-encoding\n",
    "df_all = pd.get_dummies(df_all)  #pandas의 get_dummies 함수는 숫자 특성은 모두 연속형이라고 생각해서 가변수를 만들지 않는다.\n",
    "train = df_all[:train_len]\n",
    "df_test = df_all[train_len:]\n",
    "del df_all\n",
    "train = train.sort_values('index')\n",
    "df_test = df_test.sort_values('index')\n"
   ]
  },
  {
   "cell_type": "code",
   "execution_count": null,
   "metadata": {},
   "outputs": [],
   "source": [
    "excluded_features = [\n",
    "    'transaction_real_price'\n",
    "]\n",
    "\n",
    "categorical_features = [\n",
    "    'apartment_id'\n",
    "]"
   ]
  },
  {
   "cell_type": "code",
   "execution_count": null,
   "metadata": {},
   "outputs": [],
   "source": [
    "del train['index']\n",
    "del df_test['index']\n",
    "del train['mean_year_month']\n",
    "del df_test['mean_year_month']"
   ]
  },
  {
   "cell_type": "code",
   "execution_count": null,
   "metadata": {},
   "outputs": [],
   "source": [
    "df_train_busan = train[train['city']==0].reset_index(drop=True)\n",
    "df_test_busan = df_test[df_test['city']==0].reset_index(drop=True)\n",
    "df_train_seoul = train[train['city']==1].reset_index(drop=True)\n",
    "df_test_seoul = df_test[df_test['city']==1].reset_index(drop=True)"
   ]
  },
  {
   "cell_type": "code",
   "execution_count": null,
   "metadata": {},
   "outputs": [],
   "source": [
    "import time \n",
    "y_train = df_train_seoul['transaction_real_price'].reset_index(drop=True)\n",
    "\n",
    "x_train = df_train_seoul.copy().reset_index(drop=True)\n",
    "del x_train['city']; del x_train['transaction_real_price']; del x_train['last_price_3'];  del x_train['ica_1']\n",
    "\n",
    "\n",
    "excluded_features = ['key','floor']\n",
    "train_features = [_f for _f in x_train.columns if _f not in excluded_features]\n",
    "\n",
    "seoul_key = df_test_seoul['key'].values\n",
    "seoul_floor = df_test_seoul['floor'].values\n",
    "x_test = df_test_seoul[train_features].reset_index(drop=True)"
   ]
  },
  {
   "cell_type": "code",
   "execution_count": null,
   "metadata": {},
   "outputs": [],
   "source": [
    "# LightGBM\n",
    "import time\n",
    "folds = KFold(n_splits=5,random_state=6,shuffle=True)\n",
    "\"\"\"\n",
    "n_splits : fold의 개수. 만약 n_splits=10이면 10fold가 있고, 1개가 training set 나머지 9개가 test set으로 쓰이는 것이다.\n",
    "\n",
    "shuffle: 나누기 전에 shuffle할 건지 말 건지 선택.\n",
    "데이터 순서가 임의적이지 않을 경우 shuffle =True로 하기도 한다. \n",
    "하지만 샘플들이 iid(independently and identicallly distributed) 하지 않다면 shuffling하지 않는 것이 오히려 낫다.(예.순서형 자료)\n",
    "\n",
    "random_state: int를 부여할 경우 seed와 같은 역할을 해서 shuffle을 동일하게 한다. \n",
    "'RandomState instance'일 경우 random number를 생성한다. 'None'일 경우 np.random을 사용하여 random number를 생성한다. \n",
    "shuffle=True일 경우에 사용되는 파라미터이다.\n",
    "\"\"\"\n",
    "\n",
    "oof_preds = np.zeros(x_train.shape[0])\n",
    "sub_preds = np.zeros(x_test.shape[0])\n",
    "\n",
    "#training_set 할 fold 한개를 0으로 채워줌\n",
    "\n",
    "start = time.time()\n",
    "valid_score = 0\n",
    "\n",
    "#시간을 표현하는 time 모듈이다. 시간대는 UTC(Universal Time Coordinated, 협정 세계시)를 사용한다.\n",
    "\n",
    "feature_importance_df = pd.DataFrame()\n",
    "\n",
    "#데이터 객체 생성\n",
    "\n",
    "for n_fold, (trn_idx, val_idx) in enumerate(folds.split(x_train, y_train)):\n",
    "    trn_x, trn_y = x_train[train_features].iloc[trn_idx], y_train[trn_idx]\n",
    "    val_x, val_y = x_train[train_features].iloc[val_idx], y_train[val_idx]\n",
    "    \n",
    "    #iloc: integer positon를 통해 값을 찾을 수 있다. label로는 찾을 수 없다 \n",
    "    \n",
    "    train_data = lgb.Dataset(data=trn_x, label=trn_y)\n",
    "    valid_data = lgb.Dataset(data=val_x, label=val_y) \n",
    "    \n",
    "    #k-fold의 느린 속도를 보완하기 위해 LightGBM알고리즘 사용\n",
    "    \n",
    "    \n",
    "    # Train the model\n",
    "    params = {\"objective\" : \"regression\", \"metric\" : \"quantile\", 'n_estimators': 20000, 'early_stopping_rounds':110, \n",
    "              \"num_leaves\" : 30, \"learning_rate\" : 0.15, \"bagging_fraction\" : 0.9, \"lambda_l1\" : 0.1,\n",
    "               \"bagging_seed\" : 0}\n",
    "    #params는 부스터의 매개변수\n",
    "    \n",
    "    \n",
    "    #regression 선형,척도(metric): 분위수를 반환(quantile), 돌리는 횟수(20000개로 설정), early_stopping_rounds' 검증 점수가 110 라운드 동안 향상되지 않을 때까지 훈련.\n",
    "    #num_leaves 트리 모델의 복잡성을 제어하는 주요 매개 변수, learning rate 0.15로 설정, bagging_fraction 더 빠른 속도를 위해 설정하여 할 를 사용, \n",
    "    #과적합을 다루기 위해 lambda_l1 시도, seed 설정\n",
    "    \n",
    "    \n",
    "    lgb_model = lgb.train(params, train_data, valid_sets=[train_data, valid_data], verbose_eval=1000) \n",
    "    \n",
    "    #verbose_eval 로 출력 비를 정해줌 \n",
    "    #주어진 매개 변수로 훈련을 수행하십시오.\n",
    "    \n",
    "    #예측 모델 \n",
    "    oof_preds[val_idx] = lgb_model.predict(val_x, num_iteration=lgb_model.best_iteration) #num_iteration ( int 또는 None , optional ( default = None ) ) - 예측에서 반복 횟수를 제한\n",
    "    sub_pred = lgb_model.predict(x_test, num_iteration=lgb_model.best_iteration) / folds.n_splits\n",
    "    #test할 예측 모델을 k개로 나눔 \n",
    "    sub_preds += sub_pred\n",
    "    \n",
    "    \n",
    "    #print('Fold %2d rmse : %.6f' % (n_fold + 1, np.sqrt(mean_squared_error(val_y, oof_preds[val_idx]))))\n",
    "    valid_score += mean_squared_error(val_y, oof_preds[val_idx])\n",
    "    \n",
    "    fold_importance_df = pd.DataFrame()\n",
    "    fold_importance_df[\"feature\"] = train_features\n",
    "    fold_importance_df[\"importance\"] = lgb_model.feature_importance() #피쳐를 가져옴\n",
    "    fold_importance_df[\"fold\"] = n_fold + 1 \n",
    "    feature_importance_df = pd.concat([feature_importance_df, fold_importance_df], axis=0)\n",
    "    #concat으로 feature_importance_df, fold_importance_df 두개의 데이터프레임을 합쳐줌\n",
    "    \n",
    "    gc.collect()\n",
    "    \n",
    "    \"\"\"\n",
    "    순환 참조 탐지 알고리즘을 수행하고 특정 세대에서 도달할 수 있는 객체(reachable)와 도달할 수 없는 객체(unreachable)를 \n",
    "    구분하고 도달할 수 없는 객체 집합을 찾는다. \n",
    "    도달할 수 있는 객체 집합은 다음 상위 세대로 합쳐지고(0세대에서 수행되었으면 1세대로 이동), \n",
    "    도달할 수 없는 객체 집합은 콜백을 수행한 후 메모리에서 해제된다.\n",
    "    \"\"\"\n",
    "    \n",
    "print('Full rmse score %.6f\\n' % np.sqrt(mean_squared_error(np.expm1(y_train), np.expm1(oof_preds))))"
   ]
  },
  {
   "cell_type": "code",
   "execution_count": null,
   "metadata": {},
   "outputs": [],
   "source": []
  },
  {
   "cell_type": "code",
   "execution_count": null,
   "metadata": {},
   "outputs": [],
   "source": [
    "a = np.array(trn_y)"
   ]
  },
  {
   "cell_type": "code",
   "execution_count": null,
   "metadata": {},
   "outputs": [],
   "source": [
    "b=a.reshape(-1, 1)"
   ]
  },
  {
   "cell_type": "code",
   "execution_count": null,
   "metadata": {},
   "outputs": [],
   "source": [
    "from sklearn.preprocessing import StandardScaler\n",
    "trn_y_Y =StandardScaler().fit_transform(b)"
   ]
  },
  {
   "cell_type": "code",
   "execution_count": null,
   "metadata": {},
   "outputs": [],
   "source": [
    "from sklearn.decomposition import PCA\n",
    "pca = PCA(n_components=1)\n",
    "pc = pca.fit_transform(trn_y_Y)\n",
    "plt.plot(pc)\n",
    "plt.show()"
   ]
  },
  {
   "cell_type": "code",
   "execution_count": null,
   "metadata": {},
   "outputs": [],
   "source": [
    "plt.scatter(pc[:,0], pc[:,-1])"
   ]
  },
  {
   "cell_type": "code",
   "execution_count": null,
   "metadata": {},
   "outputs": [],
   "source": [
    "plt.hist(pc, bins=100, color='green', density=True)\n",
    "plt.show()"
   ]
  },
  {
   "cell_type": "code",
   "execution_count": null,
   "metadata": {},
   "outputs": [],
   "source": [
    "type(val_y)"
   ]
  },
  {
   "cell_type": "code",
   "execution_count": null,
   "metadata": {},
   "outputs": [],
   "source": [
    "val_numpy=np.array(val_y)\n",
    "val_reshape=val_numpy.reshape(-1, 1)"
   ]
  },
  {
   "cell_type": "code",
   "execution_count": null,
   "metadata": {},
   "outputs": [],
   "source": [
    "pca1 = PCA(n_components=1)\n",
    "pc1 = pca1.fit_transform(val_reshape)\n",
    "plt.plot(pc1)\n",
    "plt.show()"
   ]
  },
  {
   "cell_type": "code",
   "execution_count": null,
   "metadata": {},
   "outputs": [],
   "source": [
    "plt.hist(pc1, bins=100, color='green', density=True)\n",
    "plt.show()"
   ]
  },
  {
   "cell_type": "code",
   "execution_count": null,
   "metadata": {},
   "outputs": [],
   "source": [
    "plt.boxplot([pc, pc1], 0, vert=True)\n",
    "plt.show()"
   ]
  },
  {
   "cell_type": "code",
   "execution_count": null,
   "metadata": {},
   "outputs": [],
   "source": [
    "feature_importance_df"
   ]
  },
  {
   "cell_type": "code",
   "execution_count": null,
   "metadata": {},
   "outputs": [],
   "source": [
    "fold_importance_df"
   ]
  },
  {
   "cell_type": "code",
   "execution_count": null,
   "metadata": {},
   "outputs": [],
   "source": [
    "feature_importance_df"
   ]
  }
 ],
 "metadata": {
  "kernelspec": {
   "display_name": "Python 3",
   "language": "python",
   "name": "python3"
  },
  "language_info": {
   "codemirror_mode": {
    "name": "ipython",
    "version": 3
   },
   "file_extension": ".py",
   "mimetype": "text/x-python",
   "name": "python",
   "nbconvert_exporter": "python",
   "pygments_lexer": "ipython3",
   "version": "3.6.5"
  }
 },
 "nbformat": 4,
 "nbformat_minor": 4
}
