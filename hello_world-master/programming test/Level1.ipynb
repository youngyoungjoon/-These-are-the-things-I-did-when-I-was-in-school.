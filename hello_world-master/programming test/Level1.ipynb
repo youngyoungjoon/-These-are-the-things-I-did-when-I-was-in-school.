{
 "cells": [
  {
   "cell_type": "markdown",
   "metadata": {},
   "source": [
    "### 기능개발"
   ]
  },
  {
   "cell_type": "code",
   "execution_count": 35,
   "metadata": {},
   "outputs": [],
   "source": [
    "import math\n",
    "\n",
    "def solution(progresses, speeds):\n",
    "    answer = []\n",
    "    temp = []\n",
    "    # for i in range(len(progresses)):\n",
    "    #     temp.append(math.ceil((100-progresses[i])/speeds[i]))\n",
    "\n",
    "    for i in range(len(progresses)):\n",
    "        temp.append(math.ceil((100-progresses[i])/speeds[i]))\n",
    "        if i == 0 or temp[i] > max(temp[:i]):\n",
    "            answer.append(1)\n",
    "        else:\n",
    "            answer[-1] += 1\n",
    "\n",
    "    return answer\n",
    "\n",
    "\n",
    "\"\"\"\n",
    "from math import ceil\n",
    "\n",
    "def solution(progresses, speeds):\n",
    "    daysLeft = list(map(lambda x: (ceil((100 - progresses[x]) / speeds[x])), range(len(progresses))))\n",
    "    count = 1\n",
    "    retList = []\n",
    "\n",
    "    for i in range(len(daysLeft)):\n",
    "        try:\n",
    "            if daysLeft[i] < daysLeft[i + 1]:\n",
    "                retList.append(count)\n",
    "                count = 1\n",
    "            else:\n",
    "                daysLeft[i + 1] = daysLeft[i]\n",
    "                count += 1\n",
    "        except IndexError:\n",
    "            retList.append(count)\n",
    "\n",
    "    return retList\n",
    "    \n",
    "    \n",
    "def solution(progresses, speeds):\n",
    "    Q=[]\n",
    "    for p, s in zip(progresses, speeds):\n",
    "        if len(Q)==0 or Q[-1][0]<-((p-100)//s):\n",
    "            Q.append([-((p-100)//s),1])\n",
    "        else:\n",
    "            Q[-1][1]+=1\n",
    "    return [q[1] for q in Q]\n",
    "\"\"\""
   ]
  },
  {
   "cell_type": "markdown",
   "metadata": {},
   "source": [
    "### Level 1"
   ]
  },
  {
   "cell_type": "markdown",
   "metadata": {},
   "source": [
    "*완주하지 못한 선수"
   ]
  },
  {
   "cell_type": "code",
   "execution_count": 42,
   "metadata": {},
   "outputs": [],
   "source": [
    "def solution(participant, completion):\n",
    "    participant.sort()\n",
    "    completion.sort()\n",
    "    for i in range(len(completion)):\n",
    "        if participant[i] != completion[i]:\n",
    "            return participant[i]\n",
    "    return participant[len(participant)-1]\n",
    "\n",
    "\n",
    "\"\"\"\n",
    "모범답안\n",
    "import collections\n",
    "def solution(participant, completion):\n",
    "    answer = collections.Counter(participant) - collections.Counter(completion)\n",
    "    return list(answer.keys())[0]\n",
    "    \n",
    "def solution(participant, completion):\n",
    "    participant.sort()\n",
    "    completion.sort()\n",
    "    for p, c in zip(participant, completion):\n",
    "        if p != c:\n",
    "            return p\n",
    "    return participant[-1]\n",
    "\n",
    "\"\"\""
   ]
  },
  {
   "cell_type": "code",
   "execution_count": 43,
   "metadata": {},
   "outputs": [
    {
     "data": {
      "text/plain": [
       "'leo'"
      ]
     },
     "execution_count": 43,
     "metadata": {},
     "output_type": "execute_result"
    }
   ],
   "source": [
    "solution(['leo', 'kiki', 'eden'], ['eden', 'kiki'])"
   ]
  },
  {
   "cell_type": "markdown",
   "metadata": {},
   "source": [
    "*모의고사"
   ]
  },
  {
   "cell_type": "code",
   "execution_count": 5,
   "metadata": {},
   "outputs": [
    {
     "data": {
      "text/plain": [
       "'\\n모범답안\\ndef solution(answers):\\n    p = [[1, 2, 3, 4, 5],\\n         [2, 1, 2, 3, 2, 4, 2, 5],\\n         [3, 3, 1, 1, 2, 2, 4, 4, 5, 5]]\\n    s = [0] * len(p)\\n\\n    for q, a in enumerate(answers):\\n        for i, v in enumerate(p):\\n            if a == v[q % len(v)]:\\n                s[i] += 1\\n    return [i + 1 for i, v in enumerate(s) if v == max(s)]\\n'"
      ]
     },
     "execution_count": 5,
     "metadata": {},
     "output_type": "execute_result"
    }
   ],
   "source": [
    "def solution(answers):\n",
    "    answer = []\n",
    "    losser1 = [1, 2, 3, 4, 5] * 2000\n",
    "    losser2 = [2, 1, 2, 3, 2, 4, 2, 5] *1250\n",
    "    losser3 = [3, 3, 1, 1, 2, 2, 4, 4, 5, 5] * 1000\n",
    "    l1_cnt, l2_cnt, l3_cnt = 0, 0, 0\n",
    "    \n",
    "    score = []\n",
    "    \n",
    "    for i in range(40):\n",
    "        \n",
    "        if losser1[i] == answers[i]:\n",
    "            l1_cnt += 1\n",
    "        if losser2[i] == answers[i]:\n",
    "            l2_cnt += 1\n",
    "        if losser3[i] == answers[i]:\n",
    "            l3_cnt += 1\n",
    "            \n",
    "    score = [l1_cnt, l2_cnt, l3_cnt]\n",
    "    max_score = max(score)\n",
    "    \n",
    "    losserNumber = 0\n",
    "    for i in range(len(score)):\n",
    "        losserNumber += 1\n",
    "        \n",
    "        if score[i] == max_score:\n",
    "            answer.append(losserNumber)\n",
    "    \n",
    "    return answer\n",
    "\n",
    "\"\"\"\n",
    "모범답안\n",
    "def solution(answers):\n",
    "    p = [[1, 2, 3, 4, 5],\n",
    "         [2, 1, 2, 3, 2, 4, 2, 5],\n",
    "         [3, 3, 1, 1, 2, 2, 4, 4, 5, 5]]\n",
    "    s = [0] * len(p)\n",
    "\n",
    "    for q, a in enumerate(answers):\n",
    "        for i, v in enumerate(p):\n",
    "            if a == v[q % len(v)]:\n",
    "                s[i] += 1\n",
    "    return [i + 1 for i, v in enumerate(s) if v == max(s)]\n",
    "\"\"\""
   ]
  },
  {
   "cell_type": "code",
   "execution_count": 6,
   "metadata": {},
   "outputs": [
    {
     "data": {
      "text/plain": [
       "[1]"
      ]
     },
     "execution_count": 6,
     "metadata": {},
     "output_type": "execute_result"
    }
   ],
   "source": [
    "solution([1, 2, 3, 4, 5] * 2000)"
   ]
  },
  {
   "cell_type": "markdown",
   "metadata": {},
   "source": [
    "*체육복"
   ]
  },
  {
   "cell_type": "code",
   "execution_count": 83,
   "metadata": {},
   "outputs": [],
   "source": [
    "def solution(n, lost, reserve):\n",
    "    answer = 0\n",
    "    for i in range(1, n+1):\n",
    "        if i not in lost: #안 잃어버린 학생\n",
    "            answer += 1\n",
    "        else:\n",
    "            if i in reserve: #잃어버렸지만 여분도 있는 학생\n",
    "                answer += 1\n",
    "                reserve.remove(i)\n",
    "                lost.remove(i)\n",
    "\n",
    "    for i in lost: #잃어버리고 여분도 없어서 빌려야 하는 학생\n",
    "        if i-1 in reserve:\n",
    "            answer += 1\n",
    "            reserve.remove(i-1)\n",
    "\n",
    "        elif i+1 in reserve:\n",
    "            answer +=1\n",
    "            reserve.remove(i+1)\n",
    "\n",
    "    return answer"
   ]
  },
  {
   "cell_type": "code",
   "execution_count": null,
   "metadata": {},
   "outputs": [],
   "source": [
    "def solution(n, lost, reserve):\n",
    "    _reserve = [r for r in reserve if r not in lost]\n",
    "    _lost = [l for l in lost if l not in reserve]\n",
    "    for r in _reserve:\n",
    "        f = r - 1\n",
    "        b = r + 1\n",
    "        if f in _lost:\n",
    "            _lost.remove(f)\n",
    "        elif b in _lost:  # elif를 사용하는 이유는 두개 중 하나만 삭제해야되니까\n",
    "            _lost.remove(b)\n",
    "    return n - len(_lost)\n",
    "\n",
    "\n",
    "\"\"\"\n",
    "모범답안\n",
    "def solution(n, lost, reserve):\n",
    "    _reserve = [r for r in reserve if r not in lost]\n",
    "    _lost = [l for l in lost if l not in reserve]\n",
    "    for r in _reserve:\n",
    "        f = r - 1\n",
    "        b = r + 1\n",
    "        if f in _lost:\n",
    "            _lost.remove(f)\n",
    "        elif b in _lost:\n",
    "            _lost.remove(b)\n",
    "    return n - len(_lost)\n",
    "\n",
    "\"\"\""
   ]
  },
  {
   "cell_type": "code",
   "execution_count": 84,
   "metadata": {},
   "outputs": [
    {
     "data": {
      "text/plain": [
       "5"
      ]
     },
     "execution_count": 84,
     "metadata": {},
     "output_type": "execute_result"
    }
   ],
   "source": [
    "solution(5, [2,4], [1, 3, 5])"
   ]
  },
  {
   "cell_type": "markdown",
   "metadata": {},
   "source": [
    "*K번째 수"
   ]
  },
  {
   "cell_type": "code",
   "execution_count": 119,
   "metadata": {},
   "outputs": [],
   "source": [
    "def solution(array, commands):\n",
    "    answer = []\n",
    "    \n",
    "    for i in commands:\n",
    "        arr = sorted(array[i[0]-1:i[1]])\n",
    "        answer.append(arr[i[2]-1])\n",
    "        \n",
    "    return answer\n",
    "\n",
    "\n",
    "\n",
    "#모범답안\n",
    "def solution(array, commands):\n",
    "    return list(map(lambda x:sorted(array[x[0]-1:x[1]])[x[2]-1], commands))"
   ]
  },
  {
   "cell_type": "code",
   "execution_count": 120,
   "metadata": {},
   "outputs": [
    {
     "data": {
      "text/plain": [
       "[5, 6, 3]"
      ]
     },
     "execution_count": 120,
     "metadata": {},
     "output_type": "execute_result"
    }
   ],
   "source": [
    "solution([1, 5, 2, 6, 3, 7, 4],[[2, 5, 3], [4, 4, 1], [1, 7, 3]])"
   ]
  },
  {
   "cell_type": "code",
   "execution_count": 126,
   "metadata": {},
   "outputs": [
    {
     "data": {
      "text/plain": [
       "[5, 6, 3]"
      ]
     },
     "execution_count": 126,
     "metadata": {},
     "output_type": "execute_result"
    }
   ],
   "source": [
    "solution([1, 5, 2, 6, 3, 7, 4],[[2, 5, 3], [4, 4, 1], [1, 7, 3]])"
   ]
  },
  {
   "cell_type": "markdown",
   "metadata": {},
   "source": [
    "*2016년"
   ]
  },
  {
   "cell_type": "code",
   "execution_count": 21,
   "metadata": {},
   "outputs": [],
   "source": [
    "import time\n",
    "import datetime\n",
    "\n",
    "def solution(a, b):\n",
    "    answer = ''\n",
    "    day = {6:'SUN', 0:'MON', 1:'TUE', 2:'WED', 3:'THU', 4:'FRI', 5:'SAT'}\n",
    "    \n",
    "    nowday = datetime.datetime(2016, a, b).weekday()\n",
    "    \n",
    "    for i,v in day.items():\n",
    "    \n",
    "        if i == nowday:\n",
    "            answer = v\n",
    "    return answer\n",
    "\n",
    "\"\"\"\n",
    "모범답안\n",
    "def getDayName(a,b):\n",
    "    months = [31, 29, 31, 30, 31, 30, 31, 31, 30, 31, 30, 31]\n",
    "    days = ['FRI', 'SAT', 'SUN', 'MON', 'TUE', 'WED', 'THU']\n",
    "    return days[(sum(months[:a-1])+b-1)%7]\n",
    "\n",
    "#아래 코드는 테스트를 위한 출력 코드입니다.\n",
    "print(getDayName(5,24))\n",
    "\"\"\""
   ]
  },
  {
   "cell_type": "code",
   "execution_count": 22,
   "metadata": {},
   "outputs": [
    {
     "data": {
      "text/plain": [
       "'THU'"
      ]
     },
     "execution_count": 22,
     "metadata": {},
     "output_type": "execute_result"
    }
   ],
   "source": [
    "solution(2, 4)"
   ]
  },
  {
   "cell_type": "markdown",
   "metadata": {},
   "source": [
    "* 가운데 글자 가져오기"
   ]
  },
  {
   "cell_type": "code",
   "execution_count": 43,
   "metadata": {},
   "outputs": [],
   "source": [
    "def solution(s):\n",
    "    answer = ''\n",
    "    \n",
    "    half = len(s)/2\n",
    "    \n",
    "    if (len(s) % 2) ==0:\n",
    "        for i in range(len(s)):\n",
    "            if i == half:\n",
    "                answer = s[i-1]\n",
    "                answer = answer+s[i]\n",
    "                \n",
    "    elif (len(s) % 2) !=0:\n",
    "        for i in range(len(s)):\n",
    "            if i == int(half):\n",
    "                answer = s[i]\n",
    "    \n",
    "    return answer\n",
    "\n",
    "\n",
    "\"\"\"\n",
    "모범답안\n",
    "def string_middle(str):\n",
    "    # 함수를 완성하세요\n",
    "\n",
    "    return str[(len(str)-1)//2:len(str)//2+1]\n",
    "\n",
    "# 아래는 테스트로 출력해 보기 위한 코드입니다.\n",
    "print(string_middle(\"power\"))\n",
    "\n",
    "\n",
    "def string_middle(string):\n",
    "    if len(string)%2 == 0:\n",
    "        d = len(string)//2\n",
    "        return string[d-1:d+1]\n",
    "    else:\n",
    "        return string[len(string)//2]\n",
    "    return \"\"\n",
    "\n",
    "\"\"\""
   ]
  },
  {
   "cell_type": "code",
   "execution_count": 44,
   "metadata": {},
   "outputs": [
    {
     "data": {
      "text/plain": [
       "'c'"
      ]
     },
     "execution_count": 44,
     "metadata": {},
     "output_type": "execute_result"
    }
   ],
   "source": [
    "solution(\"abcde\")"
   ]
  },
  {
   "cell_type": "code",
   "execution_count": 45,
   "metadata": {},
   "outputs": [
    {
     "data": {
      "text/plain": [
       "'we'"
      ]
     },
     "execution_count": 45,
     "metadata": {},
     "output_type": "execute_result"
    }
   ],
   "source": [
    "solution(\"qwer\")"
   ]
  },
  {
   "cell_type": "markdown",
   "metadata": {},
   "source": [
    "* 같은 숫자는 싫어"
   ]
  },
  {
   "cell_type": "code",
   "execution_count": 71,
   "metadata": {},
   "outputs": [],
   "source": [
    "def solution(arr):\n",
    "    answer = []\n",
    "    \n",
    "    \n",
    "    for i in arr:\n",
    "        \n",
    "        if  answer[-1:] == [i]:\n",
    "            continue\n",
    "        answer.append(i)\n",
    "            \n",
    "    return answer\n",
    "\n",
    "\n",
    "\"\"\"\n",
    "모범답안\n",
    "\n",
    "def no_continuous(s):\n",
    "    # 함수를 완성하세요\n",
    "    return [s[i] for i in range(len(s)) if s[i] != s[i+1:i+2]]\n",
    "\n",
    "# 아래는 테스트로 출력해 보기 위한 코드입니다.\n",
    "print( no_continuous( \"133303\" ))\n",
    "\"\"\""
   ]
  },
  {
   "cell_type": "code",
   "execution_count": 72,
   "metadata": {},
   "outputs": [
    {
     "data": {
      "text/plain": [
       "[1, 3, 0, 1]"
      ]
     },
     "execution_count": 72,
     "metadata": {},
     "output_type": "execute_result"
    }
   ],
   "source": [
    "solution([1,1,3,3,0,1,1])"
   ]
  },
  {
   "cell_type": "markdown",
   "metadata": {},
   "source": [
    "* 나누어 떨어지는 숫자 배열"
   ]
  },
  {
   "cell_type": "code",
   "execution_count": 86,
   "metadata": {},
   "outputs": [],
   "source": [
    "def solution(arr, divisor):\n",
    "    answer = []\n",
    "    \n",
    "    arr.sort()\n",
    "    \n",
    "    for i in range(len(arr)):\n",
    "        \n",
    "        if arr[i] % divisor == 0:\n",
    "            answer.append(arr[i])\n",
    "        \n",
    "    \n",
    "    if answer == []:\n",
    "        answer.append(-1)\n",
    "    \n",
    "    return answer\n",
    "\n",
    "\n",
    "\"\"\"\n",
    "모범답안\n",
    "def solution(arr, divisor):\n",
    "    arr = [x for x in arr if x % divisor == 0];\n",
    "    arr.sort();\n",
    "    return arr if len(arr) != 0 else [-1];\n",
    "\"\"\""
   ]
  },
  {
   "cell_type": "code",
   "execution_count": 87,
   "metadata": {},
   "outputs": [
    {
     "data": {
      "text/plain": [
       "[-1]"
      ]
     },
     "execution_count": 87,
     "metadata": {},
     "output_type": "execute_result"
    }
   ],
   "source": [
    "solution([3, 2, 6, 20], 10)\n",
    "solution([3,2,6], 10)"
   ]
  },
  {
   "cell_type": "markdown",
   "metadata": {},
   "source": [
    "* 두 정수 사이의 합"
   ]
  },
  {
   "cell_type": "code",
   "execution_count": 102,
   "metadata": {},
   "outputs": [],
   "source": [
    "def solution(a, b):\n",
    "    answer = 0\n",
    "    \n",
    "    if a<b:\n",
    "        for i in range(a, b+1):\n",
    "            answer+=i\n",
    "    if b<a:\n",
    "        for i in range(b, a+1):\n",
    "            answer+=i\n",
    "    if b==a:\n",
    "        answer=a\n",
    "        \n",
    "    \n",
    "    return answer\n",
    "\n",
    "\"\"\"\n",
    "모범답안\n",
    "def adder(a, b):\n",
    "    # 함수를 완성하세요\n",
    "    if a > b: \n",
    "        a, b = b, a\n",
    "\n",
    "    return sum(range(a,b+1))\n",
    "\n",
    "# 아래는 테스트로 출력해 보기 위한 코드입니다.\n",
    "print( adder(3, 5))\n",
    "\"\"\""
   ]
  },
  {
   "cell_type": "code",
   "execution_count": 103,
   "metadata": {},
   "outputs": [
    {
     "data": {
      "text/plain": [
       "12"
      ]
     },
     "execution_count": 103,
     "metadata": {},
     "output_type": "execute_result"
    }
   ],
   "source": [
    "solution(3, 5)"
   ]
  },
  {
   "cell_type": "markdown",
   "metadata": {},
   "source": [
    "* 문자열 내 마음대로 정렬하기"
   ]
  },
  {
   "cell_type": "code",
   "execution_count": 188,
   "metadata": {},
   "outputs": [],
   "source": [
    "def solution(strings, n):\n",
    "    new =[]\n",
    "    answer =[]\n",
    "    for i in range(len(strings)):\n",
    "        a = strings[i][n]\n",
    "        b = a+strings[i]\n",
    "        new.append(b)\n",
    "    new.sort()\n",
    "    for i in range(len(new)):\n",
    "        c = new[i][1:]\n",
    "        answer.append(c)\n",
    "    return answer\n",
    "\n",
    "#이게 더 깔끔\n",
    "def solution(strings, n):\n",
    "    answer = sorted(sorted(strings), key = lambda string:string[n])\n",
    "    \n",
    "    return answer"
   ]
  },
  {
   "cell_type": "code",
   "execution_count": 189,
   "metadata": {},
   "outputs": [
    {
     "data": {
      "text/plain": [
       "['car', 'bed', 'sun']"
      ]
     },
     "execution_count": 189,
     "metadata": {},
     "output_type": "execute_result"
    }
   ],
   "source": [
    "solution(['sun', 'bed', 'car'], 1)"
   ]
  },
  {
   "cell_type": "markdown",
   "metadata": {},
   "source": [
    "* 문자열 내 p와 y의 개수"
   ]
  },
  {
   "cell_type": "code",
   "execution_count": 195,
   "metadata": {},
   "outputs": [],
   "source": [
    "def solution(s):\n",
    "    s=s.lower()\n",
    "    p_cnt, y_cnt = 0, 0\n",
    "    for i in s:\n",
    "        if i == 'p':\n",
    "            p_cnt+=1\n",
    "        if i == 'y':\n",
    "            y_cnt+=1\n",
    "            \n",
    "    if p_cnt == y_cnt:\n",
    "        answer = True\n",
    "        if p_cnt == 0 and y_cnt ==0:\n",
    "            answer = True\n",
    "    if p_cnt != y_cnt:\n",
    "        answer = False\n",
    "    \n",
    "    return answer\n",
    "\n",
    "\"\"\"\n",
    "모범답안\n",
    "def solutuin(s):\n",
    "    # 함수를 완성하세요\n",
    "    return s.lower().count('p') == s.lower().count('y')\n",
    "\"\"\""
   ]
  },
  {
   "cell_type": "code",
   "execution_count": 196,
   "metadata": {},
   "outputs": [
    {
     "data": {
      "text/plain": [
       "False"
      ]
     },
     "execution_count": 196,
     "metadata": {},
     "output_type": "execute_result"
    }
   ],
   "source": [
    "solution('pPooy')"
   ]
  },
  {
   "cell_type": "markdown",
   "metadata": {},
   "source": [
    "* 문자열 내림차순"
   ]
  },
  {
   "cell_type": "code",
   "execution_count": 263,
   "metadata": {},
   "outputs": [],
   "source": [
    "def solution(s):\n",
    "    return ''.join(sorted(s, reverse=True))"
   ]
  },
  {
   "cell_type": "code",
   "execution_count": 265,
   "metadata": {},
   "outputs": [
    {
     "data": {
      "text/plain": [
       "'gfedcbZ'"
      ]
     },
     "execution_count": 265,
     "metadata": {},
     "output_type": "execute_result"
    }
   ],
   "source": [
    "solution('Zbcdefg')"
   ]
  },
  {
   "cell_type": "markdown",
   "metadata": {},
   "source": [
    "* 문자열 다루기 기본"
   ]
  },
  {
   "cell_type": "code",
   "execution_count": 297,
   "metadata": {},
   "outputs": [],
   "source": [
    "def solution(s):\n",
    "    return s.isdigit() and (len(s) == 4 or len(s) == 6)"
   ]
  },
  {
   "cell_type": "code",
   "execution_count": 298,
   "metadata": {},
   "outputs": [
    {
     "data": {
      "text/plain": [
       "False"
      ]
     },
     "execution_count": 298,
     "metadata": {},
     "output_type": "execute_result"
    }
   ],
   "source": [
    "solution('a234')"
   ]
  },
  {
   "cell_type": "markdown",
   "metadata": {},
   "source": [
    "* 서울에서 김서방 찾기"
   ]
  },
  {
   "cell_type": "code",
   "execution_count": 309,
   "metadata": {},
   "outputs": [],
   "source": [
    "def solution(seoul):\n",
    "    \n",
    "    return \"김서방은 {}에 있다\".format(seoul.index('Kim'))"
   ]
  },
  {
   "cell_type": "code",
   "execution_count": 311,
   "metadata": {},
   "outputs": [
    {
     "data": {
      "text/plain": [
       "'김서방은 1에 있다'"
      ]
     },
     "execution_count": 311,
     "metadata": {},
     "output_type": "execute_result"
    }
   ],
   "source": [
    "solution([\"Jane\", \"Kim\"])"
   ]
  },
  {
   "cell_type": "markdown",
   "metadata": {},
   "source": [
    "* 소수 찾기"
   ]
  },
  {
   "cell_type": "code",
   "execution_count": 333,
   "metadata": {},
   "outputs": [],
   "source": [
    "def solution(n):\n",
    "    a = set([i for i in range(3, n+1, 2)])\n",
    "    for i in range(3, n+1, 2):\n",
    "        if i in a:\n",
    "            a -= set([i for i in range(i*2, n+1, i)])\n",
    "    \n",
    "    return len(a)+1\n",
    "\n",
    "\"\"\"\n",
    "모범답안\n",
    "def solution(n):\n",
    "    num=set(range(2,n+1))\n",
    "\n",
    "    for i in range(2,n+1):\n",
    "        if i in num:\n",
    "            num-=set(range(2*i,n+1,i))\n",
    "    return len(num)\n",
    "    \n",
    "    \n",
    "def solution(n):\n",
    "    count=0\n",
    "    for n in range(2,n+1):\n",
    "        for i in range(2,n):\n",
    "            if n%i==0:\n",
    "                break\n",
    "        else:\n",
    "            count+=1\n",
    "    return count\n",
    "\n",
    "\n",
    "\n",
    "\n",
    "\"\"\""
   ]
  },
  {
   "cell_type": "code",
   "execution_count": 334,
   "metadata": {},
   "outputs": [
    {
     "data": {
      "text/plain": [
       "4"
      ]
     },
     "execution_count": 334,
     "metadata": {},
     "output_type": "execute_result"
    }
   ],
   "source": [
    "solution(10)"
   ]
  },
  {
   "cell_type": "markdown",
   "metadata": {},
   "source": [
    "* 수박수박수박수?"
   ]
  },
  {
   "cell_type": "code",
   "execution_count": null,
   "metadata": {},
   "outputs": [],
   "source": [
    "def solution(n):\n",
    "    answer = ''\n",
    "    strings = '수박수박' * 2500\n",
    "    \n",
    "    for i in range(len(strings)):\n",
    "        answer += strings[i]\n",
    "        if i == (n-1):\n",
    "            break\n",
    "    \n",
    "    return answer\n",
    "\n",
    "\n",
    "\n",
    "\"\"\"\n",
    "모범답안\n",
    "def water_melon(n):\n",
    "    s = \"수박\" * n\n",
    "    return s[:n]\n",
    "\"\"\""
   ]
  },
  {
   "cell_type": "markdown",
   "metadata": {},
   "source": [
    "* 문자열을 정수로 바꾸기"
   ]
  },
  {
   "cell_type": "code",
   "execution_count": 1,
   "metadata": {},
   "outputs": [],
   "source": [
    "def solution(s):\n",
    "    answer = 0\n",
    "    \n",
    "    if s[0] == '+':\n",
    "        answer = int(s[1:])\n",
    "    elif s[0] == '-':\n",
    "        answer =  -abs(int(s[1:]))\n",
    "    else:\n",
    "        answer = int(s)\n",
    "    \n",
    "    \n",
    "    return answer\n",
    "\n",
    "\n",
    "\"\"\"\n",
    "모범답안\n",
    "def strToInt(str):\n",
    "    #함수를 완성하세요\n",
    "    a = int(str)\n",
    "    return a\n",
    "\"\"\""
   ]
  },
  {
   "cell_type": "code",
   "execution_count": 7,
   "metadata": {},
   "outputs": [
    {
     "data": {
      "text/plain": [
       "-100"
      ]
     },
     "execution_count": 7,
     "metadata": {},
     "output_type": "execute_result"
    }
   ],
   "source": []
  },
  {
   "cell_type": "markdown",
   "metadata": {},
   "source": [
    "* 시저암호     질문: %26을 왜 하느냐에 대해 질문"
   ]
  },
  {
   "cell_type": "code",
   "execution_count": 8,
   "metadata": {},
   "outputs": [],
   "source": [
    "def solution(s, n):\n",
    "    \n",
    "    s = list(s)\n",
    "    for i in range(len(s)):\n",
    "        if s[i].isupper():\n",
    "            s[i] = chr((ord(s[i]) - ord('A') + n)%26 +ord('A'))\n",
    "        elif s[i].islower():\n",
    "            s[i] = chr((ord(s[i]) - ord('a') +n)%26 +ord('a'))\n",
    "    \n",
    "    answer = ''.join(s)\n",
    "    \n",
    "    return answer\n"
   ]
  },
  {
   "cell_type": "markdown",
   "metadata": {},
   "source": [
    "* 약수의 합"
   ]
  },
  {
   "cell_type": "code",
   "execution_count": 9,
   "metadata": {},
   "outputs": [],
   "source": [
    "def solution(n):\n",
    "    answer = 0\n",
    "    \n",
    "    for i in range(1, n+1):\n",
    "        \n",
    "        if n%i == 0:\n",
    "            answer += i\n",
    "                \n",
    "    \n",
    "    return answer\n",
    "\n",
    "\"\"\"\n",
    "모범답안\n",
    "def solution(num):\n",
    "    return num + sum([i for i in range(1, (num // 2) + 1) if num % i == 0])\n",
    "\"\"\""
   ]
  },
  {
   "cell_type": "markdown",
   "metadata": {},
   "source": [
    "* 이상한 문자 만들기"
   ]
  },
  {
   "cell_type": "code",
   "execution_count": 41,
   "metadata": {},
   "outputs": [],
   "source": [
    "def toWeirdCase(s):\n",
    "    a=[]\n",
    "    s=s.split(\" \")\n",
    "    for i in range(len(s)):\n",
    "        for j in range(len(s[i])):\n",
    "            if j%2==0:\n",
    "                a.append(s[i][j].upper())\n",
    "            else:\n",
    "                a.append(s[i][j].lower())\n",
    "        a.append(\" \")\n",
    "\n",
    "    c=\"\".join(a[:-1])\n",
    "    return c\n",
    "\n",
    "\"\"\"\n",
    "모범답안\n",
    "def solution(s):\n",
    "    return ' '.join([''.join([c.upper() if i % 2 == 0 else c.lower() for i, c in enumerate(w)]) for w in s.split(' ')])\n",
    "    \n",
    "    \"\"\""
   ]
  },
  {
   "cell_type": "code",
   "execution_count": 42,
   "metadata": {},
   "outputs": [
    {
     "data": {
      "text/plain": [
       "'TrY HeLlO WoRlD'"
      ]
     },
     "execution_count": 42,
     "metadata": {},
     "output_type": "execute_result"
    }
   ],
   "source": [
    "solution('try hello world')"
   ]
  },
  {
   "cell_type": "markdown",
   "metadata": {},
   "source": [
    "* 자리수 더하기"
   ]
  },
  {
   "cell_type": "code",
   "execution_count": 47,
   "metadata": {},
   "outputs": [],
   "source": [
    "def solution(n):\n",
    "    \n",
    "    answer=0\n",
    "    n = str(n)\n",
    "    for i in range(len(n)):\n",
    "        answer += int(n[i])\n",
    "    \n",
    "    return answer\n",
    "\n",
    "\"\"\"\n",
    "def sum_digit(number):\n",
    "    if number < 10:\n",
    "        return number;\n",
    "    return (number % 10) + sum_digit(number // 10) \n",
    "    # // 나누기 몫 연산자\n",
    "\"\"\"\n"
   ]
  },
  {
   "cell_type": "code",
   "execution_count": 49,
   "metadata": {},
   "outputs": [
    {
     "data": {
      "text/plain": [
       "24"
      ]
     },
     "execution_count": 49,
     "metadata": {},
     "output_type": "execute_result"
    }
   ],
   "source": [
    "solution(987)"
   ]
  },
  {
   "cell_type": "markdown",
   "metadata": {},
   "source": [
    "* 자연수 뒤집어 배열로 만들기"
   ]
  },
  {
   "cell_type": "code",
   "execution_count": 51,
   "metadata": {},
   "outputs": [
    {
     "data": {
      "text/plain": [
       "'\\ndef digit_reverse(n):\\n    return list(map(int, reversed(str(n))))\\n    \\ndef digit_reverse(n):\\n    return [int(i) for i in str(n)][::-1]\\n\\n'"
      ]
     },
     "execution_count": 51,
     "metadata": {},
     "output_type": "execute_result"
    }
   ],
   "source": [
    "def solution(n):\n",
    "    answer = []\n",
    "    n = str(n)\n",
    "    for i in range(len(n)):\n",
    "        answer.append(int(n[i]))\n",
    "    \n",
    "    answer.reverse()\n",
    "    \n",
    "    return answer\n",
    "\n",
    "\"\"\"\n",
    "def digit_reverse(n):\n",
    "    return list(map(int, reversed(str(n))))\n",
    "    \n",
    "def digit_reverse(n):\n",
    "    return [int(i) for i in str(n)][::-1]\n",
    "\n",
    "\"\"\""
   ]
  },
  {
   "cell_type": "markdown",
   "metadata": {},
   "source": [
    "* 정수 내림차순으로 배치하기"
   ]
  },
  {
   "cell_type": "code",
   "execution_count": 100,
   "metadata": {},
   "outputs": [],
   "source": [
    "def solution(n):\n",
    "    \n",
    "    a = list(map(str, sorted(str(n))))\n",
    "    a.reverse()\n",
    "    answer = ''.join(a)\n",
    "    \n",
    "    return int(answer)\n",
    "\n",
    "\"\"\"\n",
    "모범답안\n",
    "def solution(n):\n",
    "    ls = list(str(n))\n",
    "    ls.sort(reverse = True)\n",
    "    return int(\"\".join(ls))\n",
    "\"\"\""
   ]
  },
  {
   "cell_type": "code",
   "execution_count": 101,
   "metadata": {},
   "outputs": [
    {
     "data": {
      "text/plain": [
       "873211"
      ]
     },
     "execution_count": 101,
     "metadata": {},
     "output_type": "execute_result"
    }
   ],
   "source": [
    "solution(118372)"
   ]
  },
  {
   "cell_type": "markdown",
   "metadata": {},
   "source": [
    "* 정수 제곱근 판별"
   ]
  },
  {
   "cell_type": "code",
   "execution_count": 118,
   "metadata": {},
   "outputs": [],
   "source": [
    "\n",
    "\"\"\"\n",
    "def solution(n):\n",
    "    answer = 0\n",
    "    a=0\n",
    "    for i in range(n):\n",
    "        if i**2 == n:\n",
    "            a = i\n",
    "            answer = (a+1)**2\n",
    "    \n",
    "    if a == 0:\n",
    "        answer = -1\n",
    "    \n",
    "    return answer\n",
    "    \n",
    "   #시간초과래 \n",
    "\"\"\"\n",
    "\n",
    "import math \n",
    "def solution(n): # 함수를 완성하세요 \n",
    "    if int(math.sqrt(n)) == math.sqrt(n): \n",
    "        return math.pow(int(math.sqrt(n)+1),2) \n",
    "    else: \n",
    "        return -1\n",
    "\n",
    "\n",
    "\"\"\"\n",
    "모범답안\n",
    "def nextSqure(n):\n",
    "    sqrt = n ** (1/2)\n",
    "\n",
    "    if sqrt % 1 == 0:\n",
    "        return (sqrt + 1) ** 2\n",
    "    return -1\n",
    "\"\"\""
   ]
  },
  {
   "cell_type": "code",
   "execution_count": 120,
   "metadata": {},
   "outputs": [
    {
     "data": {
      "text/plain": [
       "-1"
      ]
     },
     "execution_count": 120,
     "metadata": {},
     "output_type": "execute_result"
    }
   ],
   "source": [
    "solution(3)"
   ]
  },
  {
   "cell_type": "markdown",
   "metadata": {},
   "source": [
    "* 제일 작은 수 제거하기"
   ]
  },
  {
   "cell_type": "code",
   "execution_count": null,
   "metadata": {},
   "outputs": [],
   "source": [
    "def solution(arr):\n",
    "    answer = []\n",
    "    a = min(arr)\n",
    "    \n",
    "    for i in range(len(arr)):\n",
    "        answer.append(arr[i])\n",
    "        if arr[i] == a:\n",
    "            answer.pop(i)\n",
    "            \n",
    "        if len(arr) == 1:\n",
    "            answer.append(-1)\n",
    "    return answer\n",
    "\n",
    "\"\"\"\n",
    "모범답안\n",
    "def solution(mylist):\n",
    "    if len(mylist) > 1:\n",
    "        mylist.remove(min(mylist))\n",
    "    if len(mylist) == 1:\n",
    "        mylist = [-1]\n",
    "    return mylist\n",
    "\"\"\""
   ]
  },
  {
   "cell_type": "markdown",
   "metadata": {},
   "source": [
    "* 짝수와 홀수"
   ]
  },
  {
   "cell_type": "code",
   "execution_count": 121,
   "metadata": {},
   "outputs": [],
   "source": [
    "def solution(num):\n",
    "    \n",
    "    answer = ''\n",
    "    if num % 2 ==0:\n",
    "        answer = 'Even'\n",
    "    else:\n",
    "        answer = 'Odd'\n",
    "    \n",
    "    return answer"
   ]
  },
  {
   "cell_type": "code",
   "execution_count": 122,
   "metadata": {},
   "outputs": [
    {
     "data": {
      "text/plain": [
       "'Odd'"
      ]
     },
     "execution_count": 122,
     "metadata": {},
     "output_type": "execute_result"
    }
   ],
   "source": [
    "solution(3)"
   ]
  },
  {
   "cell_type": "markdown",
   "metadata": {},
   "source": [
    "* 최대공약수와 최소공배수"
   ]
  },
  {
   "cell_type": "code",
   "execution_count": 123,
   "metadata": {},
   "outputs": [],
   "source": [
    "from fractions import gcd\n",
    "def solution(n, m):\n",
    "    \n",
    "    return [gcd(n,m), n*m/gcd(n,m)]\n",
    "\n",
    "\"\"\"\n",
    "기발한 답안\n",
    "def gcdlcm(a, b):\n",
    "    for i in range(a):\n",
    "        if a%(a-i)+b%(a-i) == 0:\n",
    "            return [a-i, a*b/(a-i)]\n",
    "            \n",
    "            \n",
    "def gcdlcm(a, b):\n",
    "    c, d = max(a, b), min(a, b)\n",
    "    t = 1\n",
    "    while t > 0:\n",
    "        t = c % d\n",
    "        c, d = d, t\n",
    "    answer = [c, int(a*b/c)]\n",
    "\n",
    "    return answer\n",
    "    \n",
    "\"\"\"\n",
    "\n",
    "\n",
    "\"\"\"\n",
    "영준식 최소공배수, 최대공약수\n",
    "def gcd(n1, n2):\n",
    "    gcd = 1\n",
    "    k = 2\n",
    "\n",
    "    while n1 >= k and n2 >= k:\n",
    "        if n1 % k == 0 and n2 % k == 0:\n",
    "            gcd = k\n",
    "        k +=1\n",
    "\n",
    "    return gcd\n",
    "\n",
    "def gbd(n1, n2):\n",
    "    gbd = n1*n2\n",
    "    k = 2\n",
    "    gcd =1\n",
    "\n",
    "    while n1 >= k and n2 >= k:\n",
    "        if n1 % k == 0 and n2 % k == 0:\n",
    "            gcd = k\n",
    "        k += 1\n",
    "    return gbd/gcd\n",
    "\"\"\""
   ]
  },
  {
   "cell_type": "markdown",
   "metadata": {},
   "source": [
    "* 콜라츠 추측"
   ]
  },
  {
   "cell_type": "code",
   "execution_count": null,
   "metadata": {},
   "outputs": [],
   "source": [
    "def solution(num):\n",
    "    answer = 0\n",
    "    while True:\n",
    "        if num ==1:\n",
    "            return answer\n",
    "        answer += 1\n",
    "        if num % 2 ==0:\n",
    "            num = num/2\n",
    "        else:\n",
    "            num = num*3 +1\n",
    "        if answer >=500:\n",
    "            answer = -1\n",
    "            break\n",
    "    \n",
    "    return answer\n",
    "\n",
    "\n",
    "\"\"\"\n",
    "모범답안\n",
    "def collatz(num):\n",
    "    for i in range(500):\n",
    "        num = num / 2 if num % 2 == 0 else num*3 + 1\n",
    "        if num == 1:\n",
    "            return i + 1\n",
    "    return -1\n",
    "\"\"\""
   ]
  },
  {
   "cell_type": "code",
   "execution_count": null,
   "metadata": {},
   "outputs": [],
   "source": [
    "solution()"
   ]
  },
  {
   "cell_type": "markdown",
   "metadata": {},
   "source": [
    "* 평균 구하기"
   ]
  },
  {
   "cell_type": "code",
   "execution_count": 8,
   "metadata": {},
   "outputs": [],
   "source": [
    "def solution(arr):\n",
    "    answer = 0\n",
    "    \n",
    "    answer = sum(arr)/len(arr)\n",
    "    \n",
    "    return answer"
   ]
  },
  {
   "cell_type": "code",
   "execution_count": 11,
   "metadata": {},
   "outputs": [
    {
     "data": {
      "text/plain": [
       "5.0"
      ]
     },
     "execution_count": 11,
     "metadata": {},
     "output_type": "execute_result"
    }
   ],
   "source": [
    "solution([5,5])"
   ]
  },
  {
   "cell_type": "markdown",
   "metadata": {},
   "source": [
    "* 하샤드 수"
   ]
  },
  {
   "cell_type": "code",
   "execution_count": 12,
   "metadata": {},
   "outputs": [],
   "source": [
    "def solution(x):\n",
    "    a = 0 \n",
    "    x = str(x)\n",
    "    for i in range(len(x)):\n",
    "        a += int(x[i])\n",
    "    if int(x)%a == 0:\n",
    "        answer = True\n",
    "    else:\n",
    "        answer = False\n",
    "    \n",
    "    return answer\n",
    "\n",
    "\"\"\"\n",
    "모범답안\n",
    "def Harshad(n):\n",
    "    # n은 하샤드 수 인가요?\n",
    "    return n % sum([int(c) for c in str(n)]) == 0\n",
    "\"\"\""
   ]
  },
  {
   "cell_type": "markdown",
   "metadata": {},
   "source": [
    "*핸드폰 번호 가리기"
   ]
  },
  {
   "cell_type": "code",
   "execution_count": 13,
   "metadata": {},
   "outputs": [
    {
     "data": {
      "text/plain": [
       "'모범답안\\ndef hide_numbers(s):\\n    return \"*\"*(len(s)-4) + s[-4:]\\n'"
      ]
     },
     "execution_count": 13,
     "metadata": {},
     "output_type": "execute_result"
    }
   ],
   "source": [
    "def solution(phone_number):\n",
    "    answer = ''\n",
    "    \n",
    "    for i in range(len(phone_number)):\n",
    "        \n",
    "        if i >= len(phone_number)-4:\n",
    "            answer += phone_number[i]\n",
    "        else:\n",
    "            answer+='*'\n",
    "            \n",
    "    return answer\n",
    "\"\"\"모범답안\n",
    "def hide_numbers(s):\n",
    "    return \"*\"*(len(s)-4) + s[-4:]\n",
    "\"\"\""
   ]
  },
  {
   "cell_type": "code",
   "execution_count": 33,
   "metadata": {},
   "outputs": [],
   "source": [
    "def solution(arr1, arr2):\n",
    "    \n",
    "    answer=[]\n",
    "\n",
    "    for i in range(len(arr1)):\n",
    "        a = []\n",
    "        for j in range(len(arr1[i])):\n",
    "            a.append(arr1[i][j] + arr2[i][j])\n",
    "        \n",
    "        answer.append(a)\n",
    "    \n",
    "    return answer\n",
    "\n",
    "\n",
    "\"\"\"\n",
    "모범답안\n",
    "def sumMatrix(A,B):\n",
    "    answer = [[c + d for c, d in zip(a, b)] for a, b in zip(A,B)]\n",
    "    return answer\n",
    "    \n",
    "\n",
    "import numpy as np\n",
    "def sumMatrix(A,B):\n",
    "    A=np.array(A)\n",
    "    B=np.array(B)\n",
    "    answer=A+B\n",
    "    return answer.tolist()\n",
    "\"\"\""
   ]
  },
  {
   "cell_type": "code",
   "execution_count": 34,
   "metadata": {},
   "outputs": [
    {
     "data": {
      "text/plain": [
       "[[4, 6], [7, 9]]"
      ]
     },
     "execution_count": 34,
     "metadata": {},
     "output_type": "execute_result"
    }
   ],
   "source": [
    "solution([[1,2],[2,3]], [[3,4],[5,6]])"
   ]
  },
  {
   "cell_type": "markdown",
   "metadata": {},
   "source": [
    "* x만큼 간격이 있는 n개의 숫자"
   ]
  },
  {
   "cell_type": "code",
   "execution_count": null,
   "metadata": {},
   "outputs": [],
   "source": [
    "def solution(x, n):\n",
    "    answer=[]\n",
    "    a = x\n",
    "    for i in range(n):\n",
    "        answer.append(x)\n",
    "        x += a\n",
    "    return answer\n",
    "\n",
    "\n",
    "\"\"\"\n",
    "모범답안\n",
    "def number_generator(x, n):\n",
    "    # 함수를 완성하세요\n",
    "    return [i * x + x for i in range(n)]\n",
    "    \n",
    "def number_generator(x, n):\n",
    "    # 함수를 완성하세요\n",
    "    return [i for i in range(x, x*n+1, x)]   <- 이거 계속 생각하고 있었음\n",
    "\"\"\""
   ]
  },
  {
   "cell_type": "markdown",
   "metadata": {},
   "source": [
    "* 직사각형 별찍기"
   ]
  },
  {
   "cell_type": "code",
   "execution_count": null,
   "metadata": {},
   "outputs": [],
   "source": [
    "a, b = map(int, input().strip().split(' '))\n",
    "answer=''\n",
    "for i in range(b):\n",
    "    for j in range(a):\n",
    "        answer+=\"*\"\n",
    "    answer+='\\n'\n",
    "print(answer)\n",
    "\n",
    "\n",
    "\"\"\"\n",
    "모범답안\n",
    "a, b = map(int, input().strip().split(' '))\n",
    "answer = ('*'*a +'\\n')*b\n",
    "print(answer)\n",
    "\"\"\""
   ]
  },
  {
   "cell_type": "markdown",
   "metadata": {},
   "source": [
    "* 예산"
   ]
  },
  {
   "cell_type": "code",
   "execution_count": null,
   "metadata": {},
   "outputs": [],
   "source": [
    "def solution(d, budget):\n",
    "    cnt = 0\n",
    "    \n",
    "    for i in range(len(d)):\n",
    "        budget -= min(d)\n",
    "        d.remove(min(d))\n",
    "        if budget >= 0:\n",
    "            cnt+=1\n",
    "        \n",
    "    return cnt\n",
    "\n",
    "\"\"\"\n",
    "모범답안\n",
    "def solution(d, budget):\n",
    "    d.sort()\n",
    "    while budget < sum(d):\n",
    "        d.pop()\n",
    "    return len(d)\n",
    "    \n",
    "\n",
    "def solution(d, budget):\n",
    "    answer = 0\n",
    "    sum =0\n",
    "    sortD=sorted(d)\n",
    "    for i in sortD:\n",
    "        if (sum+i)<=budget:\n",
    "            sum+=i\n",
    "            answer+=1\n",
    "    return answer\n",
    "\n",
    "\n",
    "\"\"\""
   ]
  }
 ],
 "metadata": {
  "kernelspec": {
   "display_name": "Python 3",
   "language": "python",
   "name": "python3"
  },
  "language_info": {
   "codemirror_mode": {
    "name": "ipython",
    "version": 3
   },
   "file_extension": ".py",
   "mimetype": "text/x-python",
   "name": "python",
   "nbconvert_exporter": "python",
   "pygments_lexer": "ipython3",
   "version": "3.6.5"
  }
 },
 "nbformat": 4,
 "nbformat_minor": 4
}
