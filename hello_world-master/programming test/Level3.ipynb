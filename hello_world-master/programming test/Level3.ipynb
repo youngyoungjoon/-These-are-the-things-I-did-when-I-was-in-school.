{
 "cells": [
  {
   "cell_type": "markdown",
   "metadata": {},
   "source": [
    "### Level3"
   ]
  },
  {
   "cell_type": "markdown",
   "metadata": {},
   "source": [
    "* 2 x n 타일링"
   ]
  },
  {
   "cell_type": "code",
   "execution_count": 91,
   "metadata": {},
   "outputs": [],
   "source": [
    "def solution(n):\n",
    "    answer = 0\n",
    "    \n",
    "    a, b = 1, 2\n",
    "    \n",
    "    \n",
    "    if n<=3:\n",
    "        return n\n",
    "    \n",
    "    for i in range(3, n+1):\n",
    "        a, b = b, (a+b) % 1000000007\n",
    "        answer=b\n",
    "        \n",
    "        \n",
    "    \n",
    "    return answer\n",
    "\n",
    "\n",
    "\"\"\"\n",
    "모범답안\n",
    "\n",
    "def solution(n):\n",
    "    dp = [0 for _ in range(n+1)]\n",
    "    dp[1] = 1\n",
    "    dp[0] = 1\n",
    "\n",
    "    for i in range(2, n+1):\n",
    "        dp[i] = dp[i-1] + dp[i-2]\n",
    "\n",
    "    return dp[n]%10007\n",
    "\"\"\""
   ]
  },
  {
   "cell_type": "code",
   "execution_count": 92,
   "metadata": {},
   "outputs": [
    {
     "data": {
      "text/plain": [
       "21"
      ]
     },
     "execution_count": 92,
     "metadata": {},
     "output_type": "execute_result"
    }
   ],
   "source": [
    "solution(7)"
   ]
  },
  {
   "cell_type": "markdown",
   "metadata": {},
   "source": [
    "* N 으로 표현   (동적계획법)  따로 공부해야댐 "
   ]
  },
  {
   "cell_type": "code",
   "execution_count": 120,
   "metadata": {},
   "outputs": [],
   "source": [
    "def solution(N, number):\n",
    "    S = [{N}]\n",
    "    for i in range(2, 9):\n",
    "        lst = [int(str(N)*i)]\n",
    "        for X_i in range(0, int(i / 2)):\n",
    "            for x in S[X_i]:\n",
    "                for y in S[i - X_i - 2]:\n",
    "                    lst.append(x + y)\n",
    "                    lst.append(x - y)\n",
    "                    lst.append(y - x)\n",
    "                    lst.append(x * y)\n",
    "                    if x != 0: lst.append(y // x)\n",
    "                    if y != 0: lst.append(x // y)\n",
    "        if number in set(lst):\n",
    "            return i\n",
    "        S.append(lst)\n",
    "    return -1\n",
    "\n",
    "\n",
    "\"\"\"\n",
    "모범답안\n",
    "\n",
    "from itertools import product\n",
    "\n",
    "\n",
    "def solution(N, number):\n",
    "    return solve(N, 0, number, 8, {})\n",
    "\n",
    "\n",
    "def solve(digit, cur, target, chance, cache):\n",
    "    # Solved without any cost\n",
    "    if cur == target:\n",
    "      return 0\n",
    "\n",
    "    # Try to reuse previous calculation\n",
    "    key = (digit, cur, chance)\n",
    "    if key in cache:\n",
    "      return cache[key]\n",
    "\n",
    "    # Recursively calculate spendings\n",
    "    nums = [int(str(digit) * i) for i in range(1, chance + 1)]\n",
    "    ops = [\n",
    "        lambda a, b: a + b,\n",
    "        lambda a, b: a - b,\n",
    "        lambda a, b: a * b,\n",
    "        lambda a, b: a // b,\n",
    "    ]\n",
    "    spents = []\n",
    "    for num, op in product(nums, ops):\n",
    "        cost = len(str(num))\n",
    "        spent = solve(digit, op(cur, num), target, chance - cost, cache)\n",
    "        if spent == -1:\n",
    "            continue\n",
    "        spents.append(spent + cost)\n",
    "\n",
    "    # Get minimum spending\n",
    "    if len(spents) == 0:\n",
    "      result = -1\n",
    "    else:\n",
    "      result = min(spents)\n",
    "\n",
    "    # Save for later reuse\n",
    "    cache[key] = result\n",
    "    return result\n",
    "\"\"\"\n"
   ]
  },
  {
   "cell_type": "code",
   "execution_count": 121,
   "metadata": {},
   "outputs": [
    {
     "data": {
      "text/plain": [
       "4"
      ]
     },
     "execution_count": 121,
     "metadata": {},
     "output_type": "execute_result"
    }
   ],
   "source": [
    "solution(5, 12)"
   ]
  },
  {
   "cell_type": "code",
   "execution_count": 122,
   "metadata": {},
   "outputs": [
    {
     "data": {
      "text/plain": [
       "3"
      ]
     },
     "execution_count": 122,
     "metadata": {},
     "output_type": "execute_result"
    }
   ],
   "source": [
    "solution(2, 11)"
   ]
  },
  {
   "cell_type": "markdown",
   "metadata": {},
   "source": [
    "* 타일 장식물  (동적계획법) "
   ]
  },
  {
   "cell_type": "code",
   "execution_count": 148,
   "metadata": {},
   "outputs": [],
   "source": [
    "def solution(N):\n",
    "    answer = 0\n",
    "    dp = [0 for _ in range(N+1)]\n",
    "    dp[1] = 1\n",
    "    dp[0] = 1\n",
    "    \n",
    "    for i in range(2, N+1):\n",
    "        dp[i] = dp[i-1] + dp[i-2]\n",
    "    \n",
    "    return dp[-2]*2+dp[-1]*2\n",
    "\n",
    "\"\"\"\n",
    "모범답안\n",
    "def solution(N):\n",
    "    l=[1,1]\n",
    "    for i in range(2,N):\n",
    "        l.append(l[-1]+l[-2])\n",
    "    answer = (l[-1]*2+l[-2])*2\n",
    "    return answer\n",
    "\"\"\""
   ]
  },
  {
   "cell_type": "code",
   "execution_count": 149,
   "metadata": {},
   "outputs": [
    {
     "data": {
      "text/plain": [
       "26"
      ]
     },
     "execution_count": 149,
     "metadata": {},
     "output_type": "execute_result"
    }
   ],
   "source": [
    "solution(5)"
   ]
  },
  {
   "cell_type": "code",
   "execution_count": 150,
   "metadata": {},
   "outputs": [
    {
     "data": {
      "text/plain": [
       "42"
      ]
     },
     "execution_count": 150,
     "metadata": {},
     "output_type": "execute_result"
    }
   ],
   "source": [
    "solution(6)"
   ]
  },
  {
   "cell_type": "markdown",
   "metadata": {},
   "source": [
    "* 네트워크 (깊이/너비 우선 탐색)"
   ]
  },
  {
   "cell_type": "code",
   "execution_count": 173,
   "metadata": {},
   "outputs": [],
   "source": [
    "def solution(n, computers):\n",
    "    answer = 0\n",
    "    visited = [0 for i in range(n)]\n",
    "    def dfs(computers, visited, start):\n",
    "        stack = [start]\n",
    "        while stack:\n",
    "            j = stack.pop()\n",
    "            if visited[j] == 0:\n",
    "                visited[j] = 1\n",
    "            for i in range(len(computers)):\n",
    "                #pop한 정점과 연결되어있고 방문하지 않은곳 stack에 저장\n",
    "                if computers[j][i] ==1 and visited[i] == 0:\n",
    "                    #stack에 저장하고나면 해당정점과 다시 pop하면서 정점과 연결된 곳을 모두 방문함\n",
    "                    stack.append(i)\n",
    "    i=0\n",
    "    while 0 in visited:\n",
    "        if visited[i] ==0:\n",
    "            dfs(computers, visited, i)\n",
    "            answer +=1\n",
    "        i+=1\n",
    "    return answer\n",
    "\n",
    "\"\"\"\n",
    "def solution(n, computers):    \n",
    "    def BFS(node, visit):\n",
    "        que = [node]\n",
    "        visit[node] = 1\n",
    "        while que:\n",
    "            v = que.pop(0)\n",
    "            for i in range(n):\n",
    "                if computers[v][i] == 1 and visit[i] == 0:\n",
    "                    visit[i] = 1\n",
    "                    que.append(i)\n",
    "        return visit\n",
    "    visit = [0 for i in range(n)]\n",
    "    answer = 0\n",
    "    for i in range(n):\n",
    "        try:\n",
    "            visit = BFS(visit.index(0), visit)\n",
    "            answer += 1\n",
    "        except:\n",
    "            break\n",
    "    return answer\n",
    "\"\"\"\n",
    "\n",
    "def visit(k, graph, visited):\n",
    "    visited[k] = 1\n",
    "    for i in range(len(graph[k])):\n",
    "        if visited[i] == 0 and graph[k][i] == 1:\n",
    "            visit(i, graph, visited)\n",
    "\n",
    "def solution(n, computers):\n",
    "\n",
    "    visited = [0] * n\n",
    "\n",
    "    answer = 0\n",
    "\n",
    "    for i in range(n):\n",
    "        if visited[i] == 0:\n",
    "            visit(i, computers, visited)\n",
    "            answer += 1\n",
    "        if 0 not in visited:\n",
    "            break\n",
    "\n",
    "    return answer"
   ]
  },
  {
   "cell_type": "code",
   "execution_count": 174,
   "metadata": {},
   "outputs": [
    {
     "data": {
      "text/plain": [
       "2"
      ]
     },
     "execution_count": 174,
     "metadata": {},
     "output_type": "execute_result"
    }
   ],
   "source": [
    "solution(3, [[1, 1, 0], [1, 1, 0], [0, 0, 1]])"
   ]
  },
  {
   "cell_type": "code",
   "execution_count": 175,
   "metadata": {},
   "outputs": [
    {
     "data": {
      "text/plain": [
       "1"
      ]
     },
     "execution_count": 175,
     "metadata": {},
     "output_type": "execute_result"
    }
   ],
   "source": [
    "solution(3, [[1, 1, 0], [1, 1, 1], [0, 1, 1]])"
   ]
  },
  {
   "cell_type": "markdown",
   "metadata": {},
   "source": [
    "* 정수삼각형 (동적계획법)"
   ]
  },
  {
   "cell_type": "code",
   "execution_count": 303,
   "metadata": {},
   "outputs": [],
   "source": [
    "def solution(triangle):\n",
    "    for i in range(1, len(triangle)):\n",
    "        for j in range(i+1):\n",
    "            if j == 0:\n",
    "                triangle[i][j] += triangle[i-1][j]\n",
    "            elif j == i:\n",
    "                triangle[i][j] += triangle[i-1][j-1]\n",
    "            else:\n",
    "                triangle[i][j] += max(triangle[i-1][j],triangle[i-1][j-1])\n",
    "                \n",
    "    \n",
    "    \n",
    "    return max(triangle[-1])\n",
    "#참조 https://codedrive.tistory.com/49\n",
    "\"\"\"\n",
    "모범답안\n",
    "solution = lambda t, l = []: max(l) if not t else solution(t[1:], [max(x,y)+z for x,y,z in zip([0]+l, l+[0], t[0])])\n",
    "\"\"\""
   ]
  },
  {
   "cell_type": "code",
   "execution_count": 305,
   "metadata": {},
   "outputs": [
    {
     "data": {
      "text/plain": [
       "30"
      ]
     },
     "execution_count": 305,
     "metadata": {},
     "output_type": "execute_result"
    }
   ],
   "source": [
    "solution([[7], [3, 8], [8, 1, 0], [2, 7, 4, 4], [4, 5, 2, 6, 5]])"
   ]
  },
  {
   "cell_type": "markdown",
   "metadata": {},
   "source": [
    "* 섬 연결하기 (탐욕법)"
   ]
  },
  {
   "cell_type": "code",
   "execution_count": 49,
   "metadata": {},
   "outputs": [],
   "source": [
    "\"\"\"\n",
    "Kruskal 알고리즘을 사용해서 푸는 문제이다. Kruskal 알고리즘이란, \n",
    "탐욕적인 방법을 이용하여 그래프의 모든 정점을 최소 비용으로 연결하는 방법이다. \n",
    "Kruskal 알고리즘을 사용하는 방법은 간단하다. \n",
    "처음 시작하는 노드로 부터 하나의 간선을 선택해가면 된다. \n",
    "\"\"\"\n",
    "\n",
    "\n",
    "def solution(n, costs):\n",
    "    costs.sort()\n",
    "    connect=[costs[0][0]]\n",
    "    answer = 0\n",
    "    while len(connect)!=n:\n",
    "        temp=1000000000000000\n",
    "        idx=0\n",
    "        for i in range(len(costs)):\n",
    "            if costs[i][0] in connect or costs[i][1] in connect:\n",
    "                if costs[i][0] in connect and costs[i][1] in connect:\n",
    "                    continue\n",
    "                if temp > costs[i][2]:\n",
    "                    temp=costs[i][2]\n",
    "                    idx=i\n",
    "        answer+=temp\n",
    "        connect.append(costs[idx][0])\n",
    "        connect.append(costs[idx][1])\n",
    "        connect=list(set(connect))\n",
    "        costs.pop(idx)\n",
    "    return answer\n",
    "\"\"\"\n",
    "\n",
    "1. 0에 연결되어 있는 간선은 0-1(1), 0-2(2) 두 가지 간선이 있다. \n",
    "최소 비용으로 연결하는 것이 목적이므로 0-1 간선을 \n",
    "선택하고 1의 노드를 연결된 노드 집합에 넣도록 한다. \n",
    "\n",
    "2. 0과 1의 노드에 연결되어 있는 간선을 찾도록 하자. \n",
    "그러면 0-2 (2), 1-2(5), 1-3(1) 세 가지 간선이 존재하게 되고, \n",
    "역시 최소를 선택하므로 1-3을 선택하게 된다.\n",
    "\n",
    "3. 위와 같은 방법으로 진행을 하면 0-2 간선을 선택하게 되어 모든 노드들이 연결되게 된다.\n",
    "\n",
    "이제 이 방법들을 코드로 옮기면 다음과 같다. \n",
    "connect라는 연결된 노드 집합을 만들고 이 값이 n과 같게 되면 while이 끝나도록 한다. \n",
    "costs를 반복하여 connect에 있는 노드들의 간선을 찾도록 한다. \n",
    "(단 시점과 종점이 모두 connect에 있으면 안된다.)\n",
    "이 간선들의 최소값을 찾아 answer에 더하고 connect 집합에 노드를 추가시키고 costs에서는 간선을 빼도록 한다. \n",
    "이 작업을 모든 노드가 connect에 들어갈 때까지 반복한 answer를 반환하면 된다.\n",
    "\n",
    "\n",
    "def solution(n, costs):\n",
    "    answer = 0\n",
    "\n",
    "    V = set()\n",
    "    for v1, v2, cost in costs:\n",
    "        V.add(v1)\n",
    "        V.add(v2)\n",
    "    sortedCosts = sorted(costs, key = lambda x: x[2])\n",
    "\n",
    "    visited = set()\n",
    "\n",
    "    visited.add(V.pop())\n",
    "    while V:\n",
    "        for i in range(len(sortedCosts)):\n",
    "            v1, v2, cost = sortedCosts[i]\n",
    "            if v1 in visited and v2 in visited:\n",
    "                sortedCosts.pop(i)\n",
    "                break\n",
    "            elif v1 in visited or v2 in visited:\n",
    "                if v1 in V:\n",
    "                    V.remove(v1)\n",
    "                if v2 in V:\n",
    "                    V.remove(v2)\n",
    "                visited.add(v1)\n",
    "                visited.add(v2)\n",
    "                answer += cost\n",
    "                sortedCosts.pop(i)\n",
    "                break\n",
    "\n",
    "    return answer\n",
    "\"\"\"\n",
    "print(solution(4, [[0,1,1],\n",
    "             [0,2,2],\n",
    "             [1,2,5],\n",
    "             [1,3,1],\n",
    "             [2,3,8]]))"
   ]
  },
  {
   "cell_type": "code",
   "execution_count": 50,
   "metadata": {},
   "outputs": [
    {
     "data": {
      "text/plain": [
       "[4, 7, 8, 8, 10, 11, 11, 14, 14, 15]"
      ]
     },
     "execution_count": 50,
     "metadata": {},
     "output_type": "execute_result"
    }
   ],
   "source": [
    "solution(4, [[0,1,1],\n",
    "             [0,2,2],\n",
    "             [1,2,5],\n",
    "             [1,3,1],\n",
    "             [2,3,8]])"
   ]
  },
  {
   "cell_type": "markdown",
   "metadata": {},
   "source": [
    "* 단속카메라"
   ]
  },
  {
   "cell_type": "code",
   "execution_count": 5,
   "metadata": {},
   "outputs": [],
   "source": [
    "def solution(routes):\n",
    "    answer = 0\n",
    "    routes.sort()\n",
    "    check = [0] * len(routes)\n",
    "    for i in range(len(routes)-1, -1, -1):\n",
    "        if check[i] == 0:\n",
    "            camera = routes[i][0]\n",
    "            answer+=1\n",
    "        for j in range(i, -1, -1):\n",
    "            if check[j] == 0 and routes[j][1] >= camera >=routes[j][0]:\n",
    "                check[j]=1\n",
    "    \n",
    "    \n",
    "    return answer\n",
    "\n",
    "\n",
    "\"\"\"\n",
    "모범답안\n",
    "def solution(routes):\n",
    "    routes = sorted(routes, key=lambda x: x[1])\n",
    "    last_camera = -30000\n",
    "\n",
    "    answer = 0\n",
    "\n",
    "    for route in routes:\n",
    "        if last_camera < route[0]:\n",
    "            answer += 1\n",
    "            last_camera = route[1]\n",
    "\n",
    "    return answer\n",
    "\n",
    "\"\"\""
   ]
  },
  {
   "cell_type": "code",
   "execution_count": 6,
   "metadata": {},
   "outputs": [
    {
     "data": {
      "text/plain": [
       "2"
      ]
     },
     "execution_count": 6,
     "metadata": {},
     "output_type": "execute_result"
    }
   ],
   "source": [
    "solution([[-20,15], [-14,-5], [-18,-13], [-5,-3]])"
   ]
  },
  {
   "cell_type": "markdown",
   "metadata": {},
   "source": [
    "* 가정 먼 노드"
   ]
  },
  {
   "cell_type": "code",
   "execution_count": 52,
   "metadata": {},
   "outputs": [],
   "source": [
    "def solution(n, edge):\n",
    "    \n",
    "    answer = 0\n",
    "    edge.sort()\n",
    "    \n",
    "    for i in range(len(edge)):\n",
    "        edge[i].sort()\n",
    "    \n",
    "    visit = []\n",
    "    stack = [1]\n",
    "    while stack:\n",
    "        node = stack.pop()\n",
    "        if node not in visit:\n",
    "            visit.append(node)\n",
    "            stack.append(edge[0][1])\n",
    "    \n",
    "    \n",
    "    return visit"
   ]
  },
  {
   "cell_type": "code",
   "execution_count": 53,
   "metadata": {},
   "outputs": [
    {
     "data": {
      "text/plain": [
       "[1, 2]"
      ]
     },
     "execution_count": 53,
     "metadata": {},
     "output_type": "execute_result"
    }
   ],
   "source": [
    "solution(6, [[3, 6], [4, 3], [3, 2], [1, 3], [1, 2], [2, 4], [5, 2]])"
   ]
  },
  {
   "cell_type": "code",
   "execution_count": 44,
   "metadata": {},
   "outputs": [
    {
     "data": {
      "text/plain": [
       "[[1, 2], [1, 3], [2, 4], [2, 3], [3, 6], [3, 4], [2, 5]]"
      ]
     },
     "execution_count": 44,
     "metadata": {},
     "output_type": "execute_result"
    }
   ],
   "source": [
    "[[1, 2], [1, 3], [2, 4], [2, 3], [3, 6], [3, 4], [2, 5]]"
   ]
  },
  {
   "cell_type": "code",
   "execution_count": 62,
   "metadata": {},
   "outputs": [],
   "source": [
    "def solution(n, edge):\n",
    "    answer = [0]*(n+1)\n",
    "    newedge=[[] for i in range(len(edge)+1)]\n",
    "    \n",
    "    for i in range(len(edge)):\n",
    "        if not edge[i][1] in newedge[edge[i][0]]:\n",
    "            newedge[edge[i][0]].append(edge[i][1])\n",
    "            newedge[edge[i][0]].sort()\n",
    "        if not edge[i][0] in newedge[edge[i][1]]:\n",
    "            newedge[edge[i][1]].append(edge[i][0])\n",
    "            newedge[edge[i][1]].sort()\n",
    "            \n",
    "    answer[0], answer[1] = -1, -1\n",
    "    queue=[1]\n",
    "    count=1\n",
    "    \n",
    "    while not all(answer):\n",
    "        temp = []\n",
    "        for start in queue:\n",
    "            for i in newedge[start]:\n",
    "                if answer[i] == 0:\n",
    "                    answer[i]+=count\n",
    "                    temp.append(i)\n",
    "        queue = temp\n",
    "        count+=1\n",
    "    \n",
    "    \n",
    "    return answer.count(max(answer))\n",
    "\n",
    "\n",
    "\"\"\"\n",
    "모범답안\n",
    "from collections import defaultdict\n",
    "\n",
    "def BFS(graph, start, distances):\n",
    "    q = start\n",
    "    visited = set(start)\n",
    "    while len(q):\n",
    "        cur = q.pop(0)\n",
    "        print(cur)\n",
    "        for neighbor in graph[cur]:\n",
    "            if neighbor not in visited:\n",
    "                visited.add(neighbor)\n",
    "                q.append(neighbor)\n",
    "                distances[neighbor] = (distances[cur]+1)\n",
    "\n",
    "\n",
    "def solution(n, edge):\n",
    "    graph = defaultdict(list)\n",
    "    for e1, e2 in edge:\n",
    "        graph[e1].append(e2)\n",
    "        graph[e2].append(e1)\n",
    "\n",
    "    distances = [0] * (n+1)\n",
    "    BFS(graph, [1], distances)\n",
    "    print(distances)\n",
    "    answer = 0\n",
    "    for dist in distances:\n",
    "        if dist == max(distances):\n",
    "            answer +=1\n",
    "    return answer\n",
    "\n",
    "\"\"\"\n"
   ]
  },
  {
   "cell_type": "code",
   "execution_count": 63,
   "metadata": {},
   "outputs": [
    {
     "data": {
      "text/plain": [
       "3"
      ]
     },
     "execution_count": 63,
     "metadata": {},
     "output_type": "execute_result"
    }
   ],
   "source": [
    "solution(6, [[3, 6], [4, 3], [3, 2], [1, 3], [1, 2], [2, 4], [5, 2]])"
   ]
  },
  {
   "cell_type": "markdown",
   "metadata": {},
   "source": [
    "* 단어변환 (깊이/너비 우선 탐색(DFS/BFS)"
   ]
  },
  {
   "cell_type": "code",
   "execution_count": 164,
   "metadata": {},
   "outputs": [],
   "source": [
    "def solution(begin, target, words):\n",
    "    answer = 0\n",
    "    li = [begin]\n",
    "    \n",
    "    b=[begin]\n",
    "    b.extend(words)\n",
    "    flag = 0\n",
    "    for i in range(1, len(b)):\n",
    "        a = 0\n",
    "        for j in range(len(b[i])):\n",
    "            if b[i-1][j] == b[i][j]:\n",
    "                a+=1\n",
    "            \n",
    "        if len(b[i]) - 1 == a:\n",
    "            li.append(b[i])\n",
    "            \n",
    "        \n",
    "        else:\n",
    "            break\n",
    "            \n",
    "    for i in b:\n",
    "        if i == target:\n",
    "            flag = True\n",
    "            \n",
    "    \n",
    "    if flag == True:\n",
    "            li.append(i)\n",
    "    else:\n",
    "        return 0\n",
    "    \n",
    "    route =[]\n",
    "    for i in range(1, len(li)):\n",
    "        count = 0\n",
    "        for j in range(len(li[i])):\n",
    "            \n",
    "            if li[i-1][j] == li[i][j]:\n",
    "                count += 1\n",
    "        if len(li[i])-1 == count:\n",
    "            route.append(li[i])\n",
    "                \n",
    "    \n",
    "            \n",
    "    \n",
    "    \n",
    "    return len(route)\n",
    "\n",
    "\n",
    "from collections import deque as queue\n",
    "\"\"\"\n",
    "괜히 노가다했네 모범답안\n",
    "\n",
    "transistable = lambda a,b: sum((1 if x!=y else 0) for x,y in zip(a,b)) == 1\n",
    "\n",
    "def solution(begin,target,words):\n",
    "    q, d = queue(), dict()\n",
    "    q.append((begin, 0))\n",
    "    d[begin] = set(filter(lambda x:transistable(x,begin), words))\n",
    "    \n",
    "    for w in words:\n",
    "        d[w] = set(filter(lambda x:transistable(x,w), words))\n",
    "       \n",
    "    while q:\n",
    "        cur, level  = q.popleft()\n",
    "        if level > len(words):\n",
    "            return 0\n",
    "        for w in d[cur]:\n",
    "            if w == target:\n",
    "                return level + 1\n",
    "            else:\n",
    "                q.append((w, level + 1))\n",
    "    \n",
    "    return 0\"\"\"\n",
    "\n",
    "def solution(begin, target, words):\n",
    "    answer = 0\n",
    "    \n",
    "    li = [begin]\n",
    "    \n",
    "    if target not in words:\n",
    "        return 0\n",
    "    \n",
    "    for i in range(len(words)):\n",
    "        cnt = 0\n",
    "        tar_cnt =0\n",
    "        for j in range(len(words[i])):\n",
    "            if words[i][j] != li[-1][j]:\n",
    "                cnt+=1\n",
    "            if li[-1][j] != target[j]:\n",
    "                tar_cnt +=1\n",
    "        if cnt ==1:\n",
    "            li.append(words[i])\n",
    "        elif tar_cnt == 1:\n",
    "            li.append(target)\n",
    "            break\n",
    "    \n",
    "    return len(li)-1"
   ]
  },
  {
   "cell_type": "code",
   "execution_count": 165,
   "metadata": {},
   "outputs": [
    {
     "data": {
      "text/plain": [
       "4"
      ]
     },
     "execution_count": 165,
     "metadata": {},
     "output_type": "execute_result"
    }
   ],
   "source": [
    "solution(\"hit\", \"cog\", [\"hot\", \"dot\", \"dog\", \"lot\", \"log\", \"cog\"])"
   ]
  },
  {
   "cell_type": "code",
   "execution_count": 166,
   "metadata": {},
   "outputs": [
    {
     "data": {
      "text/plain": [
       "0"
      ]
     },
     "execution_count": 166,
     "metadata": {},
     "output_type": "execute_result"
    }
   ],
   "source": [
    "solution(\"hit\", \"cog\", [\"hot\", \"dot\", \"dog\", \"lot\", \"log\"])"
   ]
  },
  {
   "cell_type": "code",
   "execution_count": 75,
   "metadata": {},
   "outputs": [
    {
     "data": {
      "text/plain": [
       "'lot'"
      ]
     },
     "execution_count": 75,
     "metadata": {},
     "output_type": "execute_result"
    }
   ],
   "source": [
    "a = [\"hot\", \"dot\", \"dog\", \"lot\", \"log\"]\n",
    "a.pop(3)"
   ]
  },
  {
   "cell_type": "markdown",
   "metadata": {},
   "source": [
    "* 예산(이분탐색)"
   ]
  },
  {
   "cell_type": "code",
   "execution_count": 31,
   "metadata": {},
   "outputs": [],
   "source": [
    "# 효율성 2번 3번 시간초과로 실패 이분탐색으로 안풀어서 그럴듯\n",
    "def solution(budgets, M):\n",
    "    answer = 0\n",
    "    \n",
    "    sum_avg = int(sum(budgets) / len(budgets))+1\n",
    "    M_avg = int(M / len(budgets))\n",
    "    bud_max = max(budgets) - (sum_avg - M_avg)\n",
    "    \n",
    "    if M_avg<sum_avg:\n",
    "        \n",
    "        for i in range(bud_max, M_avg-1, -1):\n",
    "            li = []\n",
    "            for j in range(len(budgets)-1, -1, -1):\n",
    "                \n",
    "                if i <= budgets[j]:\n",
    "                    li.append(i)\n",
    "                else:\n",
    "                    li.append(budgets[j])\n",
    "            if sum(li) <= M:\n",
    "                answer = i\n",
    "                break\n",
    "                        \n",
    "    else:\n",
    "        \n",
    "        answer =  max(budgets)\n",
    "        \n",
    "    \n",
    "    return answer\n",
    "\n",
    "\"\"\"\n",
    "모범답안\n",
    "def solution(budgets, M):\n",
    "    budgets.sort()\n",
    "    l = len(budgets)\n",
    "    cap = 0\n",
    "    for i, budget in enumerate(budgets):\n",
    "        level = (budget - cap) * (l - i)\n",
    "        if level <= M:\n",
    "            cap = budget\n",
    "            M -= level\n",
    "        else:\n",
    "            cap += M // (l - i)\n",
    "            break\n",
    "    return cap\n",
    "    \n",
    "def solution(budgets, M):\n",
    "    left=0\n",
    "    right=max(budgets)\n",
    "    temp=0\n",
    "    answer=0\n",
    "    while(right>=left):\n",
    "        mid=(left+right)//2\n",
    "        result=0\n",
    "        for i in budgets:\n",
    "            if mid>i:\n",
    "                result+=i\n",
    "            else:\n",
    "                result+=mid\n",
    "        if result>M:\n",
    "            right=mid-1\n",
    "        else:\n",
    "            if result>=temp:\n",
    "                answer=mid\n",
    "            left=mid+1\n",
    "    return answer\n",
    "\n",
    "\"\"\""
   ]
  },
  {
   "cell_type": "code",
   "execution_count": 32,
   "metadata": {},
   "outputs": [
    {
     "data": {
      "text/plain": [
       "127"
      ]
     },
     "execution_count": 32,
     "metadata": {},
     "output_type": "execute_result"
    }
   ],
   "source": [
    "solution([110, 120, 140, 150], 485)"
   ]
  },
  {
   "cell_type": "markdown",
   "metadata": {},
   "source": [
    "* 디스크 컨트롤러(힙)  잘 몰라서 다른사람 풀이 봤음"
   ]
  },
  {
   "cell_type": "code",
   "execution_count": 120,
   "metadata": {},
   "outputs": [],
   "source": [
    "\"\"\"\n",
    "먼저 min heap을 만들어 줍니다. 이 때 heapq 를 이용하기 위해 자료를 가공해줍니다.\n",
    "\n",
    "swap_index\n",
    "heapq.heapify\n",
    "작업을 모두 처리할 때까지 아래를 반복합니다.\n",
    "\n",
    "처리할 수 있는 작업을 찾습니다. 만약 찾지 못하면 기다립니다.\n",
    "get_job\n",
    "get_minimal_wait_time\n",
    "평균 대기 시간을 구합니다.\n",
    "\"\"\"\n",
    "\n",
    "import heapq\n",
    "\n",
    "def solution(jobs):\n",
    "    time = 0\n",
    "    start_time = 0\n",
    "    finish_time = 0\n",
    "    sum_task_time = 0\n",
    "\n",
    "    task_num = 0\n",
    "    disk = []\n",
    "    priorities = []\n",
    "    waiting_tasks = []\n",
    "\n",
    "    for request in jobs:#힙을 이용하여 우선순위 큐 생성.\n",
    "        heapq.heappush(priorities,request)\n",
    "\n",
    "    task_num = len(priorities)\n",
    "\n",
    "    while True:\n",
    "        #절대시간 0초부터 시작\n",
    "\n",
    "        #대기중인 작업 별도관리\n",
    "        for t in range(len(priorities)):\n",
    "            if time >= priorities[0][0]:\n",
    "                waiting_tasks.append(heapq.heappop(priorities))\n",
    "\n",
    "        #대기중인 작업 작업시간이 적은 순으로 정렬\n",
    "        waiting_tasks.sort(key = lambda x : x[-1])\n",
    "\n",
    "        if disk == []:#디스크가 비어있을 때 작업을 넣기위함\n",
    "            if waiting_tasks != []:\n",
    "                disk = waiting_tasks.pop(0)\n",
    "                start_time = time #작업이 시작된 시간을 기록\n",
    "                finish_time = time + disk[1]\n",
    "\n",
    "        elif disk != []:#디스크에 작업이 있을때 작업시간이 경과했을 때 작업 삭제\n",
    "            if time == finish_time :\n",
    "                sum_task_time += finish_time - disk[0]\n",
    "                disk = []                \n",
    "\n",
    "                continue\n",
    "\n",
    "        time += 1 # 시간의 경과\n",
    "\n",
    "\n",
    "        if priorities == [] and disk == []:\n",
    "            break\n",
    "\n",
    "    return int(sum_task_time/task_num)"
   ]
  },
  {
   "cell_type": "code",
   "execution_count": 121,
   "metadata": {},
   "outputs": [
    {
     "data": {
      "text/plain": [
       "9"
      ]
     },
     "execution_count": 121,
     "metadata": {},
     "output_type": "execute_result"
    }
   ],
   "source": [
    "solution([[0, 3], [2, 6], [1,9]])"
   ]
  },
  {
   "cell_type": "markdown",
   "metadata": {},
   "source": [
    "* 여행경로(BFS/DFS)"
   ]
  },
  {
   "cell_type": "code",
   "execution_count": 154,
   "metadata": {},
   "outputs": [],
   "source": [
    "def solution(tickets):\n",
    "    answer = []\n",
    "    graph = dict()\n",
    "    for item in tickets:\n",
    "        if(item[0] in graph.keys()):\n",
    "            graph[item[0]].append(item[1])\n",
    "        else:\n",
    "            graph[item[0]] = [item[1]]\n",
    "    for item in graph:\n",
    "        graph[item].sort()\n",
    "    def dfs(tickets,graph):\n",
    "        stack = list()\n",
    "        visited = list()\n",
    "        stack.append(\"ICN\")\n",
    "        while(stack):\n",
    "            node = stack.pop()\n",
    "            visited.append(node)\n",
    "            if(node not in graph.keys()):\n",
    "                pass \n",
    "            elif(graph[node]):\n",
    "                visit = graph[node].pop()\n",
    "                stack.append(visit)\n",
    "        return visited\n",
    "    answer = dfs(tickets,graph)\n",
    "    return answer\n",
    "\n",
    "\n",
    "\"\"\"\n",
    "모범답안\n",
    "def solution(tickets):\n",
    "    def helper(tickets, route):\n",
    "        if tickets == []:\n",
    "            return route\n",
    "        left = [i for i in range(len(tickets)) if tickets[i][0] == route[-1]]\n",
    "        if left == []:\n",
    "            return None\n",
    "        left.sort(key = lambda i: tickets[i][1])\n",
    "\n",
    "        for next in left:\n",
    "            rest = helper(tickets[:next]+tickets[next+1:], route+[tickets[next][1]])\n",
    "            if rest is not None:\n",
    "                return rest\n",
    "    return helper(tickets, [\"ICN\"])\n",
    "    \n",
    "    \n",
    "    \n",
    "from collections import defaultdict \n",
    "\n",
    "def dfs(graph, N, key, footprint):\n",
    "    print(footprint)\n",
    "\n",
    "    if len(footprint) == N + 1:\n",
    "        return footprint\n",
    "\n",
    "    for idx, country in enumerate(graph[key]):\n",
    "        graph[key].pop(idx)\n",
    "\n",
    "        tmp = footprint[:]\n",
    "        tmp.append(country)\n",
    "\n",
    "        ret = dfs(graph, N, country, tmp)\n",
    "\n",
    "        graph[key].insert(idx, country)\n",
    "\n",
    "        if ret:\n",
    "            return ret\n",
    "\n",
    "\n",
    "def solution(tickets):\n",
    "    answer = []\n",
    "\n",
    "    graph = defaultdict(list)\n",
    "\n",
    "    N = len(tickets)\n",
    "    for ticket in tickets:\n",
    "        graph[ticket[0]].append(ticket[1])\n",
    "        graph[ticket[0]].sort()\n",
    "\n",
    "    answer = dfs(graph, N, \"ICN\", [\"ICN\"])\n",
    "\n",
    "    return answe\n",
    "\"\"\""
   ]
  },
  {
   "cell_type": "code",
   "execution_count": 155,
   "metadata": {},
   "outputs": [
    {
     "data": {
      "text/plain": [
       "['ICN', 'JFK', 'HND', 'IAD']"
      ]
     },
     "execution_count": 155,
     "metadata": {},
     "output_type": "execute_result"
    }
   ],
   "source": [
    "solution([[\"ICN\", \"JFK\"], [\"HND\", \"IAD\"], [\"JFK\", \"HND\"]])"
   ]
  },
  {
   "cell_type": "code",
   "execution_count": 156,
   "metadata": {},
   "outputs": [
    {
     "data": {
      "text/plain": [
       "['ICN', 'SFO', 'ATL', 'SFO']"
      ]
     },
     "execution_count": 156,
     "metadata": {},
     "output_type": "execute_result"
    }
   ],
   "source": [
    "solution([[\"ICN\", \"SFO\"], [\"ICN\", \"ATL\"], [\"SFO\", \"ATL\"], [\"ATL\", \"ICN\"], [\"ATL\", \"SFO\"]])"
   ]
  },
  {
   "cell_type": "markdown",
   "metadata": {},
   "source": [
    "* 입국심사(이분탐색)"
   ]
  },
  {
   "cell_type": "code",
   "execution_count": 1,
   "metadata": {},
   "outputs": [],
   "source": [
    "def solution(n, times):\n",
    "    left=0\n",
    "    right=max(times)*n\n",
    "    temp=right\n",
    "    answer=right\n",
    "    while(right>=left):\n",
    "        mid=(right+left)//2\n",
    "        people=0\n",
    "        for i in times:\n",
    "            people+=mid//i\n",
    "        if people==n:\n",
    "            if answer>=mid:\n",
    "                answer=mid\n",
    "            right=mid-1\n",
    "        elif people>n:\n",
    "            right=mid-1\n",
    "        else:\n",
    "            left=mid+1\n",
    "    if answer==temp:\n",
    "        return right+1\n",
    "    else:\n",
    "        return answer"
   ]
  },
  {
   "cell_type": "code",
   "execution_count": 2,
   "metadata": {},
   "outputs": [
    {
     "data": {
      "text/plain": [
       "28"
      ]
     },
     "execution_count": 2,
     "metadata": {},
     "output_type": "execute_result"
    }
   ],
   "source": [
    "solution(6, [7, 10])"
   ]
  },
  {
   "cell_type": "code",
   "execution_count": 3,
   "metadata": {},
   "outputs": [
    {
     "data": {
      "text/plain": [
       "12"
      ]
     },
     "execution_count": 3,
     "metadata": {},
     "output_type": "execute_result"
    }
   ],
   "source": [
    "solution(6, [3, 5])"
   ]
  },
  {
   "cell_type": "code",
   "execution_count": 4,
   "metadata": {},
   "outputs": [
    {
     "data": {
      "text/plain": [
       "24"
      ]
     },
     "execution_count": 4,
     "metadata": {},
     "output_type": "execute_result"
    }
   ],
   "source": [
    "solution(6, [6,10])"
   ]
  },
  {
   "cell_type": "code",
   "execution_count": 5,
   "metadata": {},
   "outputs": [
    {
     "data": {
      "text/plain": [
       "30"
      ]
     },
     "execution_count": 5,
     "metadata": {},
     "output_type": "execute_result"
    }
   ],
   "source": [
    "solution(6, [8,10])"
   ]
  },
  {
   "cell_type": "code",
   "execution_count": 6,
   "metadata": {},
   "outputs": [
    {
     "data": {
      "text/plain": [
       "20"
      ]
     },
     "execution_count": 6,
     "metadata": {},
     "output_type": "execute_result"
    }
   ],
   "source": [
    "solution(6, [4,10])"
   ]
  },
  {
   "cell_type": "code",
   "execution_count": 7,
   "metadata": {},
   "outputs": [
    {
     "data": {
      "text/plain": [
       "18"
      ]
     },
     "execution_count": 7,
     "metadata": {},
     "output_type": "execute_result"
    }
   ],
   "source": [
    "solution(11, [3,4,10]) "
   ]
  },
  {
   "cell_type": "markdown",
   "metadata": {},
   "source": [
    "* 이중우선순위큐 (힙)"
   ]
  },
  {
   "cell_type": "code",
   "execution_count": 168,
   "metadata": {},
   "outputs": [],
   "source": [
    "def solution(operations):\n",
    "    answer = [0, 0]\n",
    "    \n",
    "    li = []\n",
    "    for i in range(len(operations)):\n",
    "        \n",
    "        if operations[i][0] == \"I\":\n",
    "            li.append(int(operations[i][1:]))\n",
    "            li.sort(reverse=True)\n",
    "        if operations[i][0] == \"D\":\n",
    "            \n",
    "            \n",
    "            if int(operations[i][1:]) == 1:\n",
    "                if li != []:\n",
    "                    li.pop(0)\n",
    "                else:\n",
    "                    continue\n",
    "            if int(operations[i][1:]) == -1:\n",
    "                if li != []:\n",
    "                    li.pop()\n",
    "                else:\n",
    "                    continue\n",
    "            \n",
    "    if li == []:\n",
    "        return [0, 0]\n",
    "    \n",
    "   \n",
    "    return [max(li), min(li)]\n",
    "\n",
    "\"\"\"\n",
    "팁: pass는 단순히 실행할 코드가 없다는것을 의미\n",
    "\n",
    "continue 는 다음 순번의 loop를 돌도록 강제하는것을 의미\n",
    "\n",
    "pass와는 다르게 continue는 바로 다음 순번의 loop를 돈다\n",
    "\"\"\""
   ]
  },
  {
   "cell_type": "code",
   "execution_count": 169,
   "metadata": {},
   "outputs": [
    {
     "data": {
      "text/plain": [
       "[0, 0]"
      ]
     },
     "execution_count": 169,
     "metadata": {},
     "output_type": "execute_result"
    }
   ],
   "source": [
    "solution([\"I 16\", \"I -5643\", \"D -1\", \"D 1\", \"D 1\", \"I 123\", \"D -1\"]) "
   ]
  },
  {
   "cell_type": "code",
   "execution_count": 170,
   "metadata": {},
   "outputs": [
    {
     "data": {
      "text/plain": [
       "[333, -45]"
      ]
     },
     "execution_count": 170,
     "metadata": {},
     "output_type": "execute_result"
    }
   ],
   "source": [
    "solution([\"I -45\", \"I 653\", \"D 1\", \"I -642\", \"I 45\", \"I 97\", \"D 1\", \"D -1\", \"I 333\"]) "
   ]
  },
  {
   "cell_type": "markdown",
   "metadata": {},
   "source": [
    "* 순위    잘 모르겠음 ... "
   ]
  },
  {
   "cell_type": "code",
   "execution_count": 172,
   "metadata": {},
   "outputs": [],
   "source": [
    "def solution(n, results):\n",
    "    answer = 0\n",
    "    graph = [[0 for cols in range(n)] for rows in range(n)]\n",
    "    for r in results:   #그래프 초기화\n",
    "        graph[r[0]-1][r[1]-1] = 1\n",
    "        graph[r[1]-1][r[0]-1] = -1\n",
    "    for i in range(n):  #각 행별로 처리\n",
    "        for j in range(n):\n",
    "            if graph[i][j] == 1:\n",
    "                for m in range(n):\n",
    "                    if graph[j][m] == 1 and graph[i][m] == 0:\n",
    "                        graph[i][m] = 1\n",
    "                        graph[m][i] = -1\n",
    "            elif graph[i][j] == -1:\n",
    "                for m in range(n):\n",
    "                    if graph[j][m] == -1 and graph[i][m] == 0:\n",
    "                        graph[i][m] = -1\n",
    "                        graph[m][i] = 1\n",
    "    for i in range(n):\n",
    "        if graph[i].count(0) == 1:\n",
    "            answer += 1\n",
    "    return answer"
   ]
  },
  {
   "cell_type": "code",
   "execution_count": 173,
   "metadata": {},
   "outputs": [
    {
     "data": {
      "text/plain": [
       "2"
      ]
     },
     "execution_count": 173,
     "metadata": {},
     "output_type": "execute_result"
    }
   ],
   "source": [
    "solution(5, [[4, 3], \n",
    "             [4, 2], \n",
    "             [3, 2], \n",
    "             [1, 2], \n",
    "             [2, 5]]) "
   ]
  },
  {
   "cell_type": "markdown",
   "metadata": {},
   "source": [
    "* 등굣길 (동적계획법)"
   ]
  },
  {
   "cell_type": "code",
   "execution_count": 188,
   "metadata": {},
   "outputs": [],
   "source": [
    "def solution(m, n, puddles):\n",
    "    answers=[[0]*(m+1) for i in range(n+1)]\n",
    "    answers[1][1]=1\n",
    "    for i in range(1,n+1):\n",
    "        for j in range(1,m+1):\n",
    "            if i==1 and j==1:\n",
    "                continue\n",
    "            if [j,i] in puddles:\n",
    "                answers[i][j]=0\n",
    "            else:\n",
    "                answers[i][j]=answers[i-1][j]+answers[i][j-1]\n",
    "    return answers[n][m]%1000000007"
   ]
  },
  {
   "cell_type": "code",
   "execution_count": 189,
   "metadata": {},
   "outputs": [
    {
     "data": {
      "text/plain": [
       "4"
      ]
     },
     "execution_count": 189,
     "metadata": {},
     "output_type": "execute_result"
    }
   ],
   "source": [
    "solution(4, 3, [[2, 2]]) "
   ]
  },
  {
   "cell_type": "markdown",
   "metadata": {},
   "source": [
    "* 저울(탐욕법)"
   ]
  },
  {
   "cell_type": "code",
   "execution_count": 273,
   "metadata": {},
   "outputs": [],
   "source": [
    "import itertools\n",
    "def solution(weight):\n",
    "    answer = 0\n",
    "    \n",
    "    num=[]\n",
    "    for i in range(1, len(weight)):\n",
    "        num.append(list(itertools.combinations(weight, i)))\n",
    "        \n",
    "    sum_num=[]\n",
    "    for i in range(len(num)):\n",
    "        for j in range(len(num[i])):\n",
    "            sum_num.append(sum(num[i][j]))\n",
    "            \n",
    "    sum_num = list(set(sum_num))\n",
    "    \n",
    "    for i in range(len(sum_num)):\n",
    "        if sum_num[i] != i+1:\n",
    "            answer = i+1\n",
    "            break\n",
    "        \n",
    "    \n",
    "    return answer"
   ]
  },
  {
   "cell_type": "code",
   "execution_count": 274,
   "metadata": {},
   "outputs": [
    {
     "data": {
      "text/plain": [
       "21"
      ]
     },
     "execution_count": 274,
     "metadata": {},
     "output_type": "execute_result"
    }
   ],
   "source": [
    "solution([3, 1, 6, 2, 7, 30, 1]) "
   ]
  },
  {
   "cell_type": "code",
   "execution_count": 276,
   "metadata": {},
   "outputs": [],
   "source": [
    "def solution(weight):\n",
    "    weight.sort()\n",
    "    length=len(weight)\n",
    "    s=1\n",
    "    for i in range(length):\n",
    "        if s<weight[i]:\n",
    "            break\n",
    "        s+=weight[i]\n",
    "    return s\n",
    "\n"
   ]
  },
  {
   "cell_type": "code",
   "execution_count": 277,
   "metadata": {},
   "outputs": [
    {
     "data": {
      "text/plain": [
       "21"
      ]
     },
     "execution_count": 277,
     "metadata": {},
     "output_type": "execute_result"
    }
   ],
   "source": [
    "solution([3, 1, 6, 2, 7, 30, 1]) "
   ]
  },
  {
   "cell_type": "markdown",
   "metadata": {},
   "source": [
    "* 베스트 앨범(해시)"
   ]
  },
  {
   "cell_type": "code",
   "execution_count": 9,
   "metadata": {},
   "outputs": [],
   "source": [
    "from operator import itemgetter\n",
    "\n",
    "def solution(genres, plays):\n",
    "    \n",
    "    key = list(set(genres))\n",
    "    value = [0]*len(key)\n",
    "    dic = dict(zip(key, value))\n",
    "    \n",
    "    for i,v in dic.items():\n",
    "        dic[i] = [0]\n",
    "    \n",
    "    \n",
    "    for i in range(len(genres)):\n",
    "        if genres[i] in key:\n",
    "            dic[genres[i]][0]+=plays[i] \n",
    "            \n",
    "        dic[genres[i]].append([i, plays[i]])\n",
    "    \n",
    "    # sort set on descending order.\n",
    "    a = list(dic.values())\n",
    "    a.sort(key=itemgetter(0), reverse=True)\n",
    "    \n",
    "    answer=[]\n",
    "    \n",
    "    \n",
    "    \n",
    "    while a : \n",
    "        max = -1 \n",
    "        \n",
    "        # remove total sum of the genre played.\n",
    "        a[0].pop(0) \n",
    "        \n",
    "        # sort by number played on increasing order. \n",
    "        a[0].sort(key=itemgetter(1), reverse=True) \n",
    "        \n",
    "        # extract top 2 songs and append to answer. \n",
    "        for i in range(0, len(a[0])) : \n",
    "            if (i >= 2) : \n",
    "                break \n",
    "            answer.append(a[0][i][0]) \n",
    "            \n",
    "            # remove current genre from list. \n",
    "        a.pop(0) \n",
    "    return answer\n",
    "\n",
    "        \n",
    "    \n",
    "\"\"\"\n",
    "모범답안\n",
    "def solution(genres, plays):\n",
    "    answer = []\n",
    "    d = {e:[] for e in set(genres)}\n",
    "    for e in zip(genres, plays, range(len(plays))):\n",
    "        d[e[0]].append([e[1] , e[2]])\n",
    "    genreSort =sorted(list(d.keys()), key= lambda x: sum( map(lambda y: y[0],d[x])), reverse = True)\n",
    "    for g in genreSort:\n",
    "        temp = [e[1] for e in sorted(d[g],key= lambda x: (x[0], -x[1]), reverse = True)]\n",
    "        answer += temp[:min(len(temp),2)]\n",
    "    return answer\n",
    "\n",
    "\"\"\""
   ]
  },
  {
   "cell_type": "code",
   "execution_count": 10,
   "metadata": {},
   "outputs": [
    {
     "data": {
      "text/plain": [
       "[4, 1, 3, 0]"
      ]
     },
     "execution_count": 10,
     "metadata": {},
     "output_type": "execute_result"
    }
   ],
   "source": [
    "solution(['classic', 'pop', 'classic', 'classic', 'pop'], [500, 600, 150, 800, 2500]) "
   ]
  },
  {
   "cell_type": "markdown",
   "metadata": {},
   "source": [
    "* 가장 긴 팰린드롬"
   ]
  },
  {
   "cell_type": "code",
   "execution_count": 167,
   "metadata": {},
   "outputs": [],
   "source": [
    "#이거 시간초과로 다시 해야됨\n",
    "import itertools\n",
    "def solution(s):\n",
    "    answer = []\n",
    "    li1 = []\n",
    "    li2 =[]\n",
    "    a = s[::-1]\n",
    "    for i in range(1,len(s)+1):\n",
    "        li1.append(list(itertools.combinations(s, i)))\n",
    "        li2.append(list(itertools.combinations(a, i)))\n",
    "    \n",
    "    \n",
    "    \n",
    "        for k in range(len(li1)):\n",
    "\n",
    "            for j in range(len(li1[k])):\n",
    "\n",
    "                if li1[k][j] in li2[k]:\n",
    "                    answer.append(len(li1[k][j]))\n",
    "\n",
    "    \n",
    "\n",
    "    return max(answer)\n"
   ]
  },
  {
   "cell_type": "code",
   "execution_count": 168,
   "metadata": {},
   "outputs": [
    {
     "data": {
      "text/plain": [
       "7"
      ]
     },
     "execution_count": 168,
     "metadata": {},
     "output_type": "execute_result"
    }
   ],
   "source": [
    "solution('abcdcba')"
   ]
  },
  {
   "cell_type": "code",
   "execution_count": 169,
   "metadata": {},
   "outputs": [
    {
     "data": {
      "text/plain": [
       "3"
      ]
     },
     "execution_count": 169,
     "metadata": {},
     "output_type": "execute_result"
    }
   ],
   "source": [
    "solution('abacde')"
   ]
  },
  {
   "cell_type": "code",
   "execution_count": 171,
   "metadata": {},
   "outputs": [],
   "source": [
    "def solution(s):\n",
    "    maxi = 0\n",
    "    for Rpt in range(0,len(s)):\n",
    "        for rpt in range(1,len(s)+1-Rpt):\n",
    "            normal = s[Rpt:Rpt+rpt]\n",
    "            reverse = normal[::-1]\n",
    "            if normal == reverse and rpt > maxi:\n",
    "                maxi = rpt\n",
    "    return maxi\n",
    "\n",
    "\n"
   ]
  },
  {
   "cell_type": "code",
   "execution_count": 172,
   "metadata": {},
   "outputs": [
    {
     "data": {
      "text/plain": [
       "3"
      ]
     },
     "execution_count": 172,
     "metadata": {},
     "output_type": "execute_result"
    }
   ],
   "source": [
    "solution('abacde')"
   ]
  },
  {
   "cell_type": "markdown",
   "metadata": {},
   "source": [
    "* 거스름돈 (잘 모르겠음)"
   ]
  },
  {
   "cell_type": "code",
   "execution_count": 232,
   "metadata": {},
   "outputs": [],
   "source": [
    "import itertools\n",
    "def solution(n, money):\n",
    "    answer = 0\n",
    "    \n",
    "    dp = [0] * (n+1)\n",
    "    dp[0] = 1\n",
    "    \n",
    "    for i in money:\n",
    "        for j in range(i, n+1):\n",
    "            dp[j] += dp[j - i]\n",
    "\n",
    "            \n",
    "    answer = dp[n]\n",
    "    \n",
    "    \n",
    "    return dp"
   ]
  },
  {
   "cell_type": "code",
   "execution_count": 236,
   "metadata": {},
   "outputs": [
    {
     "data": {
      "text/plain": [
       "[1, 1, 2, 2, 3, 4]"
      ]
     },
     "execution_count": 236,
     "metadata": {},
     "output_type": "execute_result"
    }
   ],
   "source": [
    "solution(5, [1,2,5])"
   ]
  },
  {
   "cell_type": "markdown",
   "metadata": {},
   "source": [
    "* 멀리 뛰기"
   ]
  },
  {
   "cell_type": "code",
   "execution_count": 252,
   "metadata": {},
   "outputs": [],
   "source": [
    "def solution(n):\n",
    "    answer = 0\n",
    "    \n",
    "    s1, s2 = 1, 2\n",
    "    \n",
    "    for i in range(n-1):\n",
    "        s1, s2 = s2, s1+s2\n",
    "        \n",
    "    \n",
    "    return s1%1234567"
   ]
  },
  {
   "cell_type": "code",
   "execution_count": 253,
   "metadata": {},
   "outputs": [
    {
     "data": {
      "text/plain": [
       "5"
      ]
     },
     "execution_count": 253,
     "metadata": {},
     "output_type": "execute_result"
    }
   ],
   "source": [
    "solution(4)"
   ]
  },
  {
   "cell_type": "code",
   "execution_count": 254,
   "metadata": {},
   "outputs": [
    {
     "data": {
      "text/plain": [
       "3"
      ]
     },
     "execution_count": 254,
     "metadata": {},
     "output_type": "execute_result"
    }
   ],
   "source": [
    "solution(3)"
   ]
  },
  {
   "cell_type": "markdown",
   "metadata": {},
   "source": [
    "* 방문 길이"
   ]
  },
  {
   "cell_type": "code",
   "execution_count": 154,
   "metadata": {},
   "outputs": [],
   "source": [
    "\n",
    "def solution(dirs):\n",
    "    answer = 0\n",
    "    \n",
    "    a = [0, 0]\n",
    "    b=[]\n",
    "    \n",
    "    for i in range(len(dirs)):\n",
    "        \n",
    "        if abs(a[1])<5:\n",
    "            if dirs[i] == 'U':\n",
    "                a[1]+=1\n",
    "                #copy를 해줘야댐 아니면 다 순회해서 저장됨\n",
    "                c= a.copy()\n",
    "                b.append(c)\n",
    "                \n",
    "            if dirs[i] == 'D':\n",
    "                a[1]-=1\n",
    "                c= a.copy()\n",
    "                b.append(c)\n",
    "        else:\n",
    "            continue\n",
    "        \n",
    "       \n",
    "        if abs(a[0])<5:\n",
    "\n",
    "            if dirs[i] == 'R':\n",
    "                a[0]+=1\n",
    "                c= a.copy()\n",
    "                b.append(c)\n",
    "\n",
    "            if dirs[i] == 'L':\n",
    "                a[0]-=1\n",
    "                c= a.copy()\n",
    "                b.append(c)\n",
    "        else:\n",
    "            continue\n",
    "    d=[]\n",
    "    for i in range(len(b)):\n",
    "        \n",
    "        if b[i] in d:\n",
    "            continue\n",
    "        d.append(b[i])\n",
    "    \n",
    "    if d == b:\n",
    "        return len(b)\n",
    "    \n",
    "    else:\n",
    "        return len(d)+1\n",
    "\n"
   ]
  },
  {
   "cell_type": "code",
   "execution_count": 155,
   "metadata": {},
   "outputs": [
    {
     "data": {
      "text/plain": [
       "7"
      ]
     },
     "execution_count": 155,
     "metadata": {},
     "output_type": "execute_result"
    }
   ],
   "source": [
    "solution('ULURRDLLU')"
   ]
  },
  {
   "cell_type": "code",
   "execution_count": 156,
   "metadata": {},
   "outputs": [
    {
     "data": {
      "text/plain": [
       "7"
      ]
     },
     "execution_count": 156,
     "metadata": {},
     "output_type": "execute_result"
    }
   ],
   "source": [
    "solution('LULLLLLLU')"
   ]
  },
  {
   "cell_type": "code",
   "execution_count": 26,
   "metadata": {},
   "outputs": [
    {
     "data": {
      "text/plain": [
       "[1, 0]"
      ]
     },
     "execution_count": 26,
     "metadata": {},
     "output_type": "execute_result"
    }
   ],
   "source": [
    "def solution(dirs):\n",
    "    answer_list=[]\n",
    "    x_count=0\n",
    "    y_count=0\n",
    "    for i in dirs:\n",
    "        if i==\"U\":\n",
    "            if (y_count<5):\n",
    "                y_count+=1\n",
    "                if ((x_count,y_count-1),(x_count,y_count)) in answer_list:\n",
    "                    pass\n",
    "                else:\n",
    "                    answer_list.append(((x_count,y_count-1),(x_count,y_count)))\n",
    "        if i==\"D\":\n",
    "            if (y_count>-5):\n",
    "                y_count-=1\n",
    "                if ((x_count,y_count),(x_count,y_count+1)) in answer_list:\n",
    "                    pass\n",
    "                else:\n",
    "                    answer_list.append(((x_count,y_count),(x_count,y_count+1)))\n",
    "        if i==\"L\":\n",
    "            if (x_count>-5):\n",
    "                x_count-=1\n",
    "                if ((x_count,y_count),(x_count+1,y_count)) in answer_list:\n",
    "                    pass\n",
    "                else:\n",
    "                    answer_list.append(((x_count,y_count),(x_count+1,y_count)))\n",
    "        if i==\"R\":\n",
    "            if (x_count<5):\n",
    "                x_count+=1\n",
    "                if ((x_count-1,y_count),(x_count,y_count)) in answer_list:\n",
    "                    pass\n",
    "                else:\n",
    "                    answer_list.append(((x_count-1,y_count),(x_count,y_count)))\n",
    "    return len(answer_list)"
   ]
  },
  {
   "cell_type": "code",
   "execution_count": 27,
   "metadata": {},
   "outputs": [
    {
     "data": {
      "text/plain": [
       "[1, 1]"
      ]
     },
     "execution_count": 27,
     "metadata": {},
     "output_type": "execute_result"
    }
   ],
   "source": [
    "a[1]+=1\n",
    "a"
   ]
  },
  {
   "cell_type": "markdown",
   "metadata": {},
   "source": [
    "* 야근 지수"
   ]
  },
  {
   "cell_type": "code",
   "execution_count": 197,
   "metadata": {},
   "outputs": [],
   "source": [
    "#효율성 실패\n",
    "def solution(n, works):\n",
    "    answer = 0\n",
    "    if sum(works)>n:\n",
    "        \n",
    "        while n:\n",
    "            works[works.index(max(works))]-=1\n",
    "            n-=1\n",
    "        \n",
    "    else:\n",
    "        return 0\n",
    "    \n",
    "    \n",
    "    \n",
    "    return sum([i**2 for i in works])"
   ]
  },
  {
   "cell_type": "code",
   "execution_count": 198,
   "metadata": {},
   "outputs": [
    {
     "data": {
      "text/plain": [
       "12"
      ]
     },
     "execution_count": 198,
     "metadata": {},
     "output_type": "execute_result"
    }
   ],
   "source": [
    "solution(4,[4, 3, 3])"
   ]
  },
  {
   "cell_type": "code",
   "execution_count": 199,
   "metadata": {},
   "outputs": [
    {
     "data": {
      "text/plain": [
       "6"
      ]
     },
     "execution_count": 199,
     "metadata": {},
     "output_type": "execute_result"
    }
   ],
   "source": [
    "solution(1, [2, 1, 2])"
   ]
  },
  {
   "cell_type": "code",
   "execution_count": 200,
   "metadata": {},
   "outputs": [
    {
     "data": {
      "text/plain": [
       "0"
      ]
     },
     "execution_count": 200,
     "metadata": {},
     "output_type": "execute_result"
    }
   ],
   "source": [
    "solution(3, [1,1])"
   ]
  },
  {
   "cell_type": "code",
   "execution_count": 188,
   "metadata": {},
   "outputs": [
    {
     "data": {
      "text/plain": [
       "4"
      ]
     },
     "execution_count": 188,
     "metadata": {},
     "output_type": "execute_result"
    }
   ],
   "source": [
    "def solution(n, works):\n",
    "    result=0 # 결과를 담을 변수\n",
    "    works.append(0) # 최소값을 위해 works에 0추가\n",
    "    works.sort() # works를 오름차순으로 정렬\n",
    "    for i in range(1,len(works)): \n",
    "        # works에 대해 맨뒤에서 부터 확인할 것임\n",
    "        # 인덱싱하기 편하게 하도록 i는 1부터 시작\n",
    "        tmp = works[-i] - works[-(i+1)] # works에서 첫번째로 큰 숫자와 두번째로 큰 숫자의 차이 구함\n",
    "        if tmp*i < n: # 해당 차이 x 몇번째인지가 n보다 작으면\n",
    "            n -= tmp*i # 그만큼 n을 빼주고\n",
    "            for j in range(1,i+1):\n",
    "                works[-j] -= tmp # 첫번째로 큰 숫자를 두번째로 큰숫자와 같게 만든다.\n",
    "        else: # 해당 차이 x 몇번째인지가 n보다 작은게 아니라면\n",
    "            q = n//i # n에 대해서 몇번째인지로 나눈다. 이때 몫은 q, 나머지는 n\n",
    "            n = n%i\n",
    "            for j in range(1,i+1):\n",
    "                works[-j] -= q # 제일 뒤의 숫자부터, i번째까지 몫만큼 빼준다.\n",
    "            for j in range(1,n+1):\n",
    "                works[-j] -= 1 # 나머지 처리\n",
    "            break # 끝\n",
    "    for i in works:\n",
    "        result += i**2\n",
    " \n",
    "    # 야근 지수를 최소화 하였을 때의 야근 지수는 몇일까요?\n",
    "    return result\n"
   ]
  },
  {
   "cell_type": "markdown",
   "metadata": {},
   "source": [
    "* 줄 서는 방법"
   ]
  },
  {
   "cell_type": "code",
   "execution_count": 2,
   "metadata": {},
   "outputs": [],
   "source": [
    "import itertools\n",
    "def solution(n, k):\n",
    "\n",
    "    a = [i for i in range(1, n+1)]\n",
    "    \n",
    "    b = list(set(itertools.permutations(a, len(a))))\n",
    "    b.sort()\n",
    "    \n",
    "    answer = list(b[k-1])\n",
    "    \n",
    "    return answer"
   ]
  },
  {
   "cell_type": "code",
   "execution_count": 3,
   "metadata": {},
   "outputs": [
    {
     "data": {
      "text/plain": [
       "[3, 1, 2]"
      ]
     },
     "execution_count": 3,
     "metadata": {},
     "output_type": "execute_result"
    }
   ],
   "source": [
    "solution(3, 5)"
   ]
  },
  {
   "cell_type": "code",
   "execution_count": 226,
   "metadata": {},
   "outputs": [
    {
     "name": "stdout",
     "output_type": "stream",
     "text": [
      "[3, 1, 2]\n"
     ]
    }
   ],
   "source": [
    "import math as m\n",
    "def solution(n,k):\n",
    "    answer = [] #답 리스트\n",
    "    num = [i for i in range(1, n + 1)] #[1...n] 리스트 생성\n",
    "    while num: #리스트가 빌 때까지\n",
    "        n-=1 #자리수 하나씩 감소\n",
    "        fac = m.factorial(n)\n",
    "        answer.append(num.pop((k-1)//fac))\n",
    "        #답 리스트에 [1...n] 리스트에 있는 숫자를 팝해서 붙임. (k-1)//(n!//n). k번째 수의 맨 앞 자리 수는 (k-1)//(n-1)! + 1.\n",
    "        #(k-1)//(n-1)!을 인덱스 삼아 num에서 값을 찾으면 +1 한 결과가 남. 왜냐하면 num[i]=i+1 이므로.\n",
    "        k%=fac \n",
    "        #다음에 구할 순서는 기존의 순서 k번째를 1만큼 감소한 n의 팩토리얼로 나눈 나머지가 된다. k = k % factorial(n-1). while문 한번 돌 때마다 n은 1씩 감소하고 k도 n의 영향을 받으며 바뀐다.\n",
    "    return answer\n",
    "print(solution(3,5))\n",
    "\n",
    "\n"
   ]
  },
  {
   "cell_type": "code",
   "execution_count": 1,
   "metadata": {},
   "outputs": [
    {
     "name": "stdout",
     "output_type": "stream",
     "text": [
      "[3, 1, 2]\n"
     ]
    }
   ],
   "source": [
    "def solution(n,k):\n",
    "    import math as m\n",
    "    num_list=list(range(1,n+1))\n",
    "    answer_list=[]\n",
    "    while n > 0:\n",
    "        n-=1\n",
    "        p,r=divmod(k,m.factorial(n))\n",
    "        if r == 0:\n",
    "            p-=1\n",
    "        answer_list.append(num_list[p])\n",
    "        num_list.remove(num_list[p])\n",
    "        k=r\n",
    "    return answer_list\n",
    "print(solution(3,5))\n",
    "\n",
    "\"\"\"\n",
    "1번부터 n명까지 줄을 서는 총 경우의 수를 보면 맨 앞에 서 있는 \n",
    "사람이 m번인 경우는 보통 (n-1)!개씩 있다.\n",
    "왜냐하면 1번부터 n명까지 줄을 서는 총 경우의 수는 n!개 일 때, \n",
    "맨 앞의 수를 임의의 m으로 잡고 난 뒤\n",
    "나머지 수들을 배열하는 방법은 (n-1)! 이기 때문이다.\n",
    "따라서 k를 (n-1)!으로 나눈다면 k번째 방법이 어떤 임의의 수 m번이 맨 앞으로\n",
    "오는지 알 수 있게 된다. \n",
    "맨 앞의 수를 정한 뒤 그 뒤에 올 수들도 앞의 방법가 동일하게 정해주면 \n",
    "사전순으로 나열이 될 것이다.\n",
    "k를 (n-1)!으로 나누고 몫은 맨 앞의 수를 정하는데 사용하고\n",
    "나머지는 다시 한번 ((n-1)-1)!으로 나누어서 다음 수를 정해주는 방식으로 \n",
    "진행 하면 된다.\n",
    "\"\"\"\n",
    "\n",
    "from math import factorial\n",
    "def solution(n, k):\n",
    "    answer = []\n",
    "    range_ = list(range(1, n+1))\n",
    "\n",
    "    for i in range(-n, 0):\n",
    "        answer.append(range_.pop((k-1)//factorial(-i-1)))\n",
    "        k = ((k-1) % factorial(-i-1)) + 1\n",
    "\n",
    "    return answer"
   ]
  },
  {
   "cell_type": "markdown",
   "metadata": {},
   "source": [
    "* 최고의 집합"
   ]
  },
  {
   "cell_type": "code",
   "execution_count": 85,
   "metadata": {},
   "outputs": [],
   "source": [
    "def solution(n, s):\n",
    "    answer = []\n",
    "    \n",
    "    if s<n:\n",
    "        return [-1]\n",
    "    if n==1:\n",
    "        return [s]\n",
    "    \n",
    "    li = [i for i in range(s-1, 0, -1)]\n",
    "    \n",
    "    num = []\n",
    "    a = []\n",
    "    for i, v in enumerate(li):\n",
    "        if i >= v:\n",
    "            break\n",
    "        \n",
    "        \n",
    "        num.append([i+1, v])\n",
    "        a.append((i+1)*v)\n",
    "    \n",
    "    \n",
    "    \n",
    "    return num[a.index(max(a))]"
   ]
  },
  {
   "cell_type": "code",
   "execution_count": 86,
   "metadata": {},
   "outputs": [
    {
     "data": {
      "text/plain": [
       "[4, 5]"
      ]
     },
     "execution_count": 86,
     "metadata": {},
     "output_type": "execute_result"
    }
   ],
   "source": [
    "solution(2, 9)"
   ]
  },
  {
   "cell_type": "code",
   "execution_count": 87,
   "metadata": {},
   "outputs": [
    {
     "data": {
      "text/plain": [
       "[4, 4]"
      ]
     },
     "execution_count": 87,
     "metadata": {},
     "output_type": "execute_result"
    }
   ],
   "source": [
    "solution(2, 8)"
   ]
  },
  {
   "cell_type": "code",
   "execution_count": 88,
   "metadata": {},
   "outputs": [],
   "source": [
    "def solution(n, s):\n",
    "    answer = []\n",
    "    div = s // n\n",
    "    if div < 1:\n",
    "        return [-1]\n",
    "    rest = s % n\n",
    "    for i in range(n-rest):\n",
    "        answer.append(div)\n",
    "    for j in range(rest):\n",
    "        answer.append(div+1)\n",
    "    return answer"
   ]
  },
  {
   "cell_type": "code",
   "execution_count": 89,
   "metadata": {},
   "outputs": [
    {
     "data": {
      "text/plain": [
       "[4, 5]"
      ]
     },
     "execution_count": 89,
     "metadata": {},
     "output_type": "execute_result"
    }
   ],
   "source": [
    "solution(2, 9)"
   ]
  },
  {
   "cell_type": "code",
   "execution_count": 92,
   "metadata": {},
   "outputs": [],
   "source": [
    "def solution(n, s):\n",
    "    div, rest = divmod(s, n)\n",
    "    if div<1:\n",
    "        return[-1]\n",
    "    answer = [div for i in range(n-rest)]\n",
    "    \n",
    "    for j in range(rest):\n",
    "        answer.append(div+1)\n",
    "    return answer"
   ]
  },
  {
   "cell_type": "code",
   "execution_count": 93,
   "metadata": {},
   "outputs": [
    {
     "data": {
      "text/plain": [
       "[4, 5]"
      ]
     },
     "execution_count": 93,
     "metadata": {},
     "output_type": "execute_result"
    }
   ],
   "source": [
    "solution(2, 9)"
   ]
  },
  {
   "cell_type": "markdown",
   "metadata": {},
   "source": [
    "* 하노이의 탑"
   ]
  },
  {
   "cell_type": "code",
   "execution_count": 136,
   "metadata": {},
   "outputs": [],
   "source": [
    "hanoi=[]\n",
    "def hani(n, first, beg, end):\n",
    "    \n",
    "    if n ==1:\n",
    "        hanoi.append([first, end])\n",
    "    else:\n",
    "        hani(n-1, first, end, beg)\n",
    "        hani(1, first, beg, end)\n",
    "        hani(n-1, beg, first, end)\n",
    "    return hanoi\n",
    "\n",
    "def solution(n):\n",
    "    \n",
    "    answer = hani(n, 1, 2, 3)\n",
    "    \n",
    "    \n",
    "    return answer"
   ]
  },
  {
   "cell_type": "code",
   "execution_count": 137,
   "metadata": {},
   "outputs": [
    {
     "data": {
      "text/plain": [
       "[[1, 2], [1, 3], [2, 3]]"
      ]
     },
     "execution_count": 137,
     "metadata": {},
     "output_type": "execute_result"
    }
   ],
   "source": [
    "solution(2)"
   ]
  },
  {
   "cell_type": "code",
   "execution_count": 127,
   "metadata": {},
   "outputs": [
    {
     "data": {
      "text/plain": [
       "[[1, 2], [1, 3], [1, 4], [2, 3], [2, 4], [3, 4]]"
      ]
     },
     "execution_count": 127,
     "metadata": {},
     "output_type": "execute_result"
    }
   ],
   "source": [
    "solution(3)"
   ]
  },
  {
   "cell_type": "markdown",
   "metadata": {},
   "source": [
    "* N-Quuen (백트래킹 알고리즘)   다시 풀어봐야함"
   ]
  },
  {
   "cell_type": "code",
   "execution_count": 216,
   "metadata": {},
   "outputs": [],
   "source": [
    "#https://geonlee.tistory.com/40 참고\n",
    "def placeQueen(queen_pos, n):\n",
    "    res = 0\n",
    "    N = len(queen_pos)\n",
    "    if n == N:\n",
    "        return 1\n",
    "    for i in range(n):\n",
    "        for j in range(N):\n",
    "            if i == queen_pos[j]: break\n",
    "            if N - j == i - queen_pos[j]: break\n",
    "            if N - j == queen_pos[j] - i: break\n",
    "        else:\n",
    "            res += placeQueen(queen_pos + [i], n)\n",
    "    return res\n",
    " \n",
    "\n",
    "    \n",
    "\n",
    "def solution(n):\n",
    "    answer = placeQueen([], n)\n",
    "    \n",
    "    \n",
    "    return answer"
   ]
  },
  {
   "cell_type": "code",
   "execution_count": 219,
   "metadata": {},
   "outputs": [
    {
     "data": {
      "text/plain": [
       "4"
      ]
     },
     "execution_count": 219,
     "metadata": {},
     "output_type": "execute_result"
    }
   ],
   "source": [
    "solution(6)"
   ]
  },
  {
   "cell_type": "markdown",
   "metadata": {},
   "source": [
    "* 배달 (Kruskal 알고리즘을 사용해서 푸는 문제) 근데 이건 해도해도 잘 모르겠음 다익스트라 알고리즘"
   ]
  },
  {
   "cell_type": "code",
   "execution_count": 248,
   "metadata": {},
   "outputs": [],
   "source": [
    "import heapq\n",
    "\n",
    "MAX_DIST = 1000000007\n",
    "\n",
    "def solution(N, road, K):\n",
    "    dist = [MAX_DIST for _ in range(N+1)]\n",
    "    adj = [[] for _ in range(N+1)]\n",
    "    isVisited = [False for _ in range(N+1)]\n",
    "\n",
    "    for a,b,c in road:\n",
    "        adj[a].append((b,c))\n",
    "        adj[b].append((a,c))\n",
    "\n",
    "    hpq = [(1,0)]\n",
    "    while len(hpq)>0:\n",
    "        p,d = heapq.heappop(hpq)\n",
    "        if dist[p]<=d:\n",
    "            continue\n",
    "        dist[p] = d\n",
    "        for q,c in adj[p]:\n",
    "            if dist[p]+c<=K:\n",
    "                heapq.heappush(hpq,(q,dist[p]+c))\n",
    "\n",
    "    ans = 0\n",
    "    for i in range(1,N+1):\n",
    "        if(dist[i]<=K): ans += 1\n",
    "\n",
    "    return ans"
   ]
  },
  {
   "cell_type": "code",
   "execution_count": 249,
   "metadata": {},
   "outputs": [
    {
     "data": {
      "text/plain": [
       "4"
      ]
     },
     "execution_count": 249,
     "metadata": {},
     "output_type": "execute_result"
    }
   ],
   "source": [
    "solution(5, [[1,2,1],[2,3,3],[5,2,2],[1,4,2],[5,3,1],[5,4,2]], 3)\n",
    "#[[1, 2, 1], [1, 4, 2], [2, 3, 3], [5, 2, 2], [5, 3, 1], [5, 4, 2]]sort"
   ]
  },
  {
   "cell_type": "code",
   "execution_count": 225,
   "metadata": {},
   "outputs": [
    {
     "name": "stdout",
     "output_type": "stream",
     "text": [
      "Hello Python\n"
     ]
    },
    {
     "data": {
      "text/plain": [
       "0"
      ]
     },
     "execution_count": 225,
     "metadata": {},
     "output_type": "execute_result"
    }
   ],
   "source": [
    "solution(6, [[1,2,1],[1,3,2],[2,3,2],[3,4,3],[3,5,2],[3,5,3],[5,6,1]], 4)"
   ]
  },
  {
   "cell_type": "markdown",
   "metadata": {},
   "source": [
    "* 기지국 설치 (greedy)"
   ]
  },
  {
   "cell_type": "code",
   "execution_count": 285,
   "metadata": {},
   "outputs": [
    {
     "data": {
      "text/plain": [
       "'\\n모범답안\\ndef solution(n, stations, w):\\n    space = []\\n    space.append(max(0, stations[0]-w-1))\\n    for i in range(1, len(stations)):\\n        space.append(max(0, stations[i]-stations[i-1]-2*w-1))\\n    space.append(max(0, n-stations[-1]-w))\\n\\n    answer = 0\\n    for j in space:\\n        answer += (j//(2*w+1))\\n        if j % (2*w+1) != 0:\\n            answer += 1\\n            \\n    return answer\\n\\n'"
      ]
     },
     "execution_count": 285,
     "metadata": {},
     "output_type": "execute_result"
    }
   ],
   "source": [
    "def solution(n, stations, w):\n",
    "    answer = 0\n",
    "    cover = 0\n",
    "    width = 2*w+1\n",
    "    for e in stations:\n",
    "        if e-w > cover+1:\n",
    "            answer += (e-w-1-cover)//width\n",
    "            if (e-w-1-cover) % width > 0:\n",
    "                answer += 1\n",
    "        cover = e+w\n",
    "    if cover < n:\n",
    "        answer += (n-cover)//width\n",
    "        if (n-cover) % width > 0:\n",
    "            answer += 1\n",
    "    return answer\n",
    "\n",
    "\"\"\"\n",
    "flow\n",
    "딱 보자마자 greedy 한 방법이 생각남.. station을 기점으로 \n",
    "split되는 구간들이 발생할 것이고 이 구간들의 거리값 \n",
    "각각 Di 면 Sum((Di//2w+1) + (Di%2w+1)) i=1~len(station)+1 구해주면 됨..\n",
    "코드는 아파트 번호 순서대로 나아가면서 거점간의 전파를 못받는 \n",
    "구간을 확인해주면 됨.\n",
    "O(N) 알고리즘 가능\n",
    "\"\"\"\n",
    "\n",
    "\n",
    "\"\"\"\n",
    "모범답안\n",
    "def solution(n, stations, w):\n",
    "    space = []\n",
    "    space.append(max(0, stations[0]-w-1))\n",
    "    for i in range(1, len(stations)):\n",
    "        space.append(max(0, stations[i]-stations[i-1]-2*w-1))\n",
    "    space.append(max(0, n-stations[-1]-w))\n",
    "\n",
    "    answer = 0\n",
    "    for j in space:\n",
    "        answer += (j//(2*w+1))\n",
    "        if j % (2*w+1) != 0:\n",
    "            answer += 1\n",
    "            \n",
    "    return answer\n",
    "\n",
    "\"\"\""
   ]
  },
  {
   "cell_type": "code",
   "execution_count": 286,
   "metadata": {},
   "outputs": [
    {
     "data": {
      "text/plain": [
       "3"
      ]
     },
     "execution_count": 286,
     "metadata": {},
     "output_type": "execute_result"
    }
   ],
   "source": [
    "solution(11, [4, 11], 1)"
   ]
  },
  {
   "cell_type": "code",
   "execution_count": 287,
   "metadata": {},
   "outputs": [
    {
     "data": {
      "text/plain": [
       "3"
      ]
     },
     "execution_count": 287,
     "metadata": {},
     "output_type": "execute_result"
    }
   ],
   "source": [
    "solution(16, [9], 2)"
   ]
  },
  {
   "cell_type": "markdown",
   "metadata": {},
   "source": [
    "* 숫자 게임"
   ]
  },
  {
   "cell_type": "code",
   "execution_count": 305,
   "metadata": {},
   "outputs": [],
   "source": [
    "#역시나 시간초과\n",
    "import itertools\n",
    "def solution(A, B):\n",
    "    answer = []\n",
    "    li = list(set(itertools.permutations(B, len(B))))\n",
    "    li.sort()\n",
    "    for i in range(len(li)):\n",
    "        a=0\n",
    "        for j in range(len(li[i])):\n",
    "            \n",
    "            if li[i][j] > A[j]:\n",
    "                a+=1\n",
    "            else:\n",
    "                continue\n",
    "        answer.append(a)\n",
    "    \n",
    "    return answer"
   ]
  },
  {
   "cell_type": "code",
   "execution_count": 306,
   "metadata": {},
   "outputs": [
    {
     "data": {
      "text/plain": [
       "[3, 2, 2, 2, 1, 2, 3, 3, 2, 2, 3, 2]"
      ]
     },
     "execution_count": 306,
     "metadata": {},
     "output_type": "execute_result"
    }
   ],
   "source": [
    "solution([5,1,3,7], [2,2,6,8])"
   ]
  },
  {
   "cell_type": "code",
   "execution_count": 296,
   "metadata": {},
   "outputs": [
    {
     "data": {
      "text/plain": [
       "0"
      ]
     },
     "execution_count": 296,
     "metadata": {},
     "output_type": "execute_result"
    }
   ],
   "source": [
    "solution([2,2,2,2], [1,1,1,1])"
   ]
  },
  {
   "cell_type": "code",
   "execution_count": 311,
   "metadata": {},
   "outputs": [],
   "source": [
    "def solution(A, B):\n",
    "    answer = 0\n",
    "    A.sort()\n",
    "    B.sort()\n",
    "    i = 0\n",
    "    j = 0\n",
    "    while j < len(B):\n",
    "        if A[i]< B[j]:\n",
    "            answer += 1\n",
    "            i+=1\n",
    "            j+=1\n",
    "        else:\n",
    "            j+=1\n",
    "    \n",
    "    return answer\n",
    "\n",
    "\"\"\"\n",
    "처음에 생각났던 것은 B.count(2)와 A.count(1) 로 시작해서\n",
    "1과 2를 매칭시키고 계속 나아가는 방식이였음..\n",
    "A의 수가 남으면 다음 index count 수에 덧셈이 되고 B는 수가 남든 안남든 \n",
    "버려지는 방식.. 근데 막상 짜려고보니 시간복잡도가 안 좋게 나와서 \n",
    "비슷한 논리로 다른 방법을 생각하게 됨.\n",
    "A 와 B를 정렬해놓고, 작은 수부터 서로 비교하면서 B가 지거나 비기는 수면\n",
    "다음 인덱스로 가고 이기는 수가 되면 매칭시키고 A와 B 모두 \n",
    "다음 인덱스로 넘어가는 식.. 이러면 O(N) 의 시간복잡도로 \n",
    "처음 생각했던 것과 같은 결과를 가질 수 있게 됨.\n",
    "아차.. 왜 이게 답이냐면 greedy 하게 생각해보면 됨..\n",
    "A의 작은 수부터 B가 가지고 있는 수중 이길 수 있는 가장 작은 수를 \n",
    "매칭 시킨다고 생각.. \n",
    "(만약 그게 아니라면? 일부러 지는 수를 붙인다? 왜?\n",
    "다른 경우는 더 큰 수를 이용해서 이긴다? 이건 더 말도 안됨.)\n",
    "\"\"\""
   ]
  },
  {
   "cell_type": "code",
   "execution_count": 312,
   "metadata": {},
   "outputs": [
    {
     "data": {
      "text/plain": [
       "3"
      ]
     },
     "execution_count": 312,
     "metadata": {},
     "output_type": "execute_result"
    }
   ],
   "source": [
    "solution([5,1,3,7], [2,2,6,8])"
   ]
  },
  {
   "cell_type": "code",
   "execution_count": 313,
   "metadata": {},
   "outputs": [
    {
     "data": {
      "text/plain": [
       "0"
      ]
     },
     "execution_count": 313,
     "metadata": {},
     "output_type": "execute_result"
    }
   ],
   "source": [
    "solution([2,2,2,2], [1,1,1,1])"
   ]
  },
  {
   "cell_type": "markdown",
   "metadata": {},
   "source": [
    "* 기둥과 보 설치"
   ]
  },
  {
   "cell_type": "code",
   "execution_count": 1,
   "metadata": {},
   "outputs": [],
   "source": [
    "def ckgi(gi, bo, x, y):\n",
    "    if(y == 0):\n",
    "        return 1\n",
    "    elif(gi[x][y-1] == 1):\n",
    "        return 1\n",
    "    elif(bo[x][y] == 1 or x > 0 and bo[x-1][y] == 1):\n",
    "        return 1\n",
    "    return 0\n",
    "\n",
    "def ckbo(gi, bo, x, y, n):\n",
    "    if(y > 0 and (gi[x][y-1] == 1 or (x < n and gi[x+1][y-1]==1))):\n",
    "        return 1\n",
    "    elif(x > 0 and x < n and bo[x-1][y] == 1 and bo[x+1][y] == 1):\n",
    "        return 1\n",
    "    return 0\n",
    "\n",
    "def solution(n, build_frame):\n",
    "    gi = [[0 for _ in range(n+1)] for _ in range(n+1)] \n",
    "    bo = [[0 for _ in range(n+1)] for _ in range(n+1)] \n",
    "    for fr in build_frame:\n",
    "        x = fr[0]\n",
    "        y = fr[1]\n",
    "        if(fr[2] == 0): #gi\n",
    "            if(fr[3] == 0): #de\n",
    "                gi[x][y] = 0\n",
    "                if(y < n and gi[x][y+1]==1 and ckgi(gi,bo,x,y+1) == 0):\n",
    "                    gi[x][y] = 1\n",
    "                elif(y < n and bo[x][y+1]==1 and ckbo(gi,bo,x,y+1,n) == 0):\n",
    "                    gi[x][y] = 1\n",
    "                elif(x>0 and y<n and bo[x-1][y+1]==1 and ckbo(gi,bo,x-1,y+1,n) == 0):\n",
    "                    gi[x][y] = 1                \n",
    "            else: #add\n",
    "                if(ckgi(gi,bo,x,y) == 1):\n",
    "                    gi[x][y] = 1\n",
    "        else: #bo\n",
    "            if(fr[3] == 0): #de\n",
    "                bo[x][y] = 0\n",
    "                if(gi[x][y]==1 and ckgi(gi,bo,x,y)==0):\n",
    "                    bo[x][y] = 1\n",
    "                elif(x<n and gi[x+1][y]==1 and ckgi(gi,bo,x+1,y)==0):\n",
    "                    bo[x][y] = 1\n",
    "                elif(x > 0 and bo[x-1][y]==1 and ckbo(gi,bo,x-1,y,n)==0):\n",
    "                    bo[x][y] = 1\n",
    "                elif(x<n and bo[x+1][y]==1 and ckbo(gi,bo,x+1,y,n)==0):\n",
    "                    bo[x][y] = 1\n",
    "            else: #add\n",
    "                if(ckbo(gi,bo,x,y,n) == 1):\n",
    "                    bo[x][y] = 1\n",
    "\n",
    "    answer = []\n",
    "    for i in range(n+1):\n",
    "        for j in range(n+1):\n",
    "            if(gi[i][j] == 1):\n",
    "                answer.append([i,j,0])\n",
    "            if(bo[i][j] == 1):\n",
    "                answer.append([i,j,1])\n",
    "\n",
    "    return answer"
   ]
  },
  {
   "cell_type": "code",
   "execution_count": 2,
   "metadata": {},
   "outputs": [
    {
     "data": {
      "text/plain": [
       "[[1, 0, 0],\n",
       " [1, 1, 1],\n",
       " [2, 1, 0],\n",
       " [2, 2, 1],\n",
       " [3, 2, 1],\n",
       " [4, 2, 1],\n",
       " [5, 0, 0],\n",
       " [5, 1, 0]]"
      ]
     },
     "execution_count": 2,
     "metadata": {},
     "output_type": "execute_result"
    }
   ],
   "source": [
    "solution(5, [[1,0,0,1],[1,1,1,1],[2,1,0,1],[2,2,1,1],[5,0,0,1],[5,1,0,1],[4,2,1,1],[3,2,1,1]])"
   ]
  },
  {
   "cell_type": "code",
   "execution_count": 3,
   "metadata": {},
   "outputs": [
    {
     "data": {
      "text/plain": [
       "[[0, 0, 0], [0, 1, 1], [1, 1, 1], [2, 1, 1], [3, 1, 1], [4, 0, 0]]"
      ]
     },
     "execution_count": 3,
     "metadata": {},
     "output_type": "execute_result"
    }
   ],
   "source": [
    "solution(5, [[0,0,0,1],[2,0,0,1],[4,0,0,1],[0,1,1,1],[1,1,1,1],[2,1,1,1],[3,1,1,1],[2,0,0,0],[1,1,1,0],[2,2,0,1]])"
   ]
  },
  {
   "cell_type": "markdown",
   "metadata": {},
   "source": [
    "* 외벽 점검"
   ]
  },
  {
   "cell_type": "code",
   "execution_count": 25,
   "metadata": {},
   "outputs": [],
   "source": [
    "def solution(n, weak, dist):\n",
    "    answer = 0\n",
    "    \n",
    "    \n",
    "    weak.sort()\n",
    "\n",
    "    dp = [0 for _ in range(len(weak))]\n",
    "    \n",
    "    flag1 = []\n",
    "    flag2 = []\n",
    "    for i in range(len(weak)):\n",
    "        if weak[i] > int(n/2)+1:\n",
    "            dp[i] = n-weak[i]\n",
    "            flag2.append(n-weak[i])\n",
    "        else:\n",
    "            dp[i] = weak[i]\n",
    "            flag1.append(weak[i])\n",
    "        \n",
    "    \n",
    "    _sum = max(flag1)+max(flag2)\n",
    "        \n",
    "    if max(dist) >= _sum:\n",
    "        answer+=1\n",
    "    \n",
    "    \n",
    "    return answer"
   ]
  },
  {
   "cell_type": "code",
   "execution_count": 26,
   "metadata": {},
   "outputs": [
    {
     "data": {
      "text/plain": [
       "0"
      ]
     },
     "execution_count": 26,
     "metadata": {},
     "output_type": "execute_result"
    }
   ],
   "source": [
    "solution(12, [1, 5, 6, 10], [1, 2, 3, 4])"
   ]
  },
  {
   "cell_type": "code",
   "execution_count": 27,
   "metadata": {},
   "outputs": [
    {
     "data": {
      "text/plain": [
       "1"
      ]
     },
     "execution_count": 27,
     "metadata": {},
     "output_type": "execute_result"
    }
   ],
   "source": [
    "solution(12, [1, 3, 4, 9, 10], [3, 5, 7])"
   ]
  },
  {
   "cell_type": "markdown",
   "metadata": {},
   "source": [
    "* 자물쇠와 열쇠"
   ]
  },
  {
   "cell_type": "code",
   "execution_count": 1,
   "metadata": {},
   "outputs": [],
   "source": [
    "#https://jay-ji.tistory.com/41\n",
    "\n",
    "def turn_right_key(_key):\n",
    "    key_size = len(_key)\n",
    "    temp_key = [[0] * key_size for i in range(0, key_size)]\n",
    " \n",
    "    reverse_i = key_size - 1\n",
    "    for i in range(key_size):\n",
    "        for j in range(key_size):\n",
    "            temp_key[j][reverse_i] = _key[i][j]\n",
    "        reverse_i -= 1\n",
    " \n",
    "    return temp_key\n",
    " \n",
    "\n",
    "def is_unlock(bg_size, _lock, _key, start_x, start_y, c_start, c_end):\n",
    "    bg = [[0] * bg_size for i in range(0, bg_size)]\n",
    " \n",
    "    # 1. put key in background\n",
    "    for i in range(0, len(_key)):\n",
    "        for j in range(0, len(_key)):\n",
    "            bg[start_y + i][start_x + j] += _key[i][j]\n",
    " \n",
    "    # 2. put lock in background\n",
    "    for i in range(c_start, c_end):\n",
    "        for j in range(c_start, c_end):\n",
    "            bg[i][j] += _lock[i - c_start][j - c_start]\n",
    "            # lock + key == 1이 안닌 경우 False\n",
    "            if bg[i][j] != 1:\n",
    "                return False\n",
    " \n",
    "    return True\n",
    " \n",
    "\n",
    "def unlock(_lock, _key):\n",
    "    lock_size = len(_lock)\n",
    "    c_start = len(_key) - 1 # center 좌표\n",
    "    c_end = c_start + lock_size\n",
    "    bg_size = lock_size + (2 * c_start) # 처음부터 1개 겹쳐서 비교하기 위해\n",
    " \n",
    "    for x in range(0, 4):\n",
    "        for i in range(0, c_end):\n",
    "            for j in range(0, c_end):\n",
    "                if is_unlock(bg_size, _lock, _key, i, j, c_start, c_end) is True:\n",
    "                    return True\n",
    "        # key를 90도 돌린다.\n",
    "        _key = turn_right_key(_key)\n",
    " \n",
    "    return False\n",
    "\n",
    "def solution(key, lock):\n",
    "    answer = unlock(lock, key)\n",
    "    return answer"
   ]
  },
  {
   "cell_type": "code",
   "execution_count": 2,
   "metadata": {},
   "outputs": [
    {
     "data": {
      "text/plain": [
       "True"
      ]
     },
     "execution_count": 2,
     "metadata": {},
     "output_type": "execute_result"
    }
   ],
   "source": [
    "solution([[0, 0, 0], [1, 0, 0], [0, 1, 1]], [[1, 1, 1], [1, 1, 0], [1, 0, 1]])"
   ]
  },
  {
   "cell_type": "markdown",
   "metadata": {},
   "source": [
    "* 길찾기 게임"
   ]
  },
  {
   "cell_type": "code",
   "execution_count": 1,
   "metadata": {},
   "outputs": [
    {
     "data": {
      "text/plain": [
       "'\\n이 문제는 얼마나 재귀함수를 잘 기획?! 하느냐를 묻는 것 같았다.\\n\\n트리를 구성하는 것과 트리를 순회하는 부분에서 모두 재귀적 사고를 필요로 했다.\\n\\n \\n\\n* 재귀함수 사용시 필수 확인\\n\\n파이썬으로 재귀함수를 사용할 경우,\\n\\nsetrecursionlimit(10**6)로 재귀함수(Recursion)의\\n\\n제한을 풀어야 런타임 에러를 피할 수 있다.\\n\\n \\n\\nTree 구성하기\\n\\nTree는 클래스를 선언하여 구성한다.\\nTree안에 자신의 좌표를 나타내는 data,\\n왼쪽 하위 노드(Tree 클래스)를 가리키는 left\\n오른쪽 하위 노드(Tree 클래스)를 가리키는 right 로 구성한다.\\nTree는 초기화 값으로 좌표들의 리스트(ex) [[1,2],[2,3]...] ) 배열을\\n받아서 자신을 초기화하도록 init 함수를 만든다.\\n\\n<__init__ 함수>\\n초기화 파라미터로 받은 리스트 중에서 y값이 가장 높은 요소가 root가 된다.\\nroot의 x 보다 작은 리스트(root보다 아래, 왼쪽)는 왼쪽 하위 트리를 초기화하는 리스트가 된다.\\nleft = Tree(  root의 x보다 작은 리스트  ) --> 재귀(Recursion) 함수\\nroot의 x 보다 큰 리스트(root보다 아래, 오른쪽)는 오른쪽 하위 트리를 초기화하는 리스트가된다.\\nright = Tree( root의 x보다 큰 리스트 ) --> 재귀(Recursion) 함수\\nTree 순회 함수 만들기\\n\\n트리를 전위/후위 순회하는 함수를 선언한다.\\n(일반적인 트리 순회와 크게 다르지 않다.)\\n\\n\\n'"
      ]
     },
     "execution_count": 1,
     "metadata": {},
     "output_type": "execute_result"
    }
   ],
   "source": [
    "import sys\n",
    "sys.setrecursionlimit(10**6)\n",
    "class Tree:\n",
    "    def __init__(self,dataList):\n",
    "        self.data=max(dataList,key=lambda x :x[1])\n",
    "        leftList =list(filter(lambda x :x[0] < self.data[0] , dataList))\n",
    "        rightList = list(filter(lambda x :x[0] > self.data[0] , dataList))\n",
    "        if leftList != []:\n",
    "            self.left=Tree(leftList)\n",
    "        else :\n",
    "            self.left=None\n",
    "        if rightList != []:\n",
    "            self.right=Tree(rightList)\n",
    "        else :\n",
    "            self.right=None\n",
    "            \n",
    "def fix(node,postList,preList):\n",
    "    postList.append(node.data)\n",
    "    if node.left is not None:\n",
    "        fix(node.left,postList,preList)\n",
    "    if node.right is not None:\n",
    "        fix(node.right,postList,preList)\n",
    "    preList.append(node.data)\n",
    "    \n",
    "def solution(nodeinfo):\n",
    "    answer = []\n",
    "    root = Tree(nodeinfo)\n",
    "    postList = []\n",
    "    preList = []\n",
    "    fix(root,postList,preList)\n",
    "    answer.append(list(map(lambda x: nodeinfo.index(x)+1 ,postList)))\n",
    "    answer.append(list(map(lambda x: nodeinfo.index(x)+1 ,preList)))\n",
    "    return answer\n",
    "\"\"\"\n",
    "이 문제는 얼마나 재귀함수를 잘 기획?! 하느냐를 묻는 것 같았다.\n",
    "\n",
    "트리를 구성하는 것과 트리를 순회하는 부분에서 모두 재귀적 사고를 필요로 했다.\n",
    "\n",
    " \n",
    "\n",
    "* 재귀함수 사용시 필수 확인\n",
    "\n",
    "파이썬으로 재귀함수를 사용할 경우,\n",
    "\n",
    "setrecursionlimit(10**6)로 재귀함수(Recursion)의\n",
    "\n",
    "제한을 풀어야 런타임 에러를 피할 수 있다.\n",
    "\n",
    " \n",
    "\n",
    "Tree 구성하기\n",
    "\n",
    "Tree는 클래스를 선언하여 구성한다.\n",
    "Tree안에 자신의 좌표를 나타내는 data,\n",
    "왼쪽 하위 노드(Tree 클래스)를 가리키는 left\n",
    "오른쪽 하위 노드(Tree 클래스)를 가리키는 right 로 구성한다.\n",
    "Tree는 초기화 값으로 좌표들의 리스트(ex) [[1,2],[2,3]...] ) 배열을\n",
    "받아서 자신을 초기화하도록 init 함수를 만든다.\n",
    "\n",
    "<__init__ 함수>\n",
    "초기화 파라미터로 받은 리스트 중에서 y값이 가장 높은 요소가 root가 된다.\n",
    "root의 x 보다 작은 리스트(root보다 아래, 왼쪽)는 왼쪽 하위 트리를 초기화하는 리스트가 된다.\n",
    "left = Tree(  root의 x보다 작은 리스트  ) --> 재귀(Recursion) 함수\n",
    "root의 x 보다 큰 리스트(root보다 아래, 오른쪽)는 오른쪽 하위 트리를 초기화하는 리스트가된다.\n",
    "right = Tree( root의 x보다 큰 리스트 ) --> 재귀(Recursion) 함수\n",
    "Tree 순회 함수 만들기\n",
    "\n",
    "트리를 전위/후위 순회하는 함수를 선언한다.\n",
    "(일반적인 트리 순회와 크게 다르지 않다.)\n",
    "\n",
    "\n",
    "\"\"\""
   ]
  },
  {
   "cell_type": "code",
   "execution_count": 2,
   "metadata": {},
   "outputs": [
    {
     "data": {
      "text/plain": [
       "[[7, 4, 6, 9, 1, 8, 5, 2, 3], [9, 6, 5, 8, 1, 4, 3, 2, 7]]"
      ]
     },
     "execution_count": 2,
     "metadata": {},
     "output_type": "execute_result"
    }
   ],
   "source": [
    "solution([[5,3],[11,5],[13,3],[3,5],[6,1],[1,3],[8,6],[7,2],[2,2]])"
   ]
  },
  {
   "cell_type": "code",
   "execution_count": null,
   "metadata": {},
   "outputs": [],
   "source": []
  }
 ],
 "metadata": {
  "kernelspec": {
   "display_name": "Python 3",
   "language": "python",
   "name": "python3"
  },
  "language_info": {
   "codemirror_mode": {
    "name": "ipython",
    "version": 3
   },
   "file_extension": ".py",
   "mimetype": "text/x-python",
   "name": "python",
   "nbconvert_exporter": "python",
   "pygments_lexer": "ipython3",
   "version": "3.6.5"
  }
 },
 "nbformat": 4,
 "nbformat_minor": 4
}
