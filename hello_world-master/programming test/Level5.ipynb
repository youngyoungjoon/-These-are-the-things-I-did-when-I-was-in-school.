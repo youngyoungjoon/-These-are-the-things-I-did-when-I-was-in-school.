{
 "cells": [
  {
   "cell_type": "markdown",
   "metadata": {},
   "source": [
    "### Level5"
   ]
  },
  {
   "cell_type": "markdown",
   "metadata": {},
   "source": [
    "* 추석 트래픽"
   ]
  },
  {
   "cell_type": "code",
   "execution_count": 29,
   "metadata": {},
   "outputs": [],
   "source": [
    "import datetime\n",
    "def solution(lines):\n",
    "    answer = 0\n",
    "    \n",
    "    ans = datetime.datetime.strptime(lines[0][:10], '%Y-%m-%d')\n",
    "    \n",
    "    return ans"
   ]
  },
  {
   "cell_type": "code",
   "execution_count": 30,
   "metadata": {},
   "outputs": [
    {
     "data": {
      "text/plain": [
       "datetime.datetime(2016, 9, 15, 0, 0)"
      ]
     },
     "execution_count": 30,
     "metadata": {},
     "output_type": "execute_result"
    }
   ],
   "source": [
    "solution([\n",
    "'2016-09-15 %01-%00-%04.001 2.0s',\n",
    "'2016-09-15 01:00:07.000 2s'])"
   ]
  },
  {
   "cell_type": "markdown",
   "metadata": {},
   "source": [
    "* 문자열 압축"
   ]
  },
  {
   "cell_type": "code",
   "execution_count": 1,
   "metadata": {},
   "outputs": [],
   "source": [
    "def solution(s):\n",
    "    answer = 0\n",
    "    \n",
    "    \n",
    "    \n",
    "    return answer"
   ]
  },
  {
   "cell_type": "code",
   "execution_count": 2,
   "metadata": {},
   "outputs": [
    {
     "data": {
      "text/plain": [
       "0"
      ]
     },
     "execution_count": 2,
     "metadata": {},
     "output_type": "execute_result"
    }
   ],
   "source": [
    "solution(\"aabbaccc\")"
   ]
  },
  {
   "cell_type": "code",
   "execution_count": 3,
   "metadata": {},
   "outputs": [
    {
     "data": {
      "text/plain": [
       "0"
      ]
     },
     "execution_count": 3,
     "metadata": {},
     "output_type": "execute_result"
    }
   ],
   "source": [
    "solution(\"ababcdcdababcdcd\")"
   ]
  },
  {
   "cell_type": "code",
   "execution_count": 4,
   "metadata": {},
   "outputs": [
    {
     "data": {
      "text/plain": [
       "0"
      ]
     },
     "execution_count": 4,
     "metadata": {},
     "output_type": "execute_result"
    }
   ],
   "source": [
    "solution(\"abcabcdede\")"
   ]
  },
  {
   "cell_type": "code",
   "execution_count": 5,
   "metadata": {},
   "outputs": [
    {
     "data": {
      "text/plain": [
       "0"
      ]
     },
     "execution_count": 5,
     "metadata": {},
     "output_type": "execute_result"
    }
   ],
   "source": [
    "solution(\"abcabcabcabcdededededede\")"
   ]
  },
  {
   "cell_type": "code",
   "execution_count": 6,
   "metadata": {},
   "outputs": [
    {
     "data": {
      "text/plain": [
       "0"
      ]
     },
     "execution_count": 6,
     "metadata": {},
     "output_type": "execute_result"
    }
   ],
   "source": [
    "solution(\"xababcdcdababcdcd\")"
   ]
  },
  {
   "cell_type": "code",
   "execution_count": 9,
   "metadata": {},
   "outputs": [],
   "source": [
    "def solution(s):\n",
    "    length = len(s) \n",
    "    answer = 9999999 \n",
    "    # 문자열의 길이가 1인 경우 그 문자열 그대로 반환되므로 답은 1이 됩니다. \n",
    "    if length == 1: \n",
    "        answer = 1 \n",
    "    else: \n",
    "        for i in range(1, length // 2 + 1): \n",
    "            tmp = s \n",
    "            ''' 문자열 split하기 문자열을 1개부터 length//2개까지 split을 합니다. 잘린 문자열은 spl에 저장됩니다. ''' \n",
    "            begin = 0; end = begin + i \n",
    "            spl = [] \n",
    "            while tmp:\n",
    "                spl.append(tmp[begin:end]) \n",
    "                tmp = tmp[end:] \n",
    "                ''' 잘린 문자열들을 순회합니다. 앞의 문자열과 같으면 카운팅을 해주고 다르면 카운팅+앞의문자열을 출력해줍니다. ''' \n",
    "                newstr = \"\" \n",
    "                before = spl[0] \n",
    "                cnt = 1 \n",
    "                for idx, c in enumerate(spl): \n",
    "                    spl_length = len(spl)\n",
    "                    if idx: \n",
    "                        if c == before:\n",
    "                            cnt += 1 \n",
    "                            if idx == spl_length - 1:\n",
    "                                newstr += (str(cnt) + before) \n",
    "                        else: \n",
    "                            if cnt > 1: \n",
    "                                newstr += (str(cnt) + before)\n",
    "                                if idx == (spl_length - 1): \n",
    "                                    newstr += c \n",
    "                            else: \n",
    "                                newstr += before \n",
    "                                if idx == (spl_length - 1): \n",
    "                                    newstr += c \n",
    "                            cnt = 1 \n",
    "                            before = c \n",
    "                            # 새로 생긴 문자열이 최소값일 경우 answer를 갱신해줍니다. \n",
    "            new_str_length = len(newstr) \n",
    "            if new_str_length < answer: \n",
    "                answer = new_str_length \n",
    "    return answer\n",
    "\n"
   ]
  },
  {
   "cell_type": "code",
   "execution_count": 10,
   "metadata": {},
   "outputs": [
    {
     "data": {
      "text/plain": [
       "17"
      ]
     },
     "execution_count": 10,
     "metadata": {},
     "output_type": "execute_result"
    }
   ],
   "source": [
    "solution(\"xababcdcdababcdcd\")"
   ]
  },
  {
   "cell_type": "code",
   "execution_count": null,
   "metadata": {},
   "outputs": [],
   "source": [
    "#모범답안\n",
    "def solution(s):\n",
    "    answer = len(s)\n",
    "    for x in range(1, int(len(s)/2)+1):\n",
    "        d = 0\n",
    "        comp = ''\n",
    "        c = 1\n",
    "        for i in range(0, len(s), x):\n",
    "            temp = s[i:i+x]\n",
    "            if comp == temp:\n",
    "                c += 1\n",
    "            elif comp != temp:\n",
    "                d += len(temp)\n",
    "                if c > 1:\n",
    "                    d += len(\"{}\".format(c))\n",
    "                c = 1\n",
    "                comp = temp\n",
    "        if c > 1:\n",
    "            d += len(\"{}\".format(c))\n",
    "        answer = min(answer, d)\n",
    "    return answer"
   ]
  }
 ],
 "metadata": {
  "kernelspec": {
   "display_name": "Python 3",
   "language": "python",
   "name": "python3"
  },
  "language_info": {
   "codemirror_mode": {
    "name": "ipython",
    "version": 3
   },
   "file_extension": ".py",
   "mimetype": "text/x-python",
   "name": "python",
   "nbconvert_exporter": "python",
   "pygments_lexer": "ipython3",
   "version": "3.6.5"
  }
 },
 "nbformat": 4,
 "nbformat_minor": 4
}
