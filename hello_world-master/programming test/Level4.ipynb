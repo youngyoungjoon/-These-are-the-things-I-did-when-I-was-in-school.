{
 "cells": [
  {
   "cell_type": "markdown",
   "metadata": {},
   "source": [
    "### Level4"
   ]
  },
  {
   "cell_type": "markdown",
   "metadata": {},
   "source": [
    "* 3xn 타일링"
   ]
  },
  {
   "cell_type": "code",
   "execution_count": 55,
   "metadata": {},
   "outputs": [],
   "source": [
    "def solution(n):\n",
    "    answer = 0\n",
    "    if n%2 != 0:\n",
    "        return 0\n",
    "    else:\n",
    "        li = [3]\n",
    "        a=1\n",
    "        for i in range(1,int((n+1)/2)):\n",
    "            li.append(3*li[i-1] + 2*a)\n",
    "            a += li[i-1]\n",
    "\n",
    "    \n",
    "    \n",
    "    return li[-1]%1000000007"
   ]
  },
  {
   "cell_type": "code",
   "execution_count": 56,
   "metadata": {},
   "outputs": [
    {
     "data": {
      "text/plain": [
       "11"
      ]
     },
     "execution_count": 56,
     "metadata": {},
     "output_type": "execute_result"
    }
   ],
   "source": [
    "solution(4)"
   ]
  },
  {
   "cell_type": "code",
   "execution_count": 61,
   "metadata": {},
   "outputs": [
    {
     "data": {
      "text/plain": [
       "2131"
      ]
     },
     "execution_count": 61,
     "metadata": {},
     "output_type": "execute_result"
    }
   ],
   "source": [
    "solution(12)"
   ]
  },
  {
   "cell_type": "markdown",
   "metadata": {},
   "source": [
    "* 징검다리(이분탐색)"
   ]
  },
  {
   "cell_type": "code",
   "execution_count": 45,
   "metadata": {},
   "outputs": [],
   "source": [
    "#시간초과 0 점\n",
    "import itertools\n",
    "def solution(distance, rocks, n):\n",
    "    answer = []\n",
    "    a = list(set(itertools.combinations(rocks, n)))\n",
    "    a.sort()\n",
    "    \n",
    "    for i in range(len(a)):\n",
    "        b = rocks.copy()\n",
    "        b.remove(a[i][0])\n",
    "        b.remove(a[i][1])\n",
    "        b.sort()\n",
    "        c=[b.pop(0)]\n",
    "        \n",
    "        for j in range(1, len(b)):\n",
    "            c.append(b[j] - b[j-1])\n",
    "        c.append(distance - b[-1])\n",
    "        \n",
    "        answer.append(min(c))\n",
    "            \n",
    "            \n",
    "    \n",
    "    \n",
    "    return max(answer)"
   ]
  },
  {
   "cell_type": "code",
   "execution_count": 46,
   "metadata": {},
   "outputs": [
    {
     "data": {
      "text/plain": [
       "4"
      ]
     },
     "execution_count": 46,
     "metadata": {},
     "output_type": "execute_result"
    }
   ],
   "source": [
    "solution(25,[2, 14, 11, 21, 17], 2)"
   ]
  },
  {
   "cell_type": "code",
   "execution_count": 47,
   "metadata": {},
   "outputs": [],
   "source": [
    "def solution(distance, rocks, n):\n",
    "    mi = 1\n",
    "    ma = distance\n",
    "    rocks.sort()\n",
    "    while ma > mi+1:\n",
    "        mid = (ma+mi)//2\n",
    "        cur = 0\n",
    "        count = 0\n",
    "        for e in rocks:\n",
    "            if e-cur < mid:\n",
    "                count += 1\n",
    "            else:\n",
    "                cur = e\n",
    "                continue\n",
    "            if count > n:\n",
    "                ma = mid\n",
    "                break\n",
    "        if distance-cur < mid:\n",
    "            count += 1\n",
    "        if count <= n:\n",
    "            mi = mid\n",
    "        else:\n",
    "            ma = mid\n",
    "    return mi\n",
    "\n",
    "\"\"\"\n",
    "일단 카테고리도 그렇고 바로 이분탐색 솔루션이 떠올랐다. \n",
    "거리의 최솟값을 타겟으로 이분탐색을 진행하는데 \n",
    "검증하는 방법에는 greedy 한 방법을 쓰면 된다.\n",
    "정렬된 rocks 를 순서대로 보면서 이전 바위와의 거리가 \n",
    "설정된 거리값인 mid 보다 작다면 그냥 치워버리면 된다. \n",
    "만약 안치운다면? 앞에 있는 바위를 치워야 하고 \n",
    "이는 똑같은 값이거나 오히려 다음 바위까지의 \n",
    "거리가 가까워지면서 더 안좋은 결과를 만들게 된다.. \n",
    "작은 인덱스부터 순서대로 나아가기 때문에\n",
    "부분해가 전체해가 되는 greedy 가 통한다.\n",
    "시간복잡도는 O(R x log D), R: 바위갯수, D: 총 거리\n",
    "\"\"\"\n",
    "\n",
    "\"\"\"\n",
    "def solution(distance, rocks, n):\n",
    "    rocks.sort()\n",
    "    rocks.append(distance)\n",
    "\n",
    "    left = 1\n",
    "    right = distance\n",
    "\n",
    "    while right - left > 1:\n",
    "        mid = int((left + right) / 2)\n",
    "        prev = 0\n",
    "        count = 0\n",
    "        for rock in rocks:\n",
    "            if rock - prev < mid:\n",
    "                count = count + 1\n",
    "            else:\n",
    "                prev = rock\n",
    "        #print('left={0}, mid={1}, right={2}, count={3}'.format(left,mid,right,count))\n",
    "        if count > n:\n",
    "            right = mid\n",
    "        else:\n",
    "            left = mid\n",
    "    return left\n",
    "\"\"\""
   ]
  },
  {
   "cell_type": "code",
   "execution_count": 48,
   "metadata": {},
   "outputs": [
    {
     "data": {
      "text/plain": [
       "4"
      ]
     },
     "execution_count": 48,
     "metadata": {},
     "output_type": "execute_result"
    }
   ],
   "source": [
    "solution(25,[2, 14, 11, 21, 17], 2)"
   ]
  },
  {
   "cell_type": "markdown",
   "metadata": {},
   "source": [
    "* 카드 게임 (동적계획법) "
   ]
  },
  {
   "cell_type": "code",
   "execution_count": 8,
   "metadata": {},
   "outputs": [],
   "source": [
    "def solution(left, right):\n",
    "    answer = 0\n",
    "    \n",
    "    map_list = [[-1 for j in range(len(right)+1)] for i in range(len(left)+1)]\n",
    "    map_list[0][0] = 0\n",
    "    \n",
    "    for i in range(len(left)):\n",
    "        for j in range(len(right)):\n",
    "            if map_list[i][j] != -1: \n",
    "                map_list[i][j] += right[j] \n",
    "                map_list[i][j+1] = max(map_list[i][j], map_list[i][j+1])\n",
    "            else:\n",
    "                map_list[i+1][j+1] = max(map_list[i][j], map_list[i+1][j])\n",
    "                map_list[i+1][j] = map_list[i][j]\n",
    "                \n",
    "                \n",
    "    max_value = 0\n",
    "    \n",
    "    for i in range(len(left)):\n",
    "        max_value = max(max_value, map_list[len(left) -1][i], map_list[i][len(right)-1])\n",
    "    \n",
    "    \n",
    "    return max_value"
   ]
  },
  {
   "cell_type": "code",
   "execution_count": 9,
   "metadata": {},
   "outputs": [
    {
     "data": {
      "text/plain": [
       "7"
      ]
     },
     "execution_count": 9,
     "metadata": {},
     "output_type": "execute_result"
    }
   ],
   "source": [
    "solution([3, 2, 5],\t[2, 4, 1])"
   ]
  },
  {
   "cell_type": "code",
   "execution_count": 10,
   "metadata": {},
   "outputs": [],
   "source": [
    "def solution(left, right):\n",
    "    n_r = len(right)\n",
    "    n_l = len(left)\n",
    "    map_list = [[-1 for j in range(n_r+1)] for i in range(n_l+1)]\n",
    "    map_list[0][0] = 0\n",
    "\n",
    "    for i in range(n_l):\n",
    "        for j in range(n_r):\n",
    "            if map_list[i][j] != -1:\n",
    "                if left[i] > right[j]: \n",
    "                    map_list[i][j] += right[j] \n",
    "                    map_list[i][j + 1] = max(map_list[i][j], map_list[i][j + 1])\n",
    "                else:\n",
    "                    map_list[i + 1][j + 1] = max(map_list[i][j], map_list[i+1][j])\n",
    "                    map_list[i + 1][j] = map_list[i][j]\n",
    "\n",
    "    max_vaule = 0\n",
    "    for i in range(n_l):\n",
    "        max_vaule = max(max_vaule, map_list[n_l-1][i], map_list[i][n_r-1])\n",
    "\n",
    "    return max_vaule"
   ]
  },
  {
   "cell_type": "code",
   "execution_count": 14,
   "metadata": {},
   "outputs": [
    {
     "name": "stdout",
     "output_type": "stream",
     "text": [
      "[[0, 0, 0, 0], [0, 2, 0, 1], [0, 2, 2, 3], [0, 2, 6, 7]]\n"
     ]
    }
   ],
   "source": [
    "#best solution\n",
    "\n",
    "def solution(left, right):\n",
    "    dp = [[0 for x in range(len(left)+1)] for y in range(len(right)+1)]\n",
    "    for i in range(1, len(left)+1):\n",
    "        for j in range(1, len(right)+1):\n",
    "            dp[i][j] = max(dp[i-1][j-1], dp[i-1][j])\n",
    "            if right[j-1] < left[i-1]:\n",
    "                dp[i][j] = dp[i][j-1] + right[j-1]\n",
    "    return dp\n",
    "\n",
    "print(solution([3, 2, 5],\t[2, 4, 1]))"
   ]
  },
  {
   "cell_type": "code",
   "execution_count": 12,
   "metadata": {},
   "outputs": [],
   "source": [
    "def solution(left, right):\n",
    "    len_l = len(left)\n",
    "    len_r = len(right)\n",
    "    mat = [[0 for i in range(len_l+1)] for j in range(len_r+1)]\n",
    "\n",
    "    for i in range(len_l):\n",
    "        for j in range(len_r):\n",
    "            if right[j] < left[i]:\n",
    "                mat[i+1][j+1] = mat[i+1][j]+right[j]\n",
    "            else:\n",
    "                mat[i+1][j+1] = max(mat[i][j],mat[i][j+1])\n",
    "\n",
    "    return mat[len_l][len_r]"
   ]
  },
  {
   "cell_type": "markdown",
   "metadata": {},
   "source": [
    "* 도둑질 (동적계획법)"
   ]
  },
  {
   "cell_type": "code",
   "execution_count": 45,
   "metadata": {},
   "outputs": [],
   "source": [
    "def solution(money):\n",
    "    if len(money) == 3:\n",
    "        return max(money)\n",
    "    else:\n",
    "        with0 = [money[0], money[1], money[0] + money[2], max(money[0], money[1]) + money[3]]\n",
    "        wout0 = [money[1], money[2], money[1] + money[3]]\n",
    "        for m in money[4:]:\n",
    "            with0.append(max(with0[-2], with0[-3]) + m) #첫번쨰 집부터 터는 경우\n",
    "            wout0.append(max(wout0[-2], wout0[-3]) + m) #두번쨰 집부터 터는 경우\n",
    "\n",
    "    return max(with0[-3], with0[-2], wout0[-1])\n",
    "\n",
    "\n",
    "def solution(a):\n",
    "    x1, y1, z1 = a[0], a[1], a[0]+a[2]\n",
    "    x2, y2, z2 = 0, a[1], a[2]\n",
    "    for i in a[3:]:\n",
    "        x1, y1, z1 = y1, z1, max(x1, y1)+i\n",
    "        x2, y2, z2 = y2, z2, max(x2, y2)+i\n",
    "    return max(x1, y1, y2, z2)"
   ]
  },
  {
   "cell_type": "code",
   "execution_count": 46,
   "metadata": {},
   "outputs": [
    {
     "data": {
      "text/plain": [
       "4"
      ]
     },
     "execution_count": 46,
     "metadata": {},
     "output_type": "execute_result"
    }
   ],
   "source": [
    "solution([1, 2, 3, 1])"
   ]
  },
  {
   "cell_type": "code",
   "execution_count": 43,
   "metadata": {},
   "outputs": [
    {
     "data": {
      "text/plain": [
       "49"
      ]
     },
     "execution_count": 43,
     "metadata": {},
     "output_type": "execute_result"
    }
   ],
   "source": [
    "solution([1, 25, 26, 24])"
   ]
  },
  {
   "cell_type": "code",
   "execution_count": 44,
   "metadata": {},
   "outputs": [
    {
     "data": {
      "text/plain": [
       "49"
      ]
     },
     "execution_count": 44,
     "metadata": {},
     "output_type": "execute_result"
    }
   ],
   "source": [
    "solution([1, 25, 26, 24, 3])"
   ]
  },
  {
   "cell_type": "code",
   "execution_count": 48,
   "metadata": {},
   "outputs": [],
   "source": [
    "def solution(money):\n",
    "    n = len(money)\n",
    "\n",
    "    dp1 = [] # 첫 집을 털었을 때\n",
    "    dp2 = [] # 첫 집을 안 털고 두 번째 집을 털었을 때   \n",
    "    # 첫번째 집을 털고, 안털고의 결과\n",
    "    dp1.append(money[0])\n",
    "    dp2.append(0)\n",
    "    # 두번째 집을 털고 안털고의 결과\n",
    "    dp1.append(dp1[0])\n",
    "    dp2.append(money[1])\n",
    "\n",
    "    for i in range(2, n-1):\n",
    "        # 현재집 + 2번째 전 집, 1번째 전 집 중 최대치를 먹는 쪽으로 dp를 키운다.\n",
    "        dp1.append(max(dp1[i - 1], dp1[i - 2] + money[i]))\n",
    "        dp2.append(max(dp2[i - 1], dp2[i - 2] + money[i]))\n",
    "\n",
    "    e = n-1\n",
    "    dp1.append(dp1[e - 1])\n",
    "    dp2.append(max(dp2[e - 1], dp2[e - 2] + money[e]))\n",
    "\n",
    "    answer = max(dp1[e], dp2[e])\n",
    "    return answer\n"
   ]
  },
  {
   "cell_type": "code",
   "execution_count": 49,
   "metadata": {},
   "outputs": [
    {
     "data": {
      "text/plain": [
       "49"
      ]
     },
     "execution_count": 49,
     "metadata": {},
     "output_type": "execute_result"
    }
   ],
   "source": [
    "solution([1, 25, 26, 24, 3])"
   ]
  },
  {
   "cell_type": "markdown",
   "metadata": {},
   "source": [
    "* 서울에서 경산까지 (동적계획법) gg"
   ]
  },
  {
   "cell_type": "code",
   "execution_count": 196,
   "metadata": {},
   "outputs": [
    {
     "data": {
      "text/plain": [
       "'\\ndef solution(K, travel):\\n    N = len(travel) + 1\\n    cache = [[-1 for i in range(K + 1)] for j in range(N + 1)]\\n    def pathSum(x, t):\\n        if t > K:\\n            return -1000000000\\n        if x == N:\\n            return 0\\n        if cache[x][t] != -1:\\n            return cache[x][t]\\n        cache[x][t] = max(travel[x - 1][1] + pathSum(x + 1, t + travel[x - 1][0]), travel[x - 1][3] + pathSum(x + 1, t + travel[x - 1][2]))\\n        return cache[x][t]\\n    sum = pathSum(1, 0)\\n    return sum\\n'"
      ]
     },
     "execution_count": 196,
     "metadata": {},
     "output_type": "execute_result"
    }
   ],
   "source": [
    "def solution(K, travel):\n",
    "    dp = [[0 for i in range(K+1)] for j in range(len(travel)+1)]\n",
    "    \n",
    "    for i in range(1, len(travel)+1):\n",
    "        t_walk, c_walk, t_bike, c_bike = travel[i-1]\n",
    "        \n",
    "        for j in range(K+1):\n",
    "            walk = dp[i-1][j-t_walk] + c_walk if j >= t_walk and dp[i-1][j-t_walk] != -1 else -1\n",
    "            bike = dp[i-1][j-t_bike] + c_bike if j >= t_bike and dp[i-1][j-t_bike] != -1 else -1\n",
    "            \n",
    "            dp[i][j] = max(walk, bike)\n",
    "            \n",
    "    return dp[len(travel)][K]\n",
    "\n",
    "\n",
    "\"\"\"\n",
    "def solution(K, travel):\n",
    "    N = len(travel) + 1\n",
    "    cache = [[-1 for i in range(K + 1)] for j in range(N + 1)]\n",
    "    def pathSum(x, t):\n",
    "        if t > K:\n",
    "            return -1000000000\n",
    "        if x == N:\n",
    "            return 0\n",
    "        if cache[x][t] != -1:\n",
    "            return cache[x][t]\n",
    "        cache[x][t] = max(travel[x - 1][1] + pathSum(x + 1, t + travel[x - 1][0]), travel[x - 1][3] + pathSum(x + 1, t + travel[x - 1][2]))\n",
    "        return cache[x][t]\n",
    "    sum = pathSum(1, 0)\n",
    "    return sum\n",
    "\"\"\"\n"
   ]
  },
  {
   "cell_type": "code",
   "execution_count": 197,
   "metadata": {},
   "outputs": [
    {
     "data": {
      "text/plain": [
       "660"
      ]
     },
     "execution_count": 197,
     "metadata": {},
     "output_type": "execute_result"
    }
   ],
   "source": [
    "solution(1650, [[500, 200, 200, 100], [800, 370, 300, 120], [700, 250, 300, 90]])"
   ]
  },
  {
   "cell_type": "code",
   "execution_count": 198,
   "metadata": {},
   "outputs": [
    {
     "data": {
      "text/plain": [
       "5900"
      ]
     },
     "execution_count": 198,
     "metadata": {},
     "output_type": "execute_result"
    }
   ],
   "source": [
    "solution(3000, [[1000, 2000, 300, 700], [1100, 1900, 400, 900], [900, 1800, 400, 700], [1200, 2300, 500, 1200]])"
   ]
  },
  {
   "cell_type": "markdown",
   "metadata": {},
   "source": [
    "* 사칙연산"
   ]
  },
  {
   "cell_type": "code",
   "execution_count": 199,
   "metadata": {},
   "outputs": [],
   "source": [
    "MAX = [[float('-inf') for i in range(101)] for j in range(101)]\n",
    "MIN = [[float('inf') for i in range(101)] for j in range(101)]\n",
    "\n",
    "def solution(arr):\n",
    "    global MAX\n",
    "    global MIN\n",
    "    MAX = [[float('-inf') for i in range(101)] for j in range(101)]\n",
    "    MIN = [[float('inf') for i in range(101)] for j in range(101)]\n",
    "    return max_val(arr, 0, len(arr) - 1)\n",
    "\n",
    "def max_val(arr, a, b):\n",
    "    # print('max', a, b)\n",
    "    if a == b:\n",
    "        # print(arr[a : b + 1], arr[a])\n",
    "        return int(arr[a])\n",
    "\n",
    "    if MAX[a//2][b//2] == -float('inf'):\n",
    "        for i in range(a + 1, b, 2):  # operations\n",
    "            if arr[i] == '+':\n",
    "                temp_max = max_val(arr, a, i - 1) + max_val(arr, i + 1, b)\n",
    "            elif arr[i] == '-':\n",
    "                temp_max = max_val(arr, a, i - 1) - min_val(arr, i + 1, b)\n",
    "            if temp_max > MAX[a//2][b//2]:\n",
    "                MAX[a//2][b//2] = temp_max\n",
    "\n",
    "    # print(arr[a : b + 1], MAX[a//2][b//2])\n",
    "    return MAX[a//2][b//2]\n",
    "\n",
    "\n",
    "def min_val(arr, a, b):\n",
    "    # print('min', a, b)\n",
    "    if a == b:\n",
    "        # print(arr[a : b + 1], arr[a])\n",
    "        return int(arr[a])\n",
    "\n",
    "    if MIN[a//2][b//2] == float('inf'):\n",
    "        for i in range(a + 1, b, 2):  # operations\n",
    "            if arr[i] == '+':\n",
    "                temp_min = min_val(arr, a, i - 1) + min_val(arr, i + 1, b)\n",
    "            elif arr[i] == '-':\n",
    "                temp_min = min_val(arr, a, i - 1) - max_val(arr, i + 1, b)\n",
    "            if temp_min < MIN[a//2][b//2]:\n",
    "                MIN[a//2][b//2] = temp_min\n",
    "\n",
    "    # print(arr[a : b + 1], MIN[a//2][b//2])\n",
    "    return MIN[a//2][b//2]"
   ]
  },
  {
   "cell_type": "code",
   "execution_count": 200,
   "metadata": {},
   "outputs": [
    {
     "data": {
      "text/plain": [
       "1"
      ]
     },
     "execution_count": 200,
     "metadata": {},
     "output_type": "execute_result"
    }
   ],
   "source": [
    "solution(['1', '-', '3', '+', '5','-', '8'])"
   ]
  },
  {
   "cell_type": "code",
   "execution_count": 201,
   "metadata": {},
   "outputs": [
    {
     "data": {
      "text/plain": [
       "1"
      ]
     },
     "execution_count": 201,
     "metadata": {},
     "output_type": "execute_result"
    }
   ],
   "source": [
    "solution([\"5\", \"-\", \"3\", \"+\", \"1\", \"+\", \"2\", \"-\", \"4\"])"
   ]
  },
  {
   "cell_type": "markdown",
   "metadata": {},
   "source": [
    "* 게임 맵 최단거리   (존나 다시 해)"
   ]
  },
  {
   "cell_type": "code",
   "execution_count": 3,
   "metadata": {},
   "outputs": [],
   "source": [
    "def solution(nums):\n",
    "    for i, _ in enumerate(nums):\n",
    "        for j, _ in enumerate(nums[i]):\n",
    "            nums[i][j] *= 1000000\n",
    "    n = len(nums)\n",
    "    m = len(nums[0])\n",
    "    paths = [[0, 0, 1]]\n",
    "    nums[0][0] = 1\n",
    "    while True:\n",
    "        if len(paths) == 0:\n",
    "            return -1\n",
    "        item = paths.pop(0)\n",
    "        nn = item[0]\n",
    "        mm = item[1]\n",
    "        cnt = item[2]\n",
    "        if nn == n-1 and mm == m-1:\n",
    "            return cnt\n",
    "        if nn + 1 < n and nums[nn+1][mm] > cnt + 1:\n",
    "            paths.append([nn+1, mm, cnt+1])\n",
    "            nums[nn+1][mm] = cnt + 1\n",
    "        if nn - 1 >= 0 and nums[nn-1][mm] > cnt + 1:\n",
    "            paths.append([nn-1, mm, cnt+1])\n",
    "            nums[nn-1][mm] = cnt + 1\n",
    "        if mm + 1 < m and nums[nn][mm+1] > cnt + 1:\n",
    "            paths.append([nn, mm+1, cnt+1])\n",
    "            nums[nn][mm+1] = cnt + 1\n",
    "        if mm - 1 >= 0 and nums[nn][mm-1] > cnt + 1:\n",
    "            paths.append([nn, mm-1, cnt+1])\n",
    "            nums[nn][mm-1] = cnt + 1"
   ]
  },
  {
   "cell_type": "code",
   "execution_count": null,
   "metadata": {},
   "outputs": [],
   "source": [
    "def solution(maps):\n",
    "    visited = []\n",
    "    dist = []\n",
    "    for i in range(len(maps)):\n",
    "        dist.append([float(\"inf\")]*len(maps[i])) #inf는 어떤 숫자와 비교해도 더 큼\n",
    "        visited.append([False]*len(maps[i]))\n",
    "    queue = [(0, 0, 1)]\n",
    "    visited[0][0] = True\n",
    "    while(len(queue) > 0):\n",
    "        current = queue.pop(0)\n",
    "        x = current[0]\n",
    "        y = current[1]\n",
    "        dis = current[2]\n",
    "        dist[x][y] = min(dist[x][y], dis)\n",
    "        if x > 0 and maps[x-1][y] == 1 and not visited[x-1][y]:\n",
    "            queue.append((x-1, y, dis+1))\n",
    "            visited[x-1][y] = True\n",
    "        if y > 0 and maps[x][y-1] == 1 and not visited[x][y-1]:\n",
    "            queue.append((x, y-1, dis+1))\n",
    "            visited[x][y-1] = True\n",
    "        if x < (len(maps)-1) and maps[x+1][y] == 1 and not visited[x+1][y]:\n",
    "            queue.append((x+1, y, dis+1))\n",
    "            visited[x+1][y] = True\n",
    "        if y < (len(maps[0])-1) and maps[x][y+1] == 1 and not visited[x][y+1]:\n",
    "            queue.append((x, y+1, dis+1))\n",
    "            visited[x][y+1] = True\n",
    "\n",
    "    if dist[len(maps)-1][len(maps[0])-1] == float(\"inf\"):\n",
    "        dist[len(maps)-1][len(maps[0])-1] = -1\n",
    "    return dist[len(maps)-1][len(maps[0])-1]"
   ]
  },
  {
   "cell_type": "code",
   "execution_count": null,
   "metadata": {},
   "outputs": [],
   "source": [
    "def solution(maps):\n",
    "    pos_stack = [(0,0,1)] # (x,y,d)\n",
    "\n",
    "    maps[0][0] = -1\n",
    "    n = len(maps) # x\n",
    "    m = len(maps[0]) # y\n",
    "\n",
    "    while pos_stack:\n",
    "        x,y,d = pos_stack.pop(0)\n",
    "        if y-1 >=0:\n",
    "            # go to top\n",
    "            if maps[x][y-1] ==1 or maps[x][y-1] > d+1:\n",
    "                maps[x][y-1] = d+1\n",
    "                if x==n-1 and y-1==m-1:\n",
    "                    return d+1\n",
    "                pos_stack.append((x,y-1,d+1))\n",
    "        if x-1 >=0:\n",
    "            # go to left\n",
    "            if maps[x-1][y] ==1 or maps[x-1][y] > d+1:\n",
    "                maps[x-1][y] = d+1\n",
    "                if x-1==n-1 and y==m-1:\n",
    "                    return d+1\n",
    "                pos_stack.append((x-1,y,d+1))\n",
    "        if x+1<n:\n",
    "            # go to right\n",
    "            if maps[x+1][y] ==1 or maps[x+1][y] > d+1:\n",
    "                maps[x+1][y] = d+1\n",
    "                if x+1==n-1 and y==m-1:\n",
    "                    return d+1\n",
    "                pos_stack.append((x+1,y,d+1))\n",
    "        if y+1<m:\n",
    "            # go to bottom\n",
    "            if maps[x][y+1] ==1 or maps[x][y+1] > d+1:\n",
    "                maps[x][y+1] = d+1\n",
    "                if x==n-1 and y+1==m-1:\n",
    "                    return d+1\n",
    "                pos_stack.append((x,y+1,d+1))\n",
    "\n",
    "\n",
    "    result = maps[n-1][m-1]\n",
    "    if result ==1:\n",
    "        return -1\n",
    "    else:\n",
    "        return result"
   ]
  },
  {
   "cell_type": "code",
   "execution_count": 4,
   "metadata": {},
   "outputs": [
    {
     "data": {
      "text/plain": [
       "0"
      ]
     },
     "execution_count": 4,
     "metadata": {},
     "output_type": "execute_result"
    }
   ],
   "source": [
    "solution([[1,0,1,1,1],\n",
    "          [1,0,1,0,1],\n",
    "          [1,0,1,1,1],\n",
    "          [1,1,1,0,1],\n",
    "          [0,0,0,0,1]])"
   ]
  },
  {
   "cell_type": "code",
   "execution_count": 5,
   "metadata": {},
   "outputs": [
    {
     "data": {
      "text/plain": [
       "-1"
      ]
     },
     "execution_count": 5,
     "metadata": {},
     "output_type": "execute_result"
    }
   ],
   "source": [
    "solution([[1,0,1,1,1],[1,0,1,0,1],[1,0,1,1,1],[1,1,1,0,0],[0,0,0,0,1]])"
   ]
  },
  {
   "cell_type": "markdown",
   "metadata": {},
   "source": [
    "* 선입 선출 스케줄링"
   ]
  },
  {
   "cell_type": "code",
   "execution_count": 9,
   "metadata": {},
   "outputs": [],
   "source": [
    "def solution(n, cores):\n",
    "    time = 0\n",
    "    \n",
    "    while n>0:\n",
    "        for i in range(len(cores)):\n",
    "            \n",
    "            if time%cores[i] == 0: #현재 시간 나누기 처리 시간의 나머지\n",
    "                n-=1\n",
    "                if n == 0:\n",
    "                    answer= i+1\n",
    "                    break\n",
    "        time+=1\n",
    "    return answer"
   ]
  },
  {
   "cell_type": "code",
   "execution_count": null,
   "metadata": {},
   "outputs": [],
   "source": [
    "#코드 제출할떄에는 주석 없애야댐 ㅋㅋ\n",
    "def solution(n, cores):\n",
    "    \n",
    "    \n",
    "    if n <= len(cores):\n",
    "        return n\n",
    "    \n",
    "    \n",
    "    \n",
    "    maxtime = max(cores)*n\n",
    "    mintime = 0\n",
    "    \n",
    "    while mintime <= maxtime:\n",
    "        corework = len(cores)#작업 시작부터 코어 개수 만큼 작업이 할당\n",
    "        currentwork = 0\n",
    "        \n",
    "        #최소와 최대의 중간 시간을 구한다\n",
    "        midtime = (mintime + maxtime)//2\n",
    "        \n",
    "        \n",
    "        #중간 시간을 현재 시점으로 해서 코어별로 작업량을 구함\n",
    "        for i in cores:\n",
    "            corework += (midtime // i) # 현재 시간을 시간당 작엽량으로 나누면 현재 코어의 작엽량\n",
    "            if midtime%i == 0:\n",
    "                currentwork+=1 #현재 막 작업을 할당 받은 코어의 개수를 구함\n",
    "                \n",
    "                \n",
    "        # n이 현재 시점(midtime)에서 코어들의 총 작업량보다 크다면 최소 시간(mintime)을 midtime 으로 끌어 올린다\n",
    "        # n <= (corework - currentwork) 경우는 반대쪽에 있으므로 최대 시간(maxtime)을 끌어 내린다 \n",
    "        if n > corework:\n",
    "            mintime = midtime + 1\n",
    "        elif n <= (corework - currentwork):\n",
    "            maxtime = midtime - 1\n",
    "        else:\n",
    "            # corework - currentwork < n <= corework 사이에 있으면\n",
    "            # 현재 막 작업을 할당 받은 코어 중에 n개가 되는 시점의 코어를 구할 수 있다\n",
    "            # 참고: corework - currentwork <= n <= corework 라고 가정하면\n",
    "            # n = corework - currentwork 일수도 있다는 뜻인데 실제 들어가면 아닐 수도 있다\n",
    "            # 이유는 (midtime % cores[i]) == 0 이면 바로 tmpwork 가 하나 증가하기 때문에\n",
    "            # n != corework - currentwork 가 아닐 수 있다\n",
    "            tmpwork = corework - currentwork\n",
    "            for i in range(len(cores)):\n",
    "                if midtime % cores[i] == 0:\n",
    "                    tmpwork +=1\n",
    "                    if tmpwork == n:\n",
    "                        return i+1\n",
    "   "
   ]
  },
  {
   "cell_type": "code",
   "execution_count": null,
   "metadata": {},
   "outputs": [],
   "source": [
    "solution(6,\t[1,2,3])"
   ]
  },
  {
   "cell_type": "code",
   "execution_count": null,
   "metadata": {},
   "outputs": [],
   "source": [
    "solution(6,\t[1,2,3])"
   ]
  },
  {
   "cell_type": "code",
   "execution_count": null,
   "metadata": {},
   "outputs": [],
   "source": [
    "def solution(n, cores):\n",
    "    if n<=len(cores):\n",
    "        return n\n",
    "    maxtime=max(cores)*n\n",
    "    mintime=0\n",
    "    midtime=0\n",
    "    ran=len(cores)\n",
    "    while mintime<=maxtime:\n",
    "        midtime=(maxtime+mintime)//2\n",
    "        totalwork=ran\n",
    "        startnow=0\n",
    "        for x in cores:\n",
    "            totalwork+=midtime//x\n",
    "            if midtime%x==0:\n",
    "                startnow+=1\n",
    "        # midtime이라는 시점에 일의 양 \n",
    "        # totalwork-startnow<n<=totalwork 여야함\n",
    "        if n>totalwork:\n",
    "            mintime=midtime+1\n",
    "        elif totalwork-startnow>=n:\n",
    "            maxtime=midtime-1\n",
    "        else:\n",
    "            temp=totalwork-startnow\n",
    "            for i in range(ran):\n",
    "                if midtime%cores[i]==0:\n",
    "                    temp+=1\n",
    "                    if temp==n:\n",
    "                        return i+1"
   ]
  },
  {
   "cell_type": "markdown",
   "metadata": {},
   "source": [
    "* 숫자블록"
   ]
  },
  {
   "cell_type": "code",
   "execution_count": 68,
   "metadata": {},
   "outputs": [],
   "source": [
    "#약수 구해서 자기자신보다 인덱스 1 작은 걸 지정\n",
    "from math import sqrt\n",
    " \n",
    "def solution(begin, end):\n",
    "    result=[]\n",
    "    if begin==1:\n",
    "        result.append(0)\n",
    "        begin+=1\n",
    "    for i in range(begin,end+1):\n",
    "        for j in range(2,int(sqrt(end)+1)):            \n",
    "            if i%j==0:\n",
    "                result.append(i//j)\n",
    "                break\n",
    "        else : result.append(1)\n",
    " \n",
    "    return result"
   ]
  },
  {
   "cell_type": "code",
   "execution_count": 69,
   "metadata": {},
   "outputs": [
    {
     "data": {
      "text/plain": [
       "[0, 1, 1, 2, 1, 3, 1, 4, 3, 5]"
      ]
     },
     "execution_count": 69,
     "metadata": {},
     "output_type": "execute_result"
    }
   ],
   "source": [
    "solution(1,\t10)"
   ]
  },
  {
   "cell_type": "code",
   "execution_count": 37,
   "metadata": {},
   "outputs": [],
   "source": [
    "def solution(n):\n",
    "    num=set(range(2,n+1))\n",
    "\n",
    "    for i in range(2,n+1):\n",
    "        if i in num:\n",
    "            num-=set(range(2*i,n+1,i))\n",
    "    return num"
   ]
  },
  {
   "cell_type": "code",
   "execution_count": 38,
   "metadata": {},
   "outputs": [
    {
     "data": {
      "text/plain": [
       "{2, 3, 5, 7}"
      ]
     },
     "execution_count": 38,
     "metadata": {},
     "output_type": "execute_result"
    }
   ],
   "source": [
    "solution(10)"
   ]
  },
  {
   "cell_type": "code",
   "execution_count": 65,
   "metadata": {},
   "outputs": [
    {
     "data": {
      "text/plain": [
       "(5, 0)"
      ]
     },
     "execution_count": 65,
     "metadata": {},
     "output_type": "execute_result"
    }
   ],
   "source": [
    "a, b = divmod(10, 2)\n",
    "a, b"
   ]
  },
  {
   "cell_type": "markdown",
   "metadata": {},
   "source": [
    "* 올바른 괄호의 갯수(카탈랑 수)"
   ]
  },
  {
   "cell_type": "code",
   "execution_count": 71,
   "metadata": {},
   "outputs": [],
   "source": [
    "#참조 https://ssungkang.tistory.com/entry/%EC%98%AC%EB%B0%94%EB%A5%B8-%EA%B4%84%ED%98%B8%EC%9D%98-%EA%B0%AF%EC%88%98%ED%94%84%EB%A1%9C%EA%B7%B8%EB%9E%98%EB%A8%B8%EC%8A%A4level4\n",
    "from math import factorial as f\n",
    "def solution(n):\n",
    "    answer = 0\n",
    "    if n<=2:\n",
    "        return n\n",
    "    else:\n",
    "        answer = f(2*n)/(f(n+1)*f(n))\n",
    "    \n",
    "    \n",
    "    return answer"
   ]
  },
  {
   "cell_type": "code",
   "execution_count": 72,
   "metadata": {},
   "outputs": [
    {
     "data": {
      "text/plain": [
       "2"
      ]
     },
     "execution_count": 72,
     "metadata": {},
     "output_type": "execute_result"
    }
   ],
   "source": [
    "solution(2)"
   ]
  },
  {
   "cell_type": "markdown",
   "metadata": {},
   "source": [
    "* 쿠키 구입"
   ]
  },
  {
   "cell_type": "code",
   "execution_count": 85,
   "metadata": {},
   "outputs": [],
   "source": [
    "from itertools import combinations as c\n",
    "def solution(cookie):\n",
    "    answer = 0\n",
    "    \n",
    "    for i in range(1, len(cookie)):\n",
    "        \n",
    "        for j in range(1, len(cookie)):\n",
    "            li = list(map(sum, c(cookie[:i], j)))\n",
    "            \n",
    "            for k in range(1, len(cookie)):\n",
    "                re = list(map(sum, c(cookie[i+1:], k)))\n",
    "                \n",
    "                for z in li:\n",
    "                    if z in re:\n",
    "                        answer+=1\n",
    "                    \n",
    "        \n",
    "    \n",
    "    \n",
    "    return answer"
   ]
  },
  {
   "cell_type": "code",
   "execution_count": 86,
   "metadata": {},
   "outputs": [
    {
     "data": {
      "text/plain": [
       "0"
      ]
     },
     "execution_count": 86,
     "metadata": {},
     "output_type": "execute_result"
    }
   ],
   "source": [
    "solution([1,1,2,3])"
   ]
  },
  {
   "cell_type": "code",
   "execution_count": null,
   "metadata": {},
   "outputs": [],
   "source": [
    "from itertools import accumulate\n",
    "\n",
    "def solution(cookie):\n",
    "    answer = 0\n",
    "    for m in range(len(cookie)-1):\n",
    "        a = set(accumulate(reversed(cookie[:m+1])))\n",
    "        b = set(accumulate(cookie[m+1:]))\n",
    "        c = a & b\n",
    "\n",
    "        if c:\n",
    "            answer = max(*c, answer)\n",
    "    return answer"
   ]
  },
  {
   "cell_type": "code",
   "execution_count": null,
   "metadata": {},
   "outputs": [],
   "source": [
    "solution([1,1,2,3])"
   ]
  },
  {
   "cell_type": "code",
   "execution_count": 94,
   "metadata": {},
   "outputs": [
    {
     "data": {
      "text/plain": [
       "[1]"
      ]
     },
     "execution_count": 94,
     "metadata": {},
     "output_type": "execute_result"
    }
   ],
   "source": [
    "a=[1,1,2,3]\n",
    "a[0:1]"
   ]
  },
  {
   "cell_type": "code",
   "execution_count": 5,
   "metadata": {},
   "outputs": [
    {
     "data": {
      "text/plain": [
       "10"
      ]
     },
     "execution_count": 5,
     "metadata": {},
     "output_type": "execute_result"
    }
   ],
   "source": [
    "c = 10&11\n",
    "c"
   ]
  },
  {
   "cell_type": "markdown",
   "metadata": {},
   "source": [
    "* 최적의 행렬 곱셈"
   ]
  },
  {
   "cell_type": "code",
   "execution_count": 65,
   "metadata": {},
   "outputs": [],
   "source": [
    "import sys\n",
    "def solution(matrix_sizes):\n",
    "    d = []\n",
    "    for i in range(len(matrix_sizes) - 1):\n",
    "        d.append(matrix_sizes[i][0])\n",
    "    d.append(matrix_sizes[len(matrix_sizes) - 1][0])\n",
    "    d.append(matrix_sizes[len(matrix_sizes) - 1][1])\n",
    "    mylen = len(d)\n",
    "    M = [[0 for x in range(mylen)] for y in range(mylen)]\n",
    "\n",
    "    for diag in range(1, mylen):\n",
    "        for i in range(1, mylen-diag):\n",
    "            j = i+diag\n",
    "            M[i][j] = sys.maxsize\n",
    "            for k in range(i,j):\n",
    "                M[i][j] = min(M[i][j],\n",
    "                              M[i][k] + M[k+1][j] + d[i-1]*d[k]*d[j])\n",
    "    return M[1][mylen - 1]"
   ]
  },
  {
   "cell_type": "code",
   "execution_count": 66,
   "metadata": {},
   "outputs": [
    {
     "data": {
      "text/plain": [
       "270"
      ]
     },
     "execution_count": 66,
     "metadata": {},
     "output_type": "execute_result"
    }
   ],
   "source": [
    "solution([[5,3],[3,10],[10,6]])"
   ]
  },
  {
   "cell_type": "code",
   "execution_count": 58,
   "metadata": {},
   "outputs": [
    {
     "name": "stdout",
     "output_type": "stream",
     "text": [
      "[[0, 0, 0, 0], [0, 0, 1500, 4500], [0, 0, 0, 9000], [0, 0, 0, 0]]\n"
     ]
    }
   ],
   "source": [
    "import sys\n",
    "d = [10, 30, 5, 60]\n",
    "M = [[0 for x in range(4)] for y in range(4)]\n",
    "\n",
    "for diag in range(1, 4):\n",
    "    for i in range(1, 4-diag):\n",
    "        j = i+diag\n",
    "        M[i][j] = sys.maxsize\n",
    "        for k in range(i,j):\n",
    "            M[i][j] = min(M[i][j],\n",
    "                          M[i][k] + M[k+1][j] + d[i-1]*d[k]*d[j])\n",
    "            \n",
    "print(M)"
   ]
  },
  {
   "cell_type": "markdown",
   "metadata": {},
   "source": [
    "* 스티커 모으기"
   ]
  },
  {
   "cell_type": "code",
   "execution_count": 1,
   "metadata": {},
   "outputs": [],
   "source": [
    "def solution(sticker):\n",
    "    answer = 0\n",
    "    \n",
    "    if len(sticker) == 1:\n",
    "        return sticker[0]\n",
    "    elif len(sticker) == 2:\n",
    "        return max(sticker[0], sticker[1])\n",
    "    else:\n",
    "        if len(sticker)%2 == 0:\n",
    "            dp = [0]*int(len(sticker)/2)\n",
    "        else:\n",
    "            dp = [0]*(int(len(sticker)/2) +1)\n",
    "        even = dp.copy()\n",
    "        odd = dp.copy()\n",
    "        even[0] = sticker[0]\n",
    "        odd[0] = sticker[1]\n",
    "\n",
    "        ev_i = 2\n",
    "        od_i = 3\n",
    "        i=1\n",
    "\n",
    "        while ev_i+2<len(sticker) or od_i+1<len(sticker):\n",
    "\n",
    "\n",
    "            if sticker[ev_i] >= sticker[ev_i+1]:\n",
    "                even[i] = sticker[ev_i]\n",
    "                ev_i+=2\n",
    "            else:\n",
    "                even[i] = sticker[ev_i+1]\n",
    "                ev_i+=3\n",
    "            if sticker[od_i] >= sticker[od_i+1]:\n",
    "                odd[i] = sticker[od_i]\n",
    "                od_i+=2\n",
    "            else:\n",
    "                odd[i] = sticker[od_i+1]\n",
    "                od_i+=3\n",
    "            i+=1\n",
    "        \n",
    "    if even[-2] != sticker[-3] and even[-2] !=sticker[-2]:\n",
    "        if even[-2] == sticker[-4]:\n",
    "            even.append(sticker[-2])\n",
    "    if odd[-2] != sticker[-1] and odd[-2] != sticker[-2]:\n",
    "        if odd[-2] != sticker[-3]:\n",
    "            odd.append(max(sticker[-1], sticker[-2]))\n",
    "        elif odd[-2] == sticker[-3]:\n",
    "            odd.append(sticker[-1])\n",
    "        \n",
    "        \n",
    "    \n",
    "    return max(sum(even), sum(odd))"
   ]
  },
  {
   "cell_type": "code",
   "execution_count": 2,
   "metadata": {},
   "outputs": [],
   "source": [
    "def solution(sticker):\n",
    "    answer = 0\n",
    "\n",
    "    if len(sticker) == 1:\n",
    "        return sticker[0]\n",
    "    elif len(sticker) == 2:\n",
    "        return max(sticker[0], sticker[1])\n",
    "    else:\n",
    "        size = len(sticker)\n",
    "        dp = [0]*100001\n",
    "        even = dp.copy()\n",
    "        odd = dp.copy()\n",
    "        \n",
    "        even[0] = sticker[0]\n",
    "        even[1] = sticker[0]\n",
    "        \n",
    "        odd[0] = 0\n",
    "        odd[1] = sticker[1]\n",
    "        \n",
    "        ev_i, od_i =0, 0\n",
    "        #첫번째 스티커부터\n",
    "        for i in range(2, size-1):\n",
    "            even[i] = max(sticker[i] + even[i-2], even[i-1])\n",
    "        ev_i = even[size-2]\n",
    "        #두번쨰 스티커부터\n",
    "        for i in range(2, size):\n",
    "            odd[i] = max(odd[i-1], sticker[i] + odd[i-2])\n",
    "        od_i = odd[size-1]\n",
    "        answer = max(ev_i, od_i)\n",
    "    \n",
    "    return answer"
   ]
  },
  {
   "cell_type": "code",
   "execution_count": 3,
   "metadata": {},
   "outputs": [
    {
     "data": {
      "text/plain": [
       "36"
      ]
     },
     "execution_count": 3,
     "metadata": {},
     "output_type": "execute_result"
    }
   ],
   "source": [
    "solution([14, 6, 5, 11, 3, 9, 2, 10])"
   ]
  },
  {
   "cell_type": "code",
   "execution_count": 4,
   "metadata": {},
   "outputs": [
    {
     "data": {
      "text/plain": [
       "8"
      ]
     },
     "execution_count": 4,
     "metadata": {},
     "output_type": "execute_result"
    }
   ],
   "source": [
    "solution([1, 3, 2, 5, 4])"
   ]
  },
  {
   "cell_type": "code",
   "execution_count": 5,
   "metadata": {},
   "outputs": [],
   "source": [
    "def collect_sticker(sticker):\n",
    "    dq = {}\n",
    "    dq[0] = sticker[0]\n",
    "    dq[1] = max(sticker[:2])\n",
    "    for i in range(len(sticker)-2):\n",
    "        dq[i+2] = max(dq[i+1], dq[i] + sticker[i+2])\n",
    "    return dq\n",
    "\n",
    "def solution(sticker):\n",
    "    if len(sticker) ==1:\n",
    "        return sticker[0]\n",
    "    return max(collect_sticker(sticker[:-1])[len(sticker)-2],collect_sticker(sticker[1:])[len(sticker)-2])"
   ]
  },
  {
   "cell_type": "markdown",
   "metadata": {},
   "source": [
    "* 단어퍼즐"
   ]
  },
  {
   "cell_type": "code",
   "execution_count": 6,
   "metadata": {},
   "outputs": [],
   "source": [
    "from itertools import permutations as cc\n",
    "def solution(strs, t):\n",
    "    answer = -1\n",
    "    a = 0\n",
    "    for i in range(1, len(strs)+1):\n",
    "        flag = list(map(''.join, cc(strs, i)))\n",
    "        if t in flag:\n",
    "            a= i\n",
    "            break\n",
    "\n",
    "    return a"
   ]
  },
  {
   "cell_type": "code",
   "execution_count": 8,
   "metadata": {},
   "outputs": [
    {
     "ename": "SyntaxError",
     "evalue": "invalid syntax (<ipython-input-8-c731e30b3eaa>, line 11)",
     "output_type": "error",
     "traceback": [
      "\u001b[1;36m  File \u001b[1;32m\"<ipython-input-8-c731e30b3eaa>\"\u001b[1;36m, line \u001b[1;32m11\u001b[0m\n\u001b[1;33m    if (!(p-1<0 or i-q<0) and strs[j][p-q] == t[i-q]):\u001b[0m\n\u001b[1;37m        ^\u001b[0m\n\u001b[1;31mSyntaxError\u001b[0m\u001b[1;31m:\u001b[0m invalid syntax\n"
     ]
    }
   ],
   "source": [
    "def solution(strs, t):\n",
    "    answer = 0\n",
    "    maximum = len(t)\n",
    "    \n",
    "    result= [0] *20000\n",
    "    for i in range(maximum):\n",
    "        result[i] = maximum +1\n",
    "        for j in range(len(strs)):\n",
    "            p = len(strs[j]) -1\n",
    "            for q in range(len(strs[j])):\n",
    "                if (!(p-1<0 or i-q<0) and strs[j][p-q] == t[i-q]):\n",
    "                    continue\n",
    "                else:\n",
    "                    break\n",
    "                    \n",
    "            if q == len(strs[j]):\n",
    "                if i - q >=0:\n",
    "                    result[i] = min(result[i], 1 + result[i-q])\n",
    "                else:\n",
    "                    result[i] = 1\n",
    "                    \n",
    "    answer = result[maximum - 1]\n",
    "    if answer == maximum+1:\n",
    "        answer =-1\n",
    "    \n",
    "    return answer"
   ]
  },
  {
   "cell_type": "code",
   "execution_count": 9,
   "metadata": {},
   "outputs": [],
   "source": [
    "def solution(strs, t):\n",
    "    size = len(t)\n",
    "    dp = [-1]*(size+1)\n",
    "    dp[0] = 0\n",
    "    str_set = set(strs)\n",
    "\n",
    "    for i in range(1, size+1):\n",
    "        for j in range(1, 6):\n",
    "            if i-j>=0 and t[i-j:i] in str_set and dp[i-j] != -1:\n",
    "                if dp[i] == -1:\n",
    "                    dp[i] = dp[i-j] + 1\n",
    "                else:\n",
    "                    dp[i] = min(dp[i], dp[i-j] + 1)\n",
    "    return dp[-1]"
   ]
  },
  {
   "cell_type": "markdown",
   "metadata": {},
   "source": [
    "* 지형 편집"
   ]
  },
  {
   "cell_type": "code",
   "execution_count": 51,
   "metadata": {},
   "outputs": [],
   "source": [
    "#시간초과 51점...\n",
    "def solution(land, P, Q):\n",
    "    answer = []\n",
    "    li=[land[i][j] for i in range(len(land)) for j in range(len(land[i]))]\n",
    "    \n",
    "    max_h = max(li)\n",
    "    \n",
    "    cost = []\n",
    "    while max_h != 0:\n",
    "        cost_all=0\n",
    "        for i in range(len(li)):\n",
    "            if li[i] == max_h:\n",
    "                pass\n",
    "            elif li[i] < max_h:\n",
    "                cost_all += (max_h - li[i])*P\n",
    "            elif li[i] > max_h:\n",
    "                cost_all += (li[i] - max_h)*Q\n",
    "        cost.append(cost_all)\n",
    "        max_h -=1\n",
    "        if len(cost)>=2:\n",
    "            if cost[-2] < cost[-1]:\n",
    "                break\n",
    "    \n",
    "    return min(cost)"
   ]
  },
  {
   "cell_type": "code",
   "execution_count": 52,
   "metadata": {},
   "outputs": [
    {
     "data": {
      "text/plain": [
       "[12, 5, 8]"
      ]
     },
     "execution_count": 52,
     "metadata": {},
     "output_type": "execute_result"
    }
   ],
   "source": [
    "solution([[1, 2], [2, 3]], 3, 2)"
   ]
  },
  {
   "cell_type": "code",
   "execution_count": 53,
   "metadata": {},
   "outputs": [
    {
     "data": {
      "text/plain": [
       "[75, 46, 33, 44]"
      ]
     },
     "execution_count": 53,
     "metadata": {},
     "output_type": "execute_result"
    }
   ],
   "source": [
    "solution([[4, 4, 3], [3, 2, 2], [2, 1, 0]], 5, 3)"
   ]
  },
  {
   "cell_type": "code",
   "execution_count": 69,
   "metadata": {},
   "outputs": [],
   "source": [
    "def solution(land, P, Q):\n",
    "    ans = 10000000000000000000000\n",
    "\n",
    "    heights = [land[i][j] for i in range(len(land)) for j in range(len(land[i]))]\n",
    "\n",
    "    heights.sort()\n",
    "    total = len(heights)\n",
    "\n",
    "    firstCost = (sum(heights) - heights[0]*total)*Q\n",
    "    prevCost = firstCost\n",
    "    ans = firstCost\n",
    "    for i in range(1, total):\n",
    "        d = heights[i]-heights[i-1]\n",
    "        currentCost = prevCost + d*(P*i - Q*(total-i))\n",
    "        ans = min(ans, currentCost)\n",
    "        prevCost = currentCost\n",
    "    return ans"
   ]
  },
  {
   "cell_type": "code",
   "execution_count": 70,
   "metadata": {},
   "outputs": [
    {
     "data": {
      "text/plain": [
       "33"
      ]
     },
     "execution_count": 70,
     "metadata": {},
     "output_type": "execute_result"
    }
   ],
   "source": [
    "solution([[4, 4, 3], [3, 2, 2], [2, 1, 0]], 5, 3)"
   ]
  },
  {
   "cell_type": "code",
   "execution_count": 71,
   "metadata": {},
   "outputs": [
    {
     "data": {
      "text/plain": [
       "5"
      ]
     },
     "execution_count": 71,
     "metadata": {},
     "output_type": "execute_result"
    }
   ],
   "source": [
    "solution([[1, 2], [2, 3]], 3, 2)"
   ]
  },
  {
   "cell_type": "code",
   "execution_count": null,
   "metadata": {},
   "outputs": [],
   "source": [
    "#include <vector> \n",
    "using namespace std; \n",
    "int n; \n",
    "long long cal(vector<vector<int> >& land, int height, int P, int Q) \n",
    "    { long long answer = 0; for(int i=0;i<n;i++) \n",
    "     { for(int j=0;j<n;j++) \n",
    "      { long long mult = height-land[i][j]>0 ? P : -Q;\n",
    "       answer += (long long)(height-land[i][j])*mult; \n",
    "      }\n",
    "     }\n",
    "     return answer;\n",
    "    } \n",
    "long long solution(vector<vector<int> > land, int P, int Q) {\n",
    "    n = land.size(); \n",
    "    int max = land[0][0];\n",
    "    int min = land[0][0];\n",
    "    for(int i=0;i<n;i++) {\n",
    "        for(int j=0;j<n;j++) {\n",
    "            if(land[i][j]>max) max = land[i][j];\n",
    "            else if(land[i][j]<min) min = land[i][j];\n",
    "        }\n",
    "    } int middle;\n",
    "    while(min<=max) {\n",
    "        middle = (max+min)/2; if(min==max) break; \n",
    "        long long result1 = cal(land,middle,P,Q);\n",
    "        long long result2 = cal(land,middle+1,P,Q); \n",
    "        if(result1==result2) break;\n",
    "        else if(result1<result2) {\n",
    "            max = middle; \n",
    "        } else {\n",
    "            min = middle+1;\n",
    "        } \n",
    "    } \n",
    "    return cal(land,middle,P,Q);\n",
    "}\n"
   ]
  }
 ],
 "metadata": {
  "kernelspec": {
   "display_name": "Python 3",
   "language": "python",
   "name": "python3"
  },
  "language_info": {
   "codemirror_mode": {
    "name": "ipython",
    "version": 3
   },
   "file_extension": ".py",
   "mimetype": "text/x-python",
   "name": "python",
   "nbconvert_exporter": "python",
   "pygments_lexer": "ipython3",
   "version": "3.6.5"
  }
 },
 "nbformat": 4,
 "nbformat_minor": 4
}
