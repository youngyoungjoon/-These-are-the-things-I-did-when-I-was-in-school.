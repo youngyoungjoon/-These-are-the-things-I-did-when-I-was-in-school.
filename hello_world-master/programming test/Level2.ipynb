{
 "cells": [
  {
   "cell_type": "markdown",
   "metadata": {},
   "source": [
    "### Level2"
   ]
  },
  {
   "cell_type": "markdown",
   "metadata": {},
   "source": [
    "* 124나라의 숫자"
   ]
  },
  {
   "cell_type": "code",
   "execution_count": 1,
   "metadata": {},
   "outputs": [
    {
     "data": {
      "text/plain": [
       "3.0"
      ]
     },
     "execution_count": 1,
     "metadata": {},
     "output_type": "execute_result"
    }
   ],
   "source": [
    "def solution(n):\n",
    "    answer = ''\n",
    "\n",
    "    # 1. 3으로 나눈 나머지에 매칭되는 숫자\n",
    "    num_dict = {1: \"1\", 2: \"2\", 0: \"4\"}\n",
    "    mok = 1 #몫\n",
    "    na = 1  #나머지\n",
    "\n",
    "    # 2. 몫이 0이 될 때까지 숫자를 만듦\n",
    "    while mok != 0:\n",
    "        mok = n // 3\n",
    "        na = n % 3\n",
    "        # 나머지가 0이라면 몫을 1 감소\n",
    "        if na == 0:\n",
    "            mok -= 1\n",
    "\n",
    "\n",
    "        n = mok\n",
    "        # 기존 answer에 앞부분에 하나씩 숫자를 붙여서 만듦\n",
    "        answer = num_dict[na] + answer\n",
    "    return answer\n",
    "\n",
    "\n",
    "\"\"\"\n",
    "모범답안\n",
    "def change124(n):\n",
    "    num = ['1','2','4']\n",
    "    answer = \"\"\n",
    "\n",
    "\n",
    "    while n > 0:\n",
    "        n -= 1\n",
    "        answer = num[n % 3] + answer\n",
    "        n //= 3\n",
    "        \n",
    "def change124(n):\n",
    "    if n<=3:\n",
    "        return '124'[n-1]\n",
    "    else:\n",
    "        q, r = divmod(n-1, 3) \n",
    "        return change124(q) + '124'[r]\n",
    "       \n",
    "\n",
    "\"\"\""
   ]
  },
  {
   "cell_type": "markdown",
   "metadata": {},
   "source": [
    "* 기능개발"
   ]
  },
  {
   "cell_type": "code",
   "execution_count": 5,
   "metadata": {},
   "outputs": [
    {
     "data": {
      "text/plain": [
       "'\\n모범답안\\nfrom math import ceil\\n\\ndef solution(progresses, speeds):\\n    daysLeft = list(map(lambda x: (ceil((100 - progresses[x]) / speeds[x])), range(len(progresses))))\\n    count = 1\\n    retList = []\\n\\n    for i in range(len(daysLeft)):\\n        try:\\n            if daysLeft[i] < daysLeft[i + 1]:\\n                retList.append(count)\\n                count = 1\\n            else:\\n                daysLeft[i + 1] = daysLeft[i]\\n                count += 1\\n        except IndexError:\\n            retList.append(count)\\n\\n    return retList\\n'"
      ]
     },
     "execution_count": 5,
     "metadata": {},
     "output_type": "execute_result"
    }
   ],
   "source": [
    "def solution(progresses, speeds):\n",
    "    answer = []\n",
    "    time = 0\n",
    "    count = 0\n",
    "    while len(progresses)> 0:\n",
    "        if (progresses[0] + time*speeds[0]) >= 100:\n",
    "            progresses.pop(0)\n",
    "            speeds.pop(0)\n",
    "            count += 1\n",
    "        else:\n",
    "            if count > 0:\n",
    "                answer.append(count)\n",
    "                count = 0\n",
    "            time += 1\n",
    "    answer.append(count)\n",
    "    return answer\n",
    "\n",
    "\n",
    "\"\"\"\n",
    "모범답안\n",
    "from math import ceil\n",
    "\n",
    "def solution(progresses, speeds):\n",
    "    daysLeft = list(map(lambda x: (ceil((100 - progresses[x]) / speeds[x])), range(len(progresses))))\n",
    "    count = 1\n",
    "    retList = []\n",
    "\n",
    "    for i in range(len(daysLeft)):\n",
    "        try:\n",
    "            if daysLeft[i] < daysLeft[i + 1]:\n",
    "                retList.append(count)\n",
    "                count = 1\n",
    "            else:\n",
    "                daysLeft[i + 1] = daysLeft[i]\n",
    "                count += 1\n",
    "        except IndexError:\n",
    "            retList.append(count)\n",
    "\n",
    "    return retList\n",
    "\"\"\""
   ]
  },
  {
   "cell_type": "code",
   "execution_count": 6,
   "metadata": {},
   "outputs": [
    {
     "data": {
      "text/plain": [
       "[3]"
      ]
     },
     "execution_count": 6,
     "metadata": {},
     "output_type": "execute_result"
    }
   ],
   "source": [
    "solution([55,30,93], [5,30,1])"
   ]
  },
  {
   "cell_type": "code",
   "execution_count": 2,
   "metadata": {},
   "outputs": [],
   "source": [
    "import math\n",
    "\n",
    "def solution(progresses, speeds):\n",
    "    answer = []\n",
    "    dayLeft = list(map(lambda x: (math.ceil((100 - progresses[x]) / speeds[x])), range(len(progresses))))\n",
    "    count = 1\n",
    "    \n",
    "    for i in range(len(dayLeft)):\n",
    "        \n",
    "        try:               #index에러 나기떄문에 try except try 구분을 수행한뒤 except구절로 ~\n",
    "            if dayLeft[i] < dayLeft[i + 1]:\n",
    "                    answer.append(count)\n",
    "                    count = 1\n",
    "            else:\n",
    "                dayLeft[i] = dayLeft[i + 1]\n",
    "                count += 1\n",
    "                \n",
    "        except IndexError:\n",
    "            answer.append(count)\n",
    "    \n",
    "    return answer"
   ]
  },
  {
   "cell_type": "code",
   "execution_count": 3,
   "metadata": {},
   "outputs": [
    {
     "data": {
      "text/plain": [
       "[2, 1]"
      ]
     },
     "execution_count": 3,
     "metadata": {},
     "output_type": "execute_result"
    }
   ],
   "source": [
    "solution([93,30,55], [1,30,5])"
   ]
  },
  {
   "cell_type": "code",
   "execution_count": 4,
   "metadata": {},
   "outputs": [
    {
     "data": {
      "text/plain": [
       "[2, 1]"
      ]
     },
     "execution_count": 4,
     "metadata": {},
     "output_type": "execute_result"
    }
   ],
   "source": [
    "solution([55,30,93], [5,30,1])"
   ]
  },
  {
   "cell_type": "markdown",
   "metadata": {},
   "source": [
    "* 스킬트리"
   ]
  },
  {
   "cell_type": "code",
   "execution_count": 82,
   "metadata": {},
   "outputs": [],
   "source": [
    "def solution(skill, skill_trees):\n",
    "    answer = 0\n",
    "    \n",
    "    for i in skill_trees:\n",
    "        temp = \"\" #스킬에 없는 스킬들을 지우고 저장할 변수\n",
    "        count = True    #가능한 스킬개수를 저장할 변수\n",
    "        \n",
    "        #1. 스킬에 없는 스킬들을 빼고 temp에 저장\n",
    "        for j in i:\n",
    "            if skill.find(j) != -1:  #없으면 -1를 출력하기 때문\n",
    "                temp += j\n",
    "                \n",
    "        #2. temp의 길이만큼 스킬과 비교해\n",
    "        #같으면 가능한 스킬트리, 다르면 불가능한 스킬트리\n",
    "        \n",
    "        for z in range(len(temp)):\n",
    "            if skill[z] != temp[z]:\n",
    "                count=False\n",
    "                break\n",
    "        \n",
    "        #가능한 스킬트리라면 정답 개수를 1증가\n",
    "        if count == True:\n",
    "            answer +=1\n",
    "\n",
    "    \n",
    "    return answer\n",
    "\n",
    "\n",
    "\"\"\"\n",
    "모범답안\n",
    "def solution(skill, skill_trees):\n",
    "    answer = 0\n",
    "\n",
    "    for skills in skill_trees:\n",
    "        skill_list = list(skill)\n",
    "\n",
    "        for s in skills:\n",
    "            if s in skill:\n",
    "                if s != skill_list.pop(0):\n",
    "                    break\n",
    "        else:\n",
    "            answer += 1\n",
    "\n",
    "    return answer\n",
    "\"\"\""
   ]
  },
  {
   "cell_type": "code",
   "execution_count": 83,
   "metadata": {},
   "outputs": [
    {
     "data": {
      "text/plain": [
       "2"
      ]
     },
     "execution_count": 83,
     "metadata": {},
     "output_type": "execute_result"
    }
   ],
   "source": [
    "solution(\"CBD\", [\"BACDE\", \"CBADF\", \"AECB\", \"BDA\"])"
   ]
  },
  {
   "cell_type": "markdown",
   "metadata": {},
   "source": [
    "* 탑"
   ]
  },
  {
   "cell_type": "code",
   "execution_count": 141,
   "metadata": {},
   "outputs": [],
   "source": [
    "def solution(heights):\n",
    "    answer = []\n",
    "    for i in range(len(heights)-1, -1, -1):   #range 두번쨰 부분이 -1이여야 0까지 돌림\n",
    "        flag = False\n",
    "        for j in range(i-1, -1, -1):\n",
    "            if heights[i] <heights[j]:\n",
    "                flag = True\n",
    "                answer.append(j+1)\n",
    "                break\n",
    "        if not flag:\n",
    "            answer.append(0)\n",
    "        \n",
    "    answer.reverse()\n",
    "        \n",
    "    return answer\n",
    "\n",
    "\"\"\"\n",
    "모범답안\n",
    "def solution(h):\n",
    "    ans = [0] * len(h)\n",
    "    for i in range(len(h)-1, 0, -1):\n",
    "        for j in range(i-1, -1, -1):\n",
    "            if h[i] < h[j]:\n",
    "                ans[i] = j+1\n",
    "                break\n",
    "    return ans\n",
    "\n",
    "\"\"\"\n",
    "\n"
   ]
  },
  {
   "cell_type": "code",
   "execution_count": 142,
   "metadata": {},
   "outputs": [
    {
     "data": {
      "text/plain": [
       "[0, 0, 2, 2, 4]"
      ]
     },
     "execution_count": 142,
     "metadata": {},
     "output_type": "execute_result"
    }
   ],
   "source": [
    "solution([6, 9, 5, 7, 4])"
   ]
  },
  {
   "cell_type": "code",
   "execution_count": 145,
   "metadata": {},
   "outputs": [
    {
     "data": {
      "text/plain": [
       "[4, 3, 2, 1]"
      ]
     },
     "execution_count": 145,
     "metadata": {},
     "output_type": "execute_result"
    }
   ],
   "source": [
    "a = [i for i in range(4, 0, -1)]\n",
    "a"
   ]
  },
  {
   "cell_type": "markdown",
   "metadata": {},
   "source": [
    "* 쇠막대기 "
   ]
  },
  {
   "cell_type": "code",
   "execution_count": 184,
   "metadata": {},
   "outputs": [],
   "source": [
    "def solution(arrangement):\n",
    "    answer = 0\n",
    "    num_stick = 0\n",
    "    last = \"start\"\n",
    "    \n",
    "    for i in arrangement:\n",
    "        if i == '(':\n",
    "            num_stick += 1\n",
    "            last = \"start\"\n",
    "        if i == ')':\n",
    "            if last == \"start\":\n",
    "                #razer\n",
    "                num_stick -= 1\n",
    "                answer += num_stick\n",
    "                last = \"end\"\n",
    "            else:\n",
    "                #막대기의 끝점\n",
    "                num_stick -= 1\n",
    "                answer +=1\n",
    "    \n",
    "    return answer\n",
    "\n",
    "\n",
    "\"\"\"\n",
    "모범답안\n",
    "\n",
    "def solution(arrangement):\n",
    "    answer = 0\n",
    "    sticks = 0\n",
    "    rasor_to_zero = arrangement.replace('()','0')\n",
    "\n",
    "    for i in rasor_to_zero:\n",
    "        if i == '(':\n",
    "            sticks += 1\n",
    "        elif i =='0' :\n",
    "            answer += sticks\n",
    "        else :\n",
    "            sticks -= 1\n",
    "            answer += 1\n",
    "\n",
    "    return answer\n",
    "\"\"\""
   ]
  },
  {
   "cell_type": "code",
   "execution_count": 185,
   "metadata": {},
   "outputs": [
    {
     "data": {
      "text/plain": [
       "17"
      ]
     },
     "execution_count": 185,
     "metadata": {},
     "output_type": "execute_result"
    }
   ],
   "source": [
    "solution(\"()(((()())(())()))(())\")"
   ]
  },
  {
   "cell_type": "markdown",
   "metadata": {},
   "source": [
    "* 다리를 지나는 트럭"
   ]
  },
  {
   "cell_type": "code",
   "execution_count": 213,
   "metadata": {},
   "outputs": [],
   "source": [
    "#이건 진짜 모르겠음 헬프미\n",
    "\n",
    "def solution(bridge_length, weight, truck_weights):\n",
    "    answer = 0 #시간\n",
    " \n",
    "    t_list = [] # 트럭저장하는 큐 (리스트로 만듬) - 다리상황과 동일하다고 생각하면 됨\n",
    " \n",
    "    # 트럭뽑는 함수\n",
    "    for i in truck_weights :\n",
    "        q_truck = i\n",
    "        while q_truck != 0 : #트럭이 빠질때까지 확인하기 위해서\n",
    "            if len(t_list) == bridge_length : #t_list의 길이가 bridge_length와 같아지면 트럭빼기\n",
    "                t_list.pop() #시간을 더해줘야 할 것 같은데, 밑에 if, else 구문에서 시간을 넣어주면 된다.\n",
    "                \n",
    "            if (sum(t_list)+q_truck) <= weight :   # t_list의 합이 weight 이하이면 트럭을 계속 넣을 수 있다.    \n",
    "                t_list.insert(0,q_truck)\n",
    "                q_truck = 0\n",
    "                answer +=1\n",
    "            else :\n",
    "                t_list.insert(0,0) # t_list에 트럭이 들어간 시간을 구하기 위해 0,0을 넣어준다\n",
    "                answer +=1\n",
    "           \n",
    "    # 마지막에 다리에 들어간 트럭이 나가는 시간 더해주기\n",
    "    answer = answer + bridge_length\n",
    "    \n",
    "    return answer\n",
    "\n",
    "\n",
    "\n",
    "\n",
    "\"\"\"\n",
    "모범답안\n",
    "\n",
    "def solution(bridge_length, weight, truck_weights):\n",
    "    answer = 0\n",
    "    queue = [0] * bridge_length\n",
    "    seconds = 0\n",
    "    while queue:\n",
    "        seconds += 1\n",
    "        queue.pop(0)\n",
    "        if truck_weights:\n",
    "            if sum(queue) + truck_weights[0]<=weight:\n",
    "                queue.append(truck_weights.pop(0))\n",
    "            else:\n",
    "                queue.append(0)\n",
    "                \n",
    "                \n",
    "    answer = seconds\n",
    "    \n",
    "    \n",
    "    return answer\n",
    "    \n",
    "    \n",
    "def solution(bridge_length, weight, truck_weights):\n",
    "    q=[0]*bridge_length\n",
    "    sec=0\n",
    "    while q:\n",
    "        sec+=1#시작했으므로 1초씩 더함\n",
    "        q.pop(0)#트럭이 지나감\n",
    "        if truck_weights:\n",
    "            if sum(q)+truck_weights[0]<=weight:#다리에 있는 트럭의 무게와 대기 중인 트럭의 무게가 제한 무게보다 작거나 같다면\n",
    "                q.append(truck_weights.pop(0))#다리에 트럭 올림\n",
    "            else:\n",
    "                q.append(0)#중량 초과면 트럭 안올림\n",
    "    return sec\n",
    "    \n",
    "#속도가 많이 느린데, 이유가 뭘까요? 제 생각에는 bridge_length 만큼 배열이 길어져서 인것 같은데...\n",
    "\n",
    "    \n",
    "\"\"\""
   ]
  },
  {
   "cell_type": "code",
   "execution_count": 214,
   "metadata": {},
   "outputs": [
    {
     "data": {
      "text/plain": [
       "8"
      ]
     },
     "execution_count": 214,
     "metadata": {},
     "output_type": "execute_result"
    }
   ],
   "source": [
    "solution(2, 10, [7,4,5,6])"
   ]
  },
  {
   "cell_type": "markdown",
   "metadata": {},
   "source": [
    "* 주식가격"
   ]
  },
  {
   "cell_type": "code",
   "execution_count": 225,
   "metadata": {},
   "outputs": [],
   "source": [
    "def solution(prices):\n",
    "    answer = []\n",
    "    for i in range(0, len(prices) - 1):\n",
    "        #첫 번째 루프의 범위는 0부터 prices의 길이 - 1까지다. 그 이유는 길이가 5인 배열이 있을 경우 마지막 요소는 항상 0초로 기록되기 때문에 \n",
    "        #첫 번째 루프에서는 3번째 인덱스까지만 돌면 되기 때문이다. 그리고 가격이 떨어졌는지 떨어지지 않았는지를 체크하기 위한 fin 변수를 False로 초기화한다.\n",
    "        fin = False\n",
    "        for j in range(i+1, len(prices)):\n",
    "            #두 번째 루프의 범위는 i+1부터 prices의 길이인 5까지다. 그 이유는 i의 뒤에 있는 인덱스부터 마지막 인덱스까지만 돌면 되기 때문이다.\n",
    "            if prices[i] > prices[j]:\n",
    "                #그리고 두 번째 루프안에서 prices[i]와 prices[j]를 비교한다. prices[i]가 prices[j]보다 더 크다는 것은 가격이 떨어진 것이기 때문에 \n",
    "                #가격이 떨어질 때 까지 걸린 기간을 answer에 삽입하고 fin을 True로 변경한다.\n",
    "                answer.append(j-i)\n",
    "                fin = True\n",
    "                break\n",
    "        if fin == False:\n",
    "            #prices[i]가 prices[j]보다 작거나 같을 때는 가격이 떨어지지 않은 것이기 때문에 배열의 길이에서 i와 1을 빼준다. (1을 빼주는 이유는 i가 0부터 시작했기 때문)\n",
    "            answer.append(len(prices)-i-1)\n",
    "            \n",
    "    answer.append(0)\n",
    "    \n",
    "    \n",
    "    return answer\n",
    "\n",
    "\n",
    "\"\"\"\n",
    "모범답안\n",
    "def solution(prices):\n",
    "    answer = [0] * len(prices)\n",
    "    for i in range(len(prices)):\n",
    "        for j in range(i+1, len(prices)):\n",
    "            if prices[i] <= prices[j]:\n",
    "                answer[i] += 1\n",
    "            else:\n",
    "                answer[i] += 1\n",
    "                break\n",
    "    return answer\n",
    "\n",
    "\"\"\""
   ]
  },
  {
   "cell_type": "code",
   "execution_count": 226,
   "metadata": {},
   "outputs": [
    {
     "data": {
      "text/plain": [
       "[4, 3, 1, 1, 0]"
      ]
     },
     "execution_count": 226,
     "metadata": {},
     "output_type": "execute_result"
    }
   ],
   "source": [
    "solution([1, 2, 3, 2, 3])"
   ]
  },
  {
   "cell_type": "markdown",
   "metadata": {},
   "source": [
    "* 프린터"
   ]
  },
  {
   "cell_type": "code",
   "execution_count": 62,
   "metadata": {},
   "outputs": [],
   "source": [
    "def solution(priorities, location):\n",
    "    answer = 0\n",
    "    search, loc = sorted(priorities, reverse= True), 0\n",
    "    \n",
    "    while True:\n",
    "        for i, pri in enumerate(priorities):\n",
    "            s = search[loc]\n",
    "            if pri == s:\n",
    "                loc += 1\n",
    "                answer +=1\n",
    "                if i == location:\n",
    "                    break\n",
    "        else:\n",
    "            continue\n",
    "        break\n",
    "            \n",
    "    \n",
    "    return answer\n",
    "import itertools\n",
    "itertools.permutations"
   ]
  },
  {
   "cell_type": "code",
   "execution_count": 63,
   "metadata": {},
   "outputs": [
    {
     "data": {
      "text/plain": [
       "1"
      ]
     },
     "execution_count": 63,
     "metadata": {},
     "output_type": "execute_result"
    }
   ],
   "source": [
    "solution([2, 1, 3, 2], 2)"
   ]
  },
  {
   "cell_type": "code",
   "execution_count": 64,
   "metadata": {},
   "outputs": [
    {
     "data": {
      "text/plain": [
       "5"
      ]
     },
     "execution_count": 64,
     "metadata": {},
     "output_type": "execute_result"
    }
   ],
   "source": [
    "solution([1, 1, 9, 1, 1, 1], 0)"
   ]
  },
  {
   "cell_type": "markdown",
   "metadata": {},
   "source": [
    "* 소수 찾기"
   ]
  },
  {
   "cell_type": "code",
   "execution_count": 330,
   "metadata": {},
   "outputs": [
    {
     "data": {
      "text/plain": [
       "'\\n모범답안\\n\\nfrom itertools import permutations\\ndef solution(n):\\n    a = set()\\n    for i in range(len(n)):\\n        a |= set(map(int, map(\"\".join, permutations(list(n), i + 1))))\\n    a -= set(range(0, 2))\\n    for i in range(2, int(max(a) ** 0.5) + 1):\\n        a -= set(range(i * 2, max(a) + 1, i))\\n    return len(a)\\n'"
      ]
     },
     "execution_count": 330,
     "metadata": {},
     "output_type": "execute_result"
    }
   ],
   "source": [
    "import itertools\n",
    "\n",
    "def solution(numbers):\n",
    "    answer = 0\n",
    "    num_list = []\n",
    "    \n",
    "    for i in range(len(numbers)):\n",
    "        case = list(set(map(''.join, itertools.permutations(numbers, i+1))))\n",
    "        #set 중복허용 x map으로 문자로 기본셋팅한후 기본정렬\n",
    "        #itertools.permutation를 이용하면, for문을 사용하지 않고도 순열을 구할 수 있습니다.\n",
    "        #i+1개의 원소로 수열을 만듬\n",
    "        \n",
    "        for j in range(len(case)):\n",
    "            num_list.append(int(case[j]))\n",
    "            \n",
    "    num_list = list(set(num_list)) #중복허용 x\n",
    "    \n",
    "    for i in range(len(num_list)):\n",
    "        if isPrime(num_list[i]) == True:\n",
    "            answer +=1\n",
    "    \n",
    "    \n",
    "    return answer\n",
    "\n",
    "def isPrime(x):\n",
    "    if x<2:\n",
    "        return False\n",
    "    else:\n",
    "         for i in range(2, x):\n",
    "                if x%i == 0:\n",
    "                    return False\n",
    "    return True\n",
    "\n",
    "\n",
    "\n",
    "\"\"\"\n",
    "모범답안\n",
    "\n",
    "from itertools import permutations\n",
    "def solution(n):\n",
    "    a = set()\n",
    "    for i in range(len(n)):\n",
    "        a |= set(map(int, map(\"\".join, permutations(list(n), i + 1))))\n",
    "    a -= set(range(0, 2))\n",
    "    for i in range(2, int(max(a) ** 0.5) + 1):\n",
    "        a -= set(range(i * 2, max(a) + 1, i))\n",
    "    return len(a)\n",
    "\"\"\""
   ]
  },
  {
   "cell_type": "code",
   "execution_count": 331,
   "metadata": {},
   "outputs": [
    {
     "data": {
      "text/plain": [
       "3"
      ]
     },
     "execution_count": 331,
     "metadata": {},
     "output_type": "execute_result"
    }
   ],
   "source": [
    "solution(\"17\")"
   ]
  },
  {
   "cell_type": "markdown",
   "metadata": {},
   "source": [
    "* 조이스틱"
   ]
  },
  {
   "cell_type": "code",
   "execution_count": 198,
   "metadata": {},
   "outputs": [],
   "source": [
    "\"\"\"\n",
    "def solution(name):\n",
    "    answer = 0\n",
    "    name=list(name)\n",
    "    base=[\"A\"]*len(name)\n",
    "    idx=0\n",
    "    while(True):\n",
    "        rightidx=1\n",
    "        leftidx=1\n",
    "        if name[idx]!=\"A\":\n",
    "            if ord(name[idx])-ord(\"A\")>13:\n",
    "                answer+=26-(ord(name[idx])-ord(\"A\"))\n",
    "            else:\n",
    "                answer+=ord(name[idx])-ord(\"A\")\n",
    "            name[idx]=\"A\"\n",
    "        if name ==base:\n",
    "            break\n",
    "        else:\n",
    "            for i in range(1,len(name)):\n",
    "                if name[idx+i]==\"A\":\n",
    "                    rightidx+=1\n",
    "                else:\n",
    "                    break\n",
    "                if name[idx-i]==\"A\":\n",
    "                    leftidx+=1\n",
    "                else:\n",
    "                    break\n",
    "            if rightidx>leftidx:\n",
    "                answer+=leftidx\n",
    "                idx-=leftidx\n",
    "            else:\n",
    "                answer+=rightidx\n",
    "                idx+=rightidx\n",
    "    return answer\n",
    "   \"\"\" \n",
    "\n",
    "def solution(name):\n",
    "    answer = 0\n",
    "\n",
    "    move_list = []\n",
    "    for i in range(0, len(name)):\n",
    "        move = min(ord(name[i]) - ord('A'), ord('Z') - ord(name[i]) + 1)\n",
    "        move_list.append(move)\n",
    "\n",
    "    left_end_idx = 0\n",
    "    right_end_idx = 0\n",
    "    for i in range(1, len(move_list)):\n",
    "        if move_list[i] > 0:\n",
    "            right_end_idx = i\n",
    "            if left_end_idx == 0:\n",
    "                left_end_idx = i\n",
    "\n",
    "    answer = min(right_end_idx, len(move_list) - left_end_idx)\n",
    "    for move in move_list:\n",
    "        if move > 0:\n",
    "            answer += move\n",
    "\n",
    "    return answer"
   ]
  },
  {
   "cell_type": "code",
   "execution_count": 199,
   "metadata": {},
   "outputs": [
    {
     "data": {
      "text/plain": [
       "56"
      ]
     },
     "execution_count": 199,
     "metadata": {},
     "output_type": "execute_result"
    }
   ],
   "source": [
    "solution(\"JEROEN\")"
   ]
  },
  {
   "cell_type": "code",
   "execution_count": 200,
   "metadata": {},
   "outputs": [
    {
     "data": {
      "text/plain": [
       "11"
      ]
     },
     "execution_count": 200,
     "metadata": {},
     "output_type": "execute_result"
    }
   ],
   "source": [
    "solution(\"JAZ\")"
   ]
  },
  {
   "cell_type": "code",
   "execution_count": 7,
   "metadata": {},
   "outputs": [
    {
     "data": {
      "text/plain": [
       "25"
      ]
     },
     "execution_count": 7,
     "metadata": {},
     "output_type": "execute_result"
    }
   ],
   "source": [
    "ord('Z')-ord(\"A\")"
   ]
  },
  {
   "cell_type": "markdown",
   "metadata": {},
   "source": [
    "* 더 맵게"
   ]
  },
  {
   "cell_type": "code",
   "execution_count": 326,
   "metadata": {},
   "outputs": [],
   "source": [
    "#내가 작성했지만 시간초과 시부랄\n",
    "\n",
    "def solution(scoville, K):\n",
    "    answer = 0\n",
    "    \n",
    "    scoville = sorted(scoville)\n",
    "    \n",
    "    i=0\n",
    "    while True:\n",
    "        \n",
    "        if scoville[0]<K:\n",
    "            min_sc = min(scoville[0], scoville[1])\n",
    "            max_sc = max(scoville[0], scoville[1])\n",
    "            a = max_sc*2 + min_sc\n",
    "            \n",
    "            \n",
    "            scoville.pop(0)\n",
    "            scoville[0] = a\n",
    "            \n",
    "            answer +=1   \n",
    "            if(scoville[0]>K and scoville[1]>K):\n",
    "                break\n",
    "                \n",
    "    for i in range(len(scoville)):\n",
    "        if scoville[i] < K:\n",
    "            answer = -1\n",
    "            \n",
    "        \n",
    "    \n",
    "        \n",
    "        \n",
    "    return answer"
   ]
  },
  {
   "cell_type": "code",
   "execution_count": 327,
   "metadata": {},
   "outputs": [
    {
     "data": {
      "text/plain": [
       "2"
      ]
     },
     "execution_count": 327,
     "metadata": {},
     "output_type": "execute_result"
    }
   ],
   "source": [
    "solution([1, 2, 3, 9, 10, 12], 7)"
   ]
  },
  {
   "cell_type": "code",
   "execution_count": 328,
   "metadata": {},
   "outputs": [],
   "source": [
    "#모범답안\n",
    "\n",
    "import heapq\n",
    "\n",
    "def solution(scoville, K):\n",
    "    heapq.heapify(scoville) #힙정렬\n",
    "    L = len(scoville)\n",
    "    f = heapq.heappop(scoville)  #최소값을 뺴냄\n",
    "    for i in range(1, L):\n",
    "        s = heapq.heappop(scoville)\n",
    "        f = heapq.heappushpop(scoville, f+s*2)\n",
    "        if f>=K: \n",
    "            return i\n",
    "    return -1"
   ]
  },
  {
   "cell_type": "code",
   "execution_count": 329,
   "metadata": {},
   "outputs": [
    {
     "data": {
      "text/plain": [
       "2"
      ]
     },
     "execution_count": 329,
     "metadata": {},
     "output_type": "execute_result"
    }
   ],
   "source": [
    "solution([1, 2, 3, 9, 10, 12], 7)"
   ]
  },
  {
   "cell_type": "markdown",
   "metadata": {},
   "source": [
    "* 가장 큰 수"
   ]
  },
  {
   "cell_type": "code",
   "execution_count": 471,
   "metadata": {},
   "outputs": [],
   "source": [
    "def solution(numbers):\n",
    "    numbers = list(map(str, numbers))\n",
    "    numbers.sort(key=lambda x: x*3, reverse=True) \n",
    "    #num의 자릿수가 1000이하이니까요! 가령 9, 991 이면 9에다가 *2해도 99, 991로 여전히 991이 더 앞편에 정렬되기 때문입니다\n",
    "    return str(int(''.join(numbers)))"
   ]
  },
  {
   "cell_type": "code",
   "execution_count": 472,
   "metadata": {},
   "outputs": [
    {
     "data": {
      "text/plain": [
       "'6210'"
      ]
     },
     "execution_count": 472,
     "metadata": {},
     "output_type": "execute_result"
    }
   ],
   "source": [
    "solution([6, 10, 2])"
   ]
  },
  {
   "cell_type": "code",
   "execution_count": 463,
   "metadata": {},
   "outputs": [],
   "source": [
    "def solution(numbers):\n",
    "    nums = [str(n) for n in numbers]\n",
    "    longest = max([len(n) for n in nums], default=0)\n",
    "    nums.sort(key=lambda x: x*(longest//len(x)+1), reverse=True)\n",
    "    return str(int(''.join(nums)))"
   ]
  },
  {
   "cell_type": "code",
   "execution_count": 464,
   "metadata": {},
   "outputs": [
    {
     "data": {
      "text/plain": [
       "'6210'"
      ]
     },
     "execution_count": 464,
     "metadata": {},
     "output_type": "execute_result"
    }
   ],
   "source": [
    "solution([6, 10, 2])"
   ]
  },
  {
   "cell_type": "markdown",
   "metadata": {},
   "source": [
    "* 큰 수 만들기"
   ]
  },
  {
   "cell_type": "code",
   "execution_count": 485,
   "metadata": {},
   "outputs": [
    {
     "data": {
      "text/plain": [
       "4177252841"
      ]
     },
     "execution_count": 485,
     "metadata": {},
     "output_type": "execute_result"
    }
   ],
   "source": [
    "solution(\"4177252841\", 4)"
   ]
  },
  {
   "cell_type": "code",
   "execution_count": 1,
   "metadata": {},
   "outputs": [
    {
     "data": {
      "text/plain": [
       "\"\\n모범답안\\ndef solution(number, k):\\n    st = []\\n    for i in range(len(number)):\\n        while st and k > 0 and st[-1] < number[i]:\\n            st.pop()\\n            k -= 1\\n        st.append(number[i])\\n    return ''.join(st[:len(st) - k])\\n\""
      ]
     },
     "execution_count": 1,
     "metadata": {},
     "output_type": "execute_result"
    }
   ],
   "source": [
    "def solution(number, k):\n",
    "    s=0\n",
    "    length=len(number)\n",
    "    for i in range(k):\n",
    "        isEnd=True\n",
    "        for j in range(s,length-1):\n",
    "            if number[j]<number[j+1]:\n",
    "                isEnd=False\n",
    "                number=number[:j]+number[j+1:]\n",
    "                length-=1#숫자 하나를 제외했으므로 길이 감소\n",
    "                # 제외된 인덱스에 뒤 인덱스 값이 오므로 인덱스 조정해야 함\n",
    "                if j>0:#인덱스가 1이상인 경우 인덱스 하나 줄이면 제자리에서 새로 온 값과 다시 비교 가능해짐(위 for문에서 s가 1 증가하므로)\n",
    "                    s=j-1\n",
    "                else:#인덱스가 0인 경우 처음부터 다시 비교\n",
    "                    s=0\n",
    "                break#작은 수 제외시켰으므로 다음 것 찾기\n",
    "        if isEnd==True:#문자열 맨 마지막을 제외 시킴\n",
    "            print('hi')\n",
    "            number=number[:-1]\n",
    "            s=j-1#인덱스 하나 줄이기\n",
    "    return number\n",
    "\n",
    "\n",
    "\"\"\"\n",
    "모범답안\n",
    "def solution(number, k):\n",
    "    st = []\n",
    "    for i in range(len(number)):\n",
    "        while st and k > 0 and st[-1] < number[i]:\n",
    "            st.pop()\n",
    "            k -= 1\n",
    "        st.append(number[i])\n",
    "    return ''.join(st[:len(st) - k])\n",
    "\"\"\""
   ]
  },
  {
   "cell_type": "markdown",
   "metadata": {},
   "source": [
    "* 전화번호 목록(해시)"
   ]
  },
  {
   "cell_type": "code",
   "execution_count": 12,
   "metadata": {},
   "outputs": [],
   "source": [
    "def solution(phone_book):\n",
    "    for a in range(len(phone_book)):\n",
    "        k1 = len(phone_book[a])\n",
    "        for b in range(a+1, len(phone_book)):\n",
    "            k2 = len(phone_book[b])\n",
    "            if phone_book[a] in phone_book[b][:k1] or phone_book[b] in phone_book[a][:k2] :\n",
    "                return False\n",
    "    return True\n",
    "\n",
    "\"\"\"\n",
    "모범답안\n",
    "def solution(phoneBook):\n",
    "    phoneBook = sorted(phoneBook)\n",
    "\n",
    "    for p1, p2 in zip(phoneBook, phoneBook[1:]):\n",
    "        if p2.startswith(p1): \n",
    "        #strB.startswith(strA,beg=0,end=len(string))\n",
    "        # strB[beg:end]에서 strA 문자열 찾기!\n",
    "        \n",
    "            return False\n",
    "    return True\n",
    "    \n",
    "    \n",
    "    \n",
    "import re\n",
    "def solution(phoneBook):\n",
    "\n",
    "    for b in phoneBook:\n",
    "        p = re.compile(\"^\"+b)\n",
    "        for b2 in phoneBook:\n",
    "            if b != b2 and p.match(b2):\n",
    "                return False\n",
    "    return True\n",
    "\"\"\""
   ]
  },
  {
   "cell_type": "code",
   "execution_count": 13,
   "metadata": {},
   "outputs": [
    {
     "data": {
      "text/plain": [
       "False"
      ]
     },
     "execution_count": 13,
     "metadata": {},
     "output_type": "execute_result"
    }
   ],
   "source": [
    "solution([\"119\", \"97674223\", \"1195524421\"])"
   ]
  },
  {
   "cell_type": "code",
   "execution_count": 14,
   "metadata": {},
   "outputs": [
    {
     "data": {
      "text/plain": [
       "True"
      ]
     },
     "execution_count": 14,
     "metadata": {},
     "output_type": "execute_result"
    }
   ],
   "source": [
    "solution([\"123\", \"456\", \"789\"])"
   ]
  },
  {
   "cell_type": "markdown",
   "metadata": {},
   "source": [
    "* H-Index (정렬)"
   ]
  },
  {
   "cell_type": "code",
   "execution_count": 90,
   "metadata": {},
   "outputs": [
    {
     "data": {
      "text/plain": [
       "2"
      ]
     },
     "execution_count": 90,
     "metadata": {},
     "output_type": "execute_result"
    }
   ],
   "source": [
    "solution([3, 0, 6, 1, 5])"
   ]
  },
  {
   "cell_type": "code",
   "execution_count": 102,
   "metadata": {},
   "outputs": [],
   "source": [
    "def solution(citations): \n",
    "    citations.sort(reverse=True) \n",
    "    for i, v in enumerate(citations): \n",
    "        if i >= v: \n",
    "            return i \n",
    "    return i + 1\n",
    "\n",
    "\n",
    "\"\"\"\n",
    "모범답안\n",
    "def solution(citations):\n",
    "    citations.sort(reverse=True)\n",
    "    answer = max(map(min, enumerate(citations, start=1)))\n",
    "    return answer\n",
    "\n",
    "\"\"\"\n"
   ]
  },
  {
   "cell_type": "code",
   "execution_count": 103,
   "metadata": {},
   "outputs": [
    {
     "data": {
      "text/plain": [
       "3"
      ]
     },
     "execution_count": 103,
     "metadata": {},
     "output_type": "execute_result"
    }
   ],
   "source": [
    "solution([3, 0, 6, 1, 5])"
   ]
  },
  {
   "cell_type": "markdown",
   "metadata": {},
   "source": [
    "* 위장 (해시)"
   ]
  },
  {
   "cell_type": "code",
   "execution_count": 175,
   "metadata": {},
   "outputs": [],
   "source": [
    "from collections import Counter\n",
    "  \n",
    "def solution(clothes):\n",
    "    counter_each_category = Counter([cat for _,cat in clothes])\n",
    "    all_possible = 1\n",
    "  \n",
    "    for key in counter_each_category:\n",
    "        all_possible *= (counter_each_category[key] + 1)\n",
    "        \n",
    "    answer = all_possible - 1\n",
    "  \n",
    "    return answer\n",
    "\n",
    "\n",
    "#의상종류가 3개면 각각의 부위에서 안입는것,첫번째,두번째,세번째 총 4개의 선택이 가능하고 부위별로 가능한 선택 수를 곱하면 모든 조합이 나오는데 최소 하나는 입어야 해서 1을 빼야 합니다 \n",
    "#  *(의상종류+1) -1"
   ]
  },
  {
   "cell_type": "code",
   "execution_count": 176,
   "metadata": {},
   "outputs": [
    {
     "data": {
      "text/plain": [
       "5"
      ]
     },
     "execution_count": 176,
     "metadata": {},
     "output_type": "execute_result"
    }
   ],
   "source": [
    "solution([['yellow_hat', 'headgear'], ['blue_sunglasses', 'eyewear'], ['green_turban', 'headgear']])"
   ]
  },
  {
   "cell_type": "code",
   "execution_count": 172,
   "metadata": {},
   "outputs": [
    {
     "data": {
      "text/plain": [
       "3"
      ]
     },
     "execution_count": 172,
     "metadata": {},
     "output_type": "execute_result"
    }
   ],
   "source": [
    "solution([[\"crow_mask\", \"face\"], [\"blue_sunglasses\", \"face\"], [\"smoky_makeup\", \"face\"]])"
   ]
  },
  {
   "cell_type": "markdown",
   "metadata": {},
   "source": [
    "* 구명보트(탐욕법)"
   ]
  },
  {
   "cell_type": "code",
   "execution_count": 293,
   "metadata": {},
   "outputs": [],
   "source": [
    "def solution(people, limit):\n",
    "    answer = 0\n",
    "    b = sorted(people)\n",
    "    length = len(b)\n",
    "    light = 0\n",
    "    heavy = length -1\n",
    "    count = 0 \n",
    "    \n",
    "    while(light<heavy):\n",
    "        if b[light]+b[heavy]<=limit:\n",
    "            count+=1\n",
    "            light+=1\n",
    "            heavy-=1\n",
    "        else:\n",
    "            heavy -=1\n",
    "            \n",
    "    answer = length - count\n",
    "        \n",
    "    \n",
    "    return answer"
   ]
  },
  {
   "cell_type": "code",
   "execution_count": 294,
   "metadata": {},
   "outputs": [
    {
     "data": {
      "text/plain": [
       "3"
      ]
     },
     "execution_count": 294,
     "metadata": {},
     "output_type": "execute_result"
    }
   ],
   "source": [
    "solution([70, 50, 80, 50], 100)"
   ]
  },
  {
   "cell_type": "code",
   "execution_count": 295,
   "metadata": {},
   "outputs": [
    {
     "data": {
      "text/plain": [
       "3"
      ]
     },
     "execution_count": 295,
     "metadata": {},
     "output_type": "execute_result"
    }
   ],
   "source": [
    "solution([70, 80, 50], 100)"
   ]
  },
  {
   "cell_type": "markdown",
   "metadata": {},
   "source": [
    "* 숫자 야구(완전 탐색)"
   ]
  },
  {
   "cell_type": "code",
   "execution_count": 296,
   "metadata": {},
   "outputs": [],
   "source": [
    "def solution(baseball):\n",
    "    answer=[]\n",
    "    for i in range(1,10):\n",
    "        for j in range(1,10):\n",
    "            for k in range(1,10):\n",
    "                if (i==k or i==j or j==k):\n",
    "                    pass\n",
    "                else:\n",
    "                    answer.append(str(i*100+j*10+k))\n",
    "    for i in baseball:\n",
    "        for j in range(len(answer)):\n",
    "            st_cnt=0\n",
    "            bl_cnt=0\n",
    "            for k in range(3):\n",
    "                for l in range(3):\n",
    "                    if (answer[j][k]==str(i[0])[l] and k==l):\n",
    "                        st_cnt+=1\n",
    "                    elif (answer[j][k]==str(i[0])[l] and k!=l):\n",
    "                        bl_cnt+=1\n",
    "            if st_cnt==int(i[1]) and bl_cnt==int(i[2]):\n",
    "                pass\n",
    "            else:\n",
    "                answer[j]=0\n",
    "        answer=list(set(answer))\n",
    "        if (0 in answer):\n",
    "            answer.remove(0)\n",
    "        else:\n",
    "            pass\n",
    "    return len(answer)\n",
    "\n",
    "\n",
    "\"\"\"\n",
    "모범답안\n",
    "def solution(baseball):\n",
    "    answer = 0\n",
    "    for i in range(123,988):\n",
    "        x=str(i)\n",
    "        if x.count(x[0])>=2 or x.count(x[1])>=2 or x.count('0')>=1:\n",
    "            continue\n",
    "        c=0\n",
    "        for j in baseball:\n",
    "            st=0\n",
    "            ba=0\n",
    "            y=str(j[0])\n",
    "            for k in range(0,3):\n",
    "                if x[k]==y[k]:\n",
    "                    st+=1\n",
    "                elif y.count(x[k])==1:\n",
    "                    ba+=1\n",
    "            if st!=j[1] or ba!=j[2]:\n",
    "                c=1\n",
    "                break\n",
    "        if c==0:\n",
    "            answer+=1\n",
    "    return answer\n",
    "    \n",
    "\"\"\"\"\"\"\n",
    "def st_B(given, chosen):\n",
    "    st = 0\n",
    "    B = 0\n",
    "    chosen_dif = []\n",
    "    given_dif = []\n",
    "    for i in range(3):\n",
    "        if given[i] == chosen[i]:\n",
    "            st += 1\n",
    "        else:\n",
    "            given_dif.append(given[i])\n",
    "            chosen_dif.append(chosen[i])\n",
    "    for num in chosen_dif:\n",
    "        if num in given_dif:\n",
    "            B += 1\n",
    "    return st, B\n",
    "\n",
    "import itertools\n",
    "\n",
    "def solution(baseball):\n",
    "    first = list(itertools.permutations([1,2,3,4,5,6,7,8,9], 3))\n",
    "    second = []\n",
    "    for each in baseball:\n",
    "        given = [int(i) for i in str(each[0])]\n",
    "        stb = (each[1], each[2])\n",
    "        for chosen in first:\n",
    "            if st_B(given, chosen) == stb:\n",
    "                second.append(chosen)\n",
    "        first = second\n",
    "        second = []\n",
    "    return len(first)\n",
    "\n",
    "\"\"\""
   ]
  },
  {
   "cell_type": "code",
   "execution_count": 297,
   "metadata": {},
   "outputs": [
    {
     "data": {
      "text/plain": [
       "2"
      ]
     },
     "execution_count": 297,
     "metadata": {},
     "output_type": "execute_result"
    }
   ],
   "source": [
    "solution([[123, 1, 1], [356, 1, 0], [327, 2, 0], [489, 0, 1]])"
   ]
  },
  {
   "cell_type": "markdown",
   "metadata": {},
   "source": [
    "* 라면공장"
   ]
  },
  {
   "cell_type": "code",
   "execution_count": 12,
   "metadata": {},
   "outputs": [],
   "source": [
    "import heapq\n",
    "def solution(stock, dates, supplies, k):\n",
    "    answer = 0\n",
    "    \n",
    "    idx=0\n",
    "    \n",
    "    h = []\n",
    "    \n",
    "    while(stock<k):\n",
    "        for i in range(idx, len(dates)):\n",
    "            if dates[i]<=stock:\n",
    "                heapq.heappush(h, (-supplies[i], supplies[i]))\n",
    "                idx=i+1\n",
    "            else:\n",
    "                break\n",
    "        stock += heapq.heappop(h)[1]\n",
    "        answer +=1\n",
    "        \n",
    "    \n",
    "    \n",
    "    return answer"
   ]
  },
  {
   "cell_type": "code",
   "execution_count": 15,
   "metadata": {},
   "outputs": [
    {
     "data": {
      "text/plain": [
       "2"
      ]
     },
     "execution_count": 15,
     "metadata": {},
     "output_type": "execute_result"
    }
   ],
   "source": [
    "solution(4, [4, 10, 15], [20, 5, 10], 30)"
   ]
  },
  {
   "cell_type": "markdown",
   "metadata": {},
   "source": [
    "* 카펫 (완전탐색)"
   ]
  },
  {
   "cell_type": "code",
   "execution_count": 63,
   "metadata": {},
   "outputs": [],
   "source": [
    "def solution(brown, red):\n",
    "    answer = []\n",
    "    \n",
    "    a = brown + red\n",
    "    \n",
    "    b= []\n",
    "    \n",
    "    for i in range(1, a+1):\n",
    "        if a%i == 0:\n",
    "            b.append(i)\n",
    "    \n",
    "    c = len(b)/2\n",
    "    \n",
    "    \n",
    "    if c == int(c):\n",
    "        answer.append(b[int(c)])\n",
    "        answer.append(b[int(c)-1])\n",
    "        \n",
    "    if c != int(c):\n",
    "        answer.append(b[int(c)])\n",
    "        answer.append(b[int(c)])\n",
    "    \n",
    "    \n",
    "    \n",
    "    return answer\n",
    "\n",
    "\n",
    "\"\"\"모범답안\n",
    "def solution(brown, red):\n",
    "    answer=[]\n",
    "    for i in range(1,int(red/2)+2):\n",
    "        if red%i==0:\n",
    "            a,b=max(red//i,i),min(red//i,i)\n",
    "            if 2*a+(b+2)*2==brown:\n",
    "                answer.append(a+2)\n",
    "                answer.append(b+2)\n",
    "                break\n",
    "    return answer\n",
    "\"\"\""
   ]
  },
  {
   "cell_type": "code",
   "execution_count": 64,
   "metadata": {},
   "outputs": [
    {
     "data": {
      "text/plain": [
       "[4, 3]"
      ]
     },
     "execution_count": 64,
     "metadata": {},
     "output_type": "execute_result"
    }
   ],
   "source": [
    "solution(10, 2)"
   ]
  },
  {
   "cell_type": "code",
   "execution_count": 65,
   "metadata": {},
   "outputs": [
    {
     "data": {
      "text/plain": [
       "[3, 3]"
      ]
     },
     "execution_count": 65,
     "metadata": {},
     "output_type": "execute_result"
    }
   ],
   "source": [
    "solution(8, 1)"
   ]
  },
  {
   "cell_type": "code",
   "execution_count": 66,
   "metadata": {},
   "outputs": [
    {
     "data": {
      "text/plain": [
       "[8, 6]"
      ]
     },
     "execution_count": 66,
     "metadata": {},
     "output_type": "execute_result"
    }
   ],
   "source": [
    "solution(24, 24)"
   ]
  },
  {
   "cell_type": "markdown",
   "metadata": {},
   "source": [
    "* 타겟 넘버 (깊이/너비 우선 탐색)"
   ]
  },
  {
   "cell_type": "code",
   "execution_count": 5,
   "metadata": {},
   "outputs": [],
   "source": [
    "def solution(numbers, target):\n",
    "    answer = [0]\n",
    "    \n",
    "    for i in range(len(numbers)):\n",
    "        temp = []\n",
    "        for j in range(len(answer)):\n",
    "            temp.append(answer[j]+numbers[i])\n",
    "            temp.append(answer[j]-numbers[i])\n",
    "        answer=temp\n",
    "    answer = answer.count(target)\n",
    "    \n",
    "    return answer"
   ]
  },
  {
   "cell_type": "code",
   "execution_count": 6,
   "metadata": {},
   "outputs": [
    {
     "data": {
      "text/plain": [
       "[5,\n",
       " 3,\n",
       " 3,\n",
       " 1,\n",
       " 3,\n",
       " 1,\n",
       " 1,\n",
       " -1,\n",
       " 3,\n",
       " 1,\n",
       " 1,\n",
       " -1,\n",
       " 1,\n",
       " -1,\n",
       " -1,\n",
       " -3,\n",
       " 3,\n",
       " 1,\n",
       " 1,\n",
       " -1,\n",
       " 1,\n",
       " -1,\n",
       " -1,\n",
       " -3,\n",
       " 1,\n",
       " -1,\n",
       " -1,\n",
       " -3,\n",
       " -1,\n",
       " -3,\n",
       " -3,\n",
       " -5]"
      ]
     },
     "execution_count": 6,
     "metadata": {},
     "output_type": "execute_result"
    }
   ],
   "source": [
    "solution([1, 1, 1, 1, 1], 3)"
   ]
  },
  {
   "cell_type": "markdown",
   "metadata": {},
   "source": [
    "* 가장 큰 정사각형 찾기"
   ]
  },
  {
   "cell_type": "code",
   "execution_count": 103,
   "metadata": {},
   "outputs": [],
   "source": [
    "def solution(board):\n",
    "    # check whether board is consist of only zeros\n",
    "    _s = 0\n",
    "    for i in range(len(board)):\n",
    "        _s += sum(board[i][:])\n",
    "    if _s == 0:\n",
    "        return 0\n",
    "    \n",
    "    _s = 0  # initialize _s to 0\n",
    "    \n",
    "    \n",
    "    table = [[x for x in sub] for sub in board]\n",
    "    for x in range(1, len(table)):\n",
    "        for y in range(1, len(table[x])):\n",
    "            if table[x][y] == 0:\n",
    "                continue\n",
    "            else:\n",
    "                _min = min([table[x][y-1], table[x-1][y], table[x-1][y-1]])\n",
    "                table[x][y] = _min+1\n",
    "                if _s < table[x][y]:\n",
    "                    _s = table[x][y]\n",
    "                    \n",
    "    if _s == 0:\n",
    "        return 1\n",
    "    else:\n",
    "        return _s*_s\n",
    "    \n",
    "\n",
    "\"\"\"\n",
    "def findLargestSquare(board):\n",
    "    # 'O'에 해당하는 것을 1로, 'X'에 해당하는 값을 0으로 바꿔준다.\n",
    "    table = [[1 if x == \"O\" else 0 for x in sub_board] for sub_board in board]\n",
    "    max_square = 0\n",
    "    for x in range(1, len(table)):\n",
    "        for y in range(1, len(table[x])):\n",
    "            # 만약 table[x][y]의 값이 0(즉, 'X')라면 정사각형을 만들 수 없으므로 건너 뛴다.\n",
    "            if table[x][y] == 0:\n",
    "                continue\n",
    "            # 해당 좌표 기준(x,y) : 왼쪽검사(x, y-1), 위쪽 검사(x-1, y), 11시 방향 대각선 검사(x-1, y-1)\n",
    "            else:\n",
    "                # 최소값을 하나 뽑아낸다. 차례대로 min(왼쪽 좌표, 위쪽 좌표, 왼쪽 대각선 좌표)를 의미한다.\n",
    "                _min = min([table[x][y-1], table[x-1][y], table[x-1][y-1]])\n",
    "                table[x][y] = _min + 1\n",
    "\n",
    "                # 만약, max_square보다 큰 값이 등장하면, 교체해준다.\n",
    "                if max_square < table[x][y]:\n",
    "                    max_square = table[x][y]\n",
    "\n",
    "    # 넓이를 반환해야 하므로 제곱을 해서 반환한다.\n",
    "    return max_square**2\n",
    "\"\"\""
   ]
  },
  {
   "cell_type": "code",
   "execution_count": 104,
   "metadata": {},
   "outputs": [
    {
     "data": {
      "text/plain": [
       "9"
      ]
     },
     "execution_count": 104,
     "metadata": {},
     "output_type": "execute_result"
    }
   ],
   "source": [
    "solution([[0, 1, 1, 1], \n",
    "          [1, 1, 1, 1], \n",
    "          [1, 1, 1, 1], \n",
    "          [0, 0, 1, 0]])"
   ]
  },
  {
   "cell_type": "code",
   "execution_count": 105,
   "metadata": {},
   "outputs": [
    {
     "data": {
      "text/plain": [
       "4"
      ]
     },
     "execution_count": 105,
     "metadata": {},
     "output_type": "execute_result"
    }
   ],
   "source": [
    "solution([[0, 0, 1, 1], \n",
    "          [1, 1, 1, 1]])"
   ]
  },
  {
   "cell_type": "markdown",
   "metadata": {},
   "source": [
    "* 올바른 괄호"
   ]
  },
  {
   "cell_type": "code",
   "execution_count": 221,
   "metadata": {},
   "outputs": [
    {
     "data": {
      "text/plain": [
       "\"\\n모범답안\\ndef solution(s):\\n    r = 0\\n    for c in s:\\n        if c=='(':\\n            r+=1\\n        else:\\n            if not r:\\n                return False\\n            r-=1\\n    return False if r else True\\n    \\n    \\ndef solution(s):\\n    st = list()\\n    for c in s:\\n        if c == '(':\\n            st.append(c)\\n\\n        if c == ')':\\n            try:\\n                st.pop()\\n            except IndexError:\\n                return False\\n\\n    return len(st) == 0\\n\""
      ]
     },
     "execution_count": 221,
     "metadata": {},
     "output_type": "execute_result"
    }
   ],
   "source": [
    "from collections import Counter\n",
    "def solution(s):\n",
    "    answer = False\n",
    "    \n",
    "    if s[0]==')' or s[-1] =='(':\n",
    "        answer = False\n",
    "        \n",
    "    lef_cnt =0\n",
    "    rig_cnt =0\n",
    "    r=0\n",
    "    for i in range(len(s)):\n",
    "        \n",
    "        if s[i] == '(':\n",
    "            lef_cnt +=1\n",
    "        \n",
    "        if s[i] == ')':\n",
    "            rig_cnt +=1\n",
    "            \n",
    "            if lef_cnt == rig_cnt:\n",
    "                lef_cnt=0\n",
    "                rig_cnt=0\n",
    "                answer = True\n",
    "    \n",
    "    if lef_cnt !=0 or rig_cnt !=0:\n",
    "        answer = False\n",
    "        \n",
    "\n",
    "    return answer\n",
    "\n",
    "\n",
    "\"\"\"\n",
    "모범답안\n",
    "def solution(s):\n",
    "    r = 0\n",
    "    for c in s:\n",
    "        if c=='(':\n",
    "            r+=1\n",
    "        else:\n",
    "            if not r:\n",
    "                return False\n",
    "            r-=1\n",
    "    return False if r else True\n",
    "    \n",
    "    \n",
    "def solution(s):\n",
    "    st = list()\n",
    "    for c in s:\n",
    "        if c == '(':\n",
    "            st.append(c)\n",
    "\n",
    "        if c == ')':\n",
    "            try:\n",
    "                st.pop()\n",
    "            except IndexError:\n",
    "                return False\n",
    "\n",
    "    return len(st) == 0\n",
    "\"\"\"\n"
   ]
  },
  {
   "cell_type": "code",
   "execution_count": 222,
   "metadata": {},
   "outputs": [
    {
     "data": {
      "text/plain": [
       "True"
      ]
     },
     "execution_count": 222,
     "metadata": {},
     "output_type": "execute_result"
    }
   ],
   "source": [
    "solution(\"()()\")"
   ]
  },
  {
   "cell_type": "code",
   "execution_count": 149,
   "metadata": {},
   "outputs": [
    {
     "data": {
      "text/plain": [
       "True"
      ]
     },
     "execution_count": 149,
     "metadata": {},
     "output_type": "execute_result"
    }
   ],
   "source": [
    "solution(\"(())()\")"
   ]
  },
  {
   "cell_type": "code",
   "execution_count": 150,
   "metadata": {},
   "outputs": [
    {
     "data": {
      "text/plain": [
       "False"
      ]
     },
     "execution_count": 150,
     "metadata": {},
     "output_type": "execute_result"
    }
   ],
   "source": [
    "solution(\")()(\")"
   ]
  },
  {
   "cell_type": "markdown",
   "metadata": {},
   "source": [
    "* 다음 큰 숫자"
   ]
  },
  {
   "cell_type": "code",
   "execution_count": 179,
   "metadata": {},
   "outputs": [],
   "source": [
    "def solution(n):\n",
    "    answer = 0\n",
    "    two = bin(n)\n",
    "    #2진수로 변경\n",
    "    \n",
    "    \n",
    "    \n",
    "    a = n\n",
    "    \n",
    "    for i in range(1000000):\n",
    "        a += 1\n",
    "        b = bin(a)\n",
    "        if two.count('1') == b.count('1'):\n",
    "            answer = a\n",
    "            break\n",
    "    \n",
    "    \n",
    "    return answer"
   ]
  },
  {
   "cell_type": "code",
   "execution_count": 180,
   "metadata": {},
   "outputs": [
    {
     "data": {
      "text/plain": [
       "83"
      ]
     },
     "execution_count": 180,
     "metadata": {},
     "output_type": "execute_result"
    }
   ],
   "source": [
    "solution(78)"
   ]
  },
  {
   "cell_type": "code",
   "execution_count": 181,
   "metadata": {},
   "outputs": [
    {
     "data": {
      "text/plain": [
       "23"
      ]
     },
     "execution_count": 181,
     "metadata": {},
     "output_type": "execute_result"
    }
   ],
   "source": [
    "solution(15)"
   ]
  },
  {
   "cell_type": "markdown",
   "metadata": {},
   "source": [
    "* 땅따먹기"
   ]
  },
  {
   "cell_type": "code",
   "execution_count": 253,
   "metadata": {},
   "outputs": [],
   "source": [
    "def solution(land):\n",
    "    for i in range(len(land)-1):\n",
    "        land[i+1][0] = max(land[i][1], land[i][2], land[i][3]) + land[i+1][0]\n",
    "        land[i+1][1] = max(land[i][0], land[i][2], land[i][3]) + land[i+1][1]\n",
    "        land[i+1][2] = max(land[i][0], land[i][1], land[i][3]) + land[i+1][2]\n",
    "        land[i+1][3] = max(land[i][0], land[i][1], land[i][2]) + land[i+1][3]\n",
    "    \n",
    "    return max(land[-1])\n",
    "\n",
    "\"\"\"\n",
    "모범답안\n",
    "def solution(land):\n",
    "    cp = [[x for x in row] for row in land]\n",
    "\n",
    "    for r in range(1,len(land)):\n",
    "        temp = cp[r-1][:]\n",
    "        for i in range(len(land[0])):\n",
    "            cp[r][i] = cp[r][i] + max(temp[:i] + temp[i+1:])\n",
    "    return max(cp[-1])\n",
    "    \n",
    "    \n",
    "    \n",
    "import copy\n",
    "\n",
    "def hopscotch(board, size):\n",
    "    result = 0\n",
    "    # 땅따먹기 게임으로 얻을 수 있는 최대 점수는?\n",
    "    for i in range(1,size):\n",
    "        for j in range(4):\n",
    "            temp = copy.deepcopy(board[i-1])\n",
    "            temp[j] = 0\n",
    "            board[i][j]+=max(temp)\n",
    "    result = max(board[-1])\n",
    "    return result\n",
    "\"\"\"\n"
   ]
  },
  {
   "cell_type": "code",
   "execution_count": 254,
   "metadata": {},
   "outputs": [
    {
     "data": {
      "text/plain": [
       "16"
      ]
     },
     "execution_count": 254,
     "metadata": {},
     "output_type": "execute_result"
    }
   ],
   "source": [
    "solution([[1, 2, 3, 5], [5, 6, 7, 8], [4, 3, 2, 1]])"
   ]
  },
  {
   "cell_type": "markdown",
   "metadata": {},
   "source": [
    "* 폰켓몬"
   ]
  },
  {
   "cell_type": "code",
   "execution_count": 101,
   "metadata": {},
   "outputs": [],
   "source": [
    "def solution(nums):\n",
    "    answer = 0\n",
    "    cnt=1\n",
    "    pick = int(len(nums)/2)\n",
    "    \n",
    "    nums.sort()\n",
    "    for i in range(0, len(nums) - 1):\n",
    "        if nums[i] < nums[i+1]:\n",
    "            cnt+=1\n",
    "    \n",
    "    if cnt > pick:\n",
    "        answer = pick\n",
    "    else:\n",
    "        answer = cnt\n",
    "    \n",
    "    return answer\n",
    "\n",
    "\"\"\"모범답안\n",
    "def solution(ls):\n",
    "    return min(len(ls)/2, len(set(ls)))\n",
    "    \n",
    "    \n",
    "    \n",
    "def solution(nums):\n",
    "    answer = 0\n",
    "    myList = set(nums)\n",
    "    if len(nums)/2 > len(myList):\n",
    "        answer = len(myList)\n",
    "    else:\n",
    "        answer = len(nums)/2\n",
    "    return answer\n",
    "\"\"\""
   ]
  },
  {
   "cell_type": "code",
   "execution_count": 102,
   "metadata": {},
   "outputs": [
    {
     "data": {
      "text/plain": [
       "2"
      ]
     },
     "execution_count": 102,
     "metadata": {},
     "output_type": "execute_result"
    }
   ],
   "source": [
    "solution([3, 1, 2, 3])"
   ]
  },
  {
   "cell_type": "code",
   "execution_count": 103,
   "metadata": {},
   "outputs": [
    {
     "data": {
      "text/plain": [
       "3"
      ]
     },
     "execution_count": 103,
     "metadata": {},
     "output_type": "execute_result"
    }
   ],
   "source": [
    "solution([3, 3, 3, 2, 2, 4])"
   ]
  },
  {
   "cell_type": "code",
   "execution_count": 104,
   "metadata": {},
   "outputs": [
    {
     "data": {
      "text/plain": [
       "2"
      ]
     },
     "execution_count": 104,
     "metadata": {},
     "output_type": "execute_result"
    }
   ],
   "source": [
    "solution([3, 3, 3, 2, 2, 2])"
   ]
  },
  {
   "cell_type": "markdown",
   "metadata": {},
   "source": [
    "* 숫자의 표현"
   ]
  },
  {
   "cell_type": "code",
   "execution_count": 191,
   "metadata": {},
   "outputs": [],
   "source": [
    "def solution(n):\n",
    "    answer = 0\n",
    "    a=[]\n",
    "    target = 0\n",
    "    cnt=0\n",
    "    for i in range(1, n+1):\n",
    "        target = i\n",
    "        for j in range(i+1, n+1):\n",
    "            target += j\n",
    "            if target == n:\n",
    "                cnt+=1\n",
    "            if target > n: # 이거 한줄 채워넣어서 효율성 증가 휴\n",
    "                break\n",
    "                \n",
    "        if i == int(n+1/2):\n",
    "            break\n",
    "                \n",
    "        \n",
    "    cnt +=1\n",
    "    \n",
    "    return cnt\n",
    "\n",
    "\n",
    "\"\"\"모범답안\n",
    "def expressions(num):\n",
    "    return len([i  for i in range(1,num+1,2) if num % i is 0]) # 등차수열 합 공식!!\n",
    "    #\n",
    "\"\"\""
   ]
  },
  {
   "cell_type": "code",
   "execution_count": 192,
   "metadata": {},
   "outputs": [
    {
     "data": {
      "text/plain": [
       "4"
      ]
     },
     "execution_count": 192,
     "metadata": {},
     "output_type": "execute_result"
    }
   ],
   "source": [
    "solution(15)"
   ]
  },
  {
   "cell_type": "markdown",
   "metadata": {},
   "source": [
    "* 최댓값과 최솟값"
   ]
  },
  {
   "cell_type": "code",
   "execution_count": 260,
   "metadata": {},
   "outputs": [],
   "source": [
    "def solution(s):\n",
    "    \n",
    "    a = s.split(' ') #' ' 를 제외하고 나머지 리스트로 만들어줌 \"-1 -1 -1\" 은 [-1,-1,-1]이런식\n",
    "    \n",
    "    b = [int(i) for i in a]\n",
    "    \n",
    "    answer = '{} {}'.format(min(b), max(b))\n",
    "    \n",
    "    return answer\n",
    "\n",
    "\"\"\"모범답안\n",
    "def solution(s):\n",
    "    s = list(map(int,s.split()))\n",
    "    return str(min(s)) + \" \" + str(max(s))\n",
    "\n",
    "\n",
    "\"\"\""
   ]
  },
  {
   "cell_type": "code",
   "execution_count": 261,
   "metadata": {},
   "outputs": [
    {
     "data": {
      "text/plain": [
       "'1 4'"
      ]
     },
     "execution_count": 261,
     "metadata": {},
     "output_type": "execute_result"
    }
   ],
   "source": [
    "solution(\"1 2 3 4\")"
   ]
  },
  {
   "cell_type": "code",
   "execution_count": 262,
   "metadata": {},
   "outputs": [
    {
     "data": {
      "text/plain": [
       "'-4 -1'"
      ]
     },
     "execution_count": 262,
     "metadata": {},
     "output_type": "execute_result"
    }
   ],
   "source": [
    "solution(\"-1 -2 -3 -4\")"
   ]
  },
  {
   "cell_type": "code",
   "execution_count": 263,
   "metadata": {},
   "outputs": [
    {
     "data": {
      "text/plain": [
       "'-1 -1'"
      ]
     },
     "execution_count": 263,
     "metadata": {},
     "output_type": "execute_result"
    }
   ],
   "source": [
    "solution(\"-1 -1\")"
   ]
  },
  {
   "cell_type": "markdown",
   "metadata": {},
   "source": [
    "* 최솟값 만들기"
   ]
  },
  {
   "cell_type": "code",
   "execution_count": 275,
   "metadata": {},
   "outputs": [],
   "source": [
    "def solution(A,B):\n",
    "    answer = 0\n",
    "    \n",
    "    A = sorted(A)\n",
    "    B = sorted(B, reverse=True)\n",
    "    \n",
    "\n",
    "    for i in range(len(A)):\n",
    "        answer += A[i]*B[i]\n",
    "\n",
    "    return answer\n",
    "\n",
    "\"\"\"\n",
    "모범답안\n",
    "def getMinSum(A,B):\n",
    "    return sum(a*b for a, b in zip(sorted(A), sorted(B, reverse = True)))\n",
    "\n",
    "\"\"\""
   ]
  },
  {
   "cell_type": "code",
   "execution_count": 276,
   "metadata": {},
   "outputs": [
    {
     "data": {
      "text/plain": [
       "29"
      ]
     },
     "execution_count": 276,
     "metadata": {},
     "output_type": "execute_result"
    }
   ],
   "source": [
    "solution([1, 4, 2], [5, 4, 4])"
   ]
  },
  {
   "cell_type": "code",
   "execution_count": 277,
   "metadata": {},
   "outputs": [
    {
     "data": {
      "text/plain": [
       "10"
      ]
     },
     "execution_count": 277,
     "metadata": {},
     "output_type": "execute_result"
    }
   ],
   "source": [
    "solution([1, 2], [3, 4])"
   ]
  },
  {
   "cell_type": "markdown",
   "metadata": {},
   "source": [
    "* 피보나치 수"
   ]
  },
  {
   "cell_type": "code",
   "execution_count": 354,
   "metadata": {},
   "outputs": [],
   "source": [
    "def solution(n):\n",
    "    a, b = 0, 1\n",
    "    for _ in range(2, n+1):\n",
    "        a, b = b, a+b\n",
    "        #a=b b=a+b 를 하면, 이미 b 값으로 바뀐 a 를 이용해, b=a+b 를 하기 때문에 문제가 될 겁니다. \n",
    "    return b % 1234567"
   ]
  },
  {
   "cell_type": "code",
   "execution_count": 355,
   "metadata": {},
   "outputs": [
    {
     "data": {
      "text/plain": [
       "2"
      ]
     },
     "execution_count": 355,
     "metadata": {},
     "output_type": "execute_result"
    }
   ],
   "source": [
    "solution(3)"
   ]
  },
  {
   "cell_type": "code",
   "execution_count": 356,
   "metadata": {},
   "outputs": [
    {
     "data": {
      "text/plain": [
       "610"
      ]
     },
     "execution_count": 356,
     "metadata": {},
     "output_type": "execute_result"
    }
   ],
   "source": [
    "solution(15)"
   ]
  },
  {
   "cell_type": "markdown",
   "metadata": {},
   "source": [
    "* 행렬의 곱셈"
   ]
  },
  {
   "cell_type": "code",
   "execution_count": 380,
   "metadata": {},
   "outputs": [
    {
     "data": {
      "text/plain": [
       "'\\n모범답안\\nimport numpy as np\\ndef solution(A, B):\\n      \\n    return (np.matrix(A)*np.matrix(B)).tolist()\\n    \\ndef productMatrix(A, B):\\n    return [[sum(a*b for a, b in zip(A_row,B_col)) for B_col in zip(*B)] for A_row in A]\\n'"
      ]
     },
     "execution_count": 380,
     "metadata": {},
     "output_type": "execute_result"
    }
   ],
   "source": [
    "import numpy as np\n",
    "def solution(arr1, arr2):\n",
    "    \n",
    "    arr1 = np.asmatrix(arr1)\n",
    "    arr2 = np.asmatrix(arr2)\n",
    "    answer = (arr1*arr2).tolist() \n",
    "    return answer\n",
    "\n",
    "\"\"\"\n",
    "모범답안\n",
    "import numpy as np\n",
    "def solution(A, B):\n",
    "      \n",
    "    return (np.matrix(A)*np.matrix(B)).tolist()\n",
    "    \n",
    "def productMatrix(A, B):\n",
    "    return [[sum(a*b for a, b in zip(A_row,B_col)) for B_col in zip(*B)] for A_row in A]\n",
    "\"\"\""
   ]
  },
  {
   "cell_type": "code",
   "execution_count": 381,
   "metadata": {},
   "outputs": [
    {
     "data": {
      "text/plain": [
       "[[15, 15], [15, 15], [15, 15]]"
      ]
     },
     "execution_count": 381,
     "metadata": {},
     "output_type": "execute_result"
    }
   ],
   "source": [
    "solution([[1, 4], \n",
    "          [3, 2], \n",
    "          [4, 1]], \n",
    "         [[3, 3], \n",
    "          [3, 3]])"
   ]
  },
  {
   "cell_type": "code",
   "execution_count": 373,
   "metadata": {},
   "outputs": [
    {
     "data": {
      "text/plain": [
       "array([[22, 22, 11],\n",
       "       [36, 28, 18],\n",
       "       [29, 20, 14]])"
      ]
     },
     "execution_count": 373,
     "metadata": {},
     "output_type": "execute_result"
    }
   ],
   "source": [
    "solution([[2, 3, 2], [4, 2, 4], [3, 1, 4]], [[5, 4, 3], [2, 4, 1], [3, 1, 1]])"
   ]
  },
  {
   "cell_type": "code",
   "execution_count": 365,
   "metadata": {},
   "outputs": [
    {
     "data": {
      "text/plain": [
       "matrix([[ 1, 23,  4],\n",
       "        [ 1,  2,  4]])"
      ]
     },
     "execution_count": 365,
     "metadata": {},
     "output_type": "execute_result"
    }
   ],
   "source": [
    "import numpy as np\n",
    "a = np.array([[1,23,4], [1,2, 4]])\n",
    "a = np.asmatrix(a)\n",
    "a"
   ]
  },
  {
   "cell_type": "code",
   "execution_count": 366,
   "metadata": {},
   "outputs": [
    {
     "data": {
      "text/plain": [
       "matrix([[ 1, 23,  4],\n",
       "        [ 1,  2,  4]])"
      ]
     },
     "execution_count": 366,
     "metadata": {},
     "output_type": "execute_result"
    }
   ],
   "source": [
    "b =np.array([[1,23,4], [1,2, 4]])\n",
    "b = np.asmatrix(b)\n",
    "b"
   ]
  },
  {
   "cell_type": "markdown",
   "metadata": {},
   "source": [
    "* JadenCase 문자열 만들기"
   ]
  },
  {
   "cell_type": "code",
   "execution_count": 53,
   "metadata": {},
   "outputs": [],
   "source": [
    "def solution(s):\n",
    "    \n",
    "    s = s.lower()\n",
    "    list_s = s.split()\n",
    "    list_s = [i.replace(i[0], i[0].upper(), 1) for i in list_s]\n",
    "    answer = ' '.join(list_s)\n",
    "    return answer\n",
    "\n"
   ]
  },
  {
   "cell_type": "code",
   "execution_count": 54,
   "metadata": {},
   "outputs": [
    {
     "data": {
      "text/plain": [
       "'3people Unfollowed Me'"
      ]
     },
     "execution_count": 54,
     "metadata": {},
     "output_type": "execute_result"
    }
   ],
   "source": [
    "solution(\"3people    unFollowed me\")"
   ]
  },
  {
   "cell_type": "code",
   "execution_count": 55,
   "metadata": {},
   "outputs": [
    {
     "data": {
      "text/plain": [
       "'For The Last Week'"
      ]
     },
     "execution_count": 55,
     "metadata": {},
     "output_type": "execute_result"
    }
   ],
   "source": [
    "solution(\"for the last week\")"
   ]
  },
  {
   "cell_type": "code",
   "execution_count": 57,
   "metadata": {},
   "outputs": [],
   "source": [
    "def solution(s):\n",
    "    \n",
    "    r=\"\"\n",
    "    for i, c in enumerate(s):\n",
    "        r += (c.upper()if not i or (i and s[i-1]) == \" \" else c.lower())\n",
    "    return r"
   ]
  },
  {
   "cell_type": "markdown",
   "metadata": {},
   "source": [
    "* N개의 최소공배수"
   ]
  },
  {
   "cell_type": "code",
   "execution_count": 104,
   "metadata": {},
   "outputs": [],
   "source": [
    "from fractions import gcd\n",
    "def solution(arr):\n",
    "    \n",
    "    \n",
    "    while True:\n",
    "        a = int(arr[0]*arr[1]/gcd(arr[0], arr[1]))\n",
    "        arr.pop(0)\n",
    "        arr[0] = a\n",
    "        if len(arr) ==1:\n",
    "            break\n",
    "        \n",
    "        \n",
    "    \n",
    "    return int(arr[0])\n",
    "\n",
    "\n",
    "\"\"\"모범답안\n",
    "from fractions import gcd\n",
    "\n",
    "\n",
    "def nlcm(num):      \n",
    "    answer = num[0]\n",
    "    for n in num:\n",
    "        answer = n * answer / gcd(n, answer)\n",
    "\n",
    "    return answer\n",
    "\"\"\""
   ]
  },
  {
   "cell_type": "code",
   "execution_count": 105,
   "metadata": {},
   "outputs": [
    {
     "name": "stderr",
     "output_type": "stream",
     "text": [
      "C:\\Users\\USER\\AppData\\Local\\conda\\conda\\envs\\tensorflow\\lib\\site-packages\\ipykernel_launcher.py:6: DeprecationWarning: fractions.gcd() is deprecated. Use math.gcd() instead.\n",
      "  \n"
     ]
    },
    {
     "data": {
      "text/plain": [
       "168"
      ]
     },
     "execution_count": 105,
     "metadata": {},
     "output_type": "execute_result"
    }
   ],
   "source": [
    "solution([2, 6, 8, 14])"
   ]
  },
  {
   "cell_type": "code",
   "execution_count": 76,
   "metadata": {},
   "outputs": [
    {
     "name": "stderr",
     "output_type": "stream",
     "text": [
      "C:\\Users\\USER\\AppData\\Local\\conda\\conda\\envs\\tensorflow\\lib\\site-packages\\ipykernel_launcher.py:1: DeprecationWarning: fractions.gcd() is deprecated. Use math.gcd() instead.\n",
      "  \"\"\"Entry point for launching an IPython kernel.\n"
     ]
    },
    {
     "data": {
      "text/plain": [
       "6.0"
      ]
     },
     "execution_count": 76,
     "metadata": {},
     "output_type": "execute_result"
    }
   ],
   "source": [
    "12/gcd(2, 6)"
   ]
  },
  {
   "cell_type": "markdown",
   "metadata": {},
   "source": [
    "* 짝지어 제거하기"
   ]
  },
  {
   "cell_type": "code",
   "execution_count": 10,
   "metadata": {},
   "outputs": [
    {
     "data": {
      "text/plain": [
       "'\\n모범답안\\ndef solution(s):\\n    answer = []\\n    for i in s:\\n        if not(answer):\\n            answer.append(i)\\n        else:\\n            if(answer[-1] == i):\\n                answer.pop()\\n            else:\\n                answer.append(i)    \\n    return not(answer)  #not(0) 은 True not(1)은 False\\n'"
      ]
     },
     "execution_count": 10,
     "metadata": {},
     "output_type": "execute_result"
    }
   ],
   "source": [
    "def solution(s):\n",
    "    result = []\n",
    "    for i in s:\n",
    "        if not result:\n",
    "            result.append(i)\n",
    "        elif result[-1] == i:\n",
    "            result.pop()\n",
    "        else:\n",
    "            result.append(i)\n",
    "    return int(not bool(result))\n",
    "\n",
    "\n",
    "\"\"\"\n",
    "모범답안\n",
    "def solution(s):\n",
    "    answer = []\n",
    "    for i in s:\n",
    "        if not(answer):\n",
    "            answer.append(i)\n",
    "        else:\n",
    "            if(answer[-1] == i):\n",
    "                answer.pop()\n",
    "            else:\n",
    "                answer.append(i)    \n",
    "    return not(answer)  #not(0) 은 True not(1)은 True\n",
    "\"\"\""
   ]
  },
  {
   "cell_type": "code",
   "execution_count": 11,
   "metadata": {},
   "outputs": [
    {
     "data": {
      "text/plain": [
       "True"
      ]
     },
     "execution_count": 11,
     "metadata": {},
     "output_type": "execute_result"
    }
   ],
   "source": [
    "solution(\"baabaa\")"
   ]
  },
  {
   "cell_type": "code",
   "execution_count": 12,
   "metadata": {},
   "outputs": [
    {
     "data": {
      "text/plain": [
       "False"
      ]
     },
     "execution_count": 12,
     "metadata": {},
     "output_type": "execute_result"
    }
   ],
   "source": [
    "solution(\"cdcd\")"
   ]
  },
  {
   "cell_type": "code",
   "execution_count": 6,
   "metadata": {},
   "outputs": [
    {
     "data": {
      "text/plain": [
       "False"
      ]
     },
     "execution_count": 6,
     "metadata": {},
     "output_type": "execute_result"
    }
   ],
   "source": [
    "not(2)"
   ]
  },
  {
   "cell_type": "markdown",
   "metadata": {},
   "source": [
    "* 소수 만들기"
   ]
  },
  {
   "cell_type": "code",
   "execution_count": 138,
   "metadata": {},
   "outputs": [],
   "source": [
    "import itertools\n",
    "\n",
    "def solution(nums):\n",
    "    answer = -1\n",
    "\n",
    "    list_num = list(itertools.permutations(nums, 3)) # permutations를 쓰면 안됨!\n",
    "    #ex)permutations[('A', 'B'), ('A', 'C'), ('B', 'A'), ('B', 'C'), ('C', 'A'), ('C', 'B')]  \n",
    "    # combinations[('A', 'B'), ('A', 'C'), ('B', 'C')]\n",
    "    \n",
    "    sum_num=[]\n",
    "    for i in range(len(list_num)):\n",
    "        sum_num.append(sum(list_num[i]))\n",
    "        \n",
    "    num_not=[]\n",
    "    for i in range(len(sum_num)):\n",
    "        \n",
    "        for j in range(2, sum_num[i]):\n",
    "\n",
    "            if sum_num[i]%j == 0:\n",
    "                num_not.append(sum_num[i])\n",
    "                break\n",
    "                \n",
    "    answer = list(set(i for i in sum_num if i not in num_not))\n",
    "                    \n",
    "        \n",
    "\n",
    "    return len(answer)\n",
    "\n",
    "# 이거 실패 13 = 2 + 4 + 7 or 13 = 8 + 3 + 2 를 다른 2가지로 봐야함\n"
   ]
  },
  {
   "cell_type": "code",
   "execution_count": 139,
   "metadata": {},
   "outputs": [
    {
     "data": {
      "text/plain": [
       "[7]"
      ]
     },
     "execution_count": 139,
     "metadata": {},
     "output_type": "execute_result"
    }
   ],
   "source": [
    "solution([1, 2, 3, 4])"
   ]
  },
  {
   "cell_type": "code",
   "execution_count": 140,
   "metadata": {},
   "outputs": [
    {
     "data": {
      "text/plain": [
       "[17, 11, 13, 7]"
      ]
     },
     "execution_count": 140,
     "metadata": {},
     "output_type": "execute_result"
    }
   ],
   "source": [
    "solution([1,2,7,6,4])"
   ]
  },
  {
   "cell_type": "code",
   "execution_count": 1,
   "metadata": {},
   "outputs": [
    {
     "data": {
      "text/plain": [
       "'\\n모범답안\\n\\ndef solution(nums):\\n    from itertools import combinations as cb\\n    answer = 0\\n    for a in cb(nums, 3):\\n        cand = sum(a)\\n        for j in range(2, cand):\\n            if cand%j==0:\\n                break\\n        else:\\n            answer += 1\\n    return answer\\n'"
      ]
     },
     "execution_count": 1,
     "metadata": {},
     "output_type": "execute_result"
    }
   ],
   "source": [
    "import itertools\n",
    "\n",
    "def solution(nums):\n",
    "\n",
    "    list_num = list(itertools.combinations(nums, 3)) #이 문제는 combinations를 써야함!\n",
    "    sum_num=[]\n",
    "    for i in range(len(list_num)):\n",
    "        sum_num.append(sum(list_num[i]))\n",
    "        \n",
    "    num_not=[]\n",
    "                    \n",
    "    for i in range(len(sum_num)):\n",
    "        \n",
    "        for j in range(2, sum_num[i]):\n",
    "            if sum_num[i] % j ==0:\n",
    "                num_not.append(sum_num[i])\n",
    "                break\n",
    "    answer = [i for i in sum_num if i not in num_not]\n",
    "    \n",
    "\n",
    "    return len(answer)\n",
    "\n",
    "\n",
    "\"\"\"\n",
    "모범답안\n",
    "\n",
    "def solution(nums):\n",
    "    from itertools import combinations as cb\n",
    "    answer = 0\n",
    "    for a in cb(nums, 3):\n",
    "        cand = sum(a)\n",
    "        for j in range(2, cand):\n",
    "            if cand%j==0:\n",
    "                break\n",
    "        else:\n",
    "            answer += 1\n",
    "    return answer\n",
    "\"\"\""
   ]
  },
  {
   "cell_type": "code",
   "execution_count": 2,
   "metadata": {},
   "outputs": [
    {
     "data": {
      "text/plain": [
       "1"
      ]
     },
     "execution_count": 2,
     "metadata": {},
     "output_type": "execute_result"
    }
   ],
   "source": [
    "solution([1, 2, 3, 4])"
   ]
  },
  {
   "cell_type": "code",
   "execution_count": 3,
   "metadata": {},
   "outputs": [
    {
     "data": {
      "text/plain": [
       "4"
      ]
     },
     "execution_count": 3,
     "metadata": {},
     "output_type": "execute_result"
    }
   ],
   "source": [
    "solution([1,2,7,6,4])"
   ]
  },
  {
   "cell_type": "markdown",
   "metadata": {},
   "source": [
    "* 점프와 순간 이동"
   ]
  },
  {
   "cell_type": "code",
   "execution_count": 192,
   "metadata": {},
   "outputs": [],
   "source": [
    "def solution(n):\n",
    "    ans=0\n",
    "    while (n!=0):\n",
    "        n,b=divmod(n,2)\n",
    "        ans+=b\n",
    "    return ans\n",
    "\n",
    "\"\"\"\n",
    "모범답안\n",
    "def solution(n):\n",
    "    return bin(n).count('1')\n",
    "\"\"\""
   ]
  },
  {
   "cell_type": "code",
   "execution_count": 193,
   "metadata": {},
   "outputs": [
    {
     "data": {
      "text/plain": [
       "2"
      ]
     },
     "execution_count": 193,
     "metadata": {},
     "output_type": "execute_result"
    }
   ],
   "source": [
    "solution(5)"
   ]
  },
  {
   "cell_type": "code",
   "execution_count": 194,
   "metadata": {},
   "outputs": [
    {
     "data": {
      "text/plain": [
       "2"
      ]
     },
     "execution_count": 194,
     "metadata": {},
     "output_type": "execute_result"
    }
   ],
   "source": [
    "solution(6)"
   ]
  },
  {
   "cell_type": "code",
   "execution_count": 195,
   "metadata": {},
   "outputs": [
    {
     "data": {
      "text/plain": [
       "5"
      ]
     },
     "execution_count": 195,
     "metadata": {},
     "output_type": "execute_result"
    }
   ],
   "source": [
    "solution(5000)"
   ]
  },
  {
   "cell_type": "markdown",
   "metadata": {},
   "source": [
    "* 영어 끝말잇기  (대가리 과부하로 인한 포기)"
   ]
  },
  {
   "cell_type": "code",
   "execution_count": 48,
   "metadata": {},
   "outputs": [],
   "source": [
    "\"\"\"\n",
    "def solution(n, words):\n",
    "    answer = []\n",
    "    cnt = 0\n",
    "    lo = 0\n",
    "    a=[words[0]]\n",
    "    \n",
    "    if words[0][-1] == words[1][0]:\n",
    "        \n",
    "        for i in range(1, len(words)):\n",
    "            if i%n ==0:\n",
    "                cnt+=1\n",
    "            if words[i][0] == words[i-1][-1]:\n",
    "                a.append(words[i])\n",
    "                \n",
    "            if words[i][0] != words[i-1][-1]:\n",
    "                break\n",
    "                \n",
    "            if words[i] in a:\n",
    "                break\n",
    "    \n",
    "    if a == words:\n",
    "        return [0, 0]\n",
    "    \n",
    "    cnt+=1\n",
    "                \n",
    "    return a\n",
    "\"\"\"\n",
    "def solution(n, words):\n",
    "    answer = [0,0]\n",
    "    past=[]\n",
    "    past.append(words[0])\n",
    "    words.remove(words[0])\n",
    "    count=0\n",
    "    problem=False\n",
    "    for word in words:\n",
    "        count+=1\n",
    "        if word in past:\n",
    "            problem=True\n",
    "            break\n",
    "        else:\n",
    "            past.append(word)\n",
    "            if past[-2][-1]==past[-1][0]:\n",
    "                pass\n",
    "            else:\n",
    "                problem=True\n",
    "                break\n",
    " \n",
    "    if not problem:\n",
    "        return answer\n",
    "    else:\n",
    "        answer[1],answer[0]=divmod(count,n)\n",
    "        answer[0]+=1\n",
    "        answer[1]+=1\n",
    "        return answer\n",
    "    \n",
    "    \n",
    "\"\"\"\n",
    "모범답안\n",
    "def solution(n, words):\n",
    "    for p in range(1, len(words)):\n",
    "        if words[p][0] != words[p-1][-1] or words[p] in words[:p]: return [(p%n)+1, (p//n)+1]\n",
    "    else:\n",
    "        return [0,0]\n",
    "\n",
    "\"\"\""
   ]
  },
  {
   "cell_type": "code",
   "execution_count": 49,
   "metadata": {},
   "outputs": [
    {
     "data": {
      "text/plain": [
       "['tank', 'kick']"
      ]
     },
     "execution_count": 49,
     "metadata": {},
     "output_type": "execute_result"
    }
   ],
   "source": [
    "solution(3, [\"tank\", \"kick\", \"know\", \"wheel\", \"land\", \"dream\", \"mother\", \"robot\", \"tank\"])"
   ]
  },
  {
   "cell_type": "code",
   "execution_count": 50,
   "metadata": {},
   "outputs": [
    {
     "data": {
      "text/plain": [
       "['hello', 'observe']"
      ]
     },
     "execution_count": 50,
     "metadata": {},
     "output_type": "execute_result"
    }
   ],
   "source": [
    "solution(5, [\"hello\", \"observe\", \"effect\", \"take\", \"either\", \"recognize\", \"encourage\", \"ensure\", \"establish\", \"hang\", \"gather\", \"refer\", \"reference\", \"estimate\", \"executive\"])"
   ]
  },
  {
   "cell_type": "code",
   "execution_count": 41,
   "metadata": {},
   "outputs": [
    {
     "data": {
      "text/plain": [
       "['hello', 'one', 'even', 'never']"
      ]
     },
     "execution_count": 41,
     "metadata": {},
     "output_type": "execute_result"
    }
   ],
   "source": [
    "solution(2, [\"hello\", \"one\", \"even\", \"never\", \"now\", \"world\", \"draw\"])"
   ]
  },
  {
   "cell_type": "markdown",
   "metadata": {},
   "source": [
    "* 예상대진표"
   ]
  },
  {
   "cell_type": "code",
   "execution_count": 87,
   "metadata": {},
   "outputs": [],
   "source": [
    "def solution(n,a,b):\n",
    "    answer=0\n",
    "    while max(a, b) != min(a,b)+1:\n",
    "        \n",
    "            \n",
    "        a=sum(divmod(a,2))\n",
    "        b=sum(divmod(b,2))\n",
    "        answer+=1\n",
    "        \n",
    "    answer+=1\n",
    "    return answer ## 틀린오답\n",
    "\n",
    "\n",
    "\"\"\"모범답안\n",
    "def solution(n,a,b):\n",
    "    count = 0             # 서로 겨루기 위해 참가해야할 경기 수\n",
    "    while a != b:         # 참가 번호가 같지 않다면\n",
    "        a = (a + 1) // 2  # 다음 라운드에 진출 했을 때 가지게 될 번호 수\n",
    "        b = (b + 1) // 2  \n",
    "        count += 1        # 경기수 1 증가\n",
    "    return count\n",
    "    \n",
    "def solution(n,a,b):\n",
    "    return ((a-1)^(b-1)).bit_length()   # ^ 이건 xor \n",
    "    #bit_length 비트길이 ex)n=5, n.bit_length=3    2**3\n",
    "\n",
    "def solution(n,a,b):\n",
    "    answer = 0\n",
    "    while a != b:\n",
    "        answer += 1\n",
    "        a, b = (a+1)//2, (b+1)//2\n",
    "\n",
    "    return answer\n",
    "\n",
    "\"\"\""
   ]
  },
  {
   "cell_type": "code",
   "execution_count": 88,
   "metadata": {},
   "outputs": [
    {
     "data": {
      "text/plain": [
       "3"
      ]
     },
     "execution_count": 88,
     "metadata": {},
     "output_type": "execute_result"
    }
   ],
   "source": [
    "solution(8, 2, 7)"
   ]
  },
  {
   "cell_type": "code",
   "execution_count": 89,
   "metadata": {},
   "outputs": [
    {
     "name": "stdout",
     "output_type": "stream",
     "text": [
      "4\n"
     ]
    }
   ],
   "source": [
    "print(solution(16,1,14))"
   ]
  },
  {
   "cell_type": "code",
   "execution_count": null,
   "metadata": {},
   "outputs": [],
   "source": [
    "a = [1, 2, 3, 4, 5]\n",
    "b = [1, 2, 3, 4, 5, 6]\n",
    "\n"
   ]
  }
 ],
 "metadata": {
  "kernelspec": {
   "display_name": "Python 3",
   "language": "python",
   "name": "python3"
  },
  "language_info": {
   "codemirror_mode": {
    "name": "ipython",
    "version": 3
   },
   "file_extension": ".py",
   "mimetype": "text/x-python",
   "name": "python",
   "nbconvert_exporter": "python",
   "pygments_lexer": "ipython3",
   "version": "3.6.5"
  }
 },
 "nbformat": 4,
 "nbformat_minor": 4
}
