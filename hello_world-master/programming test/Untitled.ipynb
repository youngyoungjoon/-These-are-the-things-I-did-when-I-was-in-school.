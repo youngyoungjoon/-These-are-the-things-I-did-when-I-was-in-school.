{
 "cells": [
  {
   "cell_type": "code",
   "execution_count": 4,
   "metadata": {},
   "outputs": [
    {
     "data": {
      "text/plain": [
       "'asd'"
      ]
     },
     "execution_count": 4,
     "metadata": {},
     "output_type": "execute_result"
    }
   ],
   "source": [
    "dic = {1: 'asd', 2:'dsda'}\n",
    "a = dic[1]\n",
    "a"
   ]
  },
  {
   "cell_type": "code",
   "execution_count": 6,
   "metadata": {},
   "outputs": [
    {
     "data": {
      "text/plain": [
       "[3, 5, 7, 9]"
      ]
     },
     "execution_count": 6,
     "metadata": {},
     "output_type": "execute_result"
    }
   ],
   "source": [
    "a = [i for i in range(3, 11, 2)]\n",
    "a"
   ]
  },
  {
   "cell_type": "code",
   "execution_count": 19,
   "metadata": {},
   "outputs": [
    {
     "data": {
      "text/plain": [
       "{9}"
      ]
     },
     "execution_count": 19,
     "metadata": {},
     "output_type": "execute_result"
    }
   ],
   "source": [
    "a = set([i for i in range(3, 11, 2)])\n",
    "a\n",
    "b = set([i for i in range(1, 9, 2)])\n",
    "b\n",
    "c = a-b\n",
    "c"
   ]
  },
  {
   "cell_type": "code",
   "execution_count": 24,
   "metadata": {},
   "outputs": [
    {
     "data": {
      "text/plain": [
       "[1, 0]"
      ]
     },
     "execution_count": 24,
     "metadata": {},
     "output_type": "execute_result"
    }
   ],
   "source": [
    "a=10\n",
    "b = [int(i) for i in str(a)]\n",
    "b"
   ]
  },
  {
   "cell_type": "code",
   "execution_count": 1,
   "metadata": {},
   "outputs": [
    {
     "data": {
      "text/plain": [
       "0"
      ]
     },
     "execution_count": 1,
     "metadata": {},
     "output_type": "execute_result"
    }
   ],
   "source": [
    "3//7"
   ]
  },
  {
   "cell_type": "code",
   "execution_count": 2,
   "metadata": {},
   "outputs": [
    {
     "data": {
      "text/plain": [
       "1"
      ]
     },
     "execution_count": 2,
     "metadata": {},
     "output_type": "execute_result"
    }
   ],
   "source": [
    "7//7"
   ]
  },
  {
   "cell_type": "code",
   "execution_count": 9,
   "metadata": {},
   "outputs": [
    {
     "data": {
      "text/plain": [
       "1"
      ]
     },
     "execution_count": 9,
     "metadata": {},
     "output_type": "execute_result"
    }
   ],
   "source": [
    "a=0\n",
    "d=0\n",
    "a , d = divmod(7,7)\n",
    "a"
   ]
  },
  {
   "cell_type": "code",
   "execution_count": 15,
   "metadata": {},
   "outputs": [],
   "source": [
    "def solution(p, s):\n",
    "    answer = [0] * len(p)\n",
    "    li = []\n",
    "    for i in range(len(p)):\n",
    "        a=0\n",
    "        b = 100 - p[i]\n",
    "        c = 0\n",
    "        d = 0\n",
    "        if b >= s[i]:\n",
    "            \n",
    "            if int(b/s[i]) != b/s[i]:\n",
    "                a = int(b/s[i])+1\n",
    "            elif int(b/s[i]) == b/s[i]:\n",
    "                a = int(b/s[i])\n",
    "                \n",
    "        else:\n",
    "            a = 1\n",
    "        li.append(a)\n",
    "        \n",
    "        c, d = divmod(li[i], 7)\n",
    "        \n",
    "        if d == 0:\n",
    "            answer[c-1]+=1\n",
    "        else:\n",
    "            answer[c]+=1\n",
    "    \n",
    "    return [i for i in answer if i != 0]"
   ]
  },
  {
   "cell_type": "code",
   "execution_count": 16,
   "metadata": {},
   "outputs": [
    {
     "data": {
      "text/plain": [
       "[3]"
      ]
     },
     "execution_count": 16,
     "metadata": {},
     "output_type": "execute_result"
    }
   ],
   "source": [
    "solution([10, 20, 30], [90, 100, 60])"
   ]
  },
  {
   "cell_type": "code",
   "execution_count": 17,
   "metadata": {},
   "outputs": [
    {
     "data": {
      "text/plain": [
       "[2, 1]"
      ]
     },
     "execution_count": 17,
     "metadata": {},
     "output_type": "execute_result"
    }
   ],
   "source": [
    "solution([55, 93, 30], [5, 1, 30])"
   ]
  },
  {
   "cell_type": "code",
   "execution_count": 20,
   "metadata": {},
   "outputs": [
    {
     "data": {
      "text/plain": [
       "[4, 3, 2, 1, 0]"
      ]
     },
     "execution_count": 20,
     "metadata": {},
     "output_type": "execute_result"
    }
   ],
   "source": [
    "a = [1, 2, 3, 4]\n",
    "len(a)\n",
    "b = [i for i in range(len(a), -1, -1)]\n",
    "\n",
    "b"
   ]
  },
  {
   "cell_type": "code",
   "execution_count": 21,
   "metadata": {},
   "outputs": [
    {
     "data": {
      "text/plain": [
       "'9'"
      ]
     },
     "execution_count": 21,
     "metadata": {},
     "output_type": "execute_result"
    }
   ],
   "source": [
    "a = \"1924\"\n",
    "b = max(a)\n",
    "b"
   ]
  },
  {
   "cell_type": "code",
   "execution_count": 26,
   "metadata": {},
   "outputs": [
    {
     "data": {
      "text/plain": [
       "9"
      ]
     },
     "execution_count": 26,
     "metadata": {},
     "output_type": "execute_result"
    }
   ],
   "source": [
    "min_num = min(ord('Z') - ord('J'), ord('J') - ord('A'))\n",
    "min_num"
   ]
  },
  {
   "cell_type": "code",
   "execution_count": 27,
   "metadata": {},
   "outputs": [
    {
     "data": {
      "text/plain": [
       "[1]"
      ]
     },
     "execution_count": 27,
     "metadata": {},
     "output_type": "execute_result"
    }
   ],
   "source": [
    "a = [i for i in range(1,2)]\n",
    "a"
   ]
  },
  {
   "cell_type": "code",
   "execution_count": 30,
   "metadata": {},
   "outputs": [
    {
     "data": {
      "text/plain": [
       "[[1, 3], [2, 5], [3, 6]]"
      ]
     },
     "execution_count": 30,
     "metadata": {},
     "output_type": "execute_result"
    }
   ],
   "source": [
    "a = [1, 2, 3, 4]\n",
    "b= [3,5,6]\n",
    "li1=[]\n",
    "for a1, b1 in zip(a, b):\n",
    "    li1.append([a1, b1])\n",
    "li1"
   ]
  },
  {
   "cell_type": "code",
   "execution_count": 32,
   "metadata": {},
   "outputs": [],
   "source": [
    "from collections import Counter\n",
    "clothes =[['yellow_hat', 'headgear'], ['blue_sunglasses', 'eyewear'], ['green_turban', 'headgear']]\n",
    "counter_each_category = Counter([cat for _,cat in clothes])"
   ]
  },
  {
   "cell_type": "code",
   "execution_count": 33,
   "metadata": {},
   "outputs": [
    {
     "data": {
      "text/plain": [
       "Counter({'headgear': 2, 'eyewear': 1})"
      ]
     },
     "execution_count": 33,
     "metadata": {},
     "output_type": "execute_result"
    }
   ],
   "source": [
    "counter_each_category"
   ]
  },
  {
   "cell_type": "code",
   "execution_count": 34,
   "metadata": {},
   "outputs": [],
   "source": [
    "import itertools    #모든 조합을 위해!\n",
    "\n",
    "def solution(numbers, target):\n",
    "    answer = 0\n",
    "    asum=0\n",
    "    alist=[]\n",
    "    goal = sum(numbers)-target\n",
    "    for i in range(len(numbers)):\n",
    "        alist.append(i)\n",
    "    for j in range(len(numbers)):\n",
    "        mypermutation = itertools.combinations(alist,j+1)\n",
    "        for s in mypermutation:                         #각 조합에서의 모든 경우에서\n",
    "            for k in s:\n",
    "                asum = asum + numbers[k]*2\n",
    "            if asum == goal:\n",
    "                answer = answer + 1\n",
    "            asum=0\n",
    "    return answer"
   ]
  },
  {
   "cell_type": "code",
   "execution_count": 35,
   "metadata": {},
   "outputs": [
    {
     "data": {
      "text/plain": [
       "<itertools.combinations at 0x21addb20818>"
      ]
     },
     "execution_count": 35,
     "metadata": {},
     "output_type": "execute_result"
    }
   ],
   "source": [
    "le = itertools.combinations([2, 4, 2], 2)\n",
    "le"
   ]
  },
  {
   "cell_type": "code",
   "execution_count": 14,
   "metadata": {},
   "outputs": [
    {
     "data": {
      "text/plain": [
       "0"
      ]
     },
     "execution_count": 14,
     "metadata": {},
     "output_type": "execute_result"
    }
   ],
   "source": [
    "a = [0, 1, 1, 1]\n",
    "b = [1, 1, 1, 1]\n",
    "answer =0\n",
    "if a in b:\n",
    "    answer =10\n",
    "answer\n"
   ]
  },
  {
   "cell_type": "code",
   "execution_count": 18,
   "metadata": {},
   "outputs": [
    {
     "data": {
      "text/plain": [
       "[1, 2, 3]"
      ]
     },
     "execution_count": 18,
     "metadata": {},
     "output_type": "execute_result"
    }
   ],
   "source": [
    "a = [1,2,3,7,5]\n",
    "a[:-2]"
   ]
  },
  {
   "cell_type": "code",
   "execution_count": 19,
   "metadata": {},
   "outputs": [
    {
     "data": {
      "text/plain": [
       "3"
      ]
     },
     "execution_count": 19,
     "metadata": {},
     "output_type": "execute_result"
    }
   ],
   "source": [
    "a.index(max(a))"
   ]
  },
  {
   "cell_type": "code",
   "execution_count": 21,
   "metadata": {},
   "outputs": [
    {
     "data": {
      "text/plain": [
       "3"
      ]
     },
     "execution_count": 21,
     "metadata": {},
     "output_type": "execute_result"
    }
   ],
   "source": [
    "a = [[1,2,3,5],[5,6,7,8],[4,3,2,1]]\n",
    "a[0].index(max(a[0]))"
   ]
  },
  {
   "cell_type": "code",
   "execution_count": 22,
   "metadata": {},
   "outputs": [
    {
     "data": {
      "text/plain": [
       "[2, 3]"
      ]
     },
     "execution_count": 22,
     "metadata": {},
     "output_type": "execute_result"
    }
   ],
   "source": [
    "a = list(set([3,3,3,2,2,2]))\n",
    "a"
   ]
  },
  {
   "cell_type": "code",
   "execution_count": 25,
   "metadata": {},
   "outputs": [
    {
     "data": {
      "text/plain": [
       "[2, 3, 4]"
      ]
     },
     "execution_count": 25,
     "metadata": {},
     "output_type": "execute_result"
    }
   ],
   "source": [
    "a = list(set([3,3,3,2,2,4]))\n",
    "a"
   ]
  },
  {
   "cell_type": "code",
   "execution_count": 28,
   "metadata": {},
   "outputs": [
    {
     "data": {
      "text/plain": [
       "['c', 'd']"
      ]
     },
     "execution_count": 28,
     "metadata": {},
     "output_type": "execute_result"
    }
   ],
   "source": [
    "a = list(set(['c','d','c','d']))\n",
    "a"
   ]
  },
  {
   "cell_type": "code",
   "execution_count": 1,
   "metadata": {},
   "outputs": [
    {
     "data": {
      "text/plain": [
       "8"
      ]
     },
     "execution_count": 1,
     "metadata": {},
     "output_type": "execute_result"
    }
   ],
   "source": [
    "a= \"aabbaccc\"\n",
    "len(a)"
   ]
  },
  {
   "cell_type": "code",
   "execution_count": 2,
   "metadata": {},
   "outputs": [
    {
     "data": {
      "text/plain": [
       "7"
      ]
     },
     "execution_count": 2,
     "metadata": {},
     "output_type": "execute_result"
    }
   ],
   "source": [
    "b= '2a2ba3c'\n",
    "len(b)"
   ]
  },
  {
   "cell_type": "code",
   "execution_count": 3,
   "metadata": {},
   "outputs": [
    {
     "data": {
      "text/plain": [
       "24"
      ]
     },
     "execution_count": 3,
     "metadata": {},
     "output_type": "execute_result"
    }
   ],
   "source": [
    " a='abcabcabcabcdededededede'\n",
    "len(a)"
   ]
  },
  {
   "cell_type": "code",
   "execution_count": 4,
   "metadata": {},
   "outputs": [
    {
     "data": {
      "text/plain": [
       "10"
      ]
     },
     "execution_count": 4,
     "metadata": {},
     "output_type": "execute_result"
    }
   ],
   "source": [
    "a = [20 , 15]\n",
    "b = [20, 22, 15]\n",
    "c = 0\n",
    "if a[0] in b:\n",
    "    c=10\n",
    "c"
   ]
  },
  {
   "cell_type": "code",
   "execution_count": 7,
   "metadata": {},
   "outputs": [],
   "source": [
    "def solution(routes):\n",
    "    routes = sorted(routes, key=lambda x: x[1])\n",
    "    last_camera = -30000\n",
    "\n",
    "    answer = 0\n",
    "\n",
    "    for route in routes:\n",
    "        if last_camera < route[0]:\n",
    "            answer += 1\n",
    "            last_camera = route[1]\n",
    "\n",
    "    return routes"
   ]
  },
  {
   "cell_type": "code",
   "execution_count": 8,
   "metadata": {},
   "outputs": [
    {
     "data": {
      "text/plain": [
       "[[-18, -13], [-14, -5], [-5, -3], [-20, 15]]"
      ]
     },
     "execution_count": 8,
     "metadata": {},
     "output_type": "execute_result"
    }
   ],
   "source": [
    "solution([[-20,15], [-14,-5], [-18,-13], [-5,-3]])"
   ]
  },
  {
   "cell_type": "code",
   "execution_count": 1,
   "metadata": {},
   "outputs": [
    {
     "data": {
      "text/plain": [
       "1"
      ]
     },
     "execution_count": 1,
     "metadata": {},
     "output_type": "execute_result"
    }
   ],
   "source": [
    "a = [[1, 2], [1, 3]]\n",
    "b= [[2, 3], [3, 4]]\n",
    "cnt =1\n",
    "for i in range(len(b)):\n",
    "    if b[i][1] in a[i][0]:\n",
    "        cnt = 10\n",
    "cnt"
   ]
  },
  {
   "cell_type": "code",
   "execution_count": 2,
   "metadata": {},
   "outputs": [
    {
     "ename": "NameError",
     "evalue": "name 'dic' is not defined",
     "output_type": "error",
     "traceback": [
      "\u001b[1;31m---------------------------------------------------------------------------\u001b[0m",
      "\u001b[1;31mNameError\u001b[0m                                 Traceback (most recent call last)",
      "\u001b[1;32m<ipython-input-2-2251bdee9151>\u001b[0m in \u001b[0;36m<module>\u001b[1;34m()\u001b[0m\n\u001b[1;32m----> 1\u001b[1;33m \u001b[1;32mfor\u001b[0m \u001b[0mj\u001b[0m\u001b[1;33m,\u001b[0m \u001b[0mv\u001b[0m \u001b[1;32min\u001b[0m \u001b[0mdic\u001b[0m\u001b[1;33m.\u001b[0m\u001b[0mitems\u001b[0m\u001b[1;33m(\u001b[0m\u001b[1;33m)\u001b[0m\u001b[1;33m:\u001b[0m\u001b[1;33m\u001b[0m\u001b[0m\n\u001b[0m\u001b[0;32m      2\u001b[0m             \u001b[1;32mif\u001b[0m \u001b[0mflag\u001b[0m\u001b[1;33m[\u001b[0m\u001b[0mi\u001b[0m\u001b[1;33m]\u001b[0m\u001b[1;33m[\u001b[0m\u001b[1;36m0\u001b[0m\u001b[1;33m]\u001b[0m \u001b[1;32mnot\u001b[0m \u001b[1;32min\u001b[0m \u001b[0mj\u001b[0m\u001b[1;33m:\u001b[0m\u001b[1;33m\u001b[0m\u001b[0m\n\u001b[0;32m      3\u001b[0m                 \u001b[0mdic\u001b[0m\u001b[1;33m.\u001b[0m\u001b[0msetdefault\u001b[0m\u001b[1;33m(\u001b[0m\u001b[0mflag\u001b[0m\u001b[1;33m[\u001b[0m\u001b[0mi\u001b[0m\u001b[1;33m]\u001b[0m\u001b[1;33m[\u001b[0m\u001b[1;36m0\u001b[0m\u001b[1;33m]\u001b[0m\u001b[1;33m,\u001b[0m \u001b[1;33m[\u001b[0m\u001b[0mflag\u001b[0m\u001b[1;33m[\u001b[0m\u001b[0mi\u001b[0m\u001b[1;33m]\u001b[0m\u001b[1;33m[\u001b[0m\u001b[1;36m1\u001b[0m\u001b[1;33m]\u001b[0m\u001b[1;33m]\u001b[0m\u001b[1;33m)\u001b[0m\u001b[1;33m\u001b[0m\u001b[0m\n\u001b[0;32m      4\u001b[0m             \u001b[1;32melse\u001b[0m\u001b[1;33m:\u001b[0m\u001b[1;33m\u001b[0m\u001b[0m\n\u001b[0;32m      5\u001b[0m                 \u001b[0mdic\u001b[0m\u001b[1;33m[\u001b[0m\u001b[0mj\u001b[0m\u001b[1;33m]\u001b[0m\u001b[1;33m.\u001b[0m\u001b[0mappend\u001b[0m\u001b[1;33m(\u001b[0m\u001b[0mflag\u001b[0m\u001b[1;33m[\u001b[0m\u001b[0mi\u001b[0m\u001b[1;33m]\u001b[0m\u001b[1;33m[\u001b[0m\u001b[1;36m1\u001b[0m\u001b[1;33m]\u001b[0m\u001b[1;33m)\u001b[0m\u001b[1;33m\u001b[0m\u001b[0m\n",
      "\u001b[1;31mNameError\u001b[0m: name 'dic' is not defined"
     ]
    }
   ],
   "source": [
    "for j, v in dic.items():\n",
    "            if flag[i][0] not in j:\n",
    "                dic.setdefault(flag[i][0], [flag[i][1]])\n",
    "            else:\n",
    "                dic[j].append(flag[i][1])"
   ]
  },
  {
   "cell_type": "code",
   "execution_count": 3,
   "metadata": {},
   "outputs": [],
   "source": [
    "def solution(n, edge):\n",
    "    answer = 0\n",
    "    dic = {}\n",
    "    edge.sort()\n",
    "    flag = []\n",
    "    a = []\n",
    "    \n",
    "    for i in range(len(edge)):\n",
    "        flag.append(sorted(edge[i]))\n",
    "        a.append(flag[i][0])\n",
    "        a.append(flag[i][1])\n",
    "    a= list(set(a))\n",
    "    for i in range(len(a)):\n",
    "        dic.setdefault(a[i], [])\n",
    "    for i in range(len(flag)):\n",
    "        for j, v in dic.items():\n",
    "            if flag[i][0] == j:\n",
    "                dic[j].append(flag[i][1])\n",
    "            if flag[i][1] == j:\n",
    "                dic[j].append(flag[i][0])\n",
    "            else:\n",
    "                continue #이거 고려\n",
    "            \n",
    "    def bfs(dic, a):\n",
    "        visited = []\n",
    "        stack = [a, ]\n",
    "        \n",
    "        while stack:\n",
    "            vertex = stack.pop()\n",
    "            if vertex not in visited:\n",
    "                visited.add(vertex)\n",
    "                stack.extend(graph[vertex] - visited)\n",
    "        return visited\n",
    "    \n",
    "    answer = bfs(dic, 1)\n",
    "    return answer\n"
   ]
  },
  {
   "cell_type": "code",
   "execution_count": 6,
   "metadata": {},
   "outputs": [],
   "source": [
    "from collections import defaultdict\n",
    "def bfs(graph, start, distances):\n",
    "    q = [start]\n",
    "    visited = set([start])\n",
    "\n",
    "    while len(q) > 0:\n",
    "        current = q.pop(0)\n",
    "        for neighbor in graph[current]:\n",
    "            if neighbor not in visited:\n",
    "                visited.add(neighbor)\n",
    "                q.append(neighbor)\n",
    "                distances[neighbor] = distances[current] + 1\n",
    "\n",
    "def solution(n, edge):\n",
    "    # 그래프 만들기\n",
    "    graph = defaultdict(list)\n",
    "\n",
    "    for e in edge:\n",
    "        graph[e[0]].append(e[1])\n",
    "        graph[e[1]].append(e[0])\n",
    "\n",
    "    # bfs 탐색 (최단 거리를 구해야 하므로.)\n",
    "    distances = [0]*(n+1)\n",
    "    bfs(graph, 1, distances)\n",
    "\n",
    "    max_distance = max(distances)\n",
    "    answer = 0\n",
    "\n",
    "    for distance in distances:\n",
    "        if distance == max_distance:\n",
    "            answer += 1\n",
    "\n",
    "    return graph"
   ]
  },
  {
   "cell_type": "code",
   "execution_count": 7,
   "metadata": {},
   "outputs": [
    {
     "data": {
      "text/plain": [
       "defaultdict(list,\n",
       "            {3: [6, 4, 2, 1],\n",
       "             6: [3],\n",
       "             4: [3, 2],\n",
       "             2: [3, 1, 4, 5],\n",
       "             1: [3, 2],\n",
       "             5: [2]})"
      ]
     },
     "execution_count": 7,
     "metadata": {},
     "output_type": "execute_result"
    }
   ],
   "source": [
    "solution(6, [[3, 6], [4, 3], [3, 2], [1, 3], [1, 2], [2, 4], [5, 2]])"
   ]
  },
  {
   "cell_type": "code",
   "execution_count": 2,
   "metadata": {},
   "outputs": [
    {
     "data": {
      "text/plain": [
       "['+', '-', '+']"
      ]
     },
     "execution_count": 2,
     "metadata": {},
     "output_type": "execute_result"
    }
   ],
   "source": [
    "a = [(\"+\", \"-\", \"+\")]\n",
    "b= []\n",
    "\n",
    "for i in range(len(a[0])):\n",
    "    b.append(a[0][i])\n",
    "b\n",
    "c = [i for i in a[0]]\n",
    "c"
   ]
  },
  {
   "cell_type": "code",
   "execution_count": 3,
   "metadata": {},
   "outputs": [
    {
     "name": "stdout",
     "output_type": "stream",
     "text": [
      "['ABC', 'ACB', 'BAC', 'BCA', 'CAB', 'CBA']\n",
      "['AB', 'AC', 'BA', 'BC', 'CA', 'CB']\n"
     ]
    }
   ],
   "source": [
    "import itertools\n",
    " \n",
    "pool = ['A', 'B', 'C']\n",
    "print(list(map(''.join, itertools.permutations(pool)))) # 3개의 원소로 수열 만들기\n",
    "print(list(map(''.join, itertools.permutations(pool, 2)))) # 2개의 원소로 수열 만들기\n"
   ]
  },
  {
   "cell_type": "code",
   "execution_count": 5,
   "metadata": {},
   "outputs": [
    {
     "data": {
      "text/plain": [
       "-1"
      ]
     },
     "execution_count": 5,
     "metadata": {},
     "output_type": "execute_result"
    }
   ],
   "source": [
    "a = ((1+2)-4)\n",
    "a"
   ]
  },
  {
   "cell_type": "code",
   "execution_count": 23,
   "metadata": {},
   "outputs": [
    {
     "data": {
      "text/plain": [
       "[5, 6]"
      ]
     },
     "execution_count": 23,
     "metadata": {},
     "output_type": "execute_result"
    }
   ],
   "source": [
    "import itertools\n",
    "\n",
    "li = [3, 2, 3]\n",
    "\n",
    "ll = list(set(map(sum, itertools.permutations(li, len(li)-1))))\n",
    "\n",
    "ll"
   ]
  },
  {
   "cell_type": "code",
   "execution_count": 2,
   "metadata": {},
   "outputs": [
    {
     "data": {
      "text/plain": [
       "['banan',\n",
       " 'abana',\n",
       " 'naban',\n",
       " 'nbaa',\n",
       " 'baan',\n",
       " 'nnaba',\n",
       " 'aban',\n",
       " 'anba',\n",
       " 'naaba',\n",
       " 'anaba',\n",
       " 'nnaa',\n",
       " 'anan',\n",
       " 'baana',\n",
       " 'nabaa',\n",
       " 'nana',\n",
       " 'anna',\n",
       " 'naba',\n",
       " 'banna',\n",
       " 'nbana',\n",
       " 'bana',\n",
       " 'nanba',\n",
       " 'banaa',\n",
       " 'naan']"
      ]
     },
     "execution_count": 2,
     "metadata": {},
     "output_type": "execute_result"
    }
   ],
   "source": [
    "import itertools\n",
    "\n",
    "li = list(set(map(''.join, itertools.permutations([\"ba\", \"na\", \"n\", \"a\"], 3))))\n",
    "li"
   ]
  },
  {
   "cell_type": "code",
   "execution_count": 3,
   "metadata": {},
   "outputs": [
    {
     "data": {
      "text/plain": [
       "'b'"
      ]
     },
     "execution_count": 3,
     "metadata": {},
     "output_type": "execute_result"
    }
   ],
   "source": [
    "a = 'banana'\n",
    "a[0]"
   ]
  },
  {
   "cell_type": "code",
   "execution_count": 1,
   "metadata": {},
   "outputs": [
    {
     "data": {
      "text/plain": [
       "3"
      ]
     },
     "execution_count": 1,
     "metadata": {},
     "output_type": "execute_result"
    }
   ],
   "source": [
    "a = [[0, 2, 3, 0], [1, 3, 0, 1], [2, 3, 4,5]]\n",
    "answer =0\n",
    "for i in a:\n",
    "    if 0 in i:\n",
    "        answer += i.count(0)\n",
    "\n",
    "answer"
   ]
  },
  {
   "cell_type": "code",
   "execution_count": 1,
   "metadata": {},
   "outputs": [],
   "source": [
    "def solution(K, travel):\n",
    "    n = len(travel)\n",
    "    cache=[[0 for i in range(K+1)] for j in range(n+1)]\n",
    "\n",
    "    for i in range(0,n):\n",
    "        time_w, money_w, time_b, money_b = travel[i]\n",
    "        for j in range(K+1):\n",
    "            if j >= time_w and cache[i][j-time_w] != -1:\n",
    "                walk = cache[i][j-time_w] + money_w\n",
    "            else:\n",
    "                walk = -1\n",
    "\n",
    "            if j >= time_b and cache[i][j-time_b] != -1:\n",
    "                bike = cache[i][j-time_b] + money_b\n",
    "            else:\n",
    "                bike = -1\n",
    "\n",
    "            cache[i+1][j] = max(walk,bike)\n",
    "\n",
    "    return cache[n][K]"
   ]
  },
  {
   "cell_type": "code",
   "execution_count": 9,
   "metadata": {},
   "outputs": [
    {
     "data": {
      "text/plain": [
       "2"
      ]
     },
     "execution_count": 9,
     "metadata": {},
     "output_type": "execute_result"
    }
   ],
   "source": [
    "dic = {1:1, 2:4, 0:4, 4:2}\n",
    "dic[0]\n",
    "dic[2]\n",
    "dic[4]"
   ]
  },
  {
   "cell_type": "code",
   "execution_count": 10,
   "metadata": {},
   "outputs": [
    {
     "name": "stdout",
     "output_type": "stream",
     "text": [
      "['A', 'B', 'C', 'H', 'D', 'G', 'I', 'J', 'M', 'E', 'K', 'F', 'L']\n",
      "['A', 'B', 'H', 'M', 'J', 'K', 'L', 'I', 'C', 'G', 'D', 'E', 'F']\n"
     ]
    }
   ],
   "source": [
    "def bfs(graph, start_node):\n",
    "    visit = list()\n",
    "    queue = list()\n",
    "\n",
    "    queue.append(start_node)\n",
    "\n",
    "    while queue:\n",
    "        node = queue.pop(0)\n",
    "        if node not in visit:\n",
    "            visit.append(node)\n",
    "            queue.extend(graph[node])\n",
    "\n",
    "    return visit\n",
    "\n",
    "\n",
    "def dfs(graph, start_node):\n",
    "    visit = list()\n",
    "    stack = list()\n",
    "\n",
    "    stack.append(start_node)\n",
    "\n",
    "    while stack:\n",
    "        node = stack.pop()\n",
    "        if node not in visit:\n",
    "            visit.append(node)\n",
    "            stack.extend(graph[node])\n",
    "\n",
    "    return visit\n",
    "\n",
    "\n",
    "if __name__ == \"__main__\":\n",
    "    graph = {\n",
    "        'A': ['B'],\n",
    "        'B': ['A', 'C', 'H'],\n",
    "        'C': ['B', 'D', 'G'],\n",
    "        'D': ['C', 'E'],\n",
    "        'E': ['D', 'F'],\n",
    "        'F': ['E'],\n",
    "        'G': ['D'],\n",
    "        'H': ['B', 'I', 'J', 'M'],\n",
    "        'I': ['H'],\n",
    "        'J': ['H', 'K'],\n",
    "        'K': ['J', 'L'],\n",
    "        'L': ['K'],\n",
    "        'M': ['H']\n",
    "    }\n",
    "\n",
    "    print(bfs(graph, 'A'))\n",
    "    print(dfs(graph, 'A'))"
   ]
  },
  {
   "cell_type": "code",
   "execution_count": 19,
   "metadata": {},
   "outputs": [
    {
     "name": "stdout",
     "output_type": "stream",
     "text": [
      "['A', 'B', 'D']\n",
      "['A', 'C', 'D']\n",
      "['A', 'B', 'C', 'D']\n"
     ]
    }
   ],
   "source": [
    "def paths(graph, start, end):\n",
    "    todo = [[start, [start]]]\n",
    "    while 0 < len(todo):\n",
    "        (node, path) = todo.pop(0)\n",
    "        for next_node in graph[node]:\n",
    "            if next_node in path:\n",
    "                continue\n",
    "            elif next_node == end:\n",
    "                yield path + [next_node]\n",
    "            else:\n",
    "                todo.append([next_node, path + [next_node]])\n",
    "                \n",
    "graph = {'A': ['B', 'C'],\n",
    "         'B': ['C', 'D'],\n",
    "         'C': ['D'],\n",
    "         'D': ['C'],\n",
    "         'E': ['F'],\n",
    "         'F': ['C']}\n",
    "\n",
    "for path in paths(graph, 'A', 'D'):\n",
    "    print(path)"
   ]
  },
  {
   "cell_type": "code",
   "execution_count": 14,
   "metadata": {},
   "outputs": [
    {
     "data": {
      "text/plain": [
       "[3, 3, 4]"
      ]
     },
     "execution_count": 14,
     "metadata": {},
     "output_type": "execute_result"
    }
   ],
   "source": [
    "li=[]\n",
    "for path in paths(graph, 'A', 'D'):\n",
    "    li.append(len(path))\n",
    "    \n",
    "li"
   ]
  },
  {
   "cell_type": "code",
   "execution_count": 21,
   "metadata": {},
   "outputs": [],
   "source": [
    "def solution(tickets):\n",
    "    answer = []\n",
    "    graph = dict()\n",
    "    for item in tickets:\n",
    "        if(item[0] in graph.keys()):\n",
    "            graph[item[0]].append(item[1])\n",
    "        else:\n",
    "            graph[item[0]] = [item[1]]\n",
    "    for item in graph:\n",
    "        graph[item].sort()\n",
    "    def dfs(tickets,graph):\n",
    "        stack = list()\n",
    "        visited = list()\n",
    "        stack.append(\"ICN\")\n",
    "        while(stack):\n",
    "            node = stack.pop()\n",
    "            visited.append(node)\n",
    "            if(node not in graph.keys()):\n",
    "                pass \n",
    "            elif graph[node] != []:\n",
    "                visit = graph[node].pop(0)\n",
    "                stack.append(visit)\n",
    "        return visited\n",
    "    answer = dfs(tickets,graph)\n",
    "    return answer"
   ]
  },
  {
   "cell_type": "code",
   "execution_count": 16,
   "metadata": {},
   "outputs": [
    {
     "data": {
      "text/plain": [
       "{'ICN': [], 'HND': ['IAD'], 'JFK': ['HND']}"
      ]
     },
     "execution_count": 16,
     "metadata": {},
     "output_type": "execute_result"
    }
   ],
   "source": [
    "a={'ICN': ['JFK'], 'HND': ['IAD'], 'JFK': ['HND']}\n",
    "\n",
    "a['ICN'].pop(0)\n",
    "a"
   ]
  },
  {
   "cell_type": "code",
   "execution_count": null,
   "metadata": {},
   "outputs": [],
   "source": [
    "문제 조건 중 다음과 같은 조건이 있습니다.\n",
    "\n",
    "주어진 항공권은 모두 사용해야 합니다.\n",
    "만일 가능한 경로가 2개 이상일 경우 알파벳 순서가 앞서는 경로를 return 합니다.\n",
    "모든 도시를 방문할 수 없는 경우는 주어지지 않습니다.\n",
    "여기서 1,2번 테스트 케이스의 경우 2번 조건에 대해서 잘 해석하셔야합니다.\n",
    "\n",
    "전체적으로 1, 3번 조건을 만족해서 나올 수 있는 length(최종 경로) == length(어떤 경로) 일 경우 2번 조건을 만족해야합니다.\n",
    "\n",
    "예시를 보이자면\n",
    "\n",
    "[[\"ICN\", \"COO\"], [\"ICN\", \"BOO\"], [\"COO\", \"ICN\"], [\"BOO\", \"DOO\"]]\n",
    "위와 같은 테스트 케이스에서\n",
    "\n",
    "2번 조건을 만족하면서 탐색하면\n",
    "ICN -> BOO -> DOO 까지만 가게 되는 해석의 여지가 생깁니다.\n",
    "\n",
    "그래서 1,2,3번 조건을 엄격하게 지킬 경우\n",
    "ICN -> COO -> ICN -> BOO -> DOO 의 답이 나오게 됩니다.\n",
    "[\"ICN\", \"COO\", \"ICN\", \"BOO\", \"DOO\"]\n",
    "이점 유의하시면서 문제 풀이해보세요.\n",
    "\n",
    "{'ICN': ['BOO', 'COO'], 'COO': ['ICN'], 'BOO': ['DOO']}"
   ]
  },
  {
   "cell_type": "code",
   "execution_count": 22,
   "metadata": {},
   "outputs": [],
   "source": [
    "from collections import defaultdict as de\n",
    "\n",
    "def solution(tickets):\n",
    "    answer = []\n",
    "    graph = de(list)\n",
    "    \n",
    "    for t in tickets:\n",
    "        graph[t[0]].append(t[1])\n",
    "        graph[t[0]].sort()\n",
    "    \n",
    "    def dfs(tickets,graph):\n",
    "        stack = list()\n",
    "        visited = list()\n",
    "        stack.append(\"ICN\")\n",
    "        while(stack):\n",
    "            node = stack.pop()\n",
    "            visited.append(node)\n",
    "            if(node not in graph.keys()):\n",
    "                pass \n",
    "            elif graph[node] != []:\n",
    "                visit = graph[node].pop(0)\n",
    "                stack.append(visit)\n",
    "        return visited\n",
    "    answer = dfs(tickets,graph)\n",
    "    return answer"
   ]
  },
  {
   "cell_type": "code",
   "execution_count": 1,
   "metadata": {},
   "outputs": [],
   "source": [
    "from collections import defaultdict \n",
    "\n",
    "def dfs(graph, N, key, footprint):\n",
    "    print(footprint)\n",
    "\n",
    "    if len(footprint) == N + 1:\n",
    "        return footprint\n",
    "\n",
    "    for idx, country in enumerate(graph[key]):\n",
    "        graph[key].pop(idx)\n",
    "\n",
    "        tmp = footprint[:]\n",
    "        tmp.append(country)\n",
    "\n",
    "        ret = dfs(graph, N, country, tmp)\n",
    "\n",
    "        graph[key].insert(idx, country)\n",
    "\n",
    "        if ret:\n",
    "            return ret\n",
    "\n",
    "\n",
    "def solution(tickets):\n",
    "    answer = []\n",
    "\n",
    "    graph = defaultdict(list)\n",
    "\n",
    "    N = len(tickets)\n",
    "    for ticket in tickets:\n",
    "        graph[ticket[0]].append(ticket[1])\n",
    "        graph[ticket[0]].sort()\n",
    "\n",
    "    answer = dfs(graph, N, \"ICN\", [\"ICN\"])\n",
    "\n",
    "    return answer"
   ]
  },
  {
   "cell_type": "code",
   "execution_count": 1,
   "metadata": {},
   "outputs": [],
   "source": [
    "def solution(jobs):\n",
    "    answer = 0\n",
    "    cnt = 0\n",
    "    num = len(jobs)\n",
    "    order = []\n",
    "    jobs.sort()\n",
    "    while True:\n",
    "        if not jobs and not order:\n",
    "            break\n",
    "        while jobs and cnt >= jobs[0][0]:\n",
    "            hq.heappush(order, [jobs[0][1], jobs[0][0]])\n",
    "            jobs.pop(0)\n",
    "        if order:\n",
    "            temp = hq.heappop(order)\n",
    "            cnt += temp[0]\n",
    "            answer += (cnt - temp[1])\n",
    "            continue\n",
    "        cnt += 1\n",
    "    answer //= num\n",
    "    return answer"
   ]
  },
  {
   "cell_type": "code",
   "execution_count": 4,
   "metadata": {},
   "outputs": [],
   "source": [
    "def ckgi(gi, bo, x, y):\n",
    "    if(y == 0):\n",
    "        return 1\n",
    "    elif(gi[x][y-1] == 1):\n",
    "        return 1\n",
    "    elif(bo[x][y] == 1 or x > 0 and bo[x-1][y] == 1):\n",
    "        return 1\n",
    "    return 0\n",
    "\n",
    "def ckbo(gi, bo, x, y, n):\n",
    "    if(y > 0 and (gi[x][y-1] == 1 or (x < n and gi[x+1][y-1]==1))):\n",
    "        return 1\n",
    "    elif(x > 0 and x < n and bo[x-1][y] == 1 and bo[x+1][y] == 1):\n",
    "        return 1\n",
    "    return 0\n",
    "\n",
    "def solution(n, build_frame):\n",
    "    gi = [[0 for _ in range(n+1)] for _ in range(n+1)] \n",
    "    bo = [[0 for _ in range(n+1)] for _ in range(n+1)] \n",
    "    for fr in build_frame:\n",
    "        x = fr[0]\n",
    "        y = fr[1]\n",
    "        if(fr[2] == 0): #gi\n",
    "            if(fr[3] == 0): #de\n",
    "                gi[x][y] = 0\n",
    "                if(y < n and gi[x][y+1]==1 and ckgi(gi,bo,x,y+1) == 0):\n",
    "                    gi[x][y] = 1\n",
    "                elif(y < n and bo[x][y+1]==1 and ckbo(gi,bo,x,y+1,n) == 0):\n",
    "                    gi[x][y] = 1\n",
    "                elif(x>0 and y<n and bo[x-1][y+1]==1 and ckbo(gi,bo,x-1,y+1,n) == 0):\n",
    "                    gi[x][y] = 1                \n",
    "            else: #add\n",
    "                if(ckgi(gi,bo,x,y) == 1):\n",
    "                    gi[x][y] = 1\n",
    "        else: #bo\n",
    "            if(fr[3] == 0): #de\n",
    "                bo[x][y] = 0\n",
    "                if(gi[x][y]==1 and ckgi(gi,bo,x,y)==0):\n",
    "                    bo[x][y] = 1\n",
    "                elif(x<n and gi[x+1][y]==1 and ckgi(gi,bo,x+1,y)==0):\n",
    "                    bo[x][y] = 1\n",
    "                elif(x > 0 and bo[x-1][y]==1 and ckbo(gi,bo,x-1,y,n)==0):\n",
    "                    bo[x][y] = 1\n",
    "                elif(x<n and bo[x+1][y]==1 and ckbo(gi,bo,x+1,y,n)==0):\n",
    "                    bo[x][y] = 1\n",
    "            else: #add\n",
    "                if(ckbo(gi,bo,x,y,n) == 1):\n",
    "                    bo[x][y] = 1\n",
    "\n",
    "    answer = []\n",
    "    for i in range(n+1):\n",
    "        for j in range(n+1):\n",
    "            if(gi[i][j] == 1):\n",
    "                answer.append([i,j,0])\n",
    "            if(bo[i][j] == 1):\n",
    "                answer.append([i,j,1])\n",
    "\n",
    "    return answer"
   ]
  },
  {
   "cell_type": "code",
   "execution_count": 5,
   "metadata": {},
   "outputs": [
    {
     "data": {
      "text/plain": [
       "[[1, 0, 0, 1],\n",
       " [1, 1, 1, 1],\n",
       " [2, 1, 0, 1],\n",
       " [2, 2, 1, 1],\n",
       " [3, 2, 1, 1],\n",
       " [4, 2, 1, 1],\n",
       " [5, 0, 0, 1],\n",
       " [5, 1, 0, 1]]"
      ]
     },
     "execution_count": 5,
     "metadata": {},
     "output_type": "execute_result"
    }
   ],
   "source": [
    "solution(5, [[1,0,0,1],[1,1,1,1],[2,1,0,1],[2,2,1,1],[5,0,0,1],[5,1,0,1],[4,2,1,1],[3,2,1,1]])"
   ]
  },
  {
   "cell_type": "code",
   "execution_count": 6,
   "metadata": {},
   "outputs": [
    {
     "data": {
      "text/plain": [
       "[[0, 0, 0, 1],\n",
       " [0, 1, 1, 1],\n",
       " [1, 1, 1, 1],\n",
       " [1, 1, 1, 0],\n",
       " [2, 0, 0, 1],\n",
       " [2, 1, 1, 1],\n",
       " [2, 0, 0, 0],\n",
       " [2, 2, 0, 1],\n",
       " [3, 1, 1, 1],\n",
       " [4, 0, 0, 1]]"
      ]
     },
     "execution_count": 6,
     "metadata": {},
     "output_type": "execute_result"
    }
   ],
   "source": [
    "solution(5, [[0,0,0,1],[2,0,0,1],[4,0,0,1],[0,1,1,1],[1,1,1,1],[2,1,1,1],[3,1,1,1],[2,0,0,0],[1,1,1,0],[2,2,0,1]])"
   ]
  },
  {
   "cell_type": "code",
   "execution_count": null,
   "metadata": {},
   "outputs": [],
   "source": [
    "[[0, 0, 0, 1],\n",
    " [0, 1, 1, 1],\n",
    " [1, 1, 1, 1],\n",
    " [1, 1, 1, 0],\n",
    " [2, 0, 0, 1],\n",
    " [2, 1, 1, 1],\n",
    " [2, 0, 0, 0],\n",
    " [2, 2, 0, 1],\n",
    " [3, 1, 1, 1],\n",
    " [4, 0, 0, 1]]"
   ]
  }
 ],
 "metadata": {
  "kernelspec": {
   "display_name": "Python 3",
   "language": "python",
   "name": "python3"
  },
  "language_info": {
   "codemirror_mode": {
    "name": "ipython",
    "version": 3
   },
   "file_extension": ".py",
   "mimetype": "text/x-python",
   "name": "python",
   "nbconvert_exporter": "python",
   "pygments_lexer": "ipython3",
   "version": "3.6.5"
  }
 },
 "nbformat": 4,
 "nbformat_minor": 4
}
